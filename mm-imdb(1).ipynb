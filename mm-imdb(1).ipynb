{
  "nbformat": 4,
  "nbformat_minor": 0,
  "metadata": {
    "colab": {
      "provenance": [],
      "collapsed_sections": [
        "kMuWGf2lyc1A"
      ],
      "gpuType": "T4",
      "include_colab_link": true
    },
    "kernelspec": {
      "name": "python3",
      "display_name": "Python 3"
    },
    "language_info": {
      "name": "python"
    },
    "accelerator": "GPU"
  },
  "cells": [
    {
      "cell_type": "markdown",
      "metadata": {
        "id": "view-in-github",
        "colab_type": "text"
      },
      "source": [
        "<a href=\"https://colab.research.google.com/github/MuhammadIrzam447/visionCodes/blob/master/mm-imdb(1).ipynb\" target=\"_parent\"><img src=\"https://colab.research.google.com/assets/colab-badge.svg\" alt=\"Open In Colab\"/></a>"
      ]
    },
    {
      "cell_type": "code",
      "source": [
        "# %cd /content/Dataset(s)/mm-imdb/fused"
      ],
      "metadata": {
        "id": "xZY4W75rjsk4"
      },
      "execution_count": null,
      "outputs": []
    },
    {
      "cell_type": "code",
      "execution_count": 1,
      "metadata": {
        "id": "nmF1zNcPTGga",
        "colab": {
          "base_uri": "https://localhost:8080/"
        },
        "outputId": "d2e635f1-563d-4db5-d644-a85fcf87ec16"
      },
      "outputs": [
        {
          "output_type": "stream",
          "name": "stdout",
          "text": [
            "Downloading...\n",
            "From: https://drive.google.com/uc?id=1dxd2pySfCIDJYG7qMtuJre8ph068xc1X\n",
            "To: /content/test.zip\n",
            "100% 2.12G/2.12G [00:29<00:00, 73.0MB/s]\n"
          ]
        }
      ],
      "source": [
        "!gdown https://drive.google.com/uc?id=1dxd2pySfCIDJYG7qMtuJre8ph068xc1X"
      ]
    },
    {
      "cell_type": "code",
      "source": [
        "!gdown https://drive.google.com/uc?id=1sYR9EgHkM0oiGRQVlFQCyHO8kMRJ4ibQ"
      ],
      "metadata": {
        "id": "KKm0C_4oTUTT",
        "colab": {
          "base_uri": "https://localhost:8080/"
        },
        "outputId": "01af64df-643c-43d6-ae2d-c80b691f01c1"
      },
      "execution_count": 2,
      "outputs": [
        {
          "output_type": "stream",
          "name": "stdout",
          "text": [
            "Downloading...\n",
            "From: https://drive.google.com/uc?id=1sYR9EgHkM0oiGRQVlFQCyHO8kMRJ4ibQ\n",
            "To: /content/test_label.txt\n",
            "\r  0% 0.00/777k [00:00<?, ?B/s]\r100% 777k/777k [00:00<00:00, 74.7MB/s]\n"
          ]
        }
      ]
    },
    {
      "cell_type": "code",
      "source": [
        "!gdown https://drive.google.com/uc?id=1X4cmMYRjxXFomCJ1adMhPNMYtd4WeDHP"
      ],
      "metadata": {
        "id": "JLMZ4FcgyNpb",
        "colab": {
          "base_uri": "https://localhost:8080/"
        },
        "outputId": "67fe2b78-3f23-40cb-985e-8a0b04439872"
      },
      "execution_count": 3,
      "outputs": [
        {
          "output_type": "stream",
          "name": "stdout",
          "text": [
            "Downloading...\n",
            "From: https://drive.google.com/uc?id=1X4cmMYRjxXFomCJ1adMhPNMYtd4WeDHP\n",
            "To: /content/train_label.txt\n",
            "\r  0% 0.00/1.55M [00:00<?, ?B/s]\r100% 1.55M/1.55M [00:00<00:00, 188MB/s]\n"
          ]
        }
      ]
    },
    {
      "cell_type": "code",
      "source": [
        "!gdown https://drive.google.com/uc?id=1yAeNEPXD3LNxmtSnC09jEg0vEDc1qiaq"
      ],
      "metadata": {
        "id": "sXd76s1XyO5r",
        "colab": {
          "base_uri": "https://localhost:8080/"
        },
        "outputId": "2f857a3e-c360-4bae-bdbe-4a077c050c7e"
      },
      "execution_count": 4,
      "outputs": [
        {
          "output_type": "stream",
          "name": "stdout",
          "text": [
            "Downloading...\n",
            "From: https://drive.google.com/uc?id=1yAeNEPXD3LNxmtSnC09jEg0vEDc1qiaq\n",
            "To: /content/train.zip\n",
            "100% 4.21G/4.21G [00:35<00:00, 119MB/s]\n"
          ]
        }
      ]
    },
    {
      "cell_type": "code",
      "source": [
        "!unzip test.zip"
      ],
      "metadata": {
        "id": "Q--gX0z1yYPf"
      },
      "execution_count": null,
      "outputs": []
    },
    {
      "cell_type": "code",
      "source": [
        "!unzip train.zip"
      ],
      "metadata": {
        "id": "A-YkM8B0ywHJ"
      },
      "execution_count": null,
      "outputs": []
    },
    {
      "cell_type": "markdown",
      "source": [
        "# New Section"
      ],
      "metadata": {
        "id": "kMuWGf2lyc1A"
      }
    },
    {
      "cell_type": "code",
      "source": [
        "import torch\n",
        "import os\n",
        "from torch.utils.data import Dataset, DataLoader\n",
        "from torchvision import transforms\n",
        "from PIL import Image\n",
        "\n",
        "class CustomDataset(Dataset):\n",
        "    def __init__(self, data_file, root_dir, transform=None):\n",
        "        self.data_file = data_file\n",
        "        self.root_dir = root_dir\n",
        "        self.transform = transform\n",
        "\n",
        "        with open(data_file, 'r') as f:\n",
        "            self.data = f.readlines()\n",
        "\n",
        "    def __len__(self):\n",
        "        return len(self.data)\n",
        "\n",
        "    def __getitem__(self, idx):\n",
        "        line = self.data[idx].strip().split('|')\n",
        "        image_path = line[0].strip()\n",
        "        image = Image.open(os.path.join(self.root_dir, image_path))\n",
        "\n",
        "        labels = line[1].strip().split(',')\n",
        "        labels = [label.strip() for label in labels]\n",
        "\n",
        "        if self.transform:\n",
        "            image = self.transform(image)\n",
        "\n",
        "        return image, labels\n",
        "\n",
        "# Define data transformations (resize, normalize, etc.)\n",
        "transform = transforms.Compose([\n",
        "    transforms.Resize((224, 224)),\n",
        "    transforms.ToTensor(),\n",
        "    transforms.Normalize(mean=[0.485, 0.456, 0.406], std=[0.229, 0.224, 0.225]),\n",
        "])"
      ],
      "metadata": {
        "id": "2Ozkr7DfTz_k"
      },
      "execution_count": null,
      "outputs": []
    },
    {
      "cell_type": "code",
      "source": [
        "train_dataset = CustomDataset(data_file='/content/test_label.txt', root_dir='/content/test', transform=transform)"
      ],
      "metadata": {
        "id": "oaSIrRIfUB2y"
      },
      "execution_count": null,
      "outputs": []
    },
    {
      "cell_type": "code",
      "source": [
        "train_loader = DataLoader(train_dataset, batch_size=32, shuffle=True)"
      ],
      "metadata": {
        "id": "xgbtUmAVUDzy"
      },
      "execution_count": null,
      "outputs": []
    },
    {
      "cell_type": "code",
      "source": [
        "with open('/content/test_label.txt', 'r') as f:\n",
        "    lines = f.readlines()\n",
        "\n",
        "unique_labels = set()\n",
        "for line in lines:\n",
        "    labels = line.strip().split('|')[1].strip().split(',')\n",
        "    unique_labels.update(labels)\n",
        "\n",
        "num_classes = len(unique_labels)\n",
        "print(f\"Number of classes: {num_classes}\")\n"
      ],
      "metadata": {
        "id": "Wky-3_TYUEJz"
      },
      "execution_count": null,
      "outputs": []
    },
    {
      "cell_type": "code",
      "source": [
        "import torch\n",
        "import torch.nn as nn\n",
        "import torch.optim as optim\n",
        "from torchvision import models\n",
        "\n",
        "# Define your ResNet-101 model\n",
        "model = models.resnet101(pretrained=True)  # You can use a pre-trained model\n",
        "\n",
        "model.fc = nn.Sequential(\n",
        "    nn.Linear(model.fc.in_features, 512),\n",
        "    nn.ReLU(),\n",
        "    nn.Linear(512, num_classes),\n",
        "    nn.Sigmoid()\n",
        ")"
      ],
      "metadata": {
        "id": "e76XTKmyVGL3"
      },
      "execution_count": null,
      "outputs": []
    },
    {
      "cell_type": "code",
      "source": [
        "criterion = nn.BCELoss()\n",
        "\n",
        "optimizer = optim.Adam(model.parameters(), lr=0.001)\n",
        "\n",
        "device = torch.device('cuda' if torch.cuda.is_available() else 'cpu')\n",
        "model.to(device)\n",
        "\n",
        "num_epochs = 10"
      ],
      "metadata": {
        "id": "Yrbpgl2PVYWs"
      },
      "execution_count": null,
      "outputs": []
    },
    {
      "cell_type": "code",
      "source": [
        "for epoch in range(num_epochs):\n",
        "    model.train()\n",
        "    running_loss = 0.0\n",
        "\n",
        "    for inputs, labels in train_loader:\n",
        "        inputs, labels = inputs.to(device), labels.to(device)\n",
        "\n",
        "        optimizer.zero_grad()\n",
        "\n",
        "        outputs = model(inputs)\n",
        "        loss = criterion(outputs, labels)\n",
        "\n",
        "        loss.backward()\n",
        "        optimizer.step()\n",
        "\n",
        "        running_loss += loss.item()\n",
        "\n",
        "    epoch_loss = running_loss / len(train_loader)\n",
        "    print(f'Epoch [{epoch + 1}/{num_epochs}] Loss: {epoch_loss:.4f}')\n",
        "\n",
        "print('Training finished.')\n",
        "\n",
        "# Now, you can use the trained model for evaluation and prediction\n",
        "# Don't forget to create a DataLoader for your test/validation dataset and evaluate the model's performance.\n"
      ],
      "metadata": {
        "id": "6mFjLf2hVbzk"
      },
      "execution_count": null,
      "outputs": []
    },
    {
      "cell_type": "code",
      "source": [],
      "metadata": {
        "id": "c3pqjlyIXMbG"
      },
      "execution_count": null,
      "outputs": []
    },
    {
      "cell_type": "markdown",
      "source": [
        "# Training Dataset Preparation"
      ],
      "metadata": {
        "id": "VqotBnmCXM6s"
      }
    },
    {
      "cell_type": "code",
      "source": [
        "import os\n",
        "image_file_paths = []\n",
        "genre_labels = []\n",
        "\n",
        "image_folder_add = \"/content/train\"\n",
        "labels_file = '/content/train_label.txt'\n",
        "\n",
        "with open(labels_file, 'r') as file:\n",
        "    for line in file:\n",
        "        parts = line.strip().split('|')\n",
        "        filename = parts[0].strip()\n",
        "        labels = parts[1].strip().split(', ')  # Split labels by comma and remove leading/trailing spaces\n",
        "        image_path = os.path.join(image_folder_add, filename)\n",
        "        image_file_paths.append(image_path)\n",
        "        genre_labels.append(labels)"
      ],
      "metadata": {
        "id": "O2DdTX5_XNV8"
      },
      "execution_count": 7,
      "outputs": []
    },
    {
      "cell_type": "code",
      "source": [
        "len(image_file_paths)"
      ],
      "metadata": {
        "id": "nXDErAZjdJn0",
        "colab": {
          "base_uri": "https://localhost:8080/"
        },
        "outputId": "1e673b04-cd0a-4274-df99-f7b0fe8660a2"
      },
      "execution_count": 2,
      "outputs": [
        {
          "output_type": "execute_result",
          "data": {
            "text/plain": [
              "46656"
            ]
          },
          "metadata": {},
          "execution_count": 2
        }
      ]
    },
    {
      "cell_type": "code",
      "source": [
        "# genre_labels"
      ],
      "metadata": {
        "id": "PWOIg0hTdKvS"
      },
      "execution_count": null,
      "outputs": []
    },
    {
      "cell_type": "code",
      "source": [
        "# unique_labels_set = set()\n",
        "\n",
        "# for labels in genre_labels:\n",
        "#     unique_labels_set.update(labels)\n",
        "\n",
        "# unique_labels = sorted(list(unique_labels_set))"
      ],
      "metadata": {
        "id": "WnWdzeiWXXOk"
      },
      "execution_count": null,
      "outputs": []
    },
    {
      "cell_type": "code",
      "source": [
        "# unique_labels"
      ],
      "metadata": {
        "id": "rB1rz-dwZgxV"
      },
      "execution_count": null,
      "outputs": []
    },
    {
      "cell_type": "code",
      "source": [
        "# len(unique_labels)"
      ],
      "metadata": {
        "id": "gbg9-ae_zi0F"
      },
      "execution_count": null,
      "outputs": []
    },
    {
      "cell_type": "code",
      "source": [
        "from collections import defaultdict\n",
        "\n",
        "label_counts = defaultdict(int)\n",
        "\n",
        "for labels in genre_labels:\n",
        "    for label in labels:\n",
        "        label_counts[label] += 1"
      ],
      "metadata": {
        "id": "yslKvYyH2tQn"
      },
      "execution_count": 8,
      "outputs": []
    },
    {
      "cell_type": "code",
      "source": [
        "# Convert the defaultdict into a list of tuples\n",
        "label_count_list = [(label, count) for label, count in label_counts.items()]\n",
        "\n",
        "# Sort the list of tuples based on counts in descending order\n",
        "sorted_label_count_list = sorted(label_count_list, key=lambda x: x[1], reverse=True)\n",
        "\n",
        "# Display the sorted list\n",
        "for label, count in sorted_label_count_list:\n",
        "    print(f\"{label}: {count}\")\n",
        "\n",
        "print(\"Total Labels: \", len(label_count_list))"
      ],
      "metadata": {
        "colab": {
          "base_uri": "https://localhost:8080/"
        },
        "id": "PFbfclqsU9hm",
        "outputId": "baa31e96-1e23-4b6d-e5b2-668203d8f95b"
      },
      "execution_count": 9,
      "outputs": [
        {
          "output_type": "stream",
          "name": "stdout",
          "text": [
            "Drama: 25272\n",
            "Comedy: 15324\n",
            "Romance: 9678\n",
            "Thriller: 9339\n",
            "Crime: 6879\n",
            "Action: 6465\n",
            "Adventure: 4833\n",
            "Horror: 4809\n",
            "Documentary: 3702\n",
            "Mystery: 3693\n",
            "Sci-Fi: 3636\n",
            "Fantasy: 3486\n",
            "Family: 2934\n",
            "War: 2418\n",
            "Biography: 2364\n",
            "History: 2040\n",
            "Music: 1902\n",
            "Animation: 1758\n",
            "Musical: 1509\n",
            "Western: 1269\n",
            "Sport: 1137\n",
            "Short: 843\n",
            "Film-Noir: 606\n",
            "News: 117\n",
            "Talk-Show: 6\n",
            "Reality-TV: 3\n",
            "Total Labels:  26\n"
          ]
        }
      ]
    },
    {
      "cell_type": "code",
      "source": [
        "min_label_count = 500\n",
        "valid_labels = [label for label, count in label_counts.items() if count >= min_label_count]\n",
        "valid_labels = sorted(list(valid_labels))"
      ],
      "metadata": {
        "id": "DV3BPMTYWfaq"
      },
      "execution_count": 10,
      "outputs": []
    },
    {
      "cell_type": "code",
      "source": [
        "valid_labels, len(valid_labels)"
      ],
      "metadata": {
        "colab": {
          "base_uri": "https://localhost:8080/"
        },
        "id": "4whPvouoXCuy",
        "outputId": "43c707ef-6784-464f-b9ef-b0c88646e63a"
      },
      "execution_count": 11,
      "outputs": [
        {
          "output_type": "execute_result",
          "data": {
            "text/plain": [
              "(['Action',\n",
              "  'Adventure',\n",
              "  'Animation',\n",
              "  'Biography',\n",
              "  'Comedy',\n",
              "  'Crime',\n",
              "  'Documentary',\n",
              "  'Drama',\n",
              "  'Family',\n",
              "  'Fantasy',\n",
              "  'Film-Noir',\n",
              "  'History',\n",
              "  'Horror',\n",
              "  'Music',\n",
              "  'Musical',\n",
              "  'Mystery',\n",
              "  'Romance',\n",
              "  'Sci-Fi',\n",
              "  'Short',\n",
              "  'Sport',\n",
              "  'Thriller',\n",
              "  'War',\n",
              "  'Western'],\n",
              " 23)"
            ]
          },
          "metadata": {},
          "execution_count": 11
        }
      ]
    },
    {
      "cell_type": "code",
      "source": [
        "# filtered_image_paths = []\n",
        "# filtered_genre_labels = []\n",
        "\n",
        "# for image_path, labels in zip(image_file_paths, genre_labels):\n",
        "#     valid_labels_for_sample = [label for label in labels if label in valid_labels]\n",
        "\n",
        "#     if valid_labels_for_sample:\n",
        "#         filtered_image_paths.append(image_path)\n",
        "#         filtered_genre_labels.append(valid_labels_for_sample)"
      ],
      "metadata": {
        "id": "0fOqnZ46We-d"
      },
      "execution_count": 7,
      "outputs": []
    },
    {
      "cell_type": "code",
      "source": [
        "# len(filtered_image_paths)"
      ],
      "metadata": {
        "id": "T0NkX3jwWp56"
      },
      "execution_count": null,
      "outputs": []
    },
    {
      "cell_type": "code",
      "source": [
        "# len(filtered_genre_labels)"
      ],
      "metadata": {
        "id": "Wdv_QSfJWqDT"
      },
      "execution_count": null,
      "outputs": []
    },
    {
      "cell_type": "code",
      "source": [
        "multi_hot_labels = []\n",
        "\n",
        "for labels in genre_labels:\n",
        "    multi_hot = [1 if label in labels else 0 for label in valid_labels]\n",
        "    multi_hot_labels.append(multi_hot)"
      ],
      "metadata": {
        "id": "weVX9tVdZhxP"
      },
      "execution_count": 12,
      "outputs": []
    },
    {
      "cell_type": "code",
      "source": [
        "multi_hot_labels[1]"
      ],
      "metadata": {
        "id": "5BdzoGhlZ1uE",
        "colab": {
          "base_uri": "https://localhost:8080/"
        },
        "outputId": "f5b46dc1-8cc9-420f-82c0-aa36d9ab83fc"
      },
      "execution_count": 13,
      "outputs": [
        {
          "output_type": "execute_result",
          "data": {
            "text/plain": [
              "[0, 0, 0, 0, 0, 1, 0, 1, 0, 0, 0, 0, 0, 0, 0, 0, 0, 0, 0, 0, 1, 0, 0]"
            ]
          },
          "metadata": {},
          "execution_count": 13
        }
      ]
    },
    {
      "cell_type": "code",
      "source": [
        "genre_labels[1]"
      ],
      "metadata": {
        "id": "1ozp7IfHZ2-m",
        "colab": {
          "base_uri": "https://localhost:8080/"
        },
        "outputId": "28fdf021-8c88-4449-f519-b2c2fd120168"
      },
      "execution_count": 14,
      "outputs": [
        {
          "output_type": "execute_result",
          "data": {
            "text/plain": [
              "['Crime', 'Drama', 'Thriller']"
            ]
          },
          "metadata": {},
          "execution_count": 14
        }
      ]
    },
    {
      "cell_type": "code",
      "source": [
        "import os\n",
        "import torch\n",
        "from torch.utils.data import Dataset, DataLoader\n",
        "from torchvision import transforms\n",
        "from PIL import Image\n",
        "\n",
        "class CustomMultiLabelDataset(Dataset):\n",
        "    def __init__(self, image_file_paths, multi_encoded_labels, transform=None):\n",
        "        self.image_file_paths = image_file_paths\n",
        "        self.multi_encoded_labels = multi_encoded_labels\n",
        "        self.transform = transform\n",
        "\n",
        "    def __len__(self):\n",
        "        return len(self.image_file_paths)\n",
        "\n",
        "    def __getitem__(self, idx):\n",
        "        image_path = self.image_file_paths[idx]\n",
        "        image = Image.open(image_path)\n",
        "\n",
        "        labels = self.multi_encoded_labels[idx]\n",
        "        labels = torch.tensor(labels, dtype=torch.float32)\n",
        "\n",
        "        if self.transform:\n",
        "            image = self.transform(image)\n",
        "\n",
        "        return image, labels\n",
        "\n",
        "# Define data transformations (resize, normalize, etc.)\n",
        "transform = transforms.Compose([\n",
        "    transforms.Resize((224, 224)),\n",
        "    transforms.ToTensor(),\n",
        "    transforms.Normalize(mean=[0.485, 0.456, 0.406], std=[0.229, 0.224, 0.225]),\n",
        "])"
      ],
      "metadata": {
        "id": "uprw1hgjbHji"
      },
      "execution_count": 15,
      "outputs": []
    },
    {
      "cell_type": "code",
      "source": [
        "# Create a custom dataset\n",
        "train_dataset = CustomMultiLabelDataset(image_file_paths, multi_hot_labels, transform=transform)"
      ],
      "metadata": {
        "id": "pjHkp2KZblJf"
      },
      "execution_count": 16,
      "outputs": []
    },
    {
      "cell_type": "code",
      "source": [
        "len(train_dataset)"
      ],
      "metadata": {
        "id": "6djdqSdHdylD",
        "colab": {
          "base_uri": "https://localhost:8080/"
        },
        "outputId": "4ca8a4cc-da70-4a91-a9dc-3e83ff0bcc3a"
      },
      "execution_count": 17,
      "outputs": [
        {
          "output_type": "execute_result",
          "data": {
            "text/plain": [
              "46656"
            ]
          },
          "metadata": {},
          "execution_count": 17
        }
      ]
    },
    {
      "cell_type": "code",
      "source": [
        "train_dataset[10]"
      ],
      "metadata": {
        "id": "XY0b1aLgd1Dy",
        "colab": {
          "base_uri": "https://localhost:8080/"
        },
        "outputId": "ff48f74e-80af-41b4-aa42-270b2ba4cb78"
      },
      "execution_count": 18,
      "outputs": [
        {
          "output_type": "execute_result",
          "data": {
            "text/plain": [
              "(tensor([[[-0.4739, -1.2103, -1.2617,  ..., -1.2617, -1.2103, -0.4568],\n",
              "          [-0.7137, -2.0494, -2.0837,  ..., -2.0665, -2.0323, -0.7137],\n",
              "          [-0.6281, -2.1179, -2.1179,  ..., -2.1179, -2.1008, -0.6281],\n",
              "          ...,\n",
              "          [ 0.5193,  1.7865,  1.7352,  ...,  1.9920,  2.2489,  0.6221],\n",
              "          [ 0.5022,  1.7865,  1.7009,  ...,  2.0263,  2.2318,  0.6563],\n",
              "          [ 0.2624,  1.0159,  1.0159,  ...,  1.1015,  1.2899,  0.3138]],\n",
              " \n",
              "         [[-0.3550, -1.1078, -1.1604,  ..., -1.1604, -1.1078, -0.3375],\n",
              "          [-0.6001, -1.9657, -2.0007,  ..., -1.9832, -1.9482, -0.6001],\n",
              "          [-0.5126, -2.0357, -2.0357,  ..., -2.0357, -2.0182, -0.5126],\n",
              "          ...,\n",
              "          [ 0.6954,  2.0434,  2.0609,  ...,  2.1134,  2.3936,  0.6954],\n",
              "          [ 0.8004,  2.1660,  2.0959,  ...,  2.2010,  2.4111,  0.7654],\n",
              "          [ 0.4503,  1.2556,  1.3081,  ...,  1.3256,  1.4657,  0.4678]],\n",
              " \n",
              "         [[-0.1312, -0.8807, -0.9330,  ..., -0.9330, -0.8807, -0.1138],\n",
              "          [-0.3753, -1.7347, -1.7696,  ..., -1.7522, -1.7173, -0.3753],\n",
              "          [-0.2881, -1.8044, -1.8044,  ..., -1.8044, -1.7870, -0.2881],\n",
              "          ...,\n",
              "          [ 0.1476,  1.1062,  0.7054,  ...,  1.2980,  2.3263,  0.9494],\n",
              "          [-0.3753,  0.6705,  0.2522,  ...,  1.3677,  2.2217,  0.7751],\n",
              "          [-0.0092,  0.5485,  0.3393,  ...,  0.8797,  1.5594,  0.6879]]]),\n",
              " tensor([0., 0., 0., 0., 1., 0., 0., 0., 0., 0., 0., 0., 0., 0., 0., 0., 1., 0.,\n",
              "         0., 0., 0., 0., 0.]))"
            ]
          },
          "metadata": {},
          "execution_count": 18
        }
      ]
    },
    {
      "cell_type": "markdown",
      "source": [
        "# Test Dataset Preparation"
      ],
      "metadata": {
        "id": "W5OWR3LAvXb_"
      }
    },
    {
      "cell_type": "code",
      "source": [
        "import os\n",
        "test_image_file_paths = []\n",
        "test_genre_labels = []\n",
        "\n",
        "image_folder_add = \"/content/test\"\n",
        "labels_file = '/content/test_label.txt'\n",
        "\n",
        "with open(labels_file, 'r') as file:\n",
        "    for line in file:\n",
        "        parts = line.strip().split('|')\n",
        "        filename = parts[0].strip()\n",
        "        labels = parts[1].strip().split(', ')  # Split labels by comma and remove leading/trailing spaces\n",
        "        image_path = os.path.join(image_folder_add, filename)\n",
        "        test_image_file_paths.append(image_path)\n",
        "        test_genre_labels.append(labels)"
      ],
      "metadata": {
        "id": "KgZ0M9ixvX7K"
      },
      "execution_count": 19,
      "outputs": []
    },
    {
      "cell_type": "code",
      "source": [
        "# unique_labels_set = set()\n",
        "\n",
        "# for labels in test_genre_labels:\n",
        "#     unique_labels_set.update(labels)\n",
        "\n",
        "# unique_labels = sorted(list(unique_labels_set))"
      ],
      "metadata": {
        "id": "NL2o6TmXz2mo"
      },
      "execution_count": null,
      "outputs": []
    },
    {
      "cell_type": "code",
      "source": [
        "# unique_labels"
      ],
      "metadata": {
        "id": "ah5w4E1lz-V8"
      },
      "execution_count": null,
      "outputs": []
    },
    {
      "cell_type": "code",
      "source": [
        "test_multi_hot_labels = []\n",
        "\n",
        "for labels in test_genre_labels:\n",
        "    test_multi_hot = [1 if label in labels else 0 for label in valid_labels]\n",
        "    test_multi_hot_labels.append(test_multi_hot)"
      ],
      "metadata": {
        "id": "PFyQCaOQveK7"
      },
      "execution_count": 20,
      "outputs": []
    },
    {
      "cell_type": "code",
      "source": [
        "test_dataset = CustomMultiLabelDataset(test_image_file_paths, test_multi_hot_labels, transform=transform)"
      ],
      "metadata": {
        "id": "BculxAgbwCed"
      },
      "execution_count": 21,
      "outputs": []
    },
    {
      "cell_type": "code",
      "source": [
        "len(test_dataset)"
      ],
      "metadata": {
        "id": "dRs9JPiR1L6p",
        "colab": {
          "base_uri": "https://localhost:8080/"
        },
        "outputId": "59c2d036-5b69-447a-b6ab-8f18a50e7aec"
      },
      "execution_count": 22,
      "outputs": [
        {
          "output_type": "execute_result",
          "data": {
            "text/plain": [
              "23397"
            ]
          },
          "metadata": {},
          "execution_count": 22
        }
      ]
    },
    {
      "cell_type": "markdown",
      "source": [
        "# Training"
      ],
      "metadata": {
        "id": "T73kFItave8m"
      }
    },
    {
      "cell_type": "code",
      "source": [
        "batch_size = 32\n",
        "train_loader = DataLoader(train_dataset, batch_size=batch_size, shuffle=True)\n",
        "test_loader = DataLoader(test_dataset, batch_size=batch_size, shuffle=False)"
      ],
      "metadata": {
        "id": "qmjc3h-Xb3pn"
      },
      "execution_count": 23,
      "outputs": []
    },
    {
      "cell_type": "code",
      "source": [
        "import torch\n",
        "import torch.nn as nn\n",
        "import torch.optim as optim\n",
        "from torchvision import models\n",
        "device = torch.device(\"cuda\" if torch.cuda.is_available() else \"cpu\")\n",
        "\n",
        "# model = models.resnet101(pretrained=True)  # You can use a pre-trained model\n",
        "\n",
        "# model.fc = nn.Sequential(\n",
        "#     nn.Linear(model.fc.in_features, 512),\n",
        "#     nn.ReLU(),\n",
        "#     nn.Linear(512, len(unique_labels)),\n",
        "#     nn.Sigmoid()\n",
        "# )\n",
        "\n",
        "model = models.resnet101(pretrained=True)\n",
        "model.fc = nn.Linear(model.fc.in_features, len(valid_labels))\n",
        "model.to(device)"
      ],
      "metadata": {
        "id": "nzkSDHpbcBvG"
      },
      "execution_count": null,
      "outputs": []
    },
    {
      "cell_type": "code",
      "source": [
        "# Define loss function and optimizer\n",
        "criterion = nn.BCEWithLogitsLoss()  # Binary Cross-Entropy Loss\n",
        "optimizer = optim.Adam(model.parameters(), lr=0.001)\n",
        "num_epochs = 30"
      ],
      "metadata": {
        "id": "W3xyf2mIcUp6"
      },
      "execution_count": 26,
      "outputs": []
    },
    {
      "cell_type": "code",
      "source": [
        "for epoch in range(num_epochs):\n",
        "    model.train()\n",
        "    running_loss = 0.0\n",
        "\n",
        "    for inputs, labels in train_loader:\n",
        "        inputs, labels = inputs.to(device), labels.to(device)\n",
        "\n",
        "        optimizer.zero_grad()\n",
        "\n",
        "        outputs = model(inputs)\n",
        "        loss = criterion(outputs, labels.float())\n",
        "        loss.backward()\n",
        "        optimizer.step()\n",
        "\n",
        "        running_loss += loss.item()\n",
        "\n",
        "    print(f\"Epoch {epoch + 1}/{num_epochs}, Loss: {running_loss / len(train_loader)}\")\n",
        "\n",
        "    if epoch > 15:\n",
        "      save_dir = \"/content/Model/Models-Train-21/\"\n",
        "      os.makedirs(save_dir, exist_ok=True)  # Create the directory if it doesn't exist\n",
        "      model_name = str(epoch) + \"_model.pth\"\n",
        "      save_path = os.path.join(save_dir, model_name)  # Specify the complete path to the model file\n",
        "      torch.save(model.state_dict(), save_path)\n",
        "\n",
        "    model.eval()\n",
        "    predictions = []\n",
        "    true_labels = []\n",
        "\n",
        "    with torch.no_grad():\n",
        "        for inputs, labels in test_loader:\n",
        "            inputs, labels = inputs.to(device), labels.to(device)\n",
        "\n",
        "            outputs = model(inputs)\n",
        "            # loss = criterion(outputs, labels.float())\n",
        "\n",
        "            # Apply a threshold (e.g., 0.5) to convert logits to binary predictions\n",
        "            predictions.extend((outputs > 0.5).int().cpu().numpy())\n",
        "            true_labels.extend(labels.int().cpu().numpy())\n",
        "\n",
        "    # Calculate evaluation metrics\n",
        "    from sklearn.metrics import accuracy_score, precision_score, recall_score, f1_score, classification_report\n",
        "\n",
        "    accuracy = accuracy_score(true_labels, predictions)\n",
        "    precision = precision_score(true_labels, predictions, average='macro')\n",
        "    recall = recall_score(true_labels, predictions, average='macro')\n",
        "    f1 = f1_score(true_labels, predictions, average='macro')\n",
        "\n",
        "    print(f\"Accuracy: {accuracy}\")\n",
        "    print(f\"Precision: {precision}\")\n",
        "    print(f\"Recall: {recall}\")\n",
        "    print(f\"F1-Score: {f1}\")\n",
        "    print(classification_report(true_labels, predictions))"
      ],
      "metadata": {
        "id": "ZRds1BV-chaz",
        "outputId": "5e7b8fc3-f9ef-40f1-a42e-e6b3f2f14b9c",
        "colab": {
          "base_uri": "https://localhost:8080/"
        }
      },
      "execution_count": null,
      "outputs": [
        {
          "metadata": {
            "tags": null
          },
          "name": "stdout",
          "output_type": "stream",
          "text": [
            "Epoch 1/30, Loss: 0.2787469495675528\n"
          ]
        },
        {
          "metadata": {
            "tags": null
          },
          "name": "stderr",
          "output_type": "stream",
          "text": [
            "/usr/local/lib/python3.10/dist-packages/sklearn/metrics/_classification.py:1344: UndefinedMetricWarning: Precision is ill-defined and being set to 0.0 in labels with no predicted samples. Use `zero_division` parameter to control this behavior.\n",
            "  _warn_prf(average, modifier, msg_start, len(result))\n"
          ]
        },
        {
          "metadata": {
            "tags": null
          },
          "name": "stdout",
          "output_type": "stream",
          "text": [
            "Accuracy: 0.06282856776509808\n",
            "Precision: 0.12958421262729813\n",
            "Recall: 0.02504954076161011\n",
            "F1-Score: 0.029436553952304944\n",
            "              precision    recall  f1-score   support\n",
            "\n",
            "           0       0.00      0.00      0.00      3132\n",
            "           1       0.00      0.00      0.00      2463\n",
            "           2       0.00      0.00      0.00       918\n",
            "           3       0.00      0.00      0.00      1233\n",
            "           4       0.66      0.03      0.05      7833\n",
            "           5       0.00      0.00      0.00      3489\n",
            "           6       0.00      0.00      0.00      1887\n",
            "           7       0.64      0.52      0.57     12426\n",
            "           8       0.00      0.00      0.00      1554\n",
            "           9       0.00      0.00      0.00      1755\n",
            "          10       0.00      0.00      0.00       306\n",
            "          11       0.00      0.00      0.00      1035\n",
            "          12       0.50      0.00      0.00      2475\n",
            "          13       0.00      0.00      0.00       933\n",
            "          14       0.00      0.00      0.00       759\n",
            "          15       0.00      0.00      0.00      1851\n",
            "          16       0.62      0.00      0.00      4770\n",
            "          17       0.00      0.00      0.00      1758\n",
            "          18       0.00      0.00      0.00       426\n",
            "          19       0.00      0.00      0.00       573\n",
            "          20       0.56      0.03      0.05      4701\n",
            "          21       0.00      0.00      0.00      1203\n",
            "          22       0.00      0.00      0.00       630\n",
            "\n",
            "   micro avg       0.64      0.12      0.20     58110\n",
            "   macro avg       0.13      0.03      0.03     58110\n",
            "weighted avg       0.34      0.12      0.13     58110\n",
            " samples avg       0.29      0.15      0.19     58110\n",
            "\n"
          ]
        },
        {
          "metadata": {
            "tags": null
          },
          "name": "stderr",
          "output_type": "stream",
          "text": [
            "/usr/local/lib/python3.10/dist-packages/sklearn/metrics/_classification.py:1344: UndefinedMetricWarning: Precision and F-score are ill-defined and being set to 0.0 in labels with no predicted samples. Use `zero_division` parameter to control this behavior.\n",
            "  _warn_prf(average, modifier, msg_start, len(result))\n",
            "/usr/local/lib/python3.10/dist-packages/sklearn/metrics/_classification.py:1344: UndefinedMetricWarning: Precision and F-score are ill-defined and being set to 0.0 in samples with no predicted labels. Use `zero_division` parameter to control this behavior.\n",
            "  _warn_prf(average, modifier, msg_start, len(result))\n"
          ]
        },
        {
          "metadata": {
            "tags": null
          },
          "name": "stdout",
          "output_type": "stream",
          "text": [
            "Epoch 2/30, Loss: 0.2540216508879747\n"
          ]
        },
        {
          "metadata": {
            "tags": null
          },
          "name": "stderr",
          "output_type": "stream",
          "text": [
            "/usr/local/lib/python3.10/dist-packages/sklearn/metrics/_classification.py:1344: UndefinedMetricWarning: Precision is ill-defined and being set to 0.0 in labels with no predicted samples. Use `zero_division` parameter to control this behavior.\n",
            "  _warn_prf(average, modifier, msg_start, len(result))\n"
          ]
        },
        {
          "metadata": {
            "tags": null
          },
          "name": "stdout",
          "output_type": "stream",
          "text": [
            "Accuracy: 0.09253323075607985\n",
            "Precision: 0.5176753374791846\n",
            "Recall: 0.09831916655629211\n",
            "F1-Score: 0.1438719558461883\n",
            "              precision    recall  f1-score   support\n",
            "\n",
            "           0       0.80      0.03      0.06      3132\n",
            "           1       0.66      0.05      0.08      2463\n",
            "           2       0.76      0.04      0.08       918\n",
            "           3       0.00      0.00      0.00      1233\n",
            "           4       0.68      0.32      0.44      7833\n",
            "           5       0.67      0.28      0.40      3489\n",
            "           6       0.73      0.33      0.46      1887\n",
            "           7       0.74      0.44      0.56     12426\n",
            "           8       0.90      0.05      0.10      1554\n",
            "           9       0.33      0.00      0.00      1755\n",
            "          10       0.00      0.00      0.00       306\n",
            "          11       1.00      0.00      0.00      1035\n",
            "          12       0.75      0.13      0.23      2475\n",
            "          13       1.00      0.00      0.01       933\n",
            "          14       0.00      0.00      0.00       759\n",
            "          15       0.31      0.01      0.01      1851\n",
            "          16       0.54      0.14      0.23      4770\n",
            "          17       0.81      0.09      0.16      1758\n",
            "          18       0.00      0.00      0.00       426\n",
            "          19       0.00      0.00      0.00       573\n",
            "          20       0.63      0.25      0.36      4701\n",
            "          21       0.59      0.08      0.14      1203\n",
            "          22       0.00      0.00      0.00       630\n",
            "\n",
            "   micro avg       0.70      0.21      0.33     58110\n",
            "   macro avg       0.52      0.10      0.14     58110\n",
            "weighted avg       0.64      0.21      0.29     58110\n",
            " samples avg       0.42      0.26      0.29     58110\n",
            "\n"
          ]
        },
        {
          "metadata": {
            "tags": null
          },
          "name": "stderr",
          "output_type": "stream",
          "text": [
            "/usr/local/lib/python3.10/dist-packages/sklearn/metrics/_classification.py:1344: UndefinedMetricWarning: Precision and F-score are ill-defined and being set to 0.0 in labels with no predicted samples. Use `zero_division` parameter to control this behavior.\n",
            "  _warn_prf(average, modifier, msg_start, len(result))\n",
            "/usr/local/lib/python3.10/dist-packages/sklearn/metrics/_classification.py:1344: UndefinedMetricWarning: Precision and F-score are ill-defined and being set to 0.0 in samples with no predicted labels. Use `zero_division` parameter to control this behavior.\n",
            "  _warn_prf(average, modifier, msg_start, len(result))\n"
          ]
        },
        {
          "metadata": {
            "tags": null
          },
          "name": "stdout",
          "output_type": "stream",
          "text": [
            "Epoch 3/30, Loss: 0.22365503792940997\n"
          ]
        },
        {
          "metadata": {
            "tags": null
          },
          "name": "stderr",
          "output_type": "stream",
          "text": [
            "/usr/local/lib/python3.10/dist-packages/sklearn/metrics/_classification.py:1344: UndefinedMetricWarning: Precision is ill-defined and being set to 0.0 in labels with no predicted samples. Use `zero_division` parameter to control this behavior.\n",
            "  _warn_prf(average, modifier, msg_start, len(result))\n"
          ]
        },
        {
          "metadata": {
            "tags": null
          },
          "name": "stdout",
          "output_type": "stream",
          "text": [
            "Accuracy: 0.118818651963927\n",
            "Precision: 0.5724018191304591\n",
            "Recall: 0.14961153516837608\n",
            "F1-Score: 0.1924934995857564\n",
            "              precision    recall  f1-score   support\n",
            "\n",
            "           0       0.67      0.12      0.20      3132\n",
            "           1       0.64      0.15      0.24      2463\n",
            "           2       0.85      0.04      0.08       918\n",
            "           3       0.44      0.01      0.02      1233\n",
            "           4       0.80      0.21      0.33      7833\n",
            "           5       0.74      0.27      0.40      3489\n",
            "           6       0.68      0.60      0.64      1887\n",
            "           7       0.73      0.65      0.69     12426\n",
            "           8       0.88      0.09      0.16      1554\n",
            "           9       0.67      0.00      0.01      1755\n",
            "          10       0.00      0.00      0.00       306\n",
            "          11       0.41      0.02      0.03      1035\n",
            "          12       0.95      0.09      0.17      2475\n",
            "          13       0.61      0.04      0.08       933\n",
            "          14       0.00      0.00      0.00       759\n",
            "          15       0.55      0.03      0.06      1851\n",
            "          16       0.68      0.02      0.04      4770\n",
            "          17       0.92      0.16      0.27      1758\n",
            "          18       0.00      0.00      0.00       426\n",
            "          19       0.00      0.00      0.00       573\n",
            "          20       0.65      0.29      0.40      4701\n",
            "          21       0.49      0.61      0.54      1203\n",
            "          22       0.81      0.03      0.06       630\n",
            "\n",
            "   micro avg       0.71      0.27      0.39     58110\n",
            "   macro avg       0.57      0.15      0.19     58110\n",
            "weighted avg       0.69      0.27      0.33     58110\n",
            " samples avg       0.52      0.32      0.37     58110\n",
            "\n"
          ]
        },
        {
          "metadata": {
            "tags": null
          },
          "name": "stderr",
          "output_type": "stream",
          "text": [
            "/usr/local/lib/python3.10/dist-packages/sklearn/metrics/_classification.py:1344: UndefinedMetricWarning: Precision and F-score are ill-defined and being set to 0.0 in labels with no predicted samples. Use `zero_division` parameter to control this behavior.\n",
            "  _warn_prf(average, modifier, msg_start, len(result))\n",
            "/usr/local/lib/python3.10/dist-packages/sklearn/metrics/_classification.py:1344: UndefinedMetricWarning: Precision and F-score are ill-defined and being set to 0.0 in samples with no predicted labels. Use `zero_division` parameter to control this behavior.\n",
            "  _warn_prf(average, modifier, msg_start, len(result))\n"
          ]
        },
        {
          "metadata": {
            "tags": null
          },
          "name": "stdout",
          "output_type": "stream",
          "text": [
            "Epoch 4/30, Loss: 0.20946214933699542\n"
          ]
        },
        {
          "metadata": {
            "tags": null
          },
          "name": "stderr",
          "output_type": "stream",
          "text": [
            "/usr/local/lib/python3.10/dist-packages/sklearn/metrics/_classification.py:1344: UndefinedMetricWarning: Precision is ill-defined and being set to 0.0 in labels with no predicted samples. Use `zero_division` parameter to control this behavior.\n",
            "  _warn_prf(average, modifier, msg_start, len(result))\n"
          ]
        },
        {
          "metadata": {
            "tags": null
          },
          "name": "stdout",
          "output_type": "stream",
          "text": [
            "Accuracy: 0.1214685643458563\n",
            "Precision: 0.688678486228925\n",
            "Recall: 0.20934350379471944\n",
            "F1-Score: 0.28502801403833966\n",
            "              precision    recall  f1-score   support\n",
            "\n",
            "           0       0.66      0.30      0.41      3132\n",
            "           1       0.65      0.23      0.34      2463\n",
            "           2       0.70      0.22      0.33       918\n",
            "           3       1.00      0.00      0.00      1233\n",
            "           4       0.68      0.51      0.58      7833\n",
            "           5       0.75      0.30      0.43      3489\n",
            "           6       0.90      0.30      0.45      1887\n",
            "           7       0.85      0.34      0.49     12426\n",
            "           8       0.73      0.28      0.40      1554\n",
            "           9       0.56      0.21      0.30      1755\n",
            "          10       0.00      0.00      0.00       306\n",
            "          11       1.00      0.00      0.00      1035\n",
            "          12       0.62      0.63      0.62      2475\n",
            "          13       0.65      0.28      0.39       933\n",
            "          14       0.27      0.02      0.03       759\n",
            "          15       0.86      0.01      0.02      1851\n",
            "          16       0.72      0.07      0.13      4770\n",
            "          17       0.84      0.28      0.42      1758\n",
            "          18       0.50      0.00      0.01       426\n",
            "          19       0.71      0.02      0.04       573\n",
            "          20       0.69      0.24      0.36      4701\n",
            "          21       0.84      0.17      0.28      1203\n",
            "          22       0.66      0.40      0.50       630\n",
            "\n",
            "   micro avg       0.72      0.29      0.41     58110\n",
            "   macro avg       0.69      0.21      0.29     58110\n",
            "weighted avg       0.74      0.29      0.38     58110\n",
            " samples avg       0.53      0.33      0.38     58110\n",
            "\n"
          ]
        },
        {
          "metadata": {
            "tags": null
          },
          "name": "stderr",
          "output_type": "stream",
          "text": [
            "/usr/local/lib/python3.10/dist-packages/sklearn/metrics/_classification.py:1344: UndefinedMetricWarning: Precision and F-score are ill-defined and being set to 0.0 in labels with no predicted samples. Use `zero_division` parameter to control this behavior.\n",
            "  _warn_prf(average, modifier, msg_start, len(result))\n",
            "/usr/local/lib/python3.10/dist-packages/sklearn/metrics/_classification.py:1344: UndefinedMetricWarning: Precision and F-score are ill-defined and being set to 0.0 in samples with no predicted labels. Use `zero_division` parameter to control this behavior.\n",
            "  _warn_prf(average, modifier, msg_start, len(result))\n"
          ]
        },
        {
          "metadata": {
            "tags": null
          },
          "name": "stdout",
          "output_type": "stream",
          "text": [
            "Epoch 5/30, Loss: 0.20185334068839278\n"
          ]
        },
        {
          "metadata": {
            "tags": null
          },
          "name": "stderr",
          "output_type": "stream",
          "text": [
            "/usr/local/lib/python3.10/dist-packages/sklearn/metrics/_classification.py:1344: UndefinedMetricWarning: Precision is ill-defined and being set to 0.0 in labels with no predicted samples. Use `zero_division` parameter to control this behavior.\n",
            "  _warn_prf(average, modifier, msg_start, len(result))\n"
          ]
        },
        {
          "metadata": {
            "tags": null
          },
          "name": "stdout",
          "output_type": "stream",
          "text": [
            "Accuracy: 0.1426251228790016\n",
            "Precision: 0.5984189672330034\n",
            "Recall: 0.24310627502989857\n",
            "F1-Score: 0.31991211127630487\n",
            "              precision    recall  f1-score   support\n",
            "\n",
            "           0       0.76      0.12      0.21      3132\n",
            "           1       0.61      0.29      0.39      2463\n",
            "           2       0.63      0.31      0.42       918\n",
            "           3       0.00      0.00      0.00      1233\n",
            "           4       0.71      0.42      0.53      7833\n",
            "           5       0.80      0.19      0.30      3489\n",
            "           6       0.77      0.60      0.67      1887\n",
            "           7       0.76      0.56      0.65     12426\n",
            "           8       0.57      0.46      0.51      1554\n",
            "           9       0.63      0.23      0.34      1755\n",
            "          10       0.00      0.00      0.00       306\n",
            "          11       0.67      0.02      0.04      1035\n",
            "          12       0.83      0.41      0.55      2475\n",
            "          13       0.62      0.20      0.30       933\n",
            "          14       0.38      0.03      0.06       759\n",
            "          15       0.69      0.03      0.05      1851\n",
            "          16       0.69      0.15      0.24      4770\n",
            "          17       0.72      0.48      0.58      1758\n",
            "          18       0.00      0.00      0.00       426\n",
            "          19       0.65      0.22      0.32       573\n",
            "          20       0.79      0.11      0.20      4701\n",
            "          21       0.76      0.35      0.48      1203\n",
            "          22       0.72      0.42      0.53       630\n",
            "\n",
            "   micro avg       0.73      0.32      0.45     58110\n",
            "   macro avg       0.60      0.24      0.32     58110\n",
            "weighted avg       0.70      0.32      0.41     58110\n",
            " samples avg       0.58      0.38      0.43     58110\n",
            "\n"
          ]
        },
        {
          "metadata": {
            "tags": null
          },
          "name": "stderr",
          "output_type": "stream",
          "text": [
            "/usr/local/lib/python3.10/dist-packages/sklearn/metrics/_classification.py:1344: UndefinedMetricWarning: Precision and F-score are ill-defined and being set to 0.0 in labels with no predicted samples. Use `zero_division` parameter to control this behavior.\n",
            "  _warn_prf(average, modifier, msg_start, len(result))\n",
            "/usr/local/lib/python3.10/dist-packages/sklearn/metrics/_classification.py:1344: UndefinedMetricWarning: Precision and F-score are ill-defined and being set to 0.0 in samples with no predicted labels. Use `zero_division` parameter to control this behavior.\n",
            "  _warn_prf(average, modifier, msg_start, len(result))\n"
          ]
        },
        {
          "metadata": {
            "tags": null
          },
          "name": "stdout",
          "output_type": "stream",
          "text": [
            "Epoch 6/30, Loss: 0.19299258896761634\n"
          ]
        },
        {
          "metadata": {
            "tags": null
          },
          "name": "stderr",
          "output_type": "stream",
          "text": [
            "/usr/local/lib/python3.10/dist-packages/sklearn/metrics/_classification.py:1344: UndefinedMetricWarning: Precision is ill-defined and being set to 0.0 in labels with no predicted samples. Use `zero_division` parameter to control this behavior.\n",
            "  _warn_prf(average, modifier, msg_start, len(result))\n"
          ]
        },
        {
          "metadata": {
            "tags": null
          },
          "name": "stdout",
          "output_type": "stream",
          "text": [
            "Accuracy: 0.14275334444586912\n",
            "Precision: 0.622140327211152\n",
            "Recall: 0.24807338703815662\n",
            "F1-Score: 0.33031992136250105\n",
            "              precision    recall  f1-score   support\n",
            "\n",
            "           0       0.75      0.24      0.36      3132\n",
            "           1       0.66      0.26      0.37      2463\n",
            "           2       0.69      0.23      0.35       918\n",
            "           3       0.50      0.04      0.07      1233\n",
            "           4       0.68      0.50      0.58      7833\n",
            "           5       0.84      0.12      0.21      3489\n",
            "           6       0.73      0.67      0.69      1887\n",
            "           7       0.79      0.51      0.62     12426\n",
            "           8       0.70      0.33      0.45      1554\n",
            "           9       0.66      0.20      0.30      1755\n",
            "          10       0.00      0.00      0.00       306\n",
            "          11       0.46      0.12      0.19      1035\n",
            "          12       0.82      0.41      0.54      2475\n",
            "          13       0.50      0.34      0.41       933\n",
            "          14       0.33      0.05      0.08       759\n",
            "          15       0.66      0.03      0.06      1851\n",
            "          16       0.54      0.11      0.18      4770\n",
            "          17       0.74      0.49      0.59      1758\n",
            "          18       0.20      0.00      0.01       426\n",
            "          19       0.73      0.18      0.29       573\n",
            "          20       0.77      0.15      0.25      4701\n",
            "          21       0.75      0.39      0.51      1203\n",
            "          22       0.83      0.36      0.50       630\n",
            "\n",
            "   micro avg       0.72      0.32      0.45     58110\n",
            "   macro avg       0.62      0.25      0.33     58110\n",
            "weighted avg       0.70      0.32      0.42     58110\n",
            " samples avg       0.60      0.38      0.43     58110\n",
            "\n"
          ]
        },
        {
          "metadata": {
            "tags": null
          },
          "name": "stderr",
          "output_type": "stream",
          "text": [
            "/usr/local/lib/python3.10/dist-packages/sklearn/metrics/_classification.py:1344: UndefinedMetricWarning: Precision and F-score are ill-defined and being set to 0.0 in labels with no predicted samples. Use `zero_division` parameter to control this behavior.\n",
            "  _warn_prf(average, modifier, msg_start, len(result))\n",
            "/usr/local/lib/python3.10/dist-packages/sklearn/metrics/_classification.py:1344: UndefinedMetricWarning: Precision and F-score are ill-defined and being set to 0.0 in samples with no predicted labels. Use `zero_division` parameter to control this behavior.\n",
            "  _warn_prf(average, modifier, msg_start, len(result))\n"
          ]
        },
        {
          "metadata": {
            "tags": null
          },
          "name": "stdout",
          "output_type": "stream",
          "text": [
            "Epoch 7/30, Loss: 0.18621271204801254\n"
          ]
        },
        {
          "metadata": {
            "tags": null
          },
          "name": "stderr",
          "output_type": "stream",
          "text": [
            "/usr/local/lib/python3.10/dist-packages/sklearn/metrics/_classification.py:1344: UndefinedMetricWarning: Precision is ill-defined and being set to 0.0 in labels with no predicted samples. Use `zero_division` parameter to control this behavior.\n",
            "  _warn_prf(average, modifier, msg_start, len(result))\n"
          ]
        },
        {
          "metadata": {
            "tags": null
          },
          "name": "stdout",
          "output_type": "stream",
          "text": [
            "Accuracy: 0.15536179852117793\n",
            "Precision: 0.6655373923366142\n",
            "Recall: 0.28484103895045165\n",
            "F1-Score: 0.3688951384008515\n",
            "              precision    recall  f1-score   support\n",
            "\n",
            "           0       0.63      0.44      0.52      3132\n",
            "           1       0.62      0.30      0.40      2463\n",
            "           2       0.73      0.26      0.39       918\n",
            "           3       0.38      0.00      0.00      1233\n",
            "           4       0.76      0.41      0.53      7833\n",
            "           5       0.75      0.35      0.47      3489\n",
            "           6       0.83      0.52      0.64      1887\n",
            "           7       0.80      0.57      0.66     12426\n",
            "           8       0.68      0.35      0.47      1554\n",
            "           9       0.63      0.21      0.31      1755\n",
            "          10       0.00      0.00      0.00       306\n",
            "          11       0.57      0.03      0.06      1035\n",
            "          12       0.78      0.48      0.60      2475\n",
            "          13       0.62      0.39      0.48       933\n",
            "          14       0.36      0.03      0.06       759\n",
            "          15       0.72      0.03      0.05      1851\n",
            "          16       0.70      0.12      0.20      4770\n",
            "          17       0.79      0.46      0.58      1758\n",
            "          18       1.00      0.00      0.00       426\n",
            "          19       0.80      0.28      0.42       573\n",
            "          20       0.67      0.40      0.50      4701\n",
            "          21       0.76      0.47      0.58      1203\n",
            "          22       0.74      0.45      0.56       630\n",
            "\n",
            "   micro avg       0.74      0.37      0.50     58110\n",
            "   macro avg       0.67      0.28      0.37     58110\n",
            "weighted avg       0.72      0.37      0.47     58110\n",
            " samples avg       0.64      0.42      0.47     58110\n",
            "\n"
          ]
        },
        {
          "metadata": {
            "tags": null
          },
          "name": "stderr",
          "output_type": "stream",
          "text": [
            "/usr/local/lib/python3.10/dist-packages/sklearn/metrics/_classification.py:1344: UndefinedMetricWarning: Precision and F-score are ill-defined and being set to 0.0 in labels with no predicted samples. Use `zero_division` parameter to control this behavior.\n",
            "  _warn_prf(average, modifier, msg_start, len(result))\n",
            "/usr/local/lib/python3.10/dist-packages/sklearn/metrics/_classification.py:1344: UndefinedMetricWarning: Precision and F-score are ill-defined and being set to 0.0 in samples with no predicted labels. Use `zero_division` parameter to control this behavior.\n",
            "  _warn_prf(average, modifier, msg_start, len(result))\n"
          ]
        },
        {
          "metadata": {
            "tags": null
          },
          "name": "stdout",
          "output_type": "stream",
          "text": [
            "Epoch 8/30, Loss: 0.17862372304758745\n",
            "Accuracy: 0.15442150703081592\n",
            "Precision: 0.6658593927176242\n",
            "Recall: 0.2783454566410434\n",
            "F1-Score: 0.36804839101499415\n",
            "              precision    recall  f1-score   support\n",
            "\n",
            "           0       0.61      0.50      0.55      3132\n",
            "           1       0.56      0.41      0.47      2463\n",
            "           2       0.71      0.24      0.36       918\n",
            "           3       0.57      0.01      0.01      1233\n",
            "           4       0.68      0.60      0.64      7833\n",
            "           5       0.75      0.34      0.47      3489\n",
            "           6       0.85      0.46      0.60      1887\n",
            "           7       0.82      0.51      0.63     12426\n",
            "           8       0.74      0.33      0.46      1554\n",
            "           9       0.71      0.18      0.29      1755\n",
            "          10       0.00      0.00      0.00       306\n",
            "          11       0.57      0.09      0.15      1035\n",
            "          12       0.82      0.46      0.59      2475\n",
            "          13       0.74      0.16      0.26       933\n",
            "          14       0.41      0.02      0.04       759\n",
            "          15       0.58      0.10      0.17      1851\n",
            "          16       0.64      0.21      0.31      4770\n",
            "          17       0.85      0.37      0.52      1758\n",
            "          18       0.62      0.01      0.02       426\n",
            "          19       0.76      0.29      0.43       573\n",
            "          20       0.71      0.32      0.44      4701\n",
            "          21       0.78      0.39      0.52      1203\n",
            "          22       0.82      0.40      0.54       630\n",
            "\n",
            "   micro avg       0.73      0.38      0.50     58110\n",
            "   macro avg       0.67      0.28      0.37     58110\n",
            "weighted avg       0.71      0.38      0.48     58110\n",
            " samples avg       0.64      0.43      0.49     58110\n",
            "\n"
          ]
        },
        {
          "metadata": {
            "tags": null
          },
          "name": "stderr",
          "output_type": "stream",
          "text": [
            "/usr/local/lib/python3.10/dist-packages/sklearn/metrics/_classification.py:1344: UndefinedMetricWarning: Precision and F-score are ill-defined and being set to 0.0 in samples with no predicted labels. Use `zero_division` parameter to control this behavior.\n",
            "  _warn_prf(average, modifier, msg_start, len(result))\n"
          ]
        },
        {
          "metadata": {
            "tags": null
          },
          "name": "stdout",
          "output_type": "stream",
          "text": [
            "Epoch 9/30, Loss: 0.16928470377977656\n",
            "Accuracy: 0.16215754156515794\n",
            "Precision: 0.6800347020849699\n",
            "Recall: 0.3035197186996441\n",
            "F1-Score: 0.3885133503524748\n",
            "              precision    recall  f1-score   support\n",
            "\n",
            "           0       0.69      0.36      0.47      3132\n",
            "           1       0.66      0.30      0.41      2463\n",
            "           2       0.77      0.24      0.37       918\n",
            "           3       0.52      0.03      0.05      1233\n",
            "           4       0.65      0.63      0.64      7833\n",
            "           5       0.69      0.45      0.55      3489\n",
            "           6       0.87      0.45      0.60      1887\n",
            "           7       0.75      0.65      0.70     12426\n",
            "           8       0.73      0.31      0.44      1554\n",
            "           9       0.83      0.13      0.22      1755\n",
            "          10       0.43      0.06      0.10       306\n",
            "          11       0.72      0.06      0.12      1035\n",
            "          12       0.88      0.33      0.48      2475\n",
            "          13       0.62      0.39      0.48       933\n",
            "          14       0.37      0.11      0.17       759\n",
            "          15       0.66      0.07      0.12      1851\n",
            "          16       0.62      0.28      0.39      4770\n",
            "          17       0.78      0.44      0.56      1758\n",
            "          18       0.53      0.02      0.04       426\n",
            "          19       0.73      0.35      0.47       573\n",
            "          20       0.75      0.21      0.32      4701\n",
            "          21       0.67      0.58      0.62      1203\n",
            "          22       0.73      0.52      0.61       630\n",
            "\n",
            "   micro avg       0.71      0.42      0.52     58110\n",
            "   macro avg       0.68      0.30      0.39     58110\n",
            "weighted avg       0.71      0.42      0.49     58110\n",
            " samples avg       0.66      0.47      0.51     58110\n",
            "\n"
          ]
        },
        {
          "metadata": {
            "tags": null
          },
          "name": "stderr",
          "output_type": "stream",
          "text": [
            "/usr/local/lib/python3.10/dist-packages/sklearn/metrics/_classification.py:1344: UndefinedMetricWarning: Precision and F-score are ill-defined and being set to 0.0 in samples with no predicted labels. Use `zero_division` parameter to control this behavior.\n",
            "  _warn_prf(average, modifier, msg_start, len(result))\n"
          ]
        },
        {
          "metadata": {
            "tags": null
          },
          "name": "stdout",
          "output_type": "stream",
          "text": [
            "Epoch 10/30, Loss: 0.158401901145122\n",
            "Accuracy: 0.16249946574347138\n",
            "Precision: 0.6594604718642151\n",
            "Recall: 0.2935672087311426\n",
            "F1-Score: 0.37855491812868813\n",
            "              precision    recall  f1-score   support\n",
            "\n",
            "           0       0.75      0.23      0.35      3132\n",
            "           1       0.66      0.27      0.39      2463\n",
            "           2       0.71      0.27      0.40       918\n",
            "           3       0.54      0.09      0.15      1233\n",
            "           4       0.66      0.61      0.63      7833\n",
            "           5       0.77      0.24      0.36      3489\n",
            "           6       0.80      0.58      0.67      1887\n",
            "           7       0.77      0.66      0.71     12426\n",
            "           8       0.68      0.34      0.45      1554\n",
            "           9       0.63      0.21      0.32      1755\n",
            "          10       0.36      0.04      0.07       306\n",
            "          11       0.55      0.10      0.17      1035\n",
            "          12       0.83      0.40      0.54      2475\n",
            "          13       0.68      0.28      0.40       933\n",
            "          14       0.42      0.09      0.15       759\n",
            "          15       0.66      0.03      0.06      1851\n",
            "          16       0.60      0.31      0.41      4770\n",
            "          17       0.83      0.38      0.52      1758\n",
            "          18       0.36      0.01      0.02       426\n",
            "          19       0.74      0.29      0.41       573\n",
            "          20       0.77      0.17      0.27      4701\n",
            "          21       0.61      0.64      0.62      1203\n",
            "          22       0.79      0.50      0.61       630\n",
            "\n",
            "   micro avg       0.71      0.40      0.51     58110\n",
            "   macro avg       0.66      0.29      0.38     58110\n",
            "weighted avg       0.71      0.40      0.48     58110\n",
            " samples avg       0.66      0.46      0.51     58110\n",
            "\n"
          ]
        },
        {
          "metadata": {
            "tags": null
          },
          "name": "stderr",
          "output_type": "stream",
          "text": [
            "/usr/local/lib/python3.10/dist-packages/sklearn/metrics/_classification.py:1344: UndefinedMetricWarning: Precision and F-score are ill-defined and being set to 0.0 in samples with no predicted labels. Use `zero_division` parameter to control this behavior.\n",
            "  _warn_prf(average, modifier, msg_start, len(result))\n"
          ]
        },
        {
          "metadata": {
            "tags": null
          },
          "name": "stdout",
          "output_type": "stream",
          "text": [
            "Epoch 11/30, Loss: 0.14505958274538297\n",
            "Accuracy: 0.15997777492840962\n",
            "Precision: 0.6434594222007504\n",
            "Recall: 0.3029385588413977\n",
            "F1-Score: 0.3752207918116456\n",
            "              precision    recall  f1-score   support\n",
            "\n",
            "           0       0.71      0.26      0.38      3132\n",
            "           1       0.72      0.16      0.26      2463\n",
            "           2       0.82      0.06      0.10       918\n",
            "           3       0.35      0.20      0.25      1233\n",
            "           4       0.73      0.42      0.54      7833\n",
            "           5       0.67      0.45      0.54      3489\n",
            "           6       0.72      0.66      0.69      1887\n",
            "           7       0.68      0.82      0.74     12426\n",
            "           8       0.78      0.22      0.34      1554\n",
            "           9       0.74      0.06      0.11      1755\n",
            "          10       0.26      0.13      0.17       306\n",
            "          11       0.35      0.25      0.29      1035\n",
            "          12       0.86      0.30      0.45      2475\n",
            "          13       0.62      0.37      0.46       933\n",
            "          14       0.43      0.10      0.16       759\n",
            "          15       0.56      0.11      0.18      1851\n",
            "          16       0.57      0.38      0.45      4770\n",
            "          17       0.90      0.25      0.39      1758\n",
            "          18       0.69      0.02      0.04       426\n",
            "          19       0.58      0.47      0.52       573\n",
            "          20       0.70      0.27      0.39      4701\n",
            "          21       0.68      0.51      0.58      1203\n",
            "          22       0.66      0.52      0.58       630\n",
            "\n",
            "   micro avg       0.67      0.42      0.52     58110\n",
            "   macro avg       0.64      0.30      0.38     58110\n",
            "weighted avg       0.68      0.42      0.48     58110\n",
            " samples avg       0.65      0.48      0.52     58110\n",
            "\n"
          ]
        },
        {
          "metadata": {
            "tags": null
          },
          "name": "stderr",
          "output_type": "stream",
          "text": [
            "/usr/local/lib/python3.10/dist-packages/sklearn/metrics/_classification.py:1344: UndefinedMetricWarning: Precision and F-score are ill-defined and being set to 0.0 in samples with no predicted labels. Use `zero_division` parameter to control this behavior.\n",
            "  _warn_prf(average, modifier, msg_start, len(result))\n"
          ]
        }
      ]
    },
    {
      "cell_type": "markdown",
      "source": [
        "# New Section"
      ],
      "metadata": {
        "id": "VWtsIHx6w0T4"
      }
    },
    {
      "cell_type": "code",
      "source": [
        "import torch\n",
        "import torch.nn as nn\n",
        "import torch.optim as optim\n",
        "from torchvision import models\n",
        "\n",
        "device = \"cuda\" if torch.cuda.is_available() else \"cpu\"\n",
        "print(device)\n",
        "\n",
        "save_dir = \"/content/Model/Models-Train-1\"\n",
        "load_path = os.path.join(save_dir, '8_model.pth')\n",
        "\n",
        "\n",
        "model = models.resnet101(pretrained=False)\n",
        "model.fc = nn.Sequential(\n",
        "    nn.Linear(model.fc.in_features, 512),\n",
        "    nn.ReLU(),\n",
        "    nn.Linear(512, len(unique_labels)),\n",
        "    nn.Sigmoid()\n",
        ")\n",
        "model.load_state_dict(torch.load(load_path))\n",
        "model.eval()\n",
        "model.to(device)"
      ],
      "metadata": {
        "id": "n3WA2jmvwinp"
      },
      "execution_count": null,
      "outputs": []
    },
    {
      "cell_type": "code",
      "source": [
        "# Initialize lists to store predicted and ground truth labels\n",
        "predicted_labels = []\n",
        "true_labels = []\n",
        "\n",
        "# Iterate through the test set and make predictions\n",
        "with torch.no_grad():\n",
        "    for inputs, labels in test_loader:\n",
        "        inputs, labels = inputs.to(device), labels.to(device)\n",
        "        outputs = model(inputs)\n",
        "        predicted_labels.extend(outputs.cpu().numpy())\n",
        "        true_labels.extend(labels.cpu().numpy())"
      ],
      "metadata": {
        "id": "2xfv0nHIxEAR"
      },
      "execution_count": null,
      "outputs": []
    },
    {
      "cell_type": "code",
      "source": [
        "predicted_labels[0]"
      ],
      "metadata": {
        "id": "xD6r2Tetx9Ks"
      },
      "execution_count": null,
      "outputs": []
    },
    {
      "cell_type": "code",
      "source": [
        "threshold = 0.5\n",
        "\n",
        "binary_predictions = []\n",
        "\n",
        "for sample_logits in predicted_labels:\n",
        "    binary_sample_predictions = [1 if value >= threshold else 0 for value in sample_logits]\n",
        "    binary_predictions.append(binary_sample_predictions)"
      ],
      "metadata": {
        "id": "cjZ_uU9My8nw"
      },
      "execution_count": null,
      "outputs": []
    },
    {
      "cell_type": "code",
      "source": [
        "binary_predictions[1000]"
      ],
      "metadata": {
        "id": "jpFmDp3KzPwc"
      },
      "execution_count": null,
      "outputs": []
    },
    {
      "cell_type": "code",
      "source": [
        "from sklearn.metrics import accuracy_score, precision_score, recall_score, f1_score, classification_report\n",
        "\n",
        "accuracy = accuracy_score(true_labels, binary_predictions)\n",
        "precision = precision_score(true_labels, binary_predictions, average='macro')\n",
        "recall = recall_score(true_labels, binary_predictions, average='macro')\n",
        "f1 = f1_score(true_labels, binary_predictions, average='macro')\n",
        "\n",
        "print(f\"Accuracy: {accuracy}\")\n",
        "print(f\"Precision: {precision}\")\n",
        "print(f\"Recall: {recall}\")\n",
        "print(f\"F1-Score: {f1}\")\n",
        "print(classification_report(true_labels, binary_predictions))"
      ],
      "metadata": {
        "id": "poAMnH0lximL"
      },
      "execution_count": null,
      "outputs": []
    },
    {
      "cell_type": "code",
      "source": [],
      "metadata": {
        "id": "aibnGr-BxTny"
      },
      "execution_count": null,
      "outputs": []
    }
  ]
}