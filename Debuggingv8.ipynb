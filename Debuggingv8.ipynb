{
  "nbformat": 4,
  "nbformat_minor": 0,
  "metadata": {
    "colab": {
      "provenance": [],
      "gpuType": "T4",
      "include_colab_link": true
    },
    "kernelspec": {
      "name": "python3",
      "display_name": "Python 3"
    },
    "language_info": {
      "name": "python"
    }
  },
  "cells": [
    {
      "cell_type": "markdown",
      "metadata": {
        "id": "view-in-github",
        "colab_type": "text"
      },
      "source": [
        "<a href=\"https://colab.research.google.com/github/MuhammadIrzam447/visionCodes/blob/master/Debuggingv8.ipynb\" target=\"_parent\"><img src=\"https://colab.research.google.com/assets/colab-badge.svg\" alt=\"Open In Colab\"/></a>"
      ]
    },
    {
      "cell_type": "code",
      "source": [
        "# Testing Multi-model performance for _% images and _% text.\n",
        "# Updated Validation Dataset Class, DataLoader and Validation Loop\n",
        "# Uncomment the comments in Validation Dataset, and Custom Collate_fun() to observe data loading process."
      ],
      "metadata": {
        "id": "VhXCwAGe33A1"
      },
      "execution_count": 2,
      "outputs": []
    },
    {
      "cell_type": "code",
      "execution_count": 3,
      "metadata": {
        "id": "ObgVtPmABT7d"
      },
      "outputs": [],
      "source": [
        "from google.colab import drive\n",
        "import pandas as pd\n",
        "import os\n",
        "from PIL import Image\n",
        "import torch\n",
        "from torchvision import datasets, transforms\n",
        "import torchvision.models as models\n",
        "from torchvision.datasets import ImageFolder\n",
        "import torchvision\n",
        "import torch.nn as nn\n",
        "import torch.optim as optim\n",
        "from sklearn.metrics import confusion_matrix\n",
        "from sklearn.metrics import precision_recall_fscore_support\n",
        "from sklearn.metrics import accuracy_score, precision_score, recall_score, f1_score\n",
        "import matplotlib.pyplot as plt\n",
        "import seaborn as sns\n",
        "import numpy as np\n",
        "from PIL import UnidentifiedImageError\n",
        "from sklearn.metrics import classification_report"
      ]
    },
    {
      "cell_type": "code",
      "source": [
        "if torch.cuda.is_available():\n",
        "    device = torch.device(\"cuda\")\n",
        "else:\n",
        "    device = torch.device(\"cpu\")\n",
        "print(device)"
      ],
      "metadata": {
        "id": "pziXvdPgU58B",
        "colab": {
          "base_uri": "https://localhost:8080/"
        },
        "outputId": "203878f3-16c8-47d4-a631-ba14870723e4"
      },
      "execution_count": 4,
      "outputs": [
        {
          "output_type": "stream",
          "name": "stdout",
          "text": [
            "cuda\n"
          ]
        }
      ]
    },
    {
      "cell_type": "markdown",
      "source": [
        "# Loading Validation Dataset and Preprocessing"
      ],
      "metadata": {
        "id": "p3yzu25SYhKf"
      }
    },
    {
      "cell_type": "code",
      "source": [
        "save_dir = '/content/Model/ResNet_MultiModel_v1.0'\n",
        "load_path = os.path.join(save_dir, 'model.pth')\n",
        "\n",
        "resnet = torchvision.models.resnet101(pretrained=False)\n",
        "resnet.fc = nn.Linear(2048, 52)               #  change the output classes to number of classes for your model\n",
        "\n",
        "resnet.load_state_dict(torch.load(load_path))\n",
        "resnet.eval()\n",
        "resnet.to(device)"
      ],
      "metadata": {
        "id": "6gITvuS1n91U"
      },
      "execution_count": null,
      "outputs": []
    },
    {
      "cell_type": "code",
      "source": [
        "val_transform = transforms.Compose([\n",
        "    transforms.Resize((224, 224)),\n",
        "    transforms.ToTensor(),\n",
        "    transforms.Normalize(mean=[0.485, 0.456, 0.406], std=[0.229, 0.224, 0.225])\n",
        "])"
      ],
      "metadata": {
        "id": "4ElOxuNZvqLy"
      },
      "execution_count": 6,
      "outputs": []
    },
    {
      "cell_type": "code",
      "source": [
        "class ValidationDataset(torch.utils.data.Dataset):\n",
        "    def __init__(self, data_dir, val_transform):\n",
        "        self.data_dir = data_dir\n",
        "        self.dataset = datasets.ImageFolder(data_dir)\n",
        "        self.classes = self.dataset.classes\n",
        "        self.val_transform = val_transform\n",
        "\n",
        "        self.selected_indices = []\n",
        "        for class_idx in range(len(self.classes)):\n",
        "            indices = [idx for idx, (_, label) in enumerate(self.dataset.samples) if label == class_idx]\n",
        "            indices_3 = [idx for idx in indices if self.dataset.samples[idx][0].endswith(\"_3.png\")]    # _3.png are the encoded_text images\n",
        "            indices_4 = [idx for idx in indices if self.dataset.samples[idx][0].endswith(\"_4.png\")]    # _4.png are the actual images\n",
        "\n",
        "            self.selected_indices.extend(indices_4)\n",
        "            self.selected_indices.extend(indices_3)\n",
        "        print(\"Selected Indices:\", len(self.selected_indices))\n",
        "        # for idx in self.selected_indices:\n",
        "          # print(self.dataset.samples[idx][0])\n",
        "\n",
        "    def __getitem__(self, index):\n",
        "        # print(\"Entered get_item\")\n",
        "        img, label = self.dataset[self.selected_indices[index]]\n",
        "        filename = self.dataset.samples[self.selected_indices[index]][0]\n",
        "        image_3 = None\n",
        "        image_4 = None\n",
        "        if filename.endswith(\"_4.png\"):\n",
        "                image_4 = img\n",
        "                image_4_path = filename\n",
        "                # print(\"image_4_path: \", str(filename))\n",
        "                image_3_path = filename.replace('_4.png', '_3.png')\n",
        "                # print(\"image_3_path: \", str(image_3_path))\n",
        "                image_3 = self._load_image(image_3_path)\n",
        "        else:\n",
        "                image_3 = img\n",
        "                image_3_path = filename\n",
        "                # print(\"image_3_path: \", str(filename))\n",
        "                image_4_path = filename.replace('_3.png', '_4.png')\n",
        "                # print(\"image_4_path: \", str(image_4_path))\n",
        "                image_4 = self._load_image(image_4_path)\n",
        "\n",
        "        # print(\"Exit get_item\")\n",
        "        return image_3, image_4, label, image_3_path, image_4_path\n",
        "\n",
        "    def _load_image(self, path):\n",
        "        image = Image.open(path)\n",
        "        return image\n",
        "\n",
        "    def __len__(self):\n",
        "        return len(self.selected_indices)"
      ],
      "metadata": {
        "id": "ZEqVuNvcMgvo"
      },
      "execution_count": 7,
      "outputs": []
    },
    {
      "cell_type": "code",
      "source": [
        "valPath = \"/content/Data/mulitmodal_img_enc_txt/images-val\"\n",
        "val_dataset = ValidationDataset(valPath,val_transform)"
      ],
      "metadata": {
        "id": "4UfrxOQ3sCgB",
        "colab": {
          "base_uri": "https://localhost:8080/"
        },
        "outputId": "39102fd5-b63c-49d8-c798-4dbf858ce6d7"
      },
      "execution_count": 8,
      "outputs": [
        {
          "output_type": "stream",
          "name": "stdout",
          "text": [
            "Selected Indices: 43738\n"
          ]
        }
      ]
    },
    {
      "cell_type": "code",
      "source": [
        "def custom_collate(batch):\n",
        "    to_tensor = transforms.ToTensor()\n",
        "    val_transform = transforms.Compose([\n",
        "        transforms.Resize((224, 224)),\n",
        "        transforms.ToTensor(),\n",
        "        transforms.Normalize(mean=[0.485, 0.456, 0.406], std=[0.229, 0.224, 0.225])\n",
        "    ])\n",
        "\n",
        "    images_3 = [val_transform(item[0]) for item in batch]\n",
        "    images_4 = [val_transform(item[1]) for item in batch]\n",
        "    labels = [torch.tensor(item[2]) for item in batch]\n",
        "\n",
        "    images_3 = torch.stack(images_3)\n",
        "    images_4 = torch.stack(images_4)\n",
        "\n",
        "    # # Print the filenames in each list\n",
        "    # print(\"Filenames in images_3 list:\")\n",
        "    # for item in batch:\n",
        "    #     if item[0] is not None:\n",
        "    #         print(item[3])\n",
        "\n",
        "    # print(\"Filenames in images_4 list:\")\n",
        "    # for item in batch:\n",
        "    #     if item[1] is not None:\n",
        "    #         print(item[4])\n",
        "\n",
        "    return images_3, images_4, labels\n"
      ],
      "metadata": {
        "id": "snzYnvozBPgC"
      },
      "execution_count": 9,
      "outputs": []
    },
    {
      "cell_type": "code",
      "source": [
        "batch_size = 12\n",
        "validation_data_loader = torch.utils.data.DataLoader(val_dataset, batch_size=batch_size, shuffle=False, collate_fn=custom_collate)"
      ],
      "metadata": {
        "id": "8e-uQ6lqVhmI"
      },
      "execution_count": 10,
      "outputs": []
    },
    {
      "cell_type": "code",
      "source": [
        "print(\"Number of samples:\", len(val_dataset))\n",
        "print(\"Number of classes:\", len(val_dataset.classes))"
      ],
      "metadata": {
        "id": "oShp-fOcVmYs",
        "colab": {
          "base_uri": "https://localhost:8080/"
        },
        "outputId": "e12674b1-1147-4130-96bc-aec2d56eac2d"
      },
      "execution_count": 11,
      "outputs": [
        {
          "output_type": "stream",
          "name": "stdout",
          "text": [
            "Number of samples: 43738\n",
            "Number of classes: 52\n"
          ]
        }
      ]
    },
    {
      "cell_type": "markdown",
      "source": [
        "# Validation"
      ],
      "metadata": {
        "id": "RbwN0R_b2tMA"
      }
    },
    {
      "cell_type": "code",
      "source": [
        "num_batches = len(validation_data_loader) // 2\n",
        "num_batches_with_logits_3 = int(num_batches * 0.1)  # __% of batches that you want to include\n",
        "print(\"Total Batches: \", num_batches)\n",
        "print(\"Missing Modaility Batches: \", num_batches_with_logits_3)"
      ],
      "metadata": {
        "colab": {
          "base_uri": "https://localhost:8080/"
        },
        "id": "rh9-ga7zvafZ",
        "outputId": "30faae21-88fa-4dc9-b2c7-edd302ba5f2d"
      },
      "execution_count": 12,
      "outputs": [
        {
          "output_type": "stream",
          "name": "stdout",
          "text": [
            "Total Batches:  1822\n",
            "Missing Modaility Batches:  182\n"
          ]
        }
      ]
    },
    {
      "cell_type": "code",
      "source": [
        "resnet.eval()\n",
        "\n",
        "predicted_labels = []\n",
        "true_labels = []\n",
        "\n",
        "batch_idx = 0\n",
        "for images_3, images_4, labels in validation_data_loader:\n",
        "\n",
        "    images_4 = images_4.to(device)\n",
        "    logits_4 = resnet(images_4)\n",
        "\n",
        "    if batch_idx < num_batches_with_logits_3:\n",
        "        images_3 = images_3.to(device)\n",
        "        logits_3 = resnet(images_3)\n",
        "    else:\n",
        "        logits_3 = torch.zeros_like(logits_4)\n",
        "\n",
        "    probabilities_3 = torch.softmax(logits_3, dim=1)\n",
        "    probabilities_4 = torch.softmax(logits_4, dim=1)\n",
        "\n",
        "    avg_probabilities_batch = (probabilities_3 + probabilities_4) / 2\n",
        "\n",
        "    predicted_labels.extend(avg_probabilities_batch.cpu().tolist())\n",
        "    true_labels.extend(labels)\n",
        "    batch_idx += 1"
      ],
      "metadata": {
        "id": "QYxUnUjO7DOa"
      },
      "execution_count": 13,
      "outputs": []
    },
    {
      "cell_type": "code",
      "source": [
        "predicted_classes = torch.argmax(torch.tensor(predicted_labels), dim=1)\n",
        "actual_labels = torch.tensor(true_labels)"
      ],
      "metadata": {
        "id": "9PWM8Xhck2Xy"
      },
      "execution_count": 14,
      "outputs": []
    },
    {
      "cell_type": "code",
      "source": [
        "accuracy = accuracy_score(actual_labels, predicted_classes)\n",
        "precision = precision_score(actual_labels, predicted_classes, average='weighted')\n",
        "recall = recall_score(actual_labels, predicted_classes, average='weighted')\n",
        "f1 = f1_score(actual_labels, predicted_classes, average='weighted')\n",
        "\n",
        "print(\"Accuracy:\", accuracy)\n",
        "print(\"Precision:\", precision)\n",
        "print(\"Recall:\", recall)\n",
        "print(\"F1-score:\", f1)"
      ],
      "metadata": {
        "id": "SiJYzy3heKgR",
        "colab": {
          "base_uri": "https://localhost:8080/"
        },
        "outputId": "64bd9a03-9585-418c-fdb7-7755b98038ce"
      },
      "execution_count": 15,
      "outputs": [
        {
          "output_type": "stream",
          "name": "stdout",
          "text": [
            "Accuracy: 0.9166628560976725\n",
            "Precision: 0.9208892395279766\n",
            "Recall: 0.9166628560976725\n",
            "F1-score: 0.9165293426660227\n"
          ]
        }
      ]
    },
    {
      "cell_type": "code",
      "source": [
        "print(classification_report(actual_labels, predicted_classes))"
      ],
      "metadata": {
        "id": "1PEdbnvj0vPK",
        "colab": {
          "base_uri": "https://localhost:8080/"
        },
        "outputId": "6eb288ae-a8a1-4e20-97cb-aea9918368ae"
      },
      "execution_count": 16,
      "outputs": [
        {
          "output_type": "stream",
          "name": "stdout",
          "text": [
            "              precision    recall  f1-score   support\n",
            "\n",
            "           0       0.31      0.56      0.40       118\n",
            "           1       0.98      0.93      0.95      3758\n",
            "           2       0.97      0.90      0.93       690\n",
            "           3       0.96      0.92      0.94        96\n",
            "           4       0.97      0.96      0.97       264\n",
            "           5       0.88      0.75      0.81       352\n",
            "           6       0.93      0.99      0.96      2138\n",
            "           7       0.89      0.97      0.93       296\n",
            "           8       0.97      0.89      0.93      1326\n",
            "           9       0.95      0.99      0.97      1284\n",
            "          10       0.84      0.94      0.89       272\n",
            "          11       0.94      0.89      0.91        70\n",
            "          12       0.85      0.87      0.86       224\n",
            "          13       0.92      0.94      0.93      1684\n",
            "          14       0.97      0.98      0.98      3110\n",
            "          15       0.66      0.81      0.73        72\n",
            "          16       0.81      0.86      0.83       102\n",
            "          17       0.80      0.88      0.84       412\n",
            "          18       0.92      0.95      0.93       118\n",
            "          19       0.42      0.70      0.52        86\n",
            "          20       0.97      0.91      0.94        66\n",
            "          21       0.83      0.75      0.79      3852\n",
            "          22       0.93      0.77      0.84       562\n",
            "          23       0.99      0.99      0.99      1268\n",
            "          24       0.88      0.91      0.90       540\n",
            "          25       0.86      0.88      0.87       392\n",
            "          26       0.95      0.96      0.95       900\n",
            "          27       0.95      0.94      0.94      1394\n",
            "          28       0.96      0.98      0.97      1390\n",
            "          29       0.82      0.92      0.87       292\n",
            "          30       0.87      0.91      0.89       170\n",
            "          31       0.85      0.76      0.81       662\n",
            "          32       0.60      0.91      0.72       108\n",
            "          33       0.77      0.96      0.86      2392\n",
            "          34       0.71      0.95      0.81       146\n",
            "          35       0.91      0.86      0.89       296\n",
            "          36       0.90      0.95      0.92       476\n",
            "          37       0.96      0.93      0.94       292\n",
            "          38       0.98      0.99      0.98       284\n",
            "          39       1.00      0.99      1.00       654\n",
            "          40       0.94      0.67      0.78       406\n",
            "          41       0.99      0.85      0.92      1044\n",
            "          42       0.86      0.92      0.89       314\n",
            "          43       0.98      0.99      0.99      2704\n",
            "          44       0.89      0.93      0.91       508\n",
            "          45       0.89      0.84      0.86        74\n",
            "          46       0.78      0.91      0.84       160\n",
            "          47       0.81      0.80      0.81       232\n",
            "          48       0.91      0.80      0.85       758\n",
            "          49       0.76      0.46      0.57       318\n",
            "          50       0.93      0.93      0.93       212\n",
            "          51       0.97      0.99      0.98      4400\n",
            "\n",
            "    accuracy                           0.92     43738\n",
            "   macro avg       0.87      0.88      0.87     43738\n",
            "weighted avg       0.92      0.92      0.92     43738\n",
            "\n"
          ]
        }
      ]
    },
    {
      "cell_type": "code",
      "source": [
        "labels = ['Accuracy', 'Precision', 'Recall', 'F1-score']\n",
        "values = [accuracy, precision, recall, f1]\n",
        "\n",
        "x = np.arange(len(labels))\n",
        "\n",
        "fig, ax = plt.subplots(figsize=(5, 4))\n",
        "bars = ax.bar(x, values)\n",
        "\n",
        "ax.set_xlabel('Metrics')\n",
        "ax.set_ylabel('Score')\n",
        "ax.set_title('Model Performance Metrics')\n",
        "ax.set_xticks(x)\n",
        "ax.set_xticklabels(labels)\n",
        "\n",
        "for i, bar in enumerate(bars):\n",
        "    score = values[i]\n",
        "    ax.text(bar.get_x() + bar.get_width() / 2, bar.get_height(), f'{score:.2f}', ha='center', va='bottom')\n",
        "\n",
        "plt.show()"
      ],
      "metadata": {
        "id": "xSO-PViWdHwB",
        "colab": {
          "base_uri": "https://localhost:8080/",
          "height": 410
        },
        "outputId": "ba180190-70b4-47c0-e901-b10a88963fe9"
      },
      "execution_count": 17,
      "outputs": [
        {
          "output_type": "display_data",
          "data": {
            "text/plain": [
              "<Figure size 500x400 with 1 Axes>"
            ],
            "image/png": "[encoded data removed]"
          },
          "metadata": {}
        }
      ]
    },
    {
      "cell_type": "code",
      "source": [
        "# Count the occurrences of each label in predicted and true labels\n",
        "predicted_counts = np.bincount(predicted_classes)\n",
        "true_counts = np.bincount(actual_labels)\n",
        "\n",
        "# Get the unique labels\n",
        "labels = np.unique(np.concatenate((predicted_classes, actual_labels)))\n",
        "\n",
        "# Set the x-axis range\n",
        "x = np.arange(len(labels))\n",
        "\n",
        "# Set the width of the bars\n",
        "width = 0.35\n",
        "\n",
        "# Plot the predicted and true label counts\n",
        "fig, ax = plt.subplots(figsize=(20, 8))\n",
        "ax.bar(x - width/2, predicted_counts, width, label='Predicted Labels')\n",
        "ax.bar(x + width/2, true_counts, width, label='True Labels')\n",
        "\n",
        "# Add labels, title, and legend\n",
        "ax.set_xlabel('Labels')\n",
        "ax.set_ylabel('Count')\n",
        "ax.set_title('Distribution of Predicted and True Labels')\n",
        "ax.set_xticks(x)\n",
        "ax.set_xticklabels(labels)\n",
        "ax.legend()\n",
        "\n",
        "plt.show()"
      ],
      "metadata": {
        "id": "55bbdFyXajU8",
        "colab": {
          "base_uri": "https://localhost:8080/",
          "height": 323
        },
        "outputId": "7588789f-e945-463d-e083-6b14e76d4ccd"
      },
      "execution_count": 18,
      "outputs": [
        {
          "output_type": "display_data",
          "data": {
            "text/plain": [
              "<Figure size 2000x800 with 1 Axes>"
            ],
            "image/png": "[encoded data removed]"
          },
          "metadata": {}
        }
      ]
    }
  ]
}