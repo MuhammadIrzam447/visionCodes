{
  "nbformat": 4,
  "nbformat_minor": 0,
  "metadata": {
    "colab": {
      "provenance": [],
      "gpuType": "T4",
      "collapsed_sections": [
        "4GQRp3F5Hbob",
        "00vlqtj_0TXq",
        "vsW7ms9iFQIi",
        "GZDNW0tS225-",
        "oA19HxxWkW78"
      ],
      "include_colab_link": true
    },
    "kernelspec": {
      "name": "python3",
      "display_name": "Python 3"
    },
    "language_info": {
      "name": "python"
    },
    "accelerator": "GPU"
  },
  "cells": [
    {
      "cell_type": "markdown",
      "metadata": {
        "id": "view-in-github",
        "colab_type": "text"
      },
      "source": [
        "<a href=\"https://colab.research.google.com/github/MuhammadIrzam447/visionCodes/blob/master/Fused_Representation_Hateful_Meme_ResNet_101.ipynb\" target=\"_parent\"><img src=\"https://colab.research.google.com/assets/colab-badge.svg\" alt=\"Open In Colab\"/></a>"
      ]
    },
    {
      "cell_type": "code",
      "source": [
        "# Fused Hateful Memes"
      ],
      "metadata": {
        "id": "QJDKRUehNtnz"
      },
      "execution_count": null,
      "outputs": []
    },
    {
      "cell_type": "code",
      "execution_count": 1,
      "metadata": {
        "id": "ObgVtPmABT7d"
      },
      "outputs": [],
      "source": [
        "from google.colab import drive\n",
        "import pandas as pd\n",
        "import os\n",
        "from PIL import Image\n",
        "import torch\n",
        "import torchvision\n",
        "from torchvision import datasets, transforms\n",
        "import torchvision.models as models\n",
        "from torchvision.datasets import ImageFolder\n",
        "import torch.nn as nn\n",
        "import torch.optim as optim\n",
        "from sklearn.metrics import confusion_matrix\n",
        "from sklearn.metrics import precision_recall_fscore_support\n",
        "from sklearn.metrics import accuracy_score, precision_score, recall_score, f1_score\n",
        "import matplotlib.pyplot as plt\n",
        "import seaborn as sns\n",
        "import numpy as np\n",
        "from PIL import UnidentifiedImageError\n",
        "from sklearn.metrics import classification_report"
      ]
    },
    {
      "cell_type": "code",
      "source": [
        "if torch.cuda.is_available():\n",
        "    device = torch.device(\"cuda\")\n",
        "else:\n",
        "    device = torch.device(\"cpu\")\n",
        "print(device)"
      ],
      "metadata": {
        "id": "pziXvdPgU58B",
        "colab": {
          "base_uri": "https://localhost:8080/"
        },
        "outputId": "278df959-9aeb-411d-def6-7c88abbc18f4"
      },
      "execution_count": 2,
      "outputs": [
        {
          "output_type": "stream",
          "name": "stdout",
          "text": [
            "cuda\n"
          ]
        }
      ]
    },
    {
      "cell_type": "markdown",
      "source": [
        "# Extract Images"
      ],
      "metadata": {
        "id": "4GQRp3F5Hbob"
      }
    },
    {
      "cell_type": "code",
      "source": [
        "from google.colab import drive\n",
        "drive.mount('/content/drive')"
      ],
      "metadata": {
        "id": "4hnk9GAuv-P_",
        "colab": {
          "base_uri": "https://localhost:8080/"
        },
        "outputId": "074a15ca-c0db-4305-8afb-d9d37f1dc76f"
      },
      "execution_count": 3,
      "outputs": [
        {
          "output_type": "stream",
          "name": "stdout",
          "text": [
            "Mounted at /content/drive\n"
          ]
        }
      ]
    },
    {
      "cell_type": "code",
      "source": [
        "# !gdown https://drive.google.com/uc?id=1wk0MzM3S6UKGxzEfGcmvDzHTefuUAJ_K"
      ],
      "metadata": {
        "id": "lRQ_uq7DjxXW"
      },
      "execution_count": null,
      "outputs": []
    },
    {
      "cell_type": "code",
      "source": [
        "# import zipfile\n",
        "\n",
        "# zip_path = '/content/drive/MyDrive/Colab Notebooks/Hateful-Memes/fused_representations.zip'\n",
        "# extract_path = '/content/drive/MyDrive/Colab Notebooks/Hateful-Memes/'"
      ],
      "metadata": {
        "id": "LYN5wuU978zX"
      },
      "execution_count": 4,
      "outputs": []
    },
    {
      "cell_type": "code",
      "source": [
        "# with zipfile.ZipFile(zip_path, 'r') as zip_ref:\n",
        "#     zip_ref.extractall(extract_path)"
      ],
      "metadata": {
        "id": "AxYBrsrO8GuY"
      },
      "execution_count": 5,
      "outputs": []
    },
    {
      "cell_type": "code",
      "source": [
        "# path = \"/content/multi_model-images-val.rar\""
      ],
      "metadata": {
        "id": "gtQe0cIKkBfo"
      },
      "execution_count": null,
      "outputs": []
    },
    {
      "cell_type": "code",
      "source": [
        "# patoolib.extract_archive(path, outdir=\"/content/Data/\" )"
      ],
      "metadata": {
        "id": "VBbqUxL_j9hM"
      },
      "execution_count": null,
      "outputs": []
    },
    {
      "cell_type": "markdown",
      "source": [
        "# Loading Training Dataset and Preprocessing"
      ],
      "metadata": {
        "id": "00vlqtj_0TXq"
      }
    },
    {
      "cell_type": "code",
      "source": [
        "transform = transforms.Compose([\n",
        "    transforms.Resize((224, 224)),\n",
        "    transforms.ToTensor(),\n",
        "    transforms.Normalize(mean=[0.485, 0.456, 0.406], std=[0.229, 0.224, 0.225])\n",
        "])"
      ],
      "metadata": {
        "id": "11gcKFPXGx4H"
      },
      "execution_count": 6,
      "outputs": []
    },
    {
      "cell_type": "code",
      "source": [
        "class TrainingDataset(torch.utils.data.Dataset):\n",
        "    def __init__(self, data_dir):\n",
        "        self.data_dir = data_dir\n",
        "        self.dataset = datasets.ImageFolder(data_dir, transform=transform)\n",
        "        self.classes = sorted(os.listdir(data_dir))\n",
        "        self.class_lengths = self._compute_class_lengths()\n",
        "        self.num_classes = len(self.dataset.classes)\n",
        "\n",
        "    def _compute_class_lengths(self):\n",
        "        class_lengths = {cls: 0 for cls in self.classes}\n",
        "\n",
        "        for cls in self.classes:\n",
        "            cls_dir = os.path.join(self.data_dir, cls)\n",
        "            if os.path.isdir(cls_dir):\n",
        "                class_lengths[cls] = len(os.listdir(cls_dir))\n",
        "\n",
        "        return class_lengths\n",
        "\n",
        "    def __getitem__(self, index):\n",
        "        image, label = self.dataset[index]\n",
        "        return image, label\n",
        "\n",
        "    # def __getitem__(self, index):\n",
        "    #     while True:\n",
        "    #         try:\n",
        "    #             image, label = self.dataset[index]\n",
        "    #             return image, label\n",
        "    #         except (UnidentifiedImageError, FileNotFoundError) as e:\n",
        "    #             print(f\"Error loading image at index {index}: {e}\")\n",
        "    #             index += 1\n",
        "\n",
        "    def __len__(self):\n",
        "        return len(self.dataset)\n",
        "\n",
        "    def get_num_classes(self):\n",
        "        return self.num_classes"
      ],
      "metadata": {
        "id": "SxiZcLMwIdP2"
      },
      "execution_count": 7,
      "outputs": []
    },
    {
      "cell_type": "code",
      "source": [
        "data_dir = \"/content/drive/MyDrive/Colab Notebooks/Hateful-Memes/mulitmodal/train\"\n",
        "dataset = TrainingDataset(data_dir)"
      ],
      "metadata": {
        "id": "2vHn670_GyKc"
      },
      "execution_count": 8,
      "outputs": []
    },
    {
      "cell_type": "code",
      "source": [
        "print(\"Number of samples:\", len(dataset))\n",
        "print(\"Number of classes:\", len(dataset.classes))"
      ],
      "metadata": {
        "id": "S9kouQGoUpJN",
        "colab": {
          "base_uri": "https://localhost:8080/"
        },
        "outputId": "594997fb-ee26-4fb0-f7ef-70cfb65579da"
      },
      "execution_count": 9,
      "outputs": [
        {
          "output_type": "stream",
          "name": "stdout",
          "text": [
            "Number of samples: 25500\n",
            "Number of classes: 2\n"
          ]
        }
      ]
    },
    {
      "cell_type": "code",
      "source": [
        "batch_size = 32\n",
        "num_workers = 2\n",
        "data_loader = torch.utils.data.DataLoader(dataset, batch_size=batch_size, shuffle=True, num_workers=num_workers)"
      ],
      "metadata": {
        "id": "Cs0LSvvPGyTZ"
      },
      "execution_count": 10,
      "outputs": []
    },
    {
      "cell_type": "markdown",
      "source": [
        "# EDA"
      ],
      "metadata": {
        "id": "vsW7ms9iFQIi"
      }
    },
    {
      "cell_type": "code",
      "source": [
        "class_length = dataset.class_lengths\n",
        "class_labels = list(class_length.keys())"
      ],
      "metadata": {
        "id": "VtJYA2vJ_lzb"
      },
      "execution_count": null,
      "outputs": []
    },
    {
      "cell_type": "code",
      "source": [
        "from torchvision.transforms import ToPILImage\n",
        "\n",
        "def plot_sample_images(dataset):\n",
        "\n",
        "\n",
        "    # Create a grid layout based on the number of classes\n",
        "    num_classes = len(class_length)\n",
        "    grid_cols = 4  # Number of columns in the grid\n",
        "    grid_rows = (num_classes + grid_cols - 1) // grid_cols  # Number of rows in the grid\n",
        "    plt.figure(figsize=(10, 5 * grid_rows))\n",
        "\n",
        "    # Create a transform to convert the tensor to PIL Image\n",
        "    to_pil = ToPILImage()\n",
        "\n",
        "    # Iterate over each class\n",
        "    for i, class_label in enumerate(class_labels):\n",
        "        # Get a random image index from the class\n",
        "        image_index = np.random.choice(class_length[class_label])\n",
        "\n",
        "        # Get the image and label from the dataset\n",
        "        image, label = dataset[image_index]\n",
        "\n",
        "        # Convert the image tensor to PIL Image\n",
        "        image = to_pil(image)\n",
        "\n",
        "        # Plot the image\n",
        "        plt.subplot(grid_rows, grid_cols, i + 1)\n",
        "        plt.imshow(image, interpolation='none')  # Use 'RGB' interpolation\n",
        "        plt.title(class_label)\n",
        "        plt.axis('off')\n",
        "\n",
        "    plt.tight_layout()\n",
        "    plt.show()\n"
      ],
      "metadata": {
        "id": "mM85nfZA_4KL"
      },
      "execution_count": null,
      "outputs": []
    },
    {
      "cell_type": "code",
      "source": [
        "plot_sample_images(dataset)"
      ],
      "metadata": {
        "id": "vmHEUpE2AlP_"
      },
      "execution_count": null,
      "outputs": []
    },
    {
      "cell_type": "code",
      "source": [
        "class_lengths_dict = dataset.class_lengths\n",
        "total_sum = sum(class_lengths_dict.values())\n",
        "dict_length = len(class_lengths_dict)\n",
        "\n",
        "# Print the length\n",
        "print(\"Dictionary length:\", dict_length)\n",
        "# Print the total sum\n",
        "print(\"Total sum:\", total_sum)\n",
        "print(class_lengths_dict.values())"
      ],
      "metadata": {
        "id": "g-0uV8a5pPvX",
        "colab": {
          "base_uri": "https://localhost:8080/"
        },
        "outputId": "04b9be68-853e-4140-900f-c8516d6eb068"
      },
      "execution_count": 11,
      "outputs": [
        {
          "output_type": "stream",
          "name": "stdout",
          "text": [
            "Dictionary length: 2\n",
            "Total sum: 25500\n",
            "dict_values([16350, 9150])\n"
          ]
        }
      ]
    },
    {
      "cell_type": "code",
      "source": [
        "# Extract class labels and counts from the dictionary\n",
        "class_labels = list(class_lengths_dict.keys())\n",
        "class_counts = list(class_lengths_dict.values())\n",
        "\n",
        "# Create a count plot\n",
        "plt.figure(figsize=(4, 5))\n",
        "sns.barplot(x=class_labels, y=class_counts)\n",
        "plt.xticks(rotation=90)\n",
        "plt.xlabel('Class')\n",
        "plt.ylabel('Number of samples')\n",
        "plt.title('Count of Instances in Each Class')\n",
        "plt.show()"
      ],
      "metadata": {
        "id": "-hU1isiYpR8g",
        "colab": {
          "base_uri": "https://localhost:8080/",
          "height": 482
        },
        "outputId": "22541db8-adc3-482e-a093-d85832cfdd05"
      },
      "execution_count": 12,
      "outputs": [
        {
          "output_type": "display_data",
          "data": {
            "text/plain": [
              "<Figure size 400x500 with 1 Axes>"
            ],
            "image/png": "[encoded data removed]"
          },
          "metadata": {}
        }
      ]
    },
    {
      "cell_type": "markdown",
      "source": [
        "# Loading ResNet-101"
      ],
      "metadata": {
        "id": "GZDNW0tS225-"
      }
    },
    {
      "cell_type": "code",
      "source": [
        "num_classes = dataset.get_num_classes()\n",
        "print(\"Number of classes:\", num_classes)"
      ],
      "metadata": {
        "id": "EH_KW2uuWpXi",
        "colab": {
          "base_uri": "https://localhost:8080/"
        },
        "outputId": "98e6e3ce-fcc5-49ec-b9fb-4f3f4d955328"
      },
      "execution_count": 13,
      "outputs": [
        {
          "output_type": "stream",
          "name": "stdout",
          "text": [
            "Number of classes: 2\n"
          ]
        }
      ]
    },
    {
      "cell_type": "code",
      "source": [
        "resnet = torchvision.models.resnet101(pretrained=True)\n",
        "num_features = resnet.fc.in_features\n",
        "resnet.fc = nn.Linear(num_features, num_classes)  # num_classes is the number of classes in your dataset\n",
        "resnet.to(device)\n",
        "print(resnet)"
      ],
      "metadata": {
        "id": "iFFVJbgHN5b-"
      },
      "execution_count": null,
      "outputs": []
    },
    {
      "cell_type": "markdown",
      "source": [
        "# Fine Tuning"
      ],
      "metadata": {
        "id": "tH3B0YYuXbh3"
      }
    },
    {
      "cell_type": "code",
      "source": [
        "criterion = nn.CrossEntropyLoss()\n",
        "optimizer = optim.SGD(resnet.parameters(), lr=0.001, momentum=0.9)\n",
        "num_epochs = 30"
      ],
      "metadata": {
        "id": "-16XvcH9OXyc"
      },
      "execution_count": 15,
      "outputs": []
    },
    {
      "cell_type": "code",
      "source": [
        "training_loss = []\n",
        "resnet.train()\n",
        "\n",
        "for epoch in range(num_epochs):\n",
        "    # Set the model to training mode\n",
        "    running_loss = 0.0\n",
        "\n",
        "    # Iterate over the data loader\n",
        "    for images, labels in data_loader:\n",
        "        # Move the images and labels to the GPU if available\n",
        "        images = images.to(device)\n",
        "        labels = labels.to(device)\n",
        "\n",
        "        # Clear the gradients\n",
        "        optimizer.zero_grad()\n",
        "\n",
        "        # Forward pass\n",
        "        outputs = resnet(images)\n",
        "\n",
        "        # Compute the loss\n",
        "        loss = criterion(outputs, labels)\n",
        "\n",
        "        # Backward pass and optimization\n",
        "        loss.backward()\n",
        "        optimizer.step()\n",
        "\n",
        "        # Update the running loss\n",
        "        running_loss += loss.item() * images.size(0)\n",
        "\n",
        "    # Calculate the average loss for the epoch\n",
        "    epoch_loss = running_loss / len(data_loader.dataset)\n",
        "    training_loss.append(epoch_loss)\n",
        "    # Print the epoch loss\n",
        "    print(f\"Epoch {epoch+1}/{num_epochs} Loss: {epoch_loss:.4f}\")"
      ],
      "metadata": {
        "id": "nkOQcQCnGygk",
        "outputId": "51232ef8-46ca-441a-916d-b21da8cc3b77",
        "colab": {
          "base_uri": "https://localhost:8080/"
        }
      },
      "execution_count": 16,
      "outputs": [
        {
          "output_type": "stream",
          "name": "stdout",
          "text": [
            "Epoch 1/30 Loss: 0.6037\n",
            "Epoch 2/30 Loss: 0.4322\n",
            "Epoch 3/30 Loss: 0.2586\n",
            "Epoch 4/30 Loss: 0.1754\n",
            "Epoch 5/30 Loss: 0.1329\n",
            "Epoch 6/30 Loss: 0.1038\n",
            "Epoch 7/30 Loss: 0.0818\n",
            "Epoch 8/30 Loss: 0.0679\n",
            "Epoch 9/30 Loss: 0.0563\n",
            "Epoch 10/30 Loss: 0.0551\n",
            "Epoch 11/30 Loss: 0.0434\n",
            "Epoch 12/30 Loss: 0.0421\n",
            "Epoch 13/30 Loss: 0.0364\n",
            "Epoch 14/30 Loss: 0.0300\n",
            "Epoch 15/30 Loss: 0.0226\n",
            "Epoch 16/30 Loss: 0.0219\n",
            "Epoch 17/30 Loss: 0.0215\n",
            "Epoch 18/30 Loss: 0.0162\n",
            "Epoch 19/30 Loss: 0.0165\n",
            "Epoch 20/30 Loss: 0.0203\n",
            "Epoch 21/30 Loss: 0.0246\n",
            "Epoch 22/30 Loss: 0.0224\n",
            "Epoch 23/30 Loss: 0.0155\n",
            "Epoch 24/30 Loss: 0.0162\n",
            "Epoch 25/30 Loss: 0.0107\n",
            "Epoch 26/30 Loss: 0.0109\n",
            "Epoch 27/30 Loss: 0.0135\n",
            "Epoch 28/30 Loss: 0.0195\n",
            "Epoch 29/30 Loss: 0.0116\n",
            "Epoch 30/30 Loss: 0.0101\n"
          ]
        }
      ]
    },
    {
      "cell_type": "code",
      "source": [
        "# Plot the loss curve\n",
        "plt.plot(range(1, num_epochs+1), training_loss)\n",
        "plt.xlabel('Epoch')\n",
        "plt.ylabel('Loss')\n",
        "plt.title('Training Loss Curve')\n",
        "plt.grid(True)\n",
        "plt.show()"
      ],
      "metadata": {
        "id": "uBQm6WUy2Mas",
        "colab": {
          "base_uri": "https://localhost:8080/",
          "height": 472
        },
        "outputId": "64560530-cd4e-42c1-c81e-53c4278dd604"
      },
      "execution_count": 17,
      "outputs": [
        {
          "output_type": "display_data",
          "data": {
            "text/plain": [
              "<Figure size 640x480 with 1 Axes>"
            ],
            "image/png": "[encoded data removed]"
          },
          "metadata": {}
        }
      ]
    },
    {
      "cell_type": "markdown",
      "source": [
        "# Save Model"
      ],
      "metadata": {
        "id": "oA19HxxWkW78"
      }
    },
    {
      "cell_type": "code",
      "source": [
        "save_dir = \"/content/drive/MyDrive/Colab Notebooks/Hateful-Memes/Fused_ResNetmodel_Hatefull\"\n",
        "os.makedirs(save_dir, exist_ok=True)  # Create the directory if it doesn't exist\n",
        "\n",
        "save_path = os.path.join(save_dir, 'model.pth')  # Specify the complete path to the model file\n",
        "torch.save(resnet.state_dict(), save_path)"
      ],
      "metadata": {
        "id": "1FazLt0enBFs"
      },
      "execution_count": 18,
      "outputs": []
    },
    {
      "cell_type": "code",
      "source": [],
      "metadata": {
        "id": "sSOfhkuLIZPg"
      },
      "execution_count": null,
      "outputs": []
    }
  ]
}