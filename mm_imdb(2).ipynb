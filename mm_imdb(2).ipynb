{
  "nbformat": 4,
  "nbformat_minor": 0,
  "metadata": {
    "colab": {
      "provenance": [],
      "gpuType": "T4",
      "include_colab_link": true
    },
    "kernelspec": {
      "name": "python3",
      "display_name": "Python 3"
    },
    "language_info": {
      "name": "python"
    },
    "accelerator": "GPU",
    "widgets": {
      "application/vnd.jupyter.widget-state+json": {
        "118056f907b148a7a0c74c2c2c1af01a": {
          "model_module": "@jupyter-widgets/controls",
          "model_name": "HBoxModel",
          "model_module_version": "1.5.0",
          "state": {
            "_dom_classes": [],
            "_model_module": "@jupyter-widgets/controls",
            "_model_module_version": "1.5.0",
            "_model_name": "HBoxModel",
            "_view_count": null,
            "_view_module": "@jupyter-widgets/controls",
            "_view_module_version": "1.5.0",
            "_view_name": "HBoxView",
            "box_style": "",
            "children": [
              "IPY_MODEL_529d404a14c84789b95bffd2328f3a3b",
              "IPY_MODEL_4fde0eaaabe94f6a804f29db73467fe7",
              "IPY_MODEL_b7c214aa11a34f6793c0ef4e17ef43b6"
            ],
            "layout": "IPY_MODEL_902916784ce6460f96e0cf11261993d6"
          }
        },
        "529d404a14c84789b95bffd2328f3a3b": {
          "model_module": "@jupyter-widgets/controls",
          "model_name": "HTMLModel",
          "model_module_version": "1.5.0",
          "state": {
            "_dom_classes": [],
            "_model_module": "@jupyter-widgets/controls",
            "_model_module_version": "1.5.0",
            "_model_name": "HTMLModel",
            "_view_count": null,
            "_view_module": "@jupyter-widgets/controls",
            "_view_module_version": "1.5.0",
            "_view_name": "HTMLView",
            "description": "",
            "description_tooltip": null,
            "layout": "IPY_MODEL_8229f0ab4cf046fa8e54561f53e48a3f",
            "placeholder": "​",
            "style": "IPY_MODEL_222b007956e0424a85e4a70650b5e49d",
            "value": "Filter: 100%"
          }
        },
        "4fde0eaaabe94f6a804f29db73467fe7": {
          "model_module": "@jupyter-widgets/controls",
          "model_name": "FloatProgressModel",
          "model_module_version": "1.5.0",
          "state": {
            "_dom_classes": [],
            "_model_module": "@jupyter-widgets/controls",
            "_model_module_version": "1.5.0",
            "_model_name": "FloatProgressModel",
            "_view_count": null,
            "_view_module": "@jupyter-widgets/controls",
            "_view_module_version": "1.5.0",
            "_view_name": "ProgressView",
            "bar_style": "success",
            "description": "",
            "description_tooltip": null,
            "layout": "IPY_MODEL_0f809f9f555b49e4a6d6c77d4ef088d3",
            "max": 23397,
            "min": 0,
            "orientation": "horizontal",
            "style": "IPY_MODEL_0b1ed09f89e64bb2913fe968a6eb7ad9",
            "value": 23397
          }
        },
        "b7c214aa11a34f6793c0ef4e17ef43b6": {
          "model_module": "@jupyter-widgets/controls",
          "model_name": "HTMLModel",
          "model_module_version": "1.5.0",
          "state": {
            "_dom_classes": [],
            "_model_module": "@jupyter-widgets/controls",
            "_model_module_version": "1.5.0",
            "_model_name": "HTMLModel",
            "_view_count": null,
            "_view_module": "@jupyter-widgets/controls",
            "_view_module_version": "1.5.0",
            "_view_name": "HTMLView",
            "description": "",
            "description_tooltip": null,
            "layout": "IPY_MODEL_c68fa3e634be46779cbcd067b83258d8",
            "placeholder": "​",
            "style": "IPY_MODEL_7ad56f47bc0f424eb052f204381c2905",
            "value": " 23397/23397 [00:00&lt;00:00, 59653.82 examples/s]"
          }
        },
        "902916784ce6460f96e0cf11261993d6": {
          "model_module": "@jupyter-widgets/base",
          "model_name": "LayoutModel",
          "model_module_version": "1.2.0",
          "state": {
            "_model_module": "@jupyter-widgets/base",
            "_model_module_version": "1.2.0",
            "_model_name": "LayoutModel",
            "_view_count": null,
            "_view_module": "@jupyter-widgets/base",
            "_view_module_version": "1.2.0",
            "_view_name": "LayoutView",
            "align_content": null,
            "align_items": null,
            "align_self": null,
            "border": null,
            "bottom": null,
            "display": null,
            "flex": null,
            "flex_flow": null,
            "grid_area": null,
            "grid_auto_columns": null,
            "grid_auto_flow": null,
            "grid_auto_rows": null,
            "grid_column": null,
            "grid_gap": null,
            "grid_row": null,
            "grid_template_areas": null,
            "grid_template_columns": null,
            "grid_template_rows": null,
            "height": null,
            "justify_content": null,
            "justify_items": null,
            "left": null,
            "margin": null,
            "max_height": null,
            "max_width": null,
            "min_height": null,
            "min_width": null,
            "object_fit": null,
            "object_position": null,
            "order": null,
            "overflow": null,
            "overflow_x": null,
            "overflow_y": null,
            "padding": null,
            "right": null,
            "top": null,
            "visibility": null,
            "width": null
          }
        },
        "8229f0ab4cf046fa8e54561f53e48a3f": {
          "model_module": "@jupyter-widgets/base",
          "model_name": "LayoutModel",
          "model_module_version": "1.2.0",
          "state": {
            "_model_module": "@jupyter-widgets/base",
            "_model_module_version": "1.2.0",
            "_model_name": "LayoutModel",
            "_view_count": null,
            "_view_module": "@jupyter-widgets/base",
            "_view_module_version": "1.2.0",
            "_view_name": "LayoutView",
            "align_content": null,
            "align_items": null,
            "align_self": null,
            "border": null,
            "bottom": null,
            "display": null,
            "flex": null,
            "flex_flow": null,
            "grid_area": null,
            "grid_auto_columns": null,
            "grid_auto_flow": null,
            "grid_auto_rows": null,
            "grid_column": null,
            "grid_gap": null,
            "grid_row": null,
            "grid_template_areas": null,
            "grid_template_columns": null,
            "grid_template_rows": null,
            "height": null,
            "justify_content": null,
            "justify_items": null,
            "left": null,
            "margin": null,
            "max_height": null,
            "max_width": null,
            "min_height": null,
            "min_width": null,
            "object_fit": null,
            "object_position": null,
            "order": null,
            "overflow": null,
            "overflow_x": null,
            "overflow_y": null,
            "padding": null,
            "right": null,
            "top": null,
            "visibility": null,
            "width": null
          }
        },
        "222b007956e0424a85e4a70650b5e49d": {
          "model_module": "@jupyter-widgets/controls",
          "model_name": "DescriptionStyleModel",
          "model_module_version": "1.5.0",
          "state": {
            "_model_module": "@jupyter-widgets/controls",
            "_model_module_version": "1.5.0",
            "_model_name": "DescriptionStyleModel",
            "_view_count": null,
            "_view_module": "@jupyter-widgets/base",
            "_view_module_version": "1.2.0",
            "_view_name": "StyleView",
            "description_width": ""
          }
        },
        "0f809f9f555b49e4a6d6c77d4ef088d3": {
          "model_module": "@jupyter-widgets/base",
          "model_name": "LayoutModel",
          "model_module_version": "1.2.0",
          "state": {
            "_model_module": "@jupyter-widgets/base",
            "_model_module_version": "1.2.0",
            "_model_name": "LayoutModel",
            "_view_count": null,
            "_view_module": "@jupyter-widgets/base",
            "_view_module_version": "1.2.0",
            "_view_name": "LayoutView",
            "align_content": null,
            "align_items": null,
            "align_self": null,
            "border": null,
            "bottom": null,
            "display": null,
            "flex": null,
            "flex_flow": null,
            "grid_area": null,
            "grid_auto_columns": null,
            "grid_auto_flow": null,
            "grid_auto_rows": null,
            "grid_column": null,
            "grid_gap": null,
            "grid_row": null,
            "grid_template_areas": null,
            "grid_template_columns": null,
            "grid_template_rows": null,
            "height": null,
            "justify_content": null,
            "justify_items": null,
            "left": null,
            "margin": null,
            "max_height": null,
            "max_width": null,
            "min_height": null,
            "min_width": null,
            "object_fit": null,
            "object_position": null,
            "order": null,
            "overflow": null,
            "overflow_x": null,
            "overflow_y": null,
            "padding": null,
            "right": null,
            "top": null,
            "visibility": null,
            "width": null
          }
        },
        "0b1ed09f89e64bb2913fe968a6eb7ad9": {
          "model_module": "@jupyter-widgets/controls",
          "model_name": "ProgressStyleModel",
          "model_module_version": "1.5.0",
          "state": {
            "_model_module": "@jupyter-widgets/controls",
            "_model_module_version": "1.5.0",
            "_model_name": "ProgressStyleModel",
            "_view_count": null,
            "_view_module": "@jupyter-widgets/base",
            "_view_module_version": "1.2.0",
            "_view_name": "StyleView",
            "bar_color": null,
            "description_width": ""
          }
        },
        "c68fa3e634be46779cbcd067b83258d8": {
          "model_module": "@jupyter-widgets/base",
          "model_name": "LayoutModel",
          "model_module_version": "1.2.0",
          "state": {
            "_model_module": "@jupyter-widgets/base",
            "_model_module_version": "1.2.0",
            "_model_name": "LayoutModel",
            "_view_count": null,
            "_view_module": "@jupyter-widgets/base",
            "_view_module_version": "1.2.0",
            "_view_name": "LayoutView",
            "align_content": null,
            "align_items": null,
            "align_self": null,
            "border": null,
            "bottom": null,
            "display": null,
            "flex": null,
            "flex_flow": null,
            "grid_area": null,
            "grid_auto_columns": null,
            "grid_auto_flow": null,
            "grid_auto_rows": null,
            "grid_column": null,
            "grid_gap": null,
            "grid_row": null,
            "grid_template_areas": null,
            "grid_template_columns": null,
            "grid_template_rows": null,
            "height": null,
            "justify_content": null,
            "justify_items": null,
            "left": null,
            "margin": null,
            "max_height": null,
            "max_width": null,
            "min_height": null,
            "min_width": null,
            "object_fit": null,
            "object_position": null,
            "order": null,
            "overflow": null,
            "overflow_x": null,
            "overflow_y": null,
            "padding": null,
            "right": null,
            "top": null,
            "visibility": null,
            "width": null
          }
        },
        "7ad56f47bc0f424eb052f204381c2905": {
          "model_module": "@jupyter-widgets/controls",
          "model_name": "DescriptionStyleModel",
          "model_module_version": "1.5.0",
          "state": {
            "_model_module": "@jupyter-widgets/controls",
            "_model_module_version": "1.5.0",
            "_model_name": "DescriptionStyleModel",
            "_view_count": null,
            "_view_module": "@jupyter-widgets/base",
            "_view_module_version": "1.2.0",
            "_view_name": "StyleView",
            "description_width": ""
          }
        }
      }
    }
  },
  "cells": [
    {
      "cell_type": "markdown",
      "metadata": {
        "id": "view-in-github",
        "colab_type": "text"
      },
      "source": [
        "<a href=\"https://colab.research.google.com/github/MuhammadIrzam447/visionCodes/blob/master/mm_imdb(2).ipynb\" target=\"_parent\"><img src=\"https://colab.research.google.com/assets/colab-badge.svg\" alt=\"Open In Colab\"/></a>"
      ]
    },
    {
      "cell_type": "code",
      "execution_count": 5,
      "metadata": {
        "id": "nmF1zNcPTGga",
        "colab": {
          "base_uri": "https://localhost:8080/"
        },
        "outputId": "b6319878-4323-44d8-bdc2-65c48e6a2a60"
      },
      "outputs": [
        {
          "output_type": "stream",
          "name": "stdout",
          "text": [
            "Downloading...\n",
            "From: https://drive.google.com/uc?id=1Dq1-SfvY2ir3LQXnIdHZofbDVHOXU8Wo\n",
            "To: /content/train.zip\n",
            "100% 4.21G/4.21G [00:52<00:00, 80.4MB/s]\n"
          ]
        }
      ],
      "source": [
        "!gdown https://drive.google.com/uc?id=1Dq1-SfvY2ir3LQXnIdHZofbDVHOXU8Wo"
      ]
    },
    {
      "cell_type": "code",
      "source": [
        "!gdown https://drive.google.com/uc?id=1VNBwHIMwGA0dZmgfs5vBgLuWm4LaV44T"
      ],
      "metadata": {
        "id": "KKm0C_4oTUTT",
        "colab": {
          "base_uri": "https://localhost:8080/"
        },
        "outputId": "d9622dd2-4a3c-4999-b110-af5b713735b8"
      },
      "execution_count": 6,
      "outputs": [
        {
          "output_type": "stream",
          "name": "stdout",
          "text": [
            "Downloading...\n",
            "From: https://drive.google.com/uc?id=1VNBwHIMwGA0dZmgfs5vBgLuWm4LaV44T\n",
            "To: /content/test.zip\n",
            "100% 2.12G/2.12G [00:22<00:00, 94.1MB/s]\n"
          ]
        }
      ]
    },
    {
      "cell_type": "code",
      "source": [
        "!gdown https://drive.google.com/uc?id=17u9uNTTtdEJI8ZGgHAX599lALj7a4ey_"
      ],
      "metadata": {
        "id": "Hou-hwbv0W6S",
        "colab": {
          "base_uri": "https://localhost:8080/"
        },
        "outputId": "e0299897-a66f-406e-d7dd-14514b91cc4b"
      },
      "execution_count": 8,
      "outputs": [
        {
          "output_type": "stream",
          "name": "stdout",
          "text": [
            "Downloading...\n",
            "From: https://drive.google.com/uc?id=17u9uNTTtdEJI8ZGgHAX599lALj7a4ey_\n",
            "To: /content/test_label.txt\n",
            "\r  0% 0.00/777k [00:00<?, ?B/s]\r100% 777k/777k [00:00<00:00, 99.5MB/s]\n"
          ]
        }
      ]
    },
    {
      "cell_type": "code",
      "source": [
        "!gdown https://drive.google.com/uc?id=1fySwdTjMC2QmdNbIk9_q4w9s7h1DcNbo"
      ],
      "metadata": {
        "id": "WQeDAAyZ0WLa",
        "colab": {
          "base_uri": "https://localhost:8080/"
        },
        "outputId": "0f35e875-3c94-4dcf-c917-26f235f8bd52"
      },
      "execution_count": 7,
      "outputs": [
        {
          "output_type": "stream",
          "name": "stdout",
          "text": [
            "Downloading...\n",
            "From: https://drive.google.com/uc?id=1fySwdTjMC2QmdNbIk9_q4w9s7h1DcNbo\n",
            "To: /content/train_label.txt\n",
            "\r  0% 0.00/1.55M [00:00<?, ?B/s]\r100% 1.55M/1.55M [00:00<00:00, 180MB/s]\n"
          ]
        }
      ]
    },
    {
      "cell_type": "code",
      "source": [
        "!unzip test.zip"
      ],
      "metadata": {
        "id": "Q--gX0z1yYPf"
      },
      "execution_count": null,
      "outputs": []
    },
    {
      "cell_type": "code",
      "source": [
        "!unzip train.zip"
      ],
      "metadata": {
        "id": "gc3k8cZ10bwW"
      },
      "execution_count": null,
      "outputs": []
    },
    {
      "cell_type": "markdown",
      "source": [
        "# New Section"
      ],
      "metadata": {
        "id": "KCfJth3zqdZl"
      }
    },
    {
      "cell_type": "markdown",
      "source": [
        "Training Dataset"
      ],
      "metadata": {
        "id": "27JUbagnvJK6"
      }
    },
    {
      "cell_type": "code",
      "source": [
        "import os\n",
        "train_image_file_paths = []\n",
        "train_genre_labels = []\n",
        "\n",
        "train_image_folder_add = \"/content/train\"\n",
        "train_labels_file = \"/content/train_label.txt\"\n",
        "\n",
        "with open(train_labels_file, 'r') as file:\n",
        "    for line in file:\n",
        "        parts = line.strip().split('|')\n",
        "        filename = parts[0].strip()\n",
        "        labels = parts[1].strip().split(', ')  # Split labels by comma and remove leading/trailing spaces\n",
        "        image_path = os.path.join(train_image_folder_add, filename)\n",
        "        train_image_file_paths.append(image_path)\n",
        "        train_genre_labels.append(labels)"
      ],
      "metadata": {
        "id": "SGASG2u5vIGc"
      },
      "execution_count": 11,
      "outputs": []
    },
    {
      "cell_type": "code",
      "source": [
        "len(train_image_file_paths)"
      ],
      "metadata": {
        "id": "aVDEkUt8SEY1",
        "colab": {
          "base_uri": "https://localhost:8080/"
        },
        "outputId": "8cbe2a01-a06d-4319-ef19-996708e6c345"
      },
      "execution_count": 12,
      "outputs": [
        {
          "output_type": "execute_result",
          "data": {
            "text/plain": [
              "46656"
            ]
          },
          "metadata": {},
          "execution_count": 12
        }
      ]
    },
    {
      "cell_type": "code",
      "source": [
        "from collections import defaultdict\n",
        "\n",
        "label_counts = defaultdict(int)\n",
        "\n",
        "for labels in train_genre_labels:\n",
        "    for label in labels:\n",
        "        label_counts[label] += 1"
      ],
      "metadata": {
        "id": "YF6Tgrj3F6Rc"
      },
      "execution_count": 13,
      "outputs": []
    },
    {
      "cell_type": "code",
      "source": [
        "label_counts"
      ],
      "metadata": {
        "id": "fIpNexHFH5-O",
        "colab": {
          "base_uri": "https://localhost:8080/"
        },
        "outputId": "d5cd7e89-4846-4707-d4a6-6d2474814e0d"
      },
      "execution_count": 14,
      "outputs": [
        {
          "output_type": "execute_result",
          "data": {
            "text/plain": [
              "defaultdict(int,\n",
              "            {'Crime': 6879,\n",
              "             'Drama': 25272,\n",
              "             'Thriller': 9339,\n",
              "             'Action': 6465,\n",
              "             'Comedy': 15324,\n",
              "             'Romance': 9678,\n",
              "             'Documentary': 3702,\n",
              "             'Short': 843,\n",
              "             'Mystery': 3693,\n",
              "             'History': 2040,\n",
              "             'Family': 2934,\n",
              "             'Adventure': 4833,\n",
              "             'Fantasy': 3486,\n",
              "             'Sci-Fi': 3636,\n",
              "             'Western': 1269,\n",
              "             'Horror': 4809,\n",
              "             'Sport': 1137,\n",
              "             'War': 2418,\n",
              "             'Music': 1902,\n",
              "             'Musical': 1509,\n",
              "             'Animation': 1758,\n",
              "             'Biography': 2364,\n",
              "             'Film-Noir': 606,\n",
              "             'News': 117,\n",
              "             'Talk-Show': 6,\n",
              "             'Reality-TV': 3})"
            ]
          },
          "metadata": {},
          "execution_count": 14
        }
      ]
    },
    {
      "cell_type": "code",
      "source": [
        "# Convert the defaultdict into a list of tuples\n",
        "label_count_list = [(label, count) for label, count in label_counts.items()]\n",
        "\n",
        "# Sort the list of tuples based on counts in descending order\n",
        "sorted_label_count_list = sorted(label_count_list, key=lambda x: x[1], reverse=True)\n",
        "\n",
        "# Display the sorted list\n",
        "for label, count in sorted_label_count_list:\n",
        "    print(f\"{label}: {count}\")\n",
        "\n",
        "print(\"Total Labels: \", len(label_count_list))"
      ],
      "metadata": {
        "id": "rzB9k8aeF6cH",
        "colab": {
          "base_uri": "https://localhost:8080/"
        },
        "outputId": "0e4c1213-473a-4795-e578-490608563fd7"
      },
      "execution_count": 15,
      "outputs": [
        {
          "output_type": "stream",
          "name": "stdout",
          "text": [
            "Drama: 25272\n",
            "Comedy: 15324\n",
            "Romance: 9678\n",
            "Thriller: 9339\n",
            "Crime: 6879\n",
            "Action: 6465\n",
            "Adventure: 4833\n",
            "Horror: 4809\n",
            "Documentary: 3702\n",
            "Mystery: 3693\n",
            "Sci-Fi: 3636\n",
            "Fantasy: 3486\n",
            "Family: 2934\n",
            "War: 2418\n",
            "Biography: 2364\n",
            "History: 2040\n",
            "Music: 1902\n",
            "Animation: 1758\n",
            "Musical: 1509\n",
            "Western: 1269\n",
            "Sport: 1137\n",
            "Short: 843\n",
            "Film-Noir: 606\n",
            "News: 117\n",
            "Talk-Show: 6\n",
            "Reality-TV: 3\n",
            "Total Labels:  26\n"
          ]
        }
      ]
    },
    {
      "cell_type": "code",
      "source": [
        "min_label_count = 500\n",
        "valid_labels = [label for label, count in label_counts.items() if count >= min_label_count]\n",
        "valid_labels = sorted(list(valid_labels))"
      ],
      "metadata": {
        "id": "kEakjRS5F_bd"
      },
      "execution_count": 16,
      "outputs": []
    },
    {
      "cell_type": "code",
      "source": [
        "valid_labels, len(valid_labels)"
      ],
      "metadata": {
        "id": "elYCUFKfGCjk",
        "colab": {
          "base_uri": "https://localhost:8080/"
        },
        "outputId": "6f751973-c7dd-418d-ef07-e9c6f5525306"
      },
      "execution_count": 17,
      "outputs": [
        {
          "output_type": "execute_result",
          "data": {
            "text/plain": [
              "(['Action',\n",
              "  'Adventure',\n",
              "  'Animation',\n",
              "  'Biography',\n",
              "  'Comedy',\n",
              "  'Crime',\n",
              "  'Documentary',\n",
              "  'Drama',\n",
              "  'Family',\n",
              "  'Fantasy',\n",
              "  'Film-Noir',\n",
              "  'History',\n",
              "  'Horror',\n",
              "  'Music',\n",
              "  'Musical',\n",
              "  'Mystery',\n",
              "  'Romance',\n",
              "  'Sci-Fi',\n",
              "  'Short',\n",
              "  'Sport',\n",
              "  'Thriller',\n",
              "  'War',\n",
              "  'Western'],\n",
              " 23)"
            ]
          },
          "metadata": {},
          "execution_count": 17
        }
      ]
    },
    {
      "cell_type": "code",
      "source": [
        "num_labels = len(valid_labels)\n",
        "label2id = {label: str(i) for i, label in enumerate(valid_labels)}\n",
        "id2label = {str(i): label for i, label in enumerate(valid_labels)}"
      ],
      "metadata": {
        "id": "3erAiX-pv1PV"
      },
      "execution_count": 18,
      "outputs": []
    },
    {
      "cell_type": "code",
      "source": [
        "id2label"
      ],
      "metadata": {
        "id": "IYSgaj2cwKDJ",
        "colab": {
          "base_uri": "https://localhost:8080/"
        },
        "outputId": "d5fc4b78-1e64-49b4-d6d0-bfc2350864b5"
      },
      "execution_count": 19,
      "outputs": [
        {
          "output_type": "execute_result",
          "data": {
            "text/plain": [
              "{'0': 'Action',\n",
              " '1': 'Adventure',\n",
              " '2': 'Animation',\n",
              " '3': 'Biography',\n",
              " '4': 'Comedy',\n",
              " '5': 'Crime',\n",
              " '6': 'Documentary',\n",
              " '7': 'Drama',\n",
              " '8': 'Family',\n",
              " '9': 'Fantasy',\n",
              " '10': 'Film-Noir',\n",
              " '11': 'History',\n",
              " '12': 'Horror',\n",
              " '13': 'Music',\n",
              " '14': 'Musical',\n",
              " '15': 'Mystery',\n",
              " '16': 'Romance',\n",
              " '17': 'Sci-Fi',\n",
              " '18': 'Short',\n",
              " '19': 'Sport',\n",
              " '20': 'Thriller',\n",
              " '21': 'War',\n",
              " '22': 'Western'}"
            ]
          },
          "metadata": {},
          "execution_count": 19
        }
      ]
    },
    {
      "cell_type": "code",
      "source": [
        "num_labels"
      ],
      "metadata": {
        "id": "TX4BGI9_wNfE",
        "colab": {
          "base_uri": "https://localhost:8080/"
        },
        "outputId": "e6b56d23-785d-4ba3-d3f6-8285fdf76f31"
      },
      "execution_count": 20,
      "outputs": [
        {
          "output_type": "execute_result",
          "data": {
            "text/plain": [
              "23"
            ]
          },
          "metadata": {},
          "execution_count": 20
        }
      ]
    },
    {
      "cell_type": "code",
      "source": [
        "train_multi_hot_labels = []\n",
        "\n",
        "for labels in train_genre_labels:\n",
        "    multi_hot = [1 if label in labels else 0 for label in valid_labels]\n",
        "    train_multi_hot_labels.append(multi_hot)"
      ],
      "metadata": {
        "id": "fkFtTj2FvWpD"
      },
      "execution_count": 21,
      "outputs": []
    },
    {
      "cell_type": "code",
      "source": [
        "train_multi_hot_labels[0]"
      ],
      "metadata": {
        "id": "qEDvj2BJIKsJ",
        "colab": {
          "base_uri": "https://localhost:8080/"
        },
        "outputId": "324a483b-e5e9-4615-9f48-69c50f194a65"
      },
      "execution_count": 22,
      "outputs": [
        {
          "output_type": "execute_result",
          "data": {
            "text/plain": [
              "[0, 0, 0, 0, 0, 1, 0, 1, 0, 0, 0, 0, 0, 0, 0, 0, 0, 0, 0, 0, 1, 0, 0]"
            ]
          },
          "metadata": {},
          "execution_count": 22
        }
      ]
    },
    {
      "cell_type": "code",
      "source": [
        "train_genre_labels[0]"
      ],
      "metadata": {
        "id": "sRFZ9Z9rIOSF",
        "colab": {
          "base_uri": "https://localhost:8080/"
        },
        "outputId": "64363c81-6d71-44f3-8e99-b6bb58683f07"
      },
      "execution_count": 23,
      "outputs": [
        {
          "output_type": "execute_result",
          "data": {
            "text/plain": [
              "['Crime', 'Drama', 'Thriller']"
            ]
          },
          "metadata": {},
          "execution_count": 23
        }
      ]
    },
    {
      "cell_type": "markdown",
      "source": [
        "Test Dataset"
      ],
      "metadata": {
        "id": "5PZTetjHFJv1"
      }
    },
    {
      "cell_type": "code",
      "source": [
        "import os\n",
        "image_file_paths = []\n",
        "genre_labels = []\n",
        "\n",
        "image_folder_add = \"/content/test\"\n",
        "labels_file = '/content/test_label.txt'\n",
        "\n",
        "with open(labels_file, 'r') as file:\n",
        "    for line in file:\n",
        "        parts = line.strip().split('|')\n",
        "        filename = parts[0].strip()\n",
        "        labels = parts[1].strip().split(', ')  # Split labels by comma and remove leading/trailing spaces\n",
        "        image_path = os.path.join(image_folder_add, filename)\n",
        "        image_file_paths.append(image_path)\n",
        "        genre_labels.append(labels)"
      ],
      "metadata": {
        "id": "AA5mDiCVFMDb"
      },
      "execution_count": 24,
      "outputs": []
    },
    {
      "cell_type": "code",
      "source": [
        "len(image_file_paths)"
      ],
      "metadata": {
        "id": "ZL0rp0CzIbzF"
      },
      "execution_count": null,
      "outputs": []
    },
    {
      "cell_type": "code",
      "source": [
        "# from collections import defaultdict\n",
        "\n",
        "# label_counts = defaultdict(int)\n",
        "\n",
        "# for labels in genre_labels:\n",
        "#     for label in labels:\n",
        "#         label_counts[label] += 1"
      ],
      "metadata": {
        "id": "0JN9GGSfGcR_"
      },
      "execution_count": null,
      "outputs": []
    },
    {
      "cell_type": "code",
      "source": [
        "# label_counts"
      ],
      "metadata": {
        "id": "uE1LswS-Gh5n"
      },
      "execution_count": null,
      "outputs": []
    },
    {
      "cell_type": "code",
      "source": [
        "# label_count_list = [(label, count) for label, count in label_counts.items()]\n",
        "# sorted_label_count_list = sorted(label_count_list, key=lambda x: x[1], reverse=True)\n",
        "# for label, count in sorted_label_count_list:\n",
        "#     print(f\"{label}: {count}\")\n",
        "# print(\"Total Labels: \", len(label_count_list))"
      ],
      "metadata": {
        "id": "jaUebffvJFvC"
      },
      "execution_count": null,
      "outputs": []
    },
    {
      "cell_type": "code",
      "source": [
        "multi_hot_labels = []\n",
        "\n",
        "for labels in genre_labels:\n",
        "    multi_hot = [1 if label in labels else 0 for label in valid_labels]\n",
        "    multi_hot_labels.append(multi_hot)"
      ],
      "metadata": {
        "id": "11mF79hnFNBW"
      },
      "execution_count": 25,
      "outputs": []
    },
    {
      "cell_type": "markdown",
      "source": [
        "Creating Datasets"
      ],
      "metadata": {
        "id": "wPeiQ6yyvNOz"
      }
    },
    {
      "cell_type": "code",
      "source": [
        "!pip install datasets\n",
        "from datasets import Dataset"
      ],
      "metadata": {
        "id": "G9Nsa_BDrGNE"
      },
      "execution_count": null,
      "outputs": []
    },
    {
      "cell_type": "code",
      "source": [
        "train_data = {'image': train_image_file_paths, 'label': train_multi_hot_labels}\n",
        "ds_train = Dataset.from_dict(train_data)\n",
        "\n",
        "val_data = {'image': image_file_paths, 'label': multi_hot_labels}\n",
        "ds_val = Dataset.from_dict(val_data)"
      ],
      "metadata": {
        "id": "a4mLnUT7qd5l"
      },
      "execution_count": 27,
      "outputs": []
    },
    {
      "cell_type": "code",
      "source": [
        "ds_train"
      ],
      "metadata": {
        "id": "3SjM0TVurJGf",
        "colab": {
          "base_uri": "https://localhost:8080/"
        },
        "outputId": "d68ac404-2a54-410d-8719-c04339228038"
      },
      "execution_count": 28,
      "outputs": [
        {
          "output_type": "execute_result",
          "data": {
            "text/plain": [
              "Dataset({\n",
              "    features: ['image', 'label'],\n",
              "    num_rows: 46656\n",
              "})"
            ]
          },
          "metadata": {},
          "execution_count": 28
        }
      ]
    },
    {
      "cell_type": "code",
      "source": [
        "ds_val"
      ],
      "metadata": {
        "id": "O8mdfwrqwykE",
        "colab": {
          "base_uri": "https://localhost:8080/"
        },
        "outputId": "94cc33b8-18a9-4fd7-9ae6-999d3acb3ef9"
      },
      "execution_count": 29,
      "outputs": [
        {
          "output_type": "execute_result",
          "data": {
            "text/plain": [
              "Dataset({\n",
              "    features: ['image', 'label'],\n",
              "    num_rows: 23397\n",
              "})"
            ]
          },
          "metadata": {},
          "execution_count": 29
        }
      ]
    },
    {
      "cell_type": "code",
      "source": [
        "import os\n",
        "\n",
        "def filter_function(example):\n",
        "    filename = example[\"image\"]\n",
        "    return not (filename.endswith(\"_1.png\") or filename.endswith(\"_2.png\"))"
      ],
      "metadata": {
        "id": "j8kynSG3dJ2B"
      },
      "execution_count": 30,
      "outputs": []
    },
    {
      "cell_type": "code",
      "source": [
        "ds_val = ds_val.filter(filter_function)"
      ],
      "metadata": {
        "id": "qhNKgZdzdMWq",
        "colab": {
          "base_uri": "https://localhost:8080/",
          "height": 49,
          "referenced_widgets": [
            "118056f907b148a7a0c74c2c2c1af01a",
            "529d404a14c84789b95bffd2328f3a3b",
            "4fde0eaaabe94f6a804f29db73467fe7",
            "b7c214aa11a34f6793c0ef4e17ef43b6",
            "902916784ce6460f96e0cf11261993d6",
            "8229f0ab4cf046fa8e54561f53e48a3f",
            "222b007956e0424a85e4a70650b5e49d",
            "0f809f9f555b49e4a6d6c77d4ef088d3",
            "0b1ed09f89e64bb2913fe968a6eb7ad9",
            "c68fa3e634be46779cbcd067b83258d8",
            "7ad56f47bc0f424eb052f204381c2905"
          ]
        },
        "outputId": "37b71199-1cdb-4184-f434-bac2ee81cc3e"
      },
      "execution_count": 31,
      "outputs": [
        {
          "output_type": "display_data",
          "data": {
            "text/plain": [
              "Filter:   0%|          | 0/23397 [00:00<?, ? examples/s]"
            ],
            "application/vnd.jupyter.widget-view+json": {
              "version_major": 2,
              "version_minor": 0,
              "model_id": "118056f907b148a7a0c74c2c2c1af01a"
            }
          },
          "metadata": {}
        }
      ]
    },
    {
      "cell_type": "code",
      "source": [
        "ds_val"
      ],
      "metadata": {
        "id": "hrUWaxleepOy",
        "colab": {
          "base_uri": "https://localhost:8080/"
        },
        "outputId": "eea80f42-3992-4caa-c6d0-588ef3362f5e"
      },
      "execution_count": 32,
      "outputs": [
        {
          "output_type": "execute_result",
          "data": {
            "text/plain": [
              "Dataset({\n",
              "    features: ['image', 'label'],\n",
              "    num_rows: 7799\n",
              "})"
            ]
          },
          "metadata": {},
          "execution_count": 32
        }
      ]
    },
    {
      "cell_type": "code",
      "source": [
        "ds_train['image'][0], ds_val['image'][0]"
      ],
      "metadata": {
        "id": "R5kP5p4_r008",
        "colab": {
          "base_uri": "https://localhost:8080/"
        },
        "outputId": "225c02b9-9df8-4963-86d0-da0d48fc3459"
      },
      "execution_count": 33,
      "outputs": [
        {
          "output_type": "execute_result",
          "data": {
            "text/plain": [
              "('/content/train/0106714.png', '/content/test/0078718.png')"
            ]
          },
          "metadata": {},
          "execution_count": 33
        }
      ]
    },
    {
      "cell_type": "code",
      "source": [
        "# labels = ds.features[\"label\"]\n",
        "labels = valid_labels\n",
        "labels"
      ],
      "metadata": {
        "id": "iZAsVZXkrMHz",
        "colab": {
          "base_uri": "https://localhost:8080/"
        },
        "outputId": "2d869dd0-f348-4c6d-afdb-39e21bda0d2f"
      },
      "execution_count": 34,
      "outputs": [
        {
          "output_type": "execute_result",
          "data": {
            "text/plain": [
              "['Action',\n",
              " 'Adventure',\n",
              " 'Animation',\n",
              " 'Biography',\n",
              " 'Comedy',\n",
              " 'Crime',\n",
              " 'Documentary',\n",
              " 'Drama',\n",
              " 'Family',\n",
              " 'Fantasy',\n",
              " 'Film-Noir',\n",
              " 'History',\n",
              " 'Horror',\n",
              " 'Music',\n",
              " 'Musical',\n",
              " 'Mystery',\n",
              " 'Romance',\n",
              " 'Sci-Fi',\n",
              " 'Short',\n",
              " 'Sport',\n",
              " 'Thriller',\n",
              " 'War',\n",
              " 'Western']"
            ]
          },
          "metadata": {},
          "execution_count": 34
        }
      ]
    },
    {
      "cell_type": "markdown",
      "source": [
        "Creating Model"
      ],
      "metadata": {
        "id": "ac-q2lZhuxBc"
      }
    },
    {
      "cell_type": "code",
      "source": [
        "!pip install transformers evaluate datasets\n",
        "import requests\n",
        "import torch\n",
        "from PIL import Image\n",
        "from transformers import *\n",
        "from tqdm import tqdm"
      ],
      "metadata": {
        "id": "Yjo1uO85sPhG"
      },
      "execution_count": 35,
      "outputs": []
    },
    {
      "cell_type": "code",
      "source": [
        "device = \"cuda\" if torch.cuda.is_available() else \"cpu\"\n",
        "print(device)"
      ],
      "metadata": {
        "id": "T1YZ7kVesVM8",
        "colab": {
          "base_uri": "https://localhost:8080/"
        },
        "outputId": "75ec8136-43f2-4606-ef05-f6842b15d178"
      },
      "execution_count": 36,
      "outputs": [
        {
          "output_type": "stream",
          "name": "stdout",
          "text": [
            "cuda\n"
          ]
        }
      ]
    },
    {
      "cell_type": "code",
      "source": [
        "model_name = \"google/vit-base-patch16-224\"\n",
        "image_processor = ViTImageProcessor.from_pretrained(model_name)\n",
        "model = ViTForImageClassification.from_pretrained(model_name).to(device)"
      ],
      "metadata": {
        "id": "qXK14nDosWFW",
        "colab": {
          "base_uri": "https://localhost:8080/"
        },
        "outputId": "4d789c06-27da-45c1-ad50-6dcff06106c1"
      },
      "execution_count": 37,
      "outputs": [
        {
          "output_type": "stream",
          "name": "stderr",
          "text": [
            "All model checkpoint weights were used when initializing ViTForImageClassification.\n",
            "\n",
            "All the weights of ViTForImageClassification were initialized from the model checkpoint at google/vit-base-patch16-224.\n",
            "If your task is similar to the task the model of the checkpoint was trained on, you can already use ViTForImageClassification for predictions without further training.\n"
          ]
        }
      ]
    },
    {
      "cell_type": "code",
      "source": [
        "import PIL.Image as pil\n",
        "\n",
        "def transform(examples):\n",
        "  # inputs = image_processor([Image.open(img).convert(\"RGB\") for img in examples[\"image\"]], return_tensors=\"pt\")\n",
        "  inputs = image_processor([pil.open(img).convert(\"RGB\") for img in examples[\"image\"]], return_tensors=\"pt\")\n",
        "  inputs[\"labels\"] = examples[\"label\"]\n",
        "  return inputs"
      ],
      "metadata": {
        "id": "bpeUOPS2v_qC"
      },
      "execution_count": 38,
      "outputs": []
    },
    {
      "cell_type": "code",
      "source": [
        "train_dataset = ds_train.with_transform(transform)\n",
        "val_dataset = ds_val.with_transform(transform)"
      ],
      "metadata": {
        "id": "DZUEGqDlwEZ-"
      },
      "execution_count": 39,
      "outputs": []
    },
    {
      "cell_type": "code",
      "source": [
        "train_dataset"
      ],
      "metadata": {
        "id": "WgMgw6nswEo-",
        "colab": {
          "base_uri": "https://localhost:8080/"
        },
        "outputId": "65549989-d327-447b-acc7-46e9059ee3ca"
      },
      "execution_count": 40,
      "outputs": [
        {
          "output_type": "execute_result",
          "data": {
            "text/plain": [
              "Dataset({\n",
              "    features: ['image', 'label'],\n",
              "    num_rows: 46656\n",
              "})"
            ]
          },
          "metadata": {},
          "execution_count": 40
        }
      ]
    },
    {
      "cell_type": "code",
      "source": [
        "val_dataset"
      ],
      "metadata": {
        "id": "2cC5DlJQxNzV",
        "colab": {
          "base_uri": "https://localhost:8080/"
        },
        "outputId": "f6ea1272-1f4d-4de5-b0cc-37db1a89d122"
      },
      "execution_count": 41,
      "outputs": [
        {
          "output_type": "execute_result",
          "data": {
            "text/plain": [
              "Dataset({\n",
              "    features: ['image', 'label'],\n",
              "    num_rows: 7799\n",
              "})"
            ]
          },
          "metadata": {},
          "execution_count": 41
        }
      ]
    },
    {
      "cell_type": "code",
      "source": [
        "sample = train_dataset[0]\n",
        "# img = sample[\"pixel_values\"]\n",
        "# filename = os.path.basename(img.filename)\n",
        "# print(f\"File Name: {filename}\")"
      ],
      "metadata": {
        "id": "Yu09sABJUxNB"
      },
      "execution_count": 42,
      "outputs": []
    },
    {
      "cell_type": "code",
      "source": [
        "sample"
      ],
      "metadata": {
        "id": "u9Yfq17FYtIO",
        "colab": {
          "base_uri": "https://localhost:8080/"
        },
        "outputId": "d40fbd67-8e2e-45e3-c4cb-923e6767dbd7"
      },
      "execution_count": 43,
      "outputs": [
        {
          "output_type": "execute_result",
          "data": {
            "text/plain": [
              "{'pixel_values': tensor([[[-0.1529, -0.6000, -0.5765,  ..., -0.6078, -0.6078, -0.1451],\n",
              "          [-0.2471, -0.9765, -0.9686,  ..., -1.0000, -1.0000, -0.2000],\n",
              "          [-0.1529, -0.9686, -1.0000,  ..., -1.0000, -1.0000, -0.2000],\n",
              "          ...,\n",
              "          [-0.2078, -0.9843, -0.9765,  ..., -0.9922, -0.9922, -0.2000],\n",
              "          [-0.2235, -0.9765, -0.9922,  ..., -0.9922, -0.9922, -0.2078],\n",
              "          [-0.1373, -0.6000, -0.5686,  ..., -0.6078, -0.6078, -0.1529]],\n",
              " \n",
              "         [[-0.1529, -0.6000, -0.5765,  ..., -0.6078, -0.6078, -0.1451],\n",
              "          [-0.2471, -0.9765, -0.9686,  ..., -1.0000, -1.0000, -0.2000],\n",
              "          [-0.1529, -0.9686, -1.0000,  ..., -1.0000, -1.0000, -0.2000],\n",
              "          ...,\n",
              "          [-0.2078, -0.9843, -0.9765,  ..., -0.9922, -0.9922, -0.2000],\n",
              "          [-0.2235, -0.9765, -0.9922,  ..., -0.9922, -0.9922, -0.2078],\n",
              "          [-0.1373, -0.6000, -0.5686,  ..., -0.6078, -0.6078, -0.1529]],\n",
              " \n",
              "         [[-0.1529, -0.6000, -0.5765,  ..., -0.6078, -0.6078, -0.1451],\n",
              "          [-0.2471, -0.9765, -0.9686,  ..., -1.0000, -1.0000, -0.2000],\n",
              "          [-0.1529, -0.9686, -1.0000,  ..., -1.0000, -1.0000, -0.2000],\n",
              "          ...,\n",
              "          [-0.2078, -0.9843, -0.9765,  ..., -0.9922, -0.9922, -0.2000],\n",
              "          [-0.2235, -0.9765, -0.9922,  ..., -0.9922, -0.9922, -0.2078],\n",
              "          [-0.1373, -0.6000, -0.5686,  ..., -0.6078, -0.6078, -0.1529]]]),\n",
              " 'labels': [0,\n",
              "  0,\n",
              "  0,\n",
              "  0,\n",
              "  0,\n",
              "  1,\n",
              "  0,\n",
              "  1,\n",
              "  0,\n",
              "  0,\n",
              "  0,\n",
              "  0,\n",
              "  0,\n",
              "  0,\n",
              "  0,\n",
              "  0,\n",
              "  0,\n",
              "  0,\n",
              "  0,\n",
              "  0,\n",
              "  1,\n",
              "  0,\n",
              "  0]}"
            ]
          },
          "metadata": {},
          "execution_count": 43
        }
      ]
    },
    {
      "cell_type": "code",
      "source": [
        "for item in train_dataset:\n",
        "  print(item['pixel_values'].shape)\n",
        "  print(item[\"labels\"])\n",
        "  break"
      ],
      "metadata": {
        "id": "GMi1dn5qzHn0",
        "colab": {
          "base_uri": "https://localhost:8080/"
        },
        "outputId": "f5db8592-70f0-43bd-990c-19e938ff18dc"
      },
      "execution_count": 44,
      "outputs": [
        {
          "output_type": "stream",
          "name": "stdout",
          "text": [
            "torch.Size([3, 224, 224])\n",
            "[0, 0, 0, 0, 0, 1, 0, 1, 0, 0, 0, 0, 0, 0, 0, 0, 0, 0, 0, 0, 1, 0, 0]\n"
          ]
        }
      ]
    },
    {
      "cell_type": "code",
      "source": [
        "import torch\n",
        "\n",
        "def collate_fn(batch):\n",
        "  return {\n",
        "      \"pixel_values\": torch.stack([x[\"pixel_values\"] for x in batch]),\n",
        "      \"labels\": torch.tensor([x[\"labels\"] for x in batch]),\n",
        "  }"
      ],
      "metadata": {
        "id": "6J-LWUv_wE48"
      },
      "execution_count": 45,
      "outputs": []
    },
    {
      "cell_type": "markdown",
      "source": [
        "Attach Final Layer to Model"
      ],
      "metadata": {
        "id": "nNN2igTOxdjL"
      }
    },
    {
      "cell_type": "code",
      "source": [
        "# load the ViT model\n",
        "model = ViTForImageClassification.from_pretrained(\n",
        "    model_name,\n",
        "    num_labels= len(valid_labels),\n",
        "    label2id = {label: str(i) for i, label in enumerate(valid_labels)},\n",
        "    id2label = {str(i): label for i, label in enumerate(valid_labels)},\n",
        "    problem_type = \"multi_label_classification\",\n",
        "    ignore_mismatched_sizes=True,\n",
        ")"
      ],
      "metadata": {
        "id": "ge9TkjxDvU7b",
        "colab": {
          "base_uri": "https://localhost:8080/"
        },
        "outputId": "eae82248-9ce2-4edf-8526-2fcc7a80c090"
      },
      "execution_count": 46,
      "outputs": [
        {
          "output_type": "stream",
          "name": "stderr",
          "text": [
            "loading configuration file config.json from cache at /root/.cache/huggingface/hub/models--google--vit-base-patch16-224/snapshots/3f49326eb077187dfe1c2a2bb15fbd74e6ab91e3/config.json\n",
            "Model config ViTConfig {\n",
            "  \"_name_or_path\": \"google/vit-base-patch16-224\",\n",
            "  \"architectures\": [\n",
            "    \"ViTForImageClassification\"\n",
            "  ],\n",
            "  \"attention_probs_dropout_prob\": 0.0,\n",
            "  \"encoder_stride\": 16,\n",
            "  \"hidden_act\": \"gelu\",\n",
            "  \"hidden_dropout_prob\": 0.0,\n",
            "  \"hidden_size\": 768,\n",
            "  \"id2label\": {\n",
            "    \"0\": \"Action\",\n",
            "    \"1\": \"Adventure\",\n",
            "    \"10\": \"Film-Noir\",\n",
            "    \"11\": \"History\",\n",
            "    \"12\": \"Horror\",\n",
            "    \"13\": \"Music\",\n",
            "    \"14\": \"Musical\",\n",
            "    \"15\": \"Mystery\",\n",
            "    \"16\": \"Romance\",\n",
            "    \"17\": \"Sci-Fi\",\n",
            "    \"18\": \"Short\",\n",
            "    \"19\": \"Sport\",\n",
            "    \"2\": \"Animation\",\n",
            "    \"20\": \"Thriller\",\n",
            "    \"21\": \"War\",\n",
            "    \"22\": \"Western\",\n",
            "    \"3\": \"Biography\",\n",
            "    \"4\": \"Comedy\",\n",
            "    \"5\": \"Crime\",\n",
            "    \"6\": \"Documentary\",\n",
            "    \"7\": \"Drama\",\n",
            "    \"8\": \"Family\",\n",
            "    \"9\": \"Fantasy\"\n",
            "  },\n",
            "  \"image_size\": 224,\n",
            "  \"initializer_range\": 0.02,\n",
            "  \"intermediate_size\": 3072,\n",
            "  \"label2id\": {\n",
            "    \"Action\": \"0\",\n",
            "    \"Adventure\": \"1\",\n",
            "    \"Animation\": \"2\",\n",
            "    \"Biography\": \"3\",\n",
            "    \"Comedy\": \"4\",\n",
            "    \"Crime\": \"5\",\n",
            "    \"Documentary\": \"6\",\n",
            "    \"Drama\": \"7\",\n",
            "    \"Family\": \"8\",\n",
            "    \"Fantasy\": \"9\",\n",
            "    \"Film-Noir\": \"10\",\n",
            "    \"History\": \"11\",\n",
            "    \"Horror\": \"12\",\n",
            "    \"Music\": \"13\",\n",
            "    \"Musical\": \"14\",\n",
            "    \"Mystery\": \"15\",\n",
            "    \"Romance\": \"16\",\n",
            "    \"Sci-Fi\": \"17\",\n",
            "    \"Short\": \"18\",\n",
            "    \"Sport\": \"19\",\n",
            "    \"Thriller\": \"20\",\n",
            "    \"War\": \"21\",\n",
            "    \"Western\": \"22\"\n",
            "  },\n",
            "  \"layer_norm_eps\": 1e-12,\n",
            "  \"model_type\": \"vit\",\n",
            "  \"num_attention_heads\": 12,\n",
            "  \"num_channels\": 3,\n",
            "  \"num_hidden_layers\": 12,\n",
            "  \"patch_size\": 16,\n",
            "  \"problem_type\": \"multi_label_classification\",\n",
            "  \"qkv_bias\": true,\n",
            "  \"transformers_version\": \"4.34.0\"\n",
            "}\n",
            "\n",
            "loading weights file model.safetensors from cache at /root/.cache/huggingface/hub/models--google--vit-base-patch16-224/snapshots/3f49326eb077187dfe1c2a2bb15fbd74e6ab91e3/model.safetensors\n",
            "All model checkpoint weights were used when initializing ViTForImageClassification.\n",
            "\n",
            "Some weights of ViTForImageClassification were not initialized from the model checkpoint at google/vit-base-patch16-224 and are newly initialized because the shapes did not match:\n",
            "- classifier.bias: found shape torch.Size([1000]) in the checkpoint and torch.Size([23]) in the model instantiated\n",
            "- classifier.weight: found shape torch.Size([1000, 768]) in the checkpoint and torch.Size([23, 768]) in the model instantiated\n",
            "You should probably TRAIN this model on a down-stream task to be able to use it for predictions and inference.\n"
          ]
        }
      ]
    },
    {
      "cell_type": "markdown",
      "source": [
        "Setting Hyperparameters"
      ],
      "metadata": {
        "id": "mNzrUMBDvAps"
      }
    },
    {
      "cell_type": "code",
      "source": [
        "# Training loop\n",
        "from torch.utils.tensorboard import SummaryWriter\n",
        "from torch.optim import AdamW\n",
        "from torch.utils.data import DataLoader\n",
        "\n",
        "batch_size = 32"
      ],
      "metadata": {
        "id": "QSaA0l0kvfD1"
      },
      "execution_count": 47,
      "outputs": []
    },
    {
      "cell_type": "code",
      "source": [
        "train_dataset_loader = DataLoader(train_dataset, collate_fn=collate_fn, batch_size=batch_size, shuffle=True)\n",
        "valid_dataset_loader = DataLoader(val_dataset, collate_fn=collate_fn, batch_size=batch_size, shuffle=False)"
      ],
      "metadata": {
        "id": "H9a305Thv487"
      },
      "execution_count": 48,
      "outputs": []
    },
    {
      "cell_type": "code",
      "source": [
        "optimizer = AdamW(model.parameters(), lr=1e-5)"
      ],
      "metadata": {
        "id": "pDTtvcPav0r-"
      },
      "execution_count": 49,
      "outputs": []
    },
    {
      "cell_type": "code",
      "source": [
        "log_dir = \"/content/Untitled Folder\"\n",
        "summary_writer = SummaryWriter(log_dir=log_dir)"
      ],
      "metadata": {
        "id": "0u-AcYYPBCIq"
      },
      "execution_count": 50,
      "outputs": []
    },
    {
      "cell_type": "code",
      "source": [
        "num_epochs = 20\n",
        "model = model.to(device)"
      ],
      "metadata": {
        "id": "qxzkS9aDBEP6"
      },
      "execution_count": 51,
      "outputs": []
    },
    {
      "cell_type": "code",
      "source": [
        "n_train_steps = num_epochs * len(train_dataset_loader)\n",
        "n_valid_steps = len(valid_dataset_loader)\n",
        "current_step = 0"
      ],
      "metadata": {
        "id": "dbdQh7a9BMQS"
      },
      "execution_count": 52,
      "outputs": []
    },
    {
      "cell_type": "code",
      "source": [
        "n_train_steps , n_valid_steps"
      ],
      "metadata": {
        "id": "0zupZcnNxti1",
        "colab": {
          "base_uri": "https://localhost:8080/"
        },
        "outputId": "8efef9fb-b1dc-4121-fb87-1614ebed0252"
      },
      "execution_count": 53,
      "outputs": [
        {
          "output_type": "execute_result",
          "data": {
            "text/plain": [
              "(29160, 244)"
            ]
          },
          "metadata": {},
          "execution_count": 53
        }
      ]
    },
    {
      "cell_type": "code",
      "source": [
        "# logging, eval & save steps\n",
        "save_steps = 1000"
      ],
      "metadata": {
        "id": "aS9zwwA3BXUa"
      },
      "execution_count": 54,
      "outputs": []
    },
    {
      "cell_type": "code",
      "source": [
        "# def compute_metrics(eval_pred):\n",
        "#   accuracy_score = accuracy.compute(predictions=eval_pred.predictions, references=eval_pred.label_ids)\n",
        "#   f1_score = f1.compute(predictions=eval_pred.predictions, references=eval_pred.label_ids, average=\"macro\")\n",
        "#   return {**accuracy_score, **f1_score}"
      ],
      "metadata": {
        "id": "f7H1EL2TBVPT"
      },
      "execution_count": null,
      "outputs": []
    },
    {
      "cell_type": "code",
      "source": [
        "from sklearn.metrics import accuracy_score, precision_score, recall_score, f1_score, classification_report\n",
        "\n",
        "for epoch in range(num_epochs):\n",
        "\n",
        "    model.train()\n",
        "    train_loss = 0\n",
        "    progress_bar = tqdm(range(current_step, n_train_steps), \"Training\", dynamic_ncols=True, ncols=80)\n",
        "\n",
        "    for batch in train_dataset_loader:\n",
        "      if (current_step+1) % save_steps == 0:\n",
        "        print()\n",
        "        print(f\"Validation at step {current_step}...\")\n",
        "        print()\n",
        "\n",
        "        model.eval()\n",
        "\n",
        "        predictions, labels = [], []\n",
        "        valid_loss = 0\n",
        "\n",
        "        for batch in valid_dataset_loader:\n",
        "            pixel_values = batch[\"pixel_values\"].to(device)\n",
        "            label_ids = batch[\"labels\"].to(device).float()\n",
        "\n",
        "            outputs = model(pixel_values=pixel_values, labels=label_ids)\n",
        "\n",
        "            loss = outputs.loss\n",
        "            valid_loss += loss.item()\n",
        "\n",
        "            logits = outputs.logits.detach().cpu()\n",
        "\n",
        "            # predictions.extend(logits.argmax(dim=-1).tolist())\n",
        "            # labels.extend(label_ids.tolist())\n",
        "            predictions.extend((logits > 0.5).int().cpu().numpy())\n",
        "            labels.extend(label_ids.int().cpu().numpy())\n",
        "\n",
        "        # eval_prediction = EvalPrediction(predictions=predictions, label_ids=labels)\n",
        "        # metrics = compute_metrics(eval_prediction)\n",
        "        print()\n",
        "        print(f\"Epoch: {epoch}, Step: {current_step}, Train Loss: {train_loss / save_steps:.4f}, \" +\n",
        "              f\"Valid Loss: {valid_loss / n_valid_steps:.4f}\") # , Accuracy: {metrics['accuracy']}, \" + f\"F1 Score: {metrics['f1']}\")\n",
        "        print()\n",
        "\n",
        "        # summary_writer.add_scalar(\"valid_loss\", valid_loss / n_valid_steps, global_step=current_step)\n",
        "        # summary_writer.add_scalar(\"accuracy\", metrics[\"accuracy\"], global_step=current_step)\n",
        "        # summary_writer.add_scalar(\"f1\", metrics[\"f1\"], global_step=current_step)\n",
        "\n",
        "        model.save_pretrained(f\"/content/checkpoint-{current_step}\")\n",
        "        image_processor.save_pretrained(f\"/content/checkpoint-{current_step}\")\n",
        "\n",
        "        accuracy = accuracy_score(labels, predictions)\n",
        "        precision = precision_score(labels, predictions, average='macro')\n",
        "        recall = recall_score(labels, predictions, average='macro')\n",
        "        f1 = f1_score(labels, predictions, average='macro')\n",
        "\n",
        "        print(f\"Accuracy: {accuracy}\")\n",
        "        print(f\"Precision: {precision}\")\n",
        "        print(f\"Recall: {recall}\")\n",
        "        print(f\"F1-Score: {f1}\")\n",
        "        print(classification_report(labels, predictions))\n",
        "\n",
        "        model.train()\n",
        "        train_loss, valid_loss = 0, 0\n",
        "\n",
        "      pixel_values = batch[\"pixel_values\"].to(device)\n",
        "      labels = batch[\"labels\"].to(device).float()\n",
        "\n",
        "      outputs = model(pixel_values=pixel_values, labels=labels)\n",
        "\n",
        "      loss = outputs.loss\n",
        "      loss.backward()\n",
        "      optimizer.step()\n",
        "      optimizer.zero_grad()\n",
        "\n",
        "      loss_v = loss.item()\n",
        "      train_loss += loss_v\n",
        "\n",
        "      current_step += 1\n",
        "      progress_bar.update(1)\n",
        "      summary_writer.add_scalar(\"train_loss\", loss_v, global_step=current_step)"
      ],
      "metadata": {
        "id": "PXHxhHIqCGR7",
        "colab": {
          "base_uri": "https://localhost:8080/"
        },
        "outputId": "c5149353-06e9-4358-9ff7-cd67a5b025cd"
      },
      "execution_count": null,
      "outputs": [
        {
          "output_type": "stream",
          "name": "stderr",
          "text": [
            "Training:   3%|▎         | 999/29160 [22:50<10:24:41,  1.33s/it]"
          ]
        },
        {
          "output_type": "stream",
          "name": "stdout",
          "text": [
            "\n",
            "Validation at step 999...\n",
            "\n"
          ]
        },
        {
          "output_type": "stream",
          "name": "stderr",
          "text": [
            "Configuration saved in /content/checkpoint-999/config.json\n"
          ]
        },
        {
          "output_type": "stream",
          "name": "stdout",
          "text": [
            "\n",
            "Epoch: 0, Step: 999, Train Loss: 0.2770, Valid Loss: 0.2570\n",
            "\n"
          ]
        },
        {
          "output_type": "stream",
          "name": "stderr",
          "text": [
            "Model weights saved in /content/checkpoint-999/pytorch_model.bin\n",
            "Image processor saved in /content/checkpoint-999/preprocessor_config.json\n",
            "/usr/local/lib/python3.10/dist-packages/sklearn/metrics/_classification.py:1344: UndefinedMetricWarning: Precision is ill-defined and being set to 0.0 in labels with no predicted samples. Use `zero_division` parameter to control this behavior.\n",
            "  _warn_prf(average, modifier, msg_start, len(result))\n",
            "/usr/local/lib/python3.10/dist-packages/sklearn/metrics/_classification.py:1344: UndefinedMetricWarning: Precision and F-score are ill-defined and being set to 0.0 in labels with no predicted samples. Use `zero_division` parameter to control this behavior.\n",
            "  _warn_prf(average, modifier, msg_start, len(result))\n"
          ]
        },
        {
          "output_type": "stream",
          "name": "stdout",
          "text": [
            "Accuracy: 0.09757661238620335\n",
            "Precision: 0.34546025249484663\n",
            "Recall: 0.050103491914520265\n",
            "F1-Score: 0.06671633160748923\n",
            "              precision    recall  f1-score   support\n",
            "\n",
            "           0       0.69      0.03      0.05      1044\n",
            "           1       1.00      0.01      0.02       821\n",
            "           2       0.94      0.11      0.19       306\n",
            "           3       0.00      0.00      0.00       411\n",
            "           4       0.77      0.28      0.41      2611\n",
            "           5       0.00      0.00      0.00      1163\n",
            "           6       1.00      0.00      0.01       629\n",
            "           7       0.67      0.60      0.64      4142\n",
            "           8       0.86      0.10      0.19       518\n",
            "           9       0.00      0.00      0.00       585\n",
            "          10       0.00      0.00      0.00       102\n",
            "          11       0.00      0.00      0.00       345\n",
            "          12       0.50      0.01      0.01       825\n",
            "          13       0.00      0.00      0.00       311\n",
            "          14       0.00      0.00      0.00       253\n",
            "          15       0.00      0.00      0.00       617\n",
            "          16       0.71      0.00      0.01      1590\n",
            "          17       0.00      0.00      0.00       586\n",
            "          18       0.00      0.00      0.00       142\n",
            "          19       0.00      0.00      0.00       191\n",
            "          20       0.80      0.00      0.01      1567\n",
            "          21       0.00      0.00      0.00       401\n",
            "          22       0.00      0.00      0.00       210\n",
            "\n",
            "   micro avg       0.69      0.17      0.28     19370\n",
            "   macro avg       0.35      0.05      0.07     19370\n",
            "weighted avg       0.54      0.17      0.20     19370\n",
            " samples avg       0.41      0.23      0.27     19370\n",
            "\n"
          ]
        },
        {
          "output_type": "stream",
          "name": "stderr",
          "text": [
            "/usr/local/lib/python3.10/dist-packages/sklearn/metrics/_classification.py:1344: UndefinedMetricWarning: Precision and F-score are ill-defined and being set to 0.0 in samples with no predicted labels. Use `zero_division` parameter to control this behavior.\n",
            "  _warn_prf(average, modifier, msg_start, len(result))\n",
            "Training:   5%|▌         | 1458/29160 [35:45<10:07:53,  1.32s/it]\n",
            "Training:   5%|▌         | 1458/29160 [35:45<11:19:25,  1.47s/it]\n",
            "\n",
            "Training:   0%|          | 1/27702 [00:01<11:07:47,  1.45s/it]\u001b[A\n",
            "Training:   0%|          | 2/27702 [00:02<11:05:54,  1.44s/it]\u001b[A\n",
            "Training:   0%|          | 3/27702 [00:04<10:56:33,  1.42s/it]\u001b[A\n",
            "Training:   0%|          | 4/27702 [00:05<10:53:11,  1.41s/it]\u001b[A\n",
            "Training:   0%|          | 5/27702 [00:07<10:37:13,  1.38s/it]\u001b[A\n",
            "Training:   0%|          | 6/27702 [00:08<10:23:12,  1.35s/it]\u001b[A\n",
            "Training:   0%|          | 7/27702 [00:09<10:16:25,  1.34s/it]\u001b[A\n",
            "Training:   0%|          | 8/27702 [00:10<10:13:48,  1.33s/it]\u001b[A\n",
            "Training:   0%|          | 9/27702 [00:12<10:11:18,  1.32s/it]\u001b[A\n",
            "Training:   0%|          | 10/27702 [00:13<10:10:08,  1.32s/it]\u001b[A\n",
            "Training:   0%|          | 11/27702 [00:14<10:07:55,  1.32s/it]\u001b[A\n",
            "Training:   0%|          | 12/27702 [00:16<10:20:22,  1.34s/it]\u001b[A\n",
            "Training:   0%|          | 13/27702 [00:17<10:30:29,  1.37s/it]\u001b[A\n",
            "Training:   0%|          | 14/27702 [00:19<10:35:23,  1.38s/it]\u001b[A\n",
            "Training:   0%|          | 15/27702 [00:20<10:30:11,  1.37s/it]\u001b[A\n",
            "Training:   0%|          | 16/27702 [00:21<10:21:47,  1.35s/it]\u001b[A\n",
            "Training:   0%|          | 17/27702 [00:23<10:15:45,  1.33s/it]\u001b[A\n",
            "Training:   0%|          | 18/27702 [00:24<10:11:54,  1.33s/it]\u001b[A\n",
            "Training:   0%|          | 19/27702 [00:25<10:10:50,  1.32s/it]\u001b[A\n",
            "Training:   0%|          | 20/27702 [00:26<10:06:53,  1.32s/it]\u001b[A\n",
            "Training:   0%|          | 21/27702 [00:28<10:03:36,  1.31s/it]\u001b[A\n",
            "Training:   0%|          | 22/27702 [00:29<10:04:06,  1.31s/it]\u001b[A\n",
            "Training:   0%|          | 23/27702 [00:30<10:17:50,  1.34s/it]\u001b[A\n",
            "Training:   0%|          | 24/27702 [00:32<10:33:37,  1.37s/it]\u001b[A\n",
            "Training:   0%|          | 25/27702 [00:33<10:39:59,  1.39s/it]\u001b[A\n",
            "Training:   0%|          | 26/27702 [00:35<10:40:45,  1.39s/it]\u001b[A\n",
            "Training:   0%|          | 27/27702 [00:36<10:27:19,  1.36s/it]\u001b[A\n",
            "Training:   0%|          | 28/27702 [00:37<10:20:01,  1.34s/it]\u001b[A\n",
            "Training:   0%|          | 29/27702 [00:39<10:13:54,  1.33s/it]\u001b[A\n",
            "Training:   0%|          | 30/27702 [00:40<10:08:26,  1.32s/it]\u001b[A\n",
            "Training:   0%|          | 31/27702 [00:41<10:08:20,  1.32s/it]\u001b[A\n",
            "Training:   0%|          | 32/27702 [00:43<10:06:20,  1.31s/it]\u001b[A\n",
            "Training:   0%|          | 33/27702 [00:44<10:04:49,  1.31s/it]\u001b[A\n",
            "Training:   0%|          | 34/27702 [00:45<10:20:43,  1.35s/it]\u001b[A\n",
            "Training:   0%|          | 35/27702 [00:47<10:28:29,  1.36s/it]\u001b[A\n",
            "Training:   0%|          | 36/27702 [00:48<10:32:07,  1.37s/it]\u001b[A\n",
            "Training:   0%|          | 37/27702 [00:49<10:35:57,  1.38s/it]\u001b[A\n",
            "Training:   0%|          | 38/27702 [00:51<10:24:42,  1.35s/it]\u001b[A\n",
            "Training:   0%|          | 39/27702 [00:52<10:16:42,  1.34s/it]\u001b[A\n",
            "Training:   0%|          | 40/27702 [00:53<10:12:01,  1.33s/it]\u001b[A\n",
            "Training:   0%|          | 41/27702 [00:55<10:06:54,  1.32s/it]\u001b[A\n",
            "Training:   0%|          | 42/27702 [00:56<10:04:14,  1.31s/it]\u001b[A\n",
            "Training:   0%|          | 43/27702 [00:57<10:03:03,  1.31s/it]\u001b[A\n",
            "Training:   0%|          | 44/27702 [00:59<10:05:25,  1.31s/it]\u001b[A\n",
            "Training:   0%|          | 45/27702 [01:00<10:17:35,  1.34s/it]\u001b[A\n",
            "Training:   0%|          | 46/27702 [01:01<10:31:11,  1.37s/it]\u001b[A\n",
            "Training:   0%|          | 47/27702 [01:03<10:35:56,  1.38s/it]\u001b[A\n",
            "Training:   0%|          | 48/27702 [01:04<10:39:14,  1.39s/it]\u001b[A\n",
            "Training:   0%|          | 49/27702 [01:06<10:30:16,  1.37s/it]\u001b[A\n",
            "Training:   0%|          | 50/27702 [01:07<10:19:35,  1.34s/it]\u001b[A\n",
            "Training:   0%|          | 51/27702 [01:08<10:13:11,  1.33s/it]\u001b[A\n",
            "Training:   0%|          | 52/27702 [01:09<10:08:06,  1.32s/it]\u001b[A\n",
            "Training:   0%|          | 53/27702 [01:11<10:05:57,  1.31s/it]\u001b[A\n",
            "Training:   0%|          | 54/27702 [01:12<10:05:54,  1.31s/it]\u001b[A\n",
            "Training:   0%|          | 55/27702 [01:13<10:03:14,  1.31s/it]\u001b[A\n",
            "Training:   0%|          | 56/27702 [01:15<10:16:47,  1.34s/it]\u001b[A\n",
            "Training:   0%|          | 57/27702 [01:16<10:27:29,  1.36s/it]\u001b[A\n",
            "Training:   0%|          | 58/27702 [01:18<10:33:22,  1.37s/it]\u001b[A\n",
            "Training:   0%|          | 59/27702 [01:19<10:36:25,  1.38s/it]\u001b[A\n",
            "Training:   0%|          | 60/27702 [01:20<10:24:46,  1.36s/it]\u001b[A\n",
            "Training:   0%|          | 61/27702 [01:22<10:18:44,  1.34s/it]\u001b[A\n",
            "Training:   0%|          | 62/27702 [01:23<10:12:41,  1.33s/it]\u001b[A\n",
            "Training:   0%|          | 63/27702 [01:24<10:07:24,  1.32s/it]\u001b[A\n",
            "Training:   0%|          | 64/27702 [01:25<10:03:41,  1.31s/it]\u001b[A\n",
            "Training:   0%|          | 65/27702 [01:27<10:00:56,  1.30s/it]\u001b[A\n",
            "Training:   0%|          | 66/27702 [01:28<10:00:06,  1.30s/it]\u001b[A\n",
            "Training:   0%|          | 67/27702 [01:29<10:15:51,  1.34s/it]\u001b[A\n",
            "Training:   0%|          | 68/27702 [01:31<10:28:31,  1.36s/it]\u001b[A\n",
            "Training:   0%|          | 69/27702 [01:32<10:37:15,  1.38s/it]\u001b[A\n",
            "Training:   0%|          | 70/27702 [01:34<10:40:19,  1.39s/it]\u001b[A\n",
            "Training:   0%|          | 71/27702 [01:35<10:27:10,  1.36s/it]\u001b[A\n",
            "Training:   0%|          | 72/27702 [01:36<10:17:59,  1.34s/it]\u001b[A\n",
            "Training:   0%|          | 73/27702 [01:38<10:12:33,  1.33s/it]\u001b[A\n",
            "Training:   0%|          | 74/27702 [01:39<10:07:30,  1.32s/it]\u001b[A\n",
            "Training:   0%|          | 75/27702 [01:40<10:03:19,  1.31s/it]\u001b[A\n",
            "Training:   0%|          | 76/27702 [01:42<10:01:23,  1.31s/it]\u001b[A\n",
            "Training:   0%|          | 77/27702 [01:43<10:02:59,  1.31s/it]\u001b[A\n",
            "Training:   0%|          | 78/27702 [01:44<10:12:30,  1.33s/it]\u001b[A\n",
            "Training:   0%|          | 79/27702 [01:46<10:25:47,  1.36s/it]\u001b[A\n",
            "Training:   0%|          | 80/27702 [01:47<10:37:25,  1.38s/it]\u001b[A\n",
            "Training:   0%|          | 81/27702 [01:48<10:39:10,  1.39s/it]\u001b[A\n",
            "Training:   0%|          | 82/27702 [01:50<10:22:49,  1.35s/it]\u001b[A\n",
            "Training:   0%|          | 83/27702 [01:51<10:16:36,  1.34s/it]\u001b[A\n",
            "Training:   0%|          | 84/27702 [01:52<10:09:44,  1.32s/it]\u001b[A\n",
            "Training:   0%|          | 85/27702 [01:54<10:06:02,  1.32s/it]\u001b[A\n",
            "Training:   0%|          | 86/27702 [01:55<10:06:13,  1.32s/it]\u001b[A\n",
            "Training:   0%|          | 87/27702 [01:56<10:04:37,  1.31s/it]\u001b[A\n",
            "Training:   0%|          | 88/27702 [01:58<10:01:40,  1.31s/it]\u001b[A\n",
            "Training:   0%|          | 89/27702 [01:59<10:12:09,  1.33s/it]\u001b[A\n",
            "Training:   0%|          | 90/27702 [02:00<10:24:05,  1.36s/it]\u001b[A\n",
            "Training:   0%|          | 91/27702 [02:02<10:31:50,  1.37s/it]\u001b[A\n",
            "Training:   0%|          | 92/27702 [02:03<10:36:45,  1.38s/it]\u001b[A\n",
            "Training:   0%|          | 93/27702 [02:04<10:25:17,  1.36s/it]\u001b[A\n",
            "Training:   0%|          | 94/27702 [02:06<10:17:50,  1.34s/it]\u001b[A\n",
            "Training:   0%|          | 95/27702 [02:07<10:12:47,  1.33s/it]\u001b[A\n",
            "Training:   0%|          | 96/27702 [02:08<10:08:31,  1.32s/it]\u001b[A\n",
            "Training:   0%|          | 97/27702 [02:10<10:05:19,  1.32s/it]\u001b[A\n",
            "Training:   0%|          | 98/27702 [02:11<10:01:36,  1.31s/it]\u001b[A\n",
            "Training:   0%|          | 99/27702 [02:12<10:00:31,  1.31s/it]\u001b[A\n",
            "Training:   0%|          | 100/27702 [02:14<10:01:54,  1.31s/it]\u001b[A\n",
            "Training:   0%|          | 101/27702 [02:15<10:18:30,  1.34s/it]\u001b[A\n",
            "Training:   0%|          | 102/27702 [02:16<10:28:38,  1.37s/it]\u001b[A\n",
            "Training:   0%|          | 103/27702 [02:18<10:37:51,  1.39s/it]\u001b[A\n",
            "Training:   0%|          | 104/27702 [02:19<10:24:24,  1.36s/it]\u001b[A\n",
            "Training:   0%|          | 105/27702 [02:20<10:16:28,  1.34s/it]\u001b[A\n",
            "Training:   0%|          | 106/27702 [02:22<10:11:12,  1.33s/it]\u001b[A\n",
            "Training:   0%|          | 107/27702 [02:23<10:06:57,  1.32s/it]\u001b[A\n",
            "Training:   0%|          | 108/27702 [02:24<10:04:10,  1.31s/it]\u001b[A\n",
            "Training:   0%|          | 109/27702 [02:26<10:01:46,  1.31s/it]\u001b[A\n",
            "Training:   0%|          | 110/27702 [02:27<10:02:12,  1.31s/it]\u001b[A\n",
            "Training:   0%|          | 111/27702 [02:28<9:59:53,  1.30s/it] \u001b[A\n",
            "Training:   0%|          | 112/27702 [02:30<10:14:48,  1.34s/it]\u001b[A\n",
            "Training:   0%|          | 113/27702 [02:31<10:28:07,  1.37s/it]\u001b[A\n",
            "Training:   0%|          | 114/27702 [02:33<10:34:04,  1.38s/it]\u001b[A\n",
            "Training:   0%|          | 115/27702 [02:34<10:19:26,  1.35s/it]\u001b[A\n",
            "Training:   0%|          | 116/27702 [02:35<10:14:46,  1.34s/it]\u001b[A\n",
            "Training:   0%|          | 117/27702 [02:36<10:08:51,  1.32s/it]\u001b[A\n",
            "Training:   0%|          | 118/27702 [02:38<10:07:26,  1.32s/it]\u001b[A\n",
            "Training:   0%|          | 119/27702 [02:39<10:06:37,  1.32s/it]\u001b[A\n",
            "Training:   0%|          | 120/27702 [02:40<10:22:15,  1.35s/it]\u001b[A\n",
            "Training:   0%|          | 121/27702 [02:42<10:33:22,  1.38s/it]\u001b[A\n",
            "Training:   0%|          | 122/27702 [02:43<10:37:59,  1.39s/it]\u001b[A\n",
            "Training:   0%|          | 123/27702 [02:45<10:44:59,  1.40s/it]\u001b[A\n",
            "Training:   0%|          | 124/27702 [02:46<10:55:30,  1.43s/it]\u001b[A\n",
            "Training:   0%|          | 125/27702 [02:48<10:53:10,  1.42s/it]\u001b[A\n",
            "Training:   0%|          | 126/27702 [02:49<10:52:17,  1.42s/it]\u001b[A\n",
            "Training:   0%|          | 127/27702 [02:50<10:35:34,  1.38s/it]\u001b[A\n",
            "Training:   0%|          | 128/27702 [02:52<10:25:59,  1.36s/it]\u001b[A\n",
            "Training:   0%|          | 129/27702 [02:53<10:18:47,  1.35s/it]\u001b[A\n",
            "Training:   0%|          | 130/27702 [02:54<10:14:42,  1.34s/it]\u001b[A\n",
            "Training:   0%|          | 131/27702 [02:56<10:08:37,  1.32s/it]\u001b[A\n",
            "Training:   0%|          | 132/27702 [02:57<10:08:55,  1.33s/it]\u001b[A\n",
            "Training:   0%|          | 133/27702 [02:58<10:06:11,  1.32s/it]\u001b[A\n",
            "Training:   0%|          | 134/27702 [03:00<10:07:09,  1.32s/it]\u001b[A\n",
            "Training:   0%|          | 135/27702 [03:01<10:21:25,  1.35s/it]\u001b[A\n",
            "Training:   0%|          | 136/27702 [03:02<10:29:22,  1.37s/it]\u001b[A\n",
            "Training:   0%|          | 137/27702 [03:04<10:38:37,  1.39s/it]\u001b[A\n",
            "Training:   0%|          | 138/27702 [03:05<10:30:22,  1.37s/it]\u001b[A\n",
            "Training:   1%|          | 139/27702 [03:06<10:20:29,  1.35s/it]\u001b[A\n",
            "Training:   1%|          | 140/27702 [03:08<10:14:56,  1.34s/it]\u001b[A\n",
            "Training:   1%|          | 141/27702 [03:09<10:10:20,  1.33s/it]\u001b[A\n",
            "Training:   1%|          | 142/27702 [03:10<10:09:02,  1.33s/it]\u001b[A\n",
            "Training:   1%|          | 143/27702 [03:12<10:05:04,  1.32s/it]\u001b[A\n",
            "Training:   1%|          | 144/27702 [03:13<10:02:48,  1.31s/it]\u001b[A\n",
            "Training:   1%|          | 145/27702 [03:14<10:02:53,  1.31s/it]\u001b[A\n",
            "Training:   1%|          | 146/27702 [03:16<10:17:19,  1.34s/it]\u001b[A\n",
            "Training:   1%|          | 147/27702 [03:17<10:28:31,  1.37s/it]\u001b[A\n",
            "Training:   1%|          | 148/27702 [03:19<10:32:33,  1.38s/it]\u001b[A\n",
            "Training:   1%|          | 149/27702 [03:20<10:20:23,  1.35s/it]\u001b[A\n",
            "Training:   1%|          | 150/27702 [03:21<10:13:51,  1.34s/it]\u001b[A\n",
            "Training:   1%|          | 151/27702 [03:22<10:05:24,  1.32s/it]\u001b[A\n",
            "Training:   1%|          | 152/27702 [03:24<10:03:22,  1.31s/it]\u001b[A\n",
            "Training:   1%|          | 153/27702 [03:25<10:02:11,  1.31s/it]\u001b[A\n",
            "Training:   1%|          | 154/27702 [03:26<10:00:30,  1.31s/it]\u001b[A\n",
            "Training:   1%|          | 155/27702 [03:28<10:01:13,  1.31s/it]\u001b[A\n",
            "Training:   1%|          | 156/27702 [03:29<9:59:41,  1.31s/it] \u001b[A\n",
            "Training:   1%|          | 157/27702 [03:30<10:16:04,  1.34s/it]\u001b[A\n",
            "Training:   1%|          | 158/27702 [03:32<10:26:09,  1.36s/it]\u001b[A\n",
            "Training:   1%|          | 159/27702 [03:33<10:32:43,  1.38s/it]\u001b[A\n",
            "Training:   1%|          | 160/27702 [03:34<10:21:57,  1.35s/it]\u001b[A\n",
            "Training:   1%|          | 161/27702 [03:36<10:13:21,  1.34s/it]\u001b[A\n",
            "Training:   1%|          | 162/27702 [03:37<10:08:48,  1.33s/it]\u001b[A\n",
            "Training:   1%|          | 163/27702 [03:38<10:05:36,  1.32s/it]\u001b[A\n",
            "Training:   1%|          | 164/27702 [03:40<10:01:56,  1.31s/it]\u001b[A\n",
            "Training:   1%|          | 165/27702 [03:41<10:01:41,  1.31s/it]\u001b[A\n",
            "Training:   1%|          | 166/27702 [03:42<9:59:16,  1.31s/it] \u001b[A\n",
            "Training:   1%|          | 167/27702 [03:44<9:58:44,  1.30s/it]\u001b[A\n",
            "Training:   1%|          | 168/27702 [03:45<10:12:51,  1.34s/it]\u001b[A\n",
            "Training:   1%|          | 169/27702 [03:46<10:22:46,  1.36s/it]\u001b[A\n",
            "Training:   1%|          | 170/27702 [03:48<10:30:41,  1.37s/it]\u001b[A\n",
            "Training:   1%|          | 171/27702 [03:49<10:19:46,  1.35s/it]\u001b[A\n",
            "Training:   1%|          | 172/27702 [03:50<10:12:58,  1.34s/it]\u001b[A\n",
            "Training:   1%|          | 173/27702 [03:52<10:08:05,  1.33s/it]\u001b[A\n",
            "Training:   1%|          | 174/27702 [03:53<10:02:57,  1.31s/it]\u001b[A\n",
            "Training:   1%|          | 175/27702 [03:54<9:59:43,  1.31s/it] \u001b[A\n",
            "Training:   1%|          | 176/27702 [03:56<9:59:22,  1.31s/it]\u001b[A\n",
            "Training:   1%|          | 177/27702 [03:57<9:59:18,  1.31s/it]\u001b[A\n",
            "Training:   1%|          | 178/27702 [03:58<9:57:28,  1.30s/it]\u001b[A\n",
            "Training:   1%|          | 179/27702 [04:00<10:14:59,  1.34s/it]\u001b[A\n",
            "Training:   1%|          | 180/27702 [04:01<10:25:47,  1.36s/it]\u001b[A\n",
            "Training:   1%|          | 181/27702 [04:02<10:29:44,  1.37s/it]\u001b[A\n",
            "Training:   1%|          | 182/27702 [04:04<10:18:21,  1.35s/it]\u001b[A\n",
            "Training:   1%|          | 183/27702 [04:05<10:11:39,  1.33s/it]\u001b[A\n",
            "Training:   1%|          | 184/27702 [04:06<10:04:16,  1.32s/it]\u001b[A\n",
            "Training:   1%|          | 185/27702 [04:08<10:00:55,  1.31s/it]\u001b[A\n",
            "Training:   1%|          | 186/27702 [04:09<10:01:57,  1.31s/it]\u001b[A\n",
            "Training:   1%|          | 187/27702 [04:10<9:58:50,  1.31s/it] \u001b[A\n",
            "Training:   1%|          | 188/27702 [04:12<10:00:13,  1.31s/it]\u001b[A\n",
            "Training:   1%|          | 189/27702 [04:13<9:59:45,  1.31s/it] \u001b[A\n",
            "Training:   1%|          | 190/27702 [04:14<10:14:31,  1.34s/it]\u001b[A\n",
            "Training:   1%|          | 191/27702 [04:16<10:25:33,  1.36s/it]\u001b[A\n",
            "Training:   1%|          | 192/27702 [04:17<10:32:33,  1.38s/it]\u001b[A\n",
            "Training:   1%|          | 193/27702 [04:18<10:22:21,  1.36s/it]\u001b[A\n",
            "Training:   1%|          | 194/27702 [04:20<10:14:05,  1.34s/it]\u001b[A\n",
            "Training:   1%|          | 195/27702 [04:21<10:07:59,  1.33s/it]\u001b[A\n",
            "Training:   1%|          | 196/27702 [04:22<10:04:08,  1.32s/it]\u001b[A\n",
            "Training:   1%|          | 197/27702 [04:24<10:00:47,  1.31s/it]\u001b[A\n",
            "Training:   1%|          | 198/27702 [04:25<10:00:01,  1.31s/it]\u001b[A\n",
            "Training:   1%|          | 199/27702 [04:26<9:58:33,  1.31s/it] \u001b[A\n",
            "Training:   1%|          | 200/27702 [04:27<9:58:28,  1.31s/it]\u001b[A\n",
            "Training:   1%|          | 201/27702 [04:29<10:14:23,  1.34s/it]\u001b[A\n",
            "Training:   1%|          | 202/27702 [04:30<10:21:28,  1.36s/it]\u001b[A\n",
            "Training:   1%|          | 203/27702 [04:32<10:29:45,  1.37s/it]\u001b[A\n",
            "Training:   1%|          | 204/27702 [04:33<10:32:10,  1.38s/it]\u001b[A\n",
            "Training:   1%|          | 205/27702 [04:34<10:20:23,  1.35s/it]\u001b[A\n",
            "Training:   1%|          | 206/27702 [04:36<10:13:28,  1.34s/it]\u001b[A\n",
            "Training:   1%|          | 207/27702 [04:37<10:10:13,  1.33s/it]\u001b[A\n",
            "Training:   1%|          | 208/27702 [04:38<10:05:51,  1.32s/it]\u001b[A\n",
            "Training:   1%|          | 209/27702 [04:40<10:05:49,  1.32s/it]\u001b[A\n",
            "Training:   1%|          | 210/27702 [04:41<10:05:50,  1.32s/it]\u001b[A\n",
            "Training:   1%|          | 211/27702 [04:42<10:01:44,  1.31s/it]\u001b[A\n",
            "Training:   1%|          | 212/27702 [04:44<10:18:31,  1.35s/it]\u001b[A\n",
            "Training:   1%|          | 213/27702 [04:45<10:29:49,  1.37s/it]\u001b[A\n",
            "Training:   1%|          | 214/27702 [04:47<10:35:47,  1.39s/it]\u001b[A\n",
            "Training:   1%|          | 215/27702 [04:48<10:40:19,  1.40s/it]\u001b[A\n",
            "Training:   1%|          | 216/27702 [04:49<10:26:38,  1.37s/it]\u001b[A\n",
            "Training:   1%|          | 217/27702 [04:51<10:19:20,  1.35s/it]\u001b[A\n",
            "Training:   1%|          | 218/27702 [04:52<10:10:57,  1.33s/it]\u001b[A\n",
            "Training:   1%|          | 219/27702 [04:53<10:06:12,  1.32s/it]\u001b[A\n",
            "Training:   1%|          | 220/27702 [04:54<10:05:04,  1.32s/it]\u001b[A\n",
            "Training:   1%|          | 221/27702 [04:56<10:01:11,  1.31s/it]\u001b[A\n",
            "Training:   1%|          | 222/27702 [04:57<10:00:53,  1.31s/it]\u001b[A\n",
            "Training:   1%|          | 223/27702 [04:58<10:14:41,  1.34s/it]\u001b[A\n",
            "Training:   1%|          | 224/27702 [05:00<10:27:03,  1.37s/it]\u001b[A\n",
            "Training:   1%|          | 225/27702 [05:01<10:33:12,  1.38s/it]\u001b[A\n",
            "Training:   1%|          | 226/27702 [05:03<10:34:38,  1.39s/it]\u001b[A\n",
            "Training:   1%|          | 227/27702 [05:04<10:23:40,  1.36s/it]\u001b[A\n",
            "Training:   1%|          | 228/27702 [05:05<10:15:10,  1.34s/it]\u001b[A\n",
            "Training:   1%|          | 229/27702 [05:07<10:09:03,  1.33s/it]\u001b[A\n",
            "Training:   1%|          | 230/27702 [05:08<10:02:59,  1.32s/it]\u001b[A\n",
            "Training:   1%|          | 231/27702 [05:09<10:00:17,  1.31s/it]\u001b[A\n",
            "Training:   1%|          | 232/27702 [05:11<9:59:14,  1.31s/it] \u001b[A\n",
            "Training:   1%|          | 233/27702 [05:12<9:59:27,  1.31s/it]\u001b[A\n",
            "Training:   1%|          | 234/27702 [05:13<10:11:12,  1.34s/it]\u001b[A\n",
            "Training:   1%|          | 235/27702 [05:15<10:23:38,  1.36s/it]\u001b[A\n",
            "Training:   1%|          | 236/27702 [05:16<10:29:46,  1.38s/it]\u001b[A\n",
            "Training:   1%|          | 237/27702 [05:17<10:35:11,  1.39s/it]\u001b[A\n",
            "Training:   1%|          | 238/27702 [05:19<10:24:54,  1.37s/it]\u001b[A\n",
            "Training:   1%|          | 239/27702 [05:20<10:14:53,  1.34s/it]\u001b[A\n",
            "Training:   1%|          | 240/27702 [05:21<10:08:46,  1.33s/it]\u001b[A\n",
            "Training:   1%|          | 241/27702 [05:23<10:05:32,  1.32s/it]\u001b[A\n",
            "Training:   1%|          | 242/27702 [05:24<10:04:24,  1.32s/it]\u001b[A\n",
            "Training:   1%|          | 243/27702 [05:25<10:01:14,  1.31s/it]\u001b[A\n",
            "Training:   1%|          | 244/27702 [05:27<10:00:28,  1.31s/it]\u001b[A\n",
            "Training:   1%|          | 245/27702 [05:28<10:14:02,  1.34s/it]\u001b[A\n",
            "Training:   1%|          | 246/27702 [05:29<10:24:49,  1.37s/it]\u001b[A\n",
            "Training:   1%|          | 247/27702 [05:31<10:31:07,  1.38s/it]\u001b[A\n",
            "Training:   1%|          | 248/27702 [05:32<10:33:52,  1.39s/it]\u001b[A\n",
            "Training:   1%|          | 249/27702 [05:34<10:21:55,  1.36s/it]\u001b[A\n",
            "Training:   1%|          | 250/27702 [05:35<10:15:56,  1.35s/it]\u001b[A\n",
            "Training:   1%|          | 251/27702 [05:36<10:10:12,  1.33s/it]\u001b[A\n",
            "Training:   1%|          | 252/27702 [05:37<10:05:12,  1.32s/it]\u001b[A\n",
            "Training:   1%|          | 253/27702 [05:39<10:00:31,  1.31s/it]\u001b[A\n",
            "Training:   1%|          | 254/27702 [05:40<9:55:40,  1.30s/it] \u001b[A\n",
            "Training:   1%|          | 255/27702 [05:41<9:57:12,  1.31s/it]\u001b[A\n",
            "Training:   1%|          | 256/27702 [05:43<10:01:06,  1.31s/it]\u001b[A\n",
            "Training:   1%|          | 257/27702 [05:44<10:11:56,  1.34s/it]\u001b[A\n",
            "Training:   1%|          | 258/27702 [05:45<10:20:07,  1.36s/it]\u001b[A\n",
            "Training:   1%|          | 259/27702 [05:47<10:27:45,  1.37s/it]\u001b[A\n",
            "Training:   1%|          | 260/27702 [05:48<10:17:10,  1.35s/it]\u001b[A\n",
            "Training:   1%|          | 261/27702 [05:49<10:11:38,  1.34s/it]\u001b[A\n",
            "Training:   1%|          | 262/27702 [05:51<10:02:47,  1.32s/it]\u001b[A\n",
            "Training:   1%|          | 263/27702 [05:52<9:59:26,  1.31s/it] \u001b[A\n",
            "Training:   1%|          | 264/27702 [05:53<9:56:44,  1.30s/it]\u001b[A\n",
            "Training:   1%|          | 265/27702 [05:55<9:57:51,  1.31s/it]\u001b[A\n",
            "Training:   1%|          | 266/27702 [05:56<9:56:19,  1.30s/it]\u001b[A\n",
            "Training:   1%|          | 267/27702 [05:57<9:54:24,  1.30s/it]\u001b[A\n",
            "Training:   1%|          | 268/27702 [05:59<10:12:55,  1.34s/it]\u001b[A\n",
            "Training:   1%|          | 269/27702 [06:00<10:23:34,  1.36s/it]\u001b[A\n",
            "Training:   1%|          | 270/27702 [06:02<10:32:39,  1.38s/it]\u001b[A\n",
            "Training:   1%|          | 271/27702 [06:03<10:24:04,  1.37s/it]\u001b[A\n",
            "Training:   1%|          | 272/27702 [06:04<10:15:17,  1.35s/it]\u001b[A\n",
            "Training:   1%|          | 273/27702 [06:05<10:09:09,  1.33s/it]\u001b[A\n",
            "Training:   1%|          | 274/27702 [06:07<10:04:23,  1.32s/it]\u001b[A\n",
            "Training:   1%|          | 275/27702 [06:08<10:02:05,  1.32s/it]\u001b[A\n",
            "Training:   1%|          | 276/27702 [06:09<9:57:51,  1.31s/it] \u001b[A\n",
            "Training:   1%|          | 277/27702 [06:11<9:58:40,  1.31s/it]\u001b[A\n",
            "Training:   1%|          | 278/27702 [06:12<9:57:38,  1.31s/it]\u001b[A\n",
            "Training:   1%|          | 279/27702 [06:13<10:13:11,  1.34s/it]\u001b[A\n",
            "Training:   1%|          | 280/27702 [06:15<10:25:17,  1.37s/it]\u001b[A\n",
            "Training:   1%|          | 281/27702 [06:16<10:30:35,  1.38s/it]\u001b[A\n",
            "Training:   1%|          | 282/27702 [06:18<10:22:07,  1.36s/it]\u001b[A\n",
            "Training:   1%|          | 283/27702 [06:19<10:15:41,  1.35s/it]\u001b[A\n",
            "Training:   1%|          | 284/27702 [06:20<10:09:36,  1.33s/it]\u001b[A\n",
            "Training:   1%|          | 285/27702 [06:21<10:05:36,  1.33s/it]\u001b[A\n",
            "Training:   1%|          | 286/27702 [06:23<10:02:14,  1.32s/it]\u001b[A\n",
            "Training:   1%|          | 287/27702 [06:24<10:00:41,  1.31s/it]\u001b[A\n",
            "Training:   1%|          | 288/27702 [06:25<9:58:45,  1.31s/it] \u001b[A\n",
            "Training:   1%|          | 289/27702 [06:27<9:56:48,  1.31s/it]\u001b[A\n",
            "Training:   1%|          | 290/27702 [06:28<10:10:25,  1.34s/it]\u001b[A\n",
            "Training:   1%|          | 291/27702 [06:29<10:19:29,  1.36s/it]\u001b[A\n",
            "Training:   1%|          | 292/27702 [06:31<10:27:46,  1.37s/it]\u001b[A\n",
            "Training:   1%|          | 293/27702 [06:32<10:22:39,  1.36s/it]\u001b[A\n",
            "Training:   1%|          | 294/27702 [06:34<10:15:23,  1.35s/it]\u001b[A\n",
            "Training:   1%|          | 295/27702 [06:35<10:24:38,  1.37s/it]\u001b[A\n",
            "Training:   1%|          | 296/27702 [06:36<10:32:36,  1.38s/it]\u001b[A\n",
            "Training:   1%|          | 297/27702 [06:38<10:35:57,  1.39s/it]\u001b[A\n",
            "Training:   1%|          | 298/27702 [06:39<10:38:11,  1.40s/it]\u001b[A\n",
            "Training:   1%|          | 299/27702 [06:41<10:24:51,  1.37s/it]\u001b[A\n",
            "Training:   1%|          | 300/27702 [06:42<10:14:28,  1.35s/it]\u001b[A\n",
            "Training:   1%|          | 301/27702 [06:43<10:23:00,  1.36s/it]\u001b[A\n",
            "Training:   1%|          | 302/27702 [06:45<10:28:32,  1.38s/it]\u001b[A\n",
            "Training:   1%|          | 303/27702 [06:46<10:32:29,  1.39s/it]\u001b[A\n",
            "Training:   1%|          | 304/27702 [06:47<10:22:23,  1.36s/it]\u001b[A\n",
            "Training:   1%|          | 305/27702 [06:49<10:13:17,  1.34s/it]\u001b[A\n",
            "Training:   1%|          | 306/27702 [06:50<10:06:56,  1.33s/it]\u001b[A\n",
            "Training:   1%|          | 307/27702 [06:51<10:02:43,  1.32s/it]\u001b[A\n",
            "Training:   1%|          | 308/27702 [06:53<10:01:49,  1.32s/it]\u001b[A\n",
            "Training:   1%|          | 309/27702 [06:54<9:57:52,  1.31s/it] \u001b[A\n",
            "Training:   1%|          | 310/27702 [06:55<9:56:16,  1.31s/it]\u001b[A\n",
            "Training:   1%|          | 311/27702 [06:56<9:54:35,  1.30s/it]\u001b[A\n",
            "Training:   1%|          | 312/27702 [06:58<10:10:00,  1.34s/it]\u001b[A\n",
            "Training:   1%|          | 313/27702 [06:59<10:18:49,  1.36s/it]\u001b[A\n",
            "Training:   1%|          | 314/27702 [07:01<10:28:59,  1.38s/it]\u001b[A\n",
            "Training:   1%|          | 315/27702 [07:02<10:25:41,  1.37s/it]\u001b[A\n",
            "Training:   1%|          | 316/27702 [07:03<10:15:42,  1.35s/it]\u001b[A\n",
            "Training:   1%|          | 317/27702 [07:05<10:09:28,  1.34s/it]\u001b[A\n",
            "Training:   1%|          | 318/27702 [07:06<10:01:51,  1.32s/it]\u001b[A\n",
            "Training:   1%|          | 319/27702 [07:07<10:00:18,  1.32s/it]\u001b[A\n",
            "Training:   1%|          | 320/27702 [07:09<10:00:10,  1.32s/it]\u001b[A\n",
            "Training:   1%|          | 321/27702 [07:10<9:58:23,  1.31s/it] \u001b[A\n",
            "Training:   1%|          | 322/27702 [07:11<9:57:36,  1.31s/it]\u001b[A\n",
            "Training:   1%|          | 323/27702 [07:13<10:13:47,  1.35s/it]\u001b[A\n",
            "Training:   1%|          | 324/27702 [07:14<10:25:44,  1.37s/it]\u001b[A\n",
            "Training:   1%|          | 325/27702 [07:15<10:30:05,  1.38s/it]\u001b[A\n",
            "Training:   1%|          | 326/27702 [07:17<10:34:55,  1.39s/it]\u001b[A\n",
            "Training:   1%|          | 327/27702 [07:18<10:23:02,  1.37s/it]\u001b[A\n",
            "Training:   1%|          | 328/27702 [07:19<10:13:51,  1.35s/it]\u001b[A\n",
            "Training:   1%|          | 329/27702 [07:21<10:10:39,  1.34s/it]\u001b[A\n",
            "Training:   1%|          | 330/27702 [07:22<10:11:34,  1.34s/it]\u001b[A\n",
            "Training:   1%|          | 331/27702 [07:23<10:06:06,  1.33s/it]\u001b[A\n",
            "Training:   1%|          | 332/27702 [07:25<10:03:38,  1.32s/it]\u001b[A\n",
            "Training:   1%|          | 333/27702 [07:26<10:00:42,  1.32s/it]\u001b[A\n",
            "Training:   1%|          | 334/27702 [07:27<10:15:55,  1.35s/it]\u001b[A\n",
            "Training:   1%|          | 335/27702 [07:29<10:24:19,  1.37s/it]\u001b[A\n",
            "Training:   1%|          | 336/27702 [07:30<10:30:39,  1.38s/it]\u001b[A\n",
            "Training:   1%|          | 337/27702 [07:32<10:29:45,  1.38s/it]\u001b[A\n",
            "Training:   1%|          | 338/27702 [07:33<10:20:23,  1.36s/it]\u001b[A\n",
            "Training:   1%|          | 339/27702 [07:34<10:11:21,  1.34s/it]\u001b[A\n",
            "Training:   1%|          | 340/27702 [07:36<10:06:00,  1.33s/it]\u001b[A\n",
            "Training:   1%|          | 341/27702 [07:37<10:01:23,  1.32s/it]\u001b[A\n",
            "Training:   1%|          | 342/27702 [07:38<9:57:05,  1.31s/it] \u001b[A\n",
            "Training:   1%|          | 343/27702 [07:39<9:54:28,  1.30s/it]\u001b[A\n",
            "Training:   1%|          | 344/27702 [07:41<9:56:03,  1.31s/it]\u001b[A\n",
            "Training:   1%|          | 345/27702 [07:42<10:09:52,  1.34s/it]\u001b[A\n",
            "Training:   1%|          | 346/27702 [07:44<10:19:39,  1.36s/it]\u001b[A\n",
            "Training:   1%|▏         | 347/27702 [07:45<10:28:27,  1.38s/it]\u001b[A\n",
            "Training:   1%|▏         | 348/27702 [07:46<10:35:52,  1.39s/it]\u001b[A\n",
            "Training:   1%|▏         | 349/27702 [07:48<10:24:04,  1.37s/it]\u001b[A\n",
            "Training:   1%|▏         | 350/27702 [07:49<10:15:41,  1.35s/it]\u001b[A\n",
            "Training:   1%|▏         | 351/27702 [07:50<10:08:27,  1.33s/it]\u001b[A\n",
            "Training:   1%|▏         | 352/27702 [07:52<10:03:47,  1.32s/it]\u001b[A\n",
            "Training:   1%|▏         | 353/27702 [07:53<10:02:10,  1.32s/it]\u001b[A\n",
            "Training:   1%|▏         | 354/27702 [07:54<9:56:18,  1.31s/it] \u001b[A\n",
            "Training:   1%|▏         | 355/27702 [07:55<9:54:20,  1.30s/it]\u001b[A\n",
            "Training:   1%|▏         | 356/27702 [07:57<10:09:19,  1.34s/it]\u001b[A\n",
            "Training:   1%|▏         | 357/27702 [07:58<10:21:46,  1.36s/it]\u001b[A\n",
            "Training:   1%|▏         | 358/27702 [08:00<10:27:33,  1.38s/it]\u001b[A\n",
            "Training:   1%|▏         | 359/27702 [08:01<10:31:42,  1.39s/it]\u001b[A\n",
            "Training:   1%|▏         | 360/27702 [08:02<10:20:51,  1.36s/it]\u001b[A\n",
            "Training:   1%|▏         | 361/27702 [08:04<10:14:19,  1.35s/it]\u001b[A\n",
            "Training:   1%|▏         | 362/27702 [08:05<10:08:01,  1.33s/it]\u001b[A\n",
            "Training:   1%|▏         | 363/27702 [08:06<10:03:33,  1.32s/it]\u001b[A\n",
            "Training:   1%|▏         | 364/27702 [08:08<10:01:30,  1.32s/it]\u001b[A\n",
            "Training:   1%|▏         | 365/27702 [08:09<9:57:38,  1.31s/it] \u001b[A\n",
            "Training:   1%|▏         | 366/27702 [08:10<9:59:32,  1.32s/it]\u001b[A\n",
            "Training:   1%|▏         | 367/27702 [08:12<10:15:14,  1.35s/it]\u001b[A\n",
            "Training:   1%|▏         | 368/27702 [08:13<10:26:16,  1.37s/it]\u001b[A\n",
            "Training:   1%|▏         | 369/27702 [08:15<10:33:47,  1.39s/it]\u001b[A\n",
            "Training:   1%|▏         | 370/27702 [08:16<10:35:45,  1.40s/it]\u001b[A\n",
            "Training:   1%|▏         | 371/27702 [08:17<10:22:23,  1.37s/it]\u001b[A\n",
            "Training:   1%|▏         | 372/27702 [08:19<10:12:15,  1.34s/it]\u001b[A\n",
            "Training:   1%|▏         | 373/27702 [08:20<10:05:17,  1.33s/it]\u001b[A\n",
            "Training:   1%|▏         | 374/27702 [08:21<10:00:21,  1.32s/it]\u001b[A\n",
            "Training:   1%|▏         | 375/27702 [08:22<9:56:58,  1.31s/it] \u001b[A\n",
            "Training:   1%|▏         | 376/27702 [08:24<9:55:54,  1.31s/it]\u001b[A\n",
            "Training:   1%|▏         | 377/27702 [08:25<9:53:53,  1.30s/it]\u001b[A\n",
            "Training:   1%|▏         | 378/27702 [08:26<10:05:38,  1.33s/it]\u001b[A\n",
            "Training:   1%|▏         | 379/27702 [08:28<10:19:49,  1.36s/it]\u001b[A\n",
            "Training:   1%|▏         | 380/27702 [08:29<10:26:54,  1.38s/it]\u001b[A\n",
            "Training:   1%|▏         | 381/27702 [08:31<10:32:19,  1.39s/it]\u001b[A\n",
            "Training:   1%|▏         | 382/27702 [08:32<10:21:58,  1.37s/it]\u001b[A\n",
            "Training:   1%|▏         | 383/27702 [08:33<10:13:32,  1.35s/it]\u001b[A\n",
            "Training:   1%|▏         | 384/27702 [08:35<10:06:30,  1.33s/it]\u001b[A\n",
            "Training:   1%|▏         | 385/27702 [08:36<10:02:45,  1.32s/it]\u001b[A\n",
            "Training:   1%|▏         | 386/27702 [08:37<9:58:34,  1.31s/it] \u001b[A\n",
            "Training:   1%|▏         | 387/27702 [08:39<9:59:04,  1.32s/it]\u001b[A\n",
            "Training:   1%|▏         | 388/27702 [08:40<9:54:59,  1.31s/it]\u001b[A\n",
            "Training:   1%|▏         | 389/27702 [08:41<10:00:53,  1.32s/it]\u001b[A\n",
            "Training:   1%|▏         | 390/27702 [08:43<10:12:08,  1.34s/it]\u001b[A\n",
            "Training:   1%|▏         | 391/27702 [08:44<10:16:31,  1.35s/it]\u001b[A\n",
            "Training:   1%|▏         | 392/27702 [08:45<10:23:12,  1.37s/it]\u001b[A\n",
            "Training:   1%|▏         | 393/27702 [08:47<10:14:38,  1.35s/it]\u001b[A\n",
            "Training:   1%|▏         | 394/27702 [08:48<10:08:31,  1.34s/it]\u001b[A\n",
            "Training:   1%|▏         | 395/27702 [08:49<10:02:46,  1.32s/it]\u001b[A\n",
            "Training:   1%|▏         | 396/27702 [08:51<10:02:14,  1.32s/it]\u001b[A\n",
            "Training:   1%|▏         | 397/27702 [08:52<9:57:56,  1.31s/it] \u001b[A\n",
            "Training:   1%|▏         | 398/27702 [08:53<9:54:44,  1.31s/it]\u001b[A\n",
            "Training:   1%|▏         | 399/27702 [08:54<9:53:28,  1.30s/it]\u001b[A\n",
            "Training:   1%|▏         | 400/27702 [08:56<9:52:35,  1.30s/it]\u001b[A\n",
            "Training:   1%|▏         | 401/27702 [08:57<10:09:32,  1.34s/it]\u001b[A\n",
            "Training:   1%|▏         | 402/27702 [08:59<10:21:06,  1.37s/it]\u001b[A\n",
            "Training:   1%|▏         | 403/27702 [09:00<10:26:02,  1.38s/it]\u001b[A\n",
            "Training:   1%|▏         | 404/27702 [09:01<10:14:47,  1.35s/it]\u001b[A\n",
            "Training:   1%|▏         | 405/27702 [09:03<10:07:00,  1.33s/it]\u001b[A\n",
            "Training:   1%|▏         | 406/27702 [09:04<10:03:37,  1.33s/it]\u001b[A\n",
            "Training:   1%|▏         | 407/27702 [09:05<9:59:02,  1.32s/it] \u001b[A\n",
            "Training:   1%|▏         | 408/27702 [09:07<9:57:02,  1.31s/it]\u001b[A\n",
            "Training:   1%|▏         | 409/27702 [09:08<9:57:19,  1.31s/it]\u001b[A\n",
            "Training:   1%|▏         | 410/27702 [09:09<9:54:56,  1.31s/it]\u001b[A\n",
            "Training:   1%|▏         | 411/27702 [09:10<9:54:04,  1.31s/it]\u001b[A\n",
            "Training:   1%|▏         | 412/27702 [09:12<10:07:48,  1.34s/it]\u001b[A\n",
            "Training:   1%|▏         | 413/27702 [09:13<10:19:01,  1.36s/it]\u001b[A\n",
            "Training:   1%|▏         | 414/27702 [09:15<10:26:09,  1.38s/it]\u001b[A\n",
            "Training:   1%|▏         | 415/27702 [09:16<10:14:49,  1.35s/it]\u001b[A\n",
            "Training:   2%|▏         | 416/27702 [09:17<10:07:03,  1.33s/it]\u001b[A\n",
            "Training:   2%|▏         | 417/27702 [09:19<10:02:35,  1.33s/it]\u001b[A\n",
            "Training:   2%|▏         | 418/27702 [09:20<9:59:45,  1.32s/it] \u001b[A\n",
            "Training:   2%|▏         | 419/27702 [09:21<9:59:04,  1.32s/it]\u001b[A\n",
            "Training:   2%|▏         | 420/27702 [09:22<9:57:56,  1.32s/it]\u001b[A\n",
            "Training:   2%|▏         | 421/27702 [09:24<9:54:14,  1.31s/it]\u001b[A\n",
            "Training:   2%|▏         | 422/27702 [09:25<9:50:18,  1.30s/it]\u001b[A\n",
            "Training:   2%|▏         | 423/27702 [09:26<10:06:12,  1.33s/it]\u001b[A\n",
            "Training:   2%|▏         | 424/27702 [09:28<10:18:00,  1.36s/it]\u001b[A\n",
            "Training:   2%|▏         | 425/27702 [09:29<10:24:23,  1.37s/it]\u001b[A\n",
            "Training:   2%|▏         | 426/27702 [09:31<10:16:54,  1.36s/it]\u001b[A\n",
            "Training:   2%|▏         | 427/27702 [09:32<10:08:55,  1.34s/it]\u001b[A\n",
            "Training:   2%|▏         | 428/27702 [09:33<10:00:41,  1.32s/it]\u001b[A\n",
            "Training:   2%|▏         | 429/27702 [09:35<9:58:22,  1.32s/it] \u001b[A\n",
            "Training:   2%|▏         | 430/27702 [09:36<9:54:26,  1.31s/it]\u001b[A\n",
            "Training:   2%|▏         | 431/27702 [09:37<9:51:45,  1.30s/it]\u001b[A\n",
            "Training:   2%|▏         | 432/27702 [09:38<9:51:16,  1.30s/it]\u001b[A\n",
            "Training:   2%|▏         | 433/27702 [09:40<9:51:43,  1.30s/it]\u001b[A\n",
            "Training:   2%|▏         | 434/27702 [09:41<10:06:52,  1.34s/it]\u001b[A\n",
            "Training:   2%|▏         | 435/27702 [09:43<10:17:26,  1.36s/it]\u001b[A\n",
            "Training:   2%|▏         | 436/27702 [09:44<10:25:28,  1.38s/it]\u001b[A\n",
            "Training:   2%|▏         | 437/27702 [09:45<10:16:59,  1.36s/it]\u001b[A\n",
            "Training:   2%|▏         | 438/27702 [09:47<10:07:58,  1.34s/it]\u001b[A\n",
            "Training:   2%|▏         | 439/27702 [09:48<10:01:41,  1.32s/it]\u001b[A\n",
            "Training:   2%|▏         | 440/27702 [09:49<9:55:59,  1.31s/it] \u001b[A\n",
            "Training:   2%|▏         | 441/27702 [09:50<9:53:00,  1.31s/it]\u001b[A\n",
            "Training:   2%|▏         | 442/27702 [09:52<9:50:51,  1.30s/it]\u001b[A\n",
            "Training:   2%|▏         | 443/27702 [09:53<9:49:47,  1.30s/it]\u001b[A\n",
            "Training:   2%|▏         | 444/27702 [09:54<9:49:48,  1.30s/it]\u001b[A\n",
            "Training:   2%|▏         | 445/27702 [09:56<10:06:09,  1.33s/it]\u001b[A\n",
            "Training:   2%|▏         | 446/27702 [09:57<10:22:21,  1.37s/it]\u001b[A\n",
            "Training:   2%|▏         | 447/27702 [09:59<10:27:23,  1.38s/it]\u001b[A\n",
            "Training:   2%|▏         | 448/27702 [10:00<10:23:09,  1.37s/it]\u001b[A\n",
            "Training:   2%|▏         | 449/27702 [10:01<10:12:55,  1.35s/it]\u001b[A\n",
            "Training:   2%|▏         | 450/27702 [10:03<10:06:16,  1.33s/it]\u001b[A\n",
            "Training:   2%|▏         | 451/27702 [10:04<10:02:38,  1.33s/it]\u001b[A\n",
            "Training:   2%|▏         | 452/27702 [10:05<10:00:11,  1.32s/it]\u001b[A\n",
            "Training:   2%|▏         | 453/27702 [10:06<9:57:01,  1.31s/it] \u001b[A\n",
            "Training:   2%|▏         | 454/27702 [10:08<9:53:29,  1.31s/it]\u001b[A\n",
            "Training:   2%|▏         | 455/27702 [10:09<9:52:59,  1.31s/it]\u001b[A\n",
            "Training:   2%|▏         | 456/27702 [10:10<10:08:56,  1.34s/it]\u001b[A\n",
            "Training:   2%|▏         | 457/27702 [10:12<10:22:47,  1.37s/it]\u001b[A\n",
            "Training:   2%|▏         | 458/27702 [10:13<10:27:02,  1.38s/it]\u001b[A\n",
            "Training:   2%|▏         | 459/27702 [10:15<10:33:34,  1.40s/it]\u001b[A\n",
            "Training:   2%|▏         | 460/27702 [10:16<10:37:13,  1.40s/it]\u001b[A\n",
            "Training:   2%|▏         | 461/27702 [10:18<10:36:22,  1.40s/it]\u001b[A\n",
            "Training:   2%|▏         | 462/27702 [10:19<10:37:30,  1.40s/it]\u001b[A\n",
            "Training:   2%|▏         | 463/27702 [10:20<10:32:03,  1.39s/it]\u001b[A\n",
            "Training:   2%|▏         | 464/27702 [10:22<10:18:12,  1.36s/it]\u001b[A\n",
            "Training:   2%|▏         | 465/27702 [10:23<10:10:59,  1.35s/it]\u001b[A\n",
            "Training:   2%|▏         | 466/27702 [10:24<10:05:04,  1.33s/it]\u001b[A\n",
            "Training:   2%|▏         | 467/27702 [10:26<10:15:59,  1.36s/it]\u001b[A\n",
            "Training:   2%|▏         | 468/27702 [10:27<10:25:27,  1.38s/it]\u001b[A\n",
            "Training:   2%|▏         | 469/27702 [10:28<10:27:02,  1.38s/it]\u001b[A\n",
            "Training:   2%|▏         | 470/27702 [10:30<10:13:35,  1.35s/it]\u001b[A\n",
            "Training:   2%|▏         | 471/27702 [10:31<10:07:29,  1.34s/it]\u001b[A\n",
            "Training:   2%|▏         | 472/27702 [10:32<10:01:54,  1.33s/it]\u001b[A\n",
            "Training:   2%|▏         | 473/27702 [10:34<9:58:47,  1.32s/it] \u001b[A\n",
            "Training:   2%|▏         | 474/27702 [10:35<9:55:42,  1.31s/it]\u001b[A\n",
            "Training:   2%|▏         | 475/27702 [10:36<9:52:38,  1.31s/it]\u001b[A\n",
            "Training:   2%|▏         | 476/27702 [10:38<9:54:01,  1.31s/it]\u001b[A\n",
            "Training:   2%|▏         | 477/27702 [10:39<9:52:57,  1.31s/it]\u001b[A\n",
            "Training:   2%|▏         | 478/27702 [10:40<10:08:04,  1.34s/it]\u001b[A\n",
            "Training:   2%|▏         | 479/27702 [10:42<10:19:35,  1.37s/it]\u001b[A\n",
            "Training:   2%|▏         | 480/27702 [10:43<10:25:33,  1.38s/it]\u001b[A\n",
            "Training:   2%|▏         | 481/27702 [10:44<10:21:30,  1.37s/it]\u001b[A\n",
            "Training:   2%|▏         | 482/27702 [10:46<10:11:56,  1.35s/it]\u001b[A\n",
            "Training:   2%|▏         | 483/27702 [10:47<10:04:41,  1.33s/it]\u001b[A\n",
            "Training:   2%|▏         | 484/27702 [10:48<9:59:43,  1.32s/it] \u001b[A\n",
            "Training:   2%|▏         | 485/27702 [10:50<10:00:32,  1.32s/it]\u001b[A\n",
            "Training:   2%|▏         | 486/27702 [10:51<9:56:39,  1.32s/it] \u001b[A\n",
            "Training:   2%|▏         | 487/27702 [10:52<9:54:23,  1.31s/it]\u001b[A\n",
            "Training:   2%|▏         | 488/27702 [10:54<9:53:06,  1.31s/it]\u001b[A\n",
            "Training:   2%|▏         | 489/27702 [10:55<10:10:40,  1.35s/it]\u001b[A\n",
            "Training:   2%|▏         | 490/27702 [10:56<10:19:33,  1.37s/it]\u001b[A\n",
            "Training:   2%|▏         | 491/27702 [10:58<10:28:31,  1.39s/it]\u001b[A\n",
            "Training:   2%|▏         | 492/27702 [10:59<10:26:29,  1.38s/it]\u001b[A\n",
            "Training:   2%|▏         | 493/27702 [11:01<10:18:20,  1.36s/it]\u001b[A\n",
            "Training:   2%|▏         | 494/27702 [11:02<10:10:40,  1.35s/it]\u001b[A\n",
            "Training:   2%|▏         | 495/27702 [11:03<10:06:04,  1.34s/it]\u001b[A\n",
            "Training:   2%|▏         | 496/27702 [11:04<9:59:11,  1.32s/it] \u001b[A\n",
            "Training:   2%|▏         | 497/27702 [11:06<9:55:52,  1.31s/it]\u001b[A\n",
            "Training:   2%|▏         | 498/27702 [11:07<9:54:01,  1.31s/it]\u001b[A\n",
            "Training:   2%|▏         | 499/27702 [11:08<9:50:49,  1.30s/it]\u001b[A\n",
            "Training:   2%|▏         | 500/27702 [11:10<10:05:51,  1.34s/it]\u001b[A\n",
            "Training:   2%|▏         | 501/27702 [11:11<10:16:53,  1.36s/it]\u001b[A\n",
            "Training:   2%|▏         | 502/27702 [11:13<10:23:12,  1.37s/it]\u001b[A\n",
            "Training:   2%|▏         | 503/27702 [11:14<10:26:55,  1.38s/it]\u001b[A\n",
            "Training:   2%|▏         | 504/27702 [11:15<10:13:21,  1.35s/it]\u001b[A\n",
            "Training:   2%|▏         | 505/27702 [11:17<10:07:20,  1.34s/it]\u001b[A\n",
            "Training:   2%|▏         | 506/27702 [11:18<9:58:59,  1.32s/it] \u001b[A\n",
            "Training:   2%|▏         | 507/27702 [11:19<9:55:14,  1.31s/it]\u001b[A\n",
            "Training:   2%|▏         | 508/27702 [11:20<9:51:58,  1.31s/it]\u001b[A\n",
            "Training:   2%|▏         | 509/27702 [11:22<9:50:02,  1.30s/it]\u001b[A\n",
            "Training:   2%|▏         | 510/27702 [11:23<9:52:56,  1.31s/it]\u001b[A\n",
            "Training:   2%|▏         | 511/27702 [11:24<10:07:33,  1.34s/it]\u001b[A\n",
            "Training:   2%|▏         | 512/27702 [11:26<10:19:18,  1.37s/it]\u001b[A\n",
            "Training:   2%|▏         | 513/27702 [11:27<10:25:46,  1.38s/it]\u001b[A\n",
            "Training:   2%|▏         | 514/27702 [11:29<10:32:09,  1.40s/it]\u001b[A\n",
            "Training:   2%|▏         | 515/27702 [11:30<10:19:18,  1.37s/it]\u001b[A\n",
            "Training:   2%|▏         | 516/27702 [11:31<10:09:30,  1.35s/it]\u001b[A\n",
            "Training:   2%|▏         | 517/27702 [11:33<10:03:52,  1.33s/it]\u001b[A\n",
            "Training:   2%|▏         | 518/27702 [11:34<10:00:13,  1.32s/it]\u001b[A\n",
            "Training:   2%|▏         | 519/27702 [11:35<9:56:25,  1.32s/it] \u001b[A\n",
            "Training:   2%|▏         | 520/27702 [11:37<9:52:39,  1.31s/it]\u001b[A\n",
            "Training:   2%|▏         | 521/27702 [11:38<9:51:33,  1.31s/it]\u001b[A\n",
            "Training:   2%|▏         | 522/27702 [11:39<10:04:10,  1.33s/it]\u001b[A\n",
            "Training:   2%|▏         | 523/27702 [11:41<10:17:56,  1.36s/it]\u001b[A\n",
            "Training:   2%|▏         | 524/27702 [11:42<10:22:36,  1.37s/it]\u001b[A\n",
            "Training:   2%|▏         | 525/27702 [11:43<10:27:41,  1.39s/it]\u001b[A\n",
            "Training:   2%|▏         | 526/27702 [11:45<10:14:50,  1.36s/it]\u001b[A\n",
            "Training:   2%|▏         | 527/27702 [11:46<10:08:59,  1.34s/it]\u001b[A\n",
            "Training:   2%|▏         | 528/27702 [11:47<10:01:41,  1.33s/it]\u001b[A\n",
            "Training:   2%|▏         | 529/27702 [11:49<9:58:47,  1.32s/it] \u001b[A\n",
            "Training:   2%|▏         | 530/27702 [11:50<9:55:52,  1.32s/it]\u001b[A\n",
            "Training:   2%|▏         | 531/27702 [11:51<9:54:54,  1.31s/it]\u001b[A\n",
            "Training:   2%|▏         | 532/27702 [11:53<9:52:35,  1.31s/it]\u001b[A\n",
            "Training:   2%|▏         | 533/27702 [11:54<9:56:45,  1.32s/it]\u001b[A\n",
            "Training:   2%|▏         | 534/27702 [11:55<10:09:41,  1.35s/it]\u001b[A\n",
            "Training:   2%|▏         | 535/27702 [11:57<10:21:03,  1.37s/it]\u001b[A\n",
            "Training:   2%|▏         | 536/27702 [11:58<10:24:46,  1.38s/it]\u001b[A\n",
            "Training:   2%|▏         | 537/27702 [11:59<10:12:30,  1.35s/it]\u001b[A\n",
            "Training:   2%|▏         | 538/27702 [12:01<10:05:02,  1.34s/it]\u001b[A\n",
            "Training:   2%|▏         | 539/27702 [12:02<9:58:29,  1.32s/it] \u001b[A\n",
            "Training:   2%|▏         | 540/27702 [12:03<9:55:28,  1.32s/it]\u001b[A\n",
            "Training:   2%|▏         | 541/27702 [12:05<9:55:57,  1.32s/it]\u001b[A"
          ]
        },
        {
          "output_type": "stream",
          "name": "stdout",
          "text": [
            "\n",
            "Validation at step 1999...\n",
            "\n"
          ]
        },
        {
          "output_type": "stream",
          "name": "stderr",
          "text": [
            "Configuration saved in /content/checkpoint-1999/config.json\n"
          ]
        },
        {
          "output_type": "stream",
          "name": "stdout",
          "text": [
            "\n",
            "Epoch: 1, Step: 1999, Train Loss: 0.1264, Valid Loss: 0.2413\n",
            "\n"
          ]
        },
        {
          "output_type": "stream",
          "name": "stderr",
          "text": [
            "Model weights saved in /content/checkpoint-1999/pytorch_model.bin\n",
            "Image processor saved in /content/checkpoint-1999/preprocessor_config.json\n",
            "/usr/local/lib/python3.10/dist-packages/sklearn/metrics/_classification.py:1344: UndefinedMetricWarning: Precision is ill-defined and being set to 0.0 in labels with no predicted samples. Use `zero_division` parameter to control this behavior.\n",
            "  _warn_prf(average, modifier, msg_start, len(result))\n",
            "/usr/local/lib/python3.10/dist-packages/sklearn/metrics/_classification.py:1344: UndefinedMetricWarning: Precision and F-score are ill-defined and being set to 0.0 in labels with no predicted samples. Use `zero_division` parameter to control this behavior.\n",
            "  _warn_prf(average, modifier, msg_start, len(result))\n",
            "/usr/local/lib/python3.10/dist-packages/sklearn/metrics/_classification.py:1344: UndefinedMetricWarning: Precision and F-score are ill-defined and being set to 0.0 in samples with no predicted labels. Use `zero_division` parameter to control this behavior.\n",
            "  _warn_prf(average, modifier, msg_start, len(result))\n"
          ]
        },
        {
          "output_type": "stream",
          "name": "stdout",
          "text": [
            "Accuracy: 0.11052699063982561\n",
            "Precision: 0.42186752393244165\n",
            "Recall: 0.08749630301241787\n",
            "F1-Score: 0.12510591936049317\n",
            "              precision    recall  f1-score   support\n",
            "\n",
            "           0       0.76      0.07      0.13      1044\n",
            "           1       0.70      0.08      0.14       821\n",
            "           2       0.83      0.31      0.46       306\n",
            "           3       0.00      0.00      0.00       411\n",
            "           4       0.78      0.30      0.44      2611\n",
            "           5       0.83      0.00      0.01      1163\n",
            "           6       0.81      0.06      0.12       629\n",
            "           7       0.69      0.64      0.66      4142\n",
            "           8       0.84      0.21      0.33       518\n",
            "           9       0.71      0.02      0.03       585\n",
            "          10       0.00      0.00      0.00       102\n",
            "          11       0.00      0.00      0.00       345\n",
            "          12       0.77      0.08      0.15       825\n",
            "          13       0.00      0.00      0.00       311\n",
            "          14       0.00      0.00      0.00       253\n",
            "          15       0.00      0.00      0.00       617\n",
            "          16       0.59      0.08      0.14      1590\n",
            "          17       0.67      0.05      0.09       586\n",
            "          18       0.00      0.00      0.00       142\n",
            "          19       0.00      0.00      0.00       191\n",
            "          20       0.71      0.11      0.18      1567\n",
            "          21       0.00      0.00      0.00       401\n",
            "          22       0.00      0.00      0.00       210\n",
            "\n",
            "   micro avg       0.71      0.22      0.33     19370\n",
            "   macro avg       0.42      0.09      0.13     19370\n",
            "weighted avg       0.62      0.22      0.27     19370\n",
            " samples avg       0.48      0.27      0.32     19370\n",
            "\n"
          ]
        },
        {
          "output_type": "stream",
          "name": "stderr",
          "text": [
            "\n",
            "Training:   2%|▏         | 542/27702 [14:42<362:09:20, 48.00s/it]\u001b[A\n",
            "Training:   2%|▏         | 543/27702 [14:43<256:27:22, 33.99s/it]\u001b[A\n",
            "Training:   2%|▏         | 544/27702 [14:44<182:29:45, 24.19s/it]\u001b[A\n",
            "Training:   2%|▏         | 545/27702 [14:46<130:43:04, 17.33s/it]\u001b[A\n",
            "Training:   2%|▏         | 546/27702 [14:47<94:28:28, 12.52s/it] \u001b[A\n",
            "Training:   2%|▏         | 547/27702 [14:48<69:08:17,  9.17s/it]\u001b[A\n",
            "Training:   2%|▏         | 548/27702 [14:49<51:20:53,  6.81s/it]\u001b[A\n",
            "Training:   2%|▏         | 549/27702 [14:51<38:55:24,  5.16s/it]\u001b[A\n",
            "Training:   2%|▏         | 550/27702 [14:52<30:33:54,  4.05s/it]\u001b[A\n",
            "Training:   2%|▏         | 551/27702 [14:54<24:36:49,  3.26s/it]\u001b[A\n",
            "Training:   2%|▏         | 552/27702 [14:55<20:27:56,  2.71s/it]\u001b[A\n",
            "Training:   2%|▏         | 553/27702 [14:56<17:18:20,  2.29s/it]\u001b[A\n",
            "Training:   2%|▏         | 554/27702 [14:58<15:05:45,  2.00s/it]\u001b[A\n",
            "Training:   2%|▏         | 555/27702 [14:59<13:31:58,  1.79s/it]\u001b[A\n",
            "Training:   2%|▏         | 556/27702 [15:00<12:27:36,  1.65s/it]\u001b[A\n",
            "Training:   2%|▏         | 557/27702 [15:02<11:41:43,  1.55s/it]\u001b[A\n",
            "Training:   2%|▏         | 558/27702 [15:03<11:11:22,  1.48s/it]\u001b[A\n",
            "Training:   2%|▏         | 559/27702 [15:04<10:50:01,  1.44s/it]\u001b[A\n",
            "Training:   2%|▏         | 560/27702 [15:06<10:34:04,  1.40s/it]\u001b[A\n",
            "Training:   2%|▏         | 561/27702 [15:07<10:42:19,  1.42s/it]\u001b[A\n",
            "Training:   2%|▏         | 562/27702 [15:09<10:46:01,  1.43s/it]\u001b[A\n",
            "Training:   2%|▏         | 563/27702 [15:10<10:45:12,  1.43s/it]\u001b[A\n",
            "Training:   2%|▏         | 564/27702 [15:11<10:29:21,  1.39s/it]\u001b[A\n",
            "Training:   2%|▏         | 565/27702 [15:13<10:20:09,  1.37s/it]\u001b[A\n",
            "Training:   2%|▏         | 566/27702 [15:14<10:11:02,  1.35s/it]\u001b[A\n",
            "Training:   2%|▏         | 567/27702 [15:15<10:04:47,  1.34s/it]\u001b[A\n",
            "Training:   2%|▏         | 568/27702 [15:17<10:02:46,  1.33s/it]\u001b[A\n",
            "Training:   2%|▏         | 569/27702 [15:18<10:03:02,  1.33s/it]\u001b[A\n",
            "Training:   2%|▏         | 570/27702 [15:19<9:57:47,  1.32s/it] \u001b[A\n",
            "Training:   2%|▏         | 571/27702 [15:21<9:58:07,  1.32s/it]\u001b[A\n",
            "Training:   2%|▏         | 572/27702 [15:22<10:14:31,  1.36s/it]\u001b[A\n",
            "Training:   2%|▏         | 573/27702 [15:23<10:24:28,  1.38s/it]\u001b[A\n",
            "Training:   2%|▏         | 574/27702 [15:25<10:30:48,  1.40s/it]\u001b[A\n",
            "Training:   2%|▏         | 575/27702 [15:26<10:21:26,  1.37s/it]\u001b[A\n",
            "Training:   2%|▏         | 576/27702 [15:27<10:12:29,  1.35s/it]\u001b[A\n",
            "Training:   2%|▏         | 577/27702 [15:29<10:07:09,  1.34s/it]\u001b[A\n",
            "Training:   2%|▏         | 578/27702 [15:30<10:03:14,  1.33s/it]\u001b[A\n",
            "Training:   2%|▏         | 579/27702 [15:31<10:00:48,  1.33s/it]\u001b[A\n",
            "Training:   2%|▏         | 580/27702 [15:33<9:58:22,  1.32s/it] \u001b[A\n",
            "Training:   2%|▏         | 581/27702 [15:34<9:57:43,  1.32s/it]\u001b[A\n",
            "Training:   2%|▏         | 582/27702 [15:35<9:56:15,  1.32s/it]\u001b[A\n",
            "Training:   2%|▏         | 583/27702 [15:37<10:12:40,  1.36s/it]\u001b[A\n",
            "Training:   2%|▏         | 584/27702 [15:38<10:22:55,  1.38s/it]\u001b[A\n",
            "Training:   2%|▏         | 585/27702 [15:40<10:29:18,  1.39s/it]\u001b[A\n",
            "Training:   2%|▏         | 586/27702 [15:41<10:21:34,  1.38s/it]\u001b[A\n",
            "Training:   2%|▏         | 587/27702 [15:42<10:11:25,  1.35s/it]\u001b[A\n",
            "Training:   2%|▏         | 588/27702 [15:44<10:05:44,  1.34s/it]\u001b[A\n",
            "Training:   2%|▏         | 589/27702 [15:45<10:02:25,  1.33s/it]\u001b[A\n",
            "Training:   2%|▏         | 590/27702 [15:46<9:59:54,  1.33s/it] \u001b[A\n",
            "Training:   2%|▏         | 591/27702 [15:48<9:56:34,  1.32s/it]\u001b[A\n",
            "Training:   2%|▏         | 592/27702 [15:49<9:58:07,  1.32s/it]\u001b[A\n",
            "Training:   2%|▏         | 593/27702 [15:50<9:57:09,  1.32s/it]\u001b[A\n",
            "Training:   2%|▏         | 594/27702 [15:52<10:10:56,  1.35s/it]\u001b[A\n",
            "Training:   2%|▏         | 595/27702 [15:53<10:21:37,  1.38s/it]\u001b[A\n",
            "Training:   2%|▏         | 596/27702 [15:54<10:24:46,  1.38s/it]\u001b[A\n",
            "Training:   2%|▏         | 597/27702 [15:56<10:13:32,  1.36s/it]\u001b[A\n",
            "Training:   2%|▏         | 598/27702 [15:57<10:09:13,  1.35s/it]\u001b[A\n",
            "Training:   2%|▏         | 599/27702 [15:58<10:02:55,  1.33s/it]\u001b[A\n",
            "Training:   2%|▏         | 600/27702 [16:00<9:58:51,  1.33s/it] \u001b[A\n",
            "Training:   2%|▏         | 601/27702 [16:01<9:57:19,  1.32s/it]\u001b[A\n",
            "Training:   2%|▏         | 602/27702 [16:02<9:55:27,  1.32s/it]\u001b[A\n",
            "Training:   2%|▏         | 603/27702 [16:04<9:53:03,  1.31s/it]\u001b[A\n",
            "Training:   2%|▏         | 604/27702 [16:05<9:51:47,  1.31s/it]\u001b[A\n",
            "Training:   2%|▏         | 605/27702 [16:06<10:06:58,  1.34s/it]\u001b[A\n",
            "Training:   2%|▏         | 606/27702 [16:08<10:13:42,  1.36s/it]\u001b[A\n",
            "Training:   2%|▏         | 607/27702 [16:09<10:23:37,  1.38s/it]\u001b[A\n",
            "Training:   2%|▏         | 608/27702 [16:10<10:14:43,  1.36s/it]\u001b[A\n",
            "Training:   2%|▏         | 609/27702 [16:12<10:06:25,  1.34s/it]\u001b[A\n",
            "Training:   2%|▏         | 610/27702 [16:13<10:02:50,  1.34s/it]\u001b[A\n",
            "Training:   2%|▏         | 611/27702 [16:14<9:59:35,  1.33s/it] \u001b[A\n",
            "Training:   2%|▏         | 612/27702 [16:16<9:57:37,  1.32s/it]\u001b[A\n",
            "Training:   2%|▏         | 613/27702 [16:17<9:55:29,  1.32s/it]\u001b[A\n",
            "Training:   2%|▏         | 614/27702 [16:18<9:55:06,  1.32s/it]\u001b[A\n",
            "Training:   2%|▏         | 615/27702 [16:20<9:55:03,  1.32s/it]\u001b[A\n",
            "Training:   2%|▏         | 616/27702 [16:21<10:10:29,  1.35s/it]\u001b[A\n",
            "Training:   2%|▏         | 617/27702 [16:22<10:18:08,  1.37s/it]\u001b[A\n",
            "Training:   2%|▏         | 618/27702 [16:24<10:25:40,  1.39s/it]\u001b[A\n",
            "Training:   2%|▏         | 619/27702 [16:25<10:20:39,  1.37s/it]\u001b[A\n",
            "Training:   2%|▏         | 620/27702 [16:27<10:12:29,  1.36s/it]\u001b[A\n",
            "Training:   2%|▏         | 621/27702 [16:28<10:03:53,  1.34s/it]\u001b[A\n",
            "Training:   2%|▏         | 622/27702 [16:29<10:00:59,  1.33s/it]\u001b[A\n",
            "Training:   2%|▏         | 623/27702 [16:30<9:59:02,  1.33s/it] \u001b[A\n",
            "Training:   2%|▏         | 624/27702 [16:32<9:59:36,  1.33s/it]\u001b[A\n",
            "Training:   2%|▏         | 625/27702 [16:33<9:55:15,  1.32s/it]\u001b[A\n",
            "Training:   2%|▏         | 626/27702 [16:34<9:56:31,  1.32s/it]\u001b[A\n",
            "Training:   2%|▏         | 627/27702 [16:36<10:10:33,  1.35s/it]\u001b[A\n",
            "Training:   2%|▏         | 628/27702 [16:37<10:22:24,  1.38s/it]\u001b[A\n",
            "Training:   2%|▏         | 629/27702 [16:39<10:29:30,  1.40s/it]\u001b[A\n",
            "Training:   2%|▏         | 630/27702 [16:40<10:20:09,  1.37s/it]\u001b[A\n",
            "Training:   2%|▏         | 631/27702 [16:41<10:09:39,  1.35s/it]\u001b[A\n",
            "Training:   2%|▏         | 632/27702 [16:43<10:05:48,  1.34s/it]\u001b[A\n",
            "Training:   2%|▏         | 633/27702 [16:44<10:04:31,  1.34s/it]\u001b[A\n",
            "Training:   2%|▏         | 634/27702 [16:45<10:04:08,  1.34s/it]\u001b[A\n",
            "Training:   2%|▏         | 635/27702 [16:47<9:59:27,  1.33s/it] \u001b[A\n",
            "Training:   2%|▏         | 636/27702 [16:48<9:56:51,  1.32s/it]\u001b[A\n",
            "Training:   2%|▏         | 637/27702 [16:49<9:56:19,  1.32s/it]\u001b[A\n",
            "Training:   2%|▏         | 638/27702 [16:51<10:12:16,  1.36s/it]\u001b[A\n",
            "Training:   2%|▏         | 639/27702 [16:52<10:19:49,  1.37s/it]\u001b[A\n",
            "Training:   2%|▏         | 640/27702 [16:54<10:26:31,  1.39s/it]\u001b[A\n",
            "Training:   2%|▏         | 641/27702 [16:55<10:16:08,  1.37s/it]\u001b[A\n",
            "Training:   2%|▏         | 642/27702 [16:56<10:10:04,  1.35s/it]\u001b[A\n",
            "Training:   2%|▏         | 643/27702 [16:58<10:07:30,  1.35s/it]\u001b[A\n",
            "Training:   2%|▏         | 644/27702 [16:59<10:03:27,  1.34s/it]\u001b[A\n",
            "Training:   2%|▏         | 645/27702 [17:00<9:59:48,  1.33s/it] \u001b[A\n",
            "Training:   2%|▏         | 646/27702 [17:01<9:57:33,  1.33s/it]\u001b[A\n",
            "Training:   2%|▏         | 647/27702 [17:03<9:55:28,  1.32s/it]\u001b[A\n",
            "Training:   2%|▏         | 648/27702 [17:04<9:54:20,  1.32s/it]\u001b[A\n",
            "Training:   2%|▏         | 649/27702 [17:06<10:08:55,  1.35s/it]\u001b[A\n",
            "Training:   2%|▏         | 650/27702 [17:07<10:22:00,  1.38s/it]\u001b[A\n",
            "Training:   2%|▏         | 651/27702 [17:08<10:27:53,  1.39s/it]\u001b[A\n",
            "Training:   2%|▏         | 652/27702 [17:10<10:17:10,  1.37s/it]\u001b[A\n",
            "Training:   2%|▏         | 653/27702 [17:11<10:10:35,  1.35s/it]\u001b[A\n",
            "Training:   2%|▏         | 654/27702 [17:12<10:04:44,  1.34s/it]\u001b[A\n",
            "Training:   2%|▏         | 655/27702 [17:14<10:01:17,  1.33s/it]\u001b[A\n",
            "Training:   2%|▏         | 656/27702 [17:15<9:58:39,  1.33s/it] \u001b[A\n",
            "Training:   2%|▏         | 657/27702 [17:16<9:56:25,  1.32s/it]\u001b[A\n",
            "Training:   2%|▏         | 658/27702 [17:18<9:55:01,  1.32s/it]\u001b[A\n",
            "Training:   2%|▏         | 659/27702 [17:19<9:53:56,  1.32s/it]\u001b[A\n",
            "Training:   2%|▏         | 660/27702 [17:20<10:10:10,  1.35s/it]\u001b[A\n",
            "Training:   2%|▏         | 661/27702 [17:22<10:22:36,  1.38s/it]\u001b[A\n",
            "Training:   2%|▏         | 662/27702 [17:23<10:28:24,  1.39s/it]\u001b[A\n",
            "Training:   2%|▏         | 663/27702 [17:25<10:18:44,  1.37s/it]\u001b[A\n",
            "Training:   2%|▏         | 664/27702 [17:26<10:09:48,  1.35s/it]\u001b[A\n",
            "Training:   2%|▏         | 665/27702 [17:27<10:02:40,  1.34s/it]\u001b[A\n",
            "Training:   2%|▏         | 666/27702 [17:28<10:00:11,  1.33s/it]\u001b[A\n",
            "Training:   2%|▏         | 667/27702 [17:30<9:58:50,  1.33s/it] \u001b[A\n",
            "Training:   2%|▏         | 668/27702 [17:31<9:56:37,  1.32s/it]\u001b[A\n",
            "Training:   2%|▏         | 669/27702 [17:32<9:56:07,  1.32s/it]\u001b[A\n",
            "Training:   2%|▏         | 670/27702 [17:34<9:56:39,  1.32s/it]\u001b[A\n",
            "Training:   2%|▏         | 671/27702 [17:35<10:08:37,  1.35s/it]\u001b[A\n",
            "Training:   2%|▏         | 672/27702 [17:37<10:19:21,  1.37s/it]\u001b[A\n",
            "Training:   2%|▏         | 673/27702 [17:38<10:24:40,  1.39s/it]\u001b[A\n",
            "Training:   2%|▏         | 674/27702 [17:39<10:14:56,  1.37s/it]\u001b[A\n",
            "Training:   2%|▏         | 675/27702 [17:41<10:10:59,  1.36s/it]\u001b[A\n",
            "Training:   2%|▏         | 676/27702 [17:42<10:07:45,  1.35s/it]\u001b[A\n",
            "Training:   2%|▏         | 677/27702 [17:43<10:02:47,  1.34s/it]\u001b[A\n",
            "Training:   2%|▏         | 678/27702 [17:45<9:57:24,  1.33s/it] \u001b[A\n",
            "Training:   2%|▏         | 679/27702 [17:46<10:00:10,  1.33s/it]\u001b[A\n",
            "Training:   2%|▏         | 680/27702 [17:47<10:10:14,  1.36s/it]\u001b[A\n",
            "Training:   2%|▏         | 681/27702 [17:49<10:17:07,  1.37s/it]\u001b[A\n",
            "Training:   2%|▏         | 682/27702 [17:50<10:29:50,  1.40s/it]\u001b[A\n",
            "Training:   2%|▏         | 683/27702 [17:52<10:40:33,  1.42s/it]\u001b[A\n",
            "Training:   2%|▏         | 684/27702 [17:53<10:52:22,  1.45s/it]\u001b[A\n",
            "Training:   2%|▏         | 685/27702 [17:55<11:04:08,  1.47s/it]\u001b[A\n",
            "Training:   2%|▏         | 686/27702 [17:56<10:55:47,  1.46s/it]\u001b[A\n",
            "Training:   2%|▏         | 687/27702 [17:57<10:37:35,  1.42s/it]\u001b[A\n",
            "Training:   2%|▏         | 688/27702 [17:59<10:26:02,  1.39s/it]\u001b[A\n",
            "Training:   2%|▏         | 689/27702 [18:00<10:15:11,  1.37s/it]\u001b[A\n",
            "Training:   2%|▏         | 690/27702 [18:01<10:09:29,  1.35s/it]\u001b[A\n",
            "Training:   2%|▏         | 691/27702 [18:03<10:03:41,  1.34s/it]\u001b[A\n",
            "Training:   2%|▏         | 692/27702 [18:04<9:58:24,  1.33s/it] \u001b[A\n",
            "Training:   3%|▎         | 693/27702 [18:05<9:59:02,  1.33s/it]\u001b[A\n",
            "Training:   3%|▎         | 694/27702 [18:07<10:07:19,  1.35s/it]\u001b[A\n",
            "Training:   3%|▎         | 695/27702 [18:08<10:16:21,  1.37s/it]\u001b[A\n",
            "Training:   3%|▎         | 696/27702 [18:10<10:23:24,  1.39s/it]\u001b[A\n",
            "Training:   3%|▎         | 697/27702 [18:11<10:27:53,  1.40s/it]\u001b[A\n",
            "Training:   3%|▎         | 698/27702 [18:12<10:17:20,  1.37s/it]\u001b[A\n",
            "Training:   3%|▎         | 699/27702 [18:14<10:10:44,  1.36s/it]\u001b[A\n",
            "Training:   3%|▎         | 700/27702 [18:15<10:04:53,  1.34s/it]\u001b[A\n",
            "Training:   3%|▎         | 701/27702 [18:16<9:58:50,  1.33s/it] \u001b[A\n",
            "Training:   3%|▎         | 702/27702 [18:18<9:57:33,  1.33s/it]\u001b[A\n",
            "Training:   3%|▎         | 703/27702 [18:19<9:55:55,  1.32s/it]\u001b[A\n",
            "Training:   3%|▎         | 704/27702 [18:20<9:54:40,  1.32s/it]\u001b[A\n",
            "Training:   3%|▎         | 705/27702 [18:22<10:04:30,  1.34s/it]\u001b[A\n",
            "Training:   3%|▎         | 706/27702 [18:23<10:17:56,  1.37s/it]\u001b[A\n",
            "Training:   3%|▎         | 707/27702 [18:25<10:23:33,  1.39s/it]\u001b[A\n",
            "Training:   3%|▎         | 708/27702 [18:26<10:26:08,  1.39s/it]\u001b[A\n",
            "Training:   3%|▎         | 709/27702 [18:27<10:14:21,  1.37s/it]\u001b[A\n",
            "Training:   3%|▎         | 710/27702 [18:29<10:07:54,  1.35s/it]\u001b[A\n",
            "Training:   3%|▎         | 711/27702 [18:30<10:00:22,  1.33s/it]\u001b[A\n",
            "Training:   3%|▎         | 712/27702 [18:31<9:57:57,  1.33s/it] \u001b[A\n",
            "Training:   3%|▎         | 713/27702 [18:32<9:55:26,  1.32s/it]\u001b[A\n",
            "Training:   3%|▎         | 714/27702 [18:34<9:55:31,  1.32s/it]\u001b[A\n",
            "Training:   3%|▎         | 715/27702 [18:35<9:53:40,  1.32s/it]\u001b[A\n",
            "Training:   3%|▎         | 716/27702 [18:36<9:57:07,  1.33s/it]\u001b[A\n",
            "Training:   3%|▎         | 717/27702 [18:38<10:07:53,  1.35s/it]\u001b[A\n",
            "Training:   3%|▎         | 718/27702 [18:39<10:14:44,  1.37s/it]\u001b[A\n",
            "Training:   3%|▎         | 719/27702 [18:41<10:21:48,  1.38s/it]\u001b[A\n",
            "Training:   3%|▎         | 720/27702 [18:42<10:10:46,  1.36s/it]\u001b[A\n",
            "Training:   3%|▎         | 721/27702 [18:43<10:05:17,  1.35s/it]\u001b[A\n",
            "Training:   3%|▎         | 722/27702 [18:45<10:01:58,  1.34s/it]\u001b[A\n",
            "Training:   3%|▎         | 723/27702 [18:46<9:59:22,  1.33s/it] \u001b[A\n",
            "Training:   3%|▎         | 724/27702 [18:47<9:55:34,  1.32s/it]\u001b[A\n",
            "Training:   3%|▎         | 725/27702 [18:49<9:55:58,  1.33s/it]\u001b[A\n",
            "Training:   3%|▎         | 726/27702 [18:50<9:55:40,  1.32s/it]\u001b[A\n",
            "Training:   3%|▎         | 727/27702 [18:51<9:56:26,  1.33s/it]\u001b[A\n",
            "Training:   3%|▎         | 728/27702 [18:53<10:15:00,  1.37s/it]\u001b[A\n",
            "Training:   3%|▎         | 729/27702 [18:54<10:19:40,  1.38s/it]\u001b[A\n",
            "Training:   3%|▎         | 730/27702 [18:56<10:24:36,  1.39s/it]\u001b[A\n",
            "Training:   3%|▎         | 731/27702 [18:57<10:15:19,  1.37s/it]\u001b[A\n",
            "Training:   3%|▎         | 732/27702 [18:58<10:05:55,  1.35s/it]\u001b[A\n",
            "Training:   3%|▎         | 733/27702 [18:59<10:03:21,  1.34s/it]\u001b[A\n",
            "Training:   3%|▎         | 734/27702 [19:01<9:57:36,  1.33s/it] \u001b[A\n",
            "Training:   3%|▎         | 735/27702 [19:02<9:57:11,  1.33s/it]\u001b[A\n",
            "Training:   3%|▎         | 736/27702 [19:03<9:54:29,  1.32s/it]\u001b[A\n",
            "Training:   3%|▎         | 737/27702 [19:05<9:53:13,  1.32s/it]\u001b[A\n",
            "Training:   3%|▎         | 738/27702 [19:06<9:52:27,  1.32s/it]\u001b[A\n",
            "Training:   3%|▎         | 739/27702 [19:07<10:07:06,  1.35s/it]\u001b[A\n",
            "Training:   3%|▎         | 740/27702 [19:09<10:18:49,  1.38s/it]\u001b[A\n",
            "Training:   3%|▎         | 741/27702 [19:10<10:24:31,  1.39s/it]\u001b[A\n",
            "Training:   3%|▎         | 742/27702 [19:12<10:13:46,  1.37s/it]\u001b[A\n",
            "Training:   3%|▎         | 743/27702 [19:13<10:07:01,  1.35s/it]\u001b[A\n",
            "Training:   3%|▎         | 744/27702 [19:14<10:04:29,  1.35s/it]\u001b[A\n",
            "Training:   3%|▎         | 745/27702 [19:16<9:59:19,  1.33s/it] \u001b[A\n",
            "Training:   3%|▎         | 746/27702 [19:17<9:57:33,  1.33s/it]\u001b[A\n",
            "Training:   3%|▎         | 747/27702 [19:18<9:56:44,  1.33s/it]\u001b[A\n",
            "Training:   3%|▎         | 748/27702 [19:20<9:53:17,  1.32s/it]\u001b[A\n",
            "Training:   3%|▎         | 749/27702 [19:21<9:53:19,  1.32s/it]\u001b[A\n",
            "Training:   3%|▎         | 750/27702 [19:22<10:07:40,  1.35s/it]\u001b[A\n",
            "Training:   3%|▎         | 751/27702 [19:24<10:19:13,  1.38s/it]\u001b[A\n",
            "Training:   3%|▎         | 752/27702 [19:25<10:21:59,  1.38s/it]\u001b[A\n",
            "Training:   3%|▎         | 753/27702 [19:26<10:12:21,  1.36s/it]\u001b[A\n",
            "Training:   3%|▎         | 754/27702 [19:28<10:08:30,  1.35s/it]\u001b[A\n",
            "Training:   3%|▎         | 755/27702 [19:29<10:03:04,  1.34s/it]\u001b[A\n",
            "Training:   3%|▎         | 756/27702 [19:30<9:58:56,  1.33s/it] \u001b[A\n",
            "Training:   3%|▎         | 757/27702 [19:32<9:56:11,  1.33s/it]\u001b[A\n",
            "Training:   3%|▎         | 758/27702 [19:33<9:56:29,  1.33s/it]\u001b[A\n",
            "Training:   3%|▎         | 759/27702 [19:34<9:54:34,  1.32s/it]\u001b[A\n",
            "Training:   3%|▎         | 760/27702 [19:36<9:53:33,  1.32s/it]\u001b[A\n",
            "Training:   3%|▎         | 761/27702 [19:37<10:10:46,  1.36s/it]\u001b[A\n",
            "Training:   3%|▎         | 762/27702 [19:39<10:18:33,  1.38s/it]\u001b[A\n",
            "Training:   3%|▎         | 763/27702 [19:40<10:24:20,  1.39s/it]\u001b[A\n",
            "Training:   3%|▎         | 764/27702 [19:41<10:13:37,  1.37s/it]\u001b[A\n",
            "Training:   3%|▎         | 765/27702 [19:43<10:05:32,  1.35s/it]\u001b[A\n",
            "Training:   3%|▎         | 766/27702 [19:44<10:00:55,  1.34s/it]\u001b[A\n",
            "Training:   3%|▎         | 767/27702 [19:45<9:56:19,  1.33s/it] \u001b[A\n",
            "Training:   3%|▎         | 768/27702 [19:46<9:54:10,  1.32s/it]\u001b[A\n",
            "Training:   3%|▎         | 769/27702 [19:48<9:51:24,  1.32s/it]\u001b[A\n",
            "Training:   3%|▎         | 770/27702 [19:49<9:49:57,  1.31s/it]\u001b[A\n",
            "Training:   3%|▎         | 771/27702 [19:50<9:51:50,  1.32s/it]\u001b[A\n",
            "Training:   3%|▎         | 772/27702 [19:52<10:04:56,  1.35s/it]\u001b[A\n",
            "Training:   3%|▎         | 773/27702 [19:53<10:14:49,  1.37s/it]\u001b[A\n",
            "Training:   3%|▎         | 774/27702 [19:55<10:22:41,  1.39s/it]\u001b[A\n",
            "Training:   3%|▎         | 775/27702 [19:56<10:13:07,  1.37s/it]\u001b[A\n",
            "Training:   3%|▎         | 776/27702 [19:57<10:03:26,  1.34s/it]\u001b[A\n",
            "Training:   3%|▎         | 777/27702 [19:59<10:00:35,  1.34s/it]\u001b[A\n",
            "Training:   3%|▎         | 778/27702 [20:00<9:56:00,  1.33s/it] \u001b[A\n",
            "Training:   3%|▎         | 779/27702 [20:01<9:53:34,  1.32s/it]\u001b[A\n",
            "Training:   3%|▎         | 780/27702 [20:03<9:50:20,  1.32s/it]\u001b[A\n",
            "Training:   3%|▎         | 781/27702 [20:04<9:49:49,  1.31s/it]\u001b[A\n",
            "Training:   3%|▎         | 782/27702 [20:05<9:49:54,  1.31s/it]\u001b[A\n",
            "Training:   3%|▎         | 783/27702 [20:07<10:04:08,  1.35s/it]\u001b[A\n",
            "Training:   3%|▎         | 784/27702 [20:08<10:13:00,  1.37s/it]\u001b[A\n",
            "Training:   3%|▎         | 785/27702 [20:09<10:22:13,  1.39s/it]\u001b[A\n",
            "Training:   3%|▎         | 786/27702 [20:11<10:13:11,  1.37s/it]\u001b[A\n",
            "Training:   3%|▎         | 787/27702 [20:12<10:04:56,  1.35s/it]\u001b[A\n",
            "Training:   3%|▎         | 788/27702 [20:13<10:02:42,  1.34s/it]\u001b[A\n",
            "Training:   3%|▎         | 789/27702 [20:15<9:59:18,  1.34s/it] \u001b[A\n",
            "Training:   3%|▎         | 790/27702 [20:16<9:59:03,  1.34s/it]\u001b[A\n",
            "Training:   3%|▎         | 791/27702 [20:17<9:56:46,  1.33s/it]\u001b[A\n",
            "Training:   3%|▎         | 792/27702 [20:19<9:54:05,  1.32s/it]\u001b[A\n",
            "Training:   3%|▎         | 793/27702 [20:20<9:55:05,  1.33s/it]\u001b[A\n",
            "Training:   3%|▎         | 794/27702 [20:21<10:10:23,  1.36s/it]\u001b[A\n",
            "Training:   3%|▎         | 795/27702 [20:23<10:19:12,  1.38s/it]\u001b[A\n",
            "Training:   3%|▎         | 796/27702 [20:24<10:27:43,  1.40s/it]\u001b[A\n",
            "Training:   3%|▎         | 797/27702 [20:26<10:17:04,  1.38s/it]\u001b[A\n",
            "Training:   3%|▎         | 798/27702 [20:27<10:06:40,  1.35s/it]\u001b[A\n",
            "Training:   3%|▎         | 799/27702 [20:28<10:01:52,  1.34s/it]\u001b[A\n",
            "Training:   3%|▎         | 800/27702 [20:30<9:59:24,  1.34s/it] \u001b[A\n",
            "Training:   3%|▎         | 801/27702 [20:31<9:57:48,  1.33s/it]\u001b[A\n",
            "Training:   3%|▎         | 802/27702 [20:32<9:55:33,  1.33s/it]\u001b[A\n",
            "Training:   3%|▎         | 803/27702 [20:34<9:54:15,  1.33s/it]\u001b[A\n",
            "Training:   3%|▎         | 804/27702 [20:35<9:56:09,  1.33s/it]\u001b[A\n",
            "Training:   3%|▎         | 805/27702 [20:36<10:10:53,  1.36s/it]\u001b[A\n",
            "Training:   3%|▎         | 806/27702 [20:38<10:18:57,  1.38s/it]\u001b[A\n",
            "Training:   3%|▎         | 807/27702 [20:39<10:23:08,  1.39s/it]\u001b[A\n",
            "Training:   3%|▎         | 808/27702 [20:40<10:13:39,  1.37s/it]\u001b[A\n",
            "Training:   3%|▎         | 809/27702 [20:42<10:06:37,  1.35s/it]\u001b[A\n",
            "Training:   3%|▎         | 810/27702 [20:43<10:00:50,  1.34s/it]\u001b[A\n",
            "Training:   3%|▎         | 811/27702 [20:44<9:56:26,  1.33s/it] \u001b[A\n",
            "Training:   3%|▎         | 812/27702 [20:46<9:55:45,  1.33s/it]\u001b[A\n",
            "Training:   3%|▎         | 813/27702 [20:47<9:53:04,  1.32s/it]\u001b[A\n",
            "Training:   3%|▎         | 814/27702 [20:48<9:51:15,  1.32s/it]\u001b[A\n",
            "Training:   3%|▎         | 815/27702 [20:50<9:52:44,  1.32s/it]\u001b[A\n",
            "Training:   3%|▎         | 816/27702 [20:51<10:08:00,  1.36s/it]\u001b[A\n",
            "Training:   3%|▎         | 817/27702 [20:53<10:19:15,  1.38s/it]\u001b[A\n",
            "Training:   3%|▎         | 818/27702 [20:54<10:24:14,  1.39s/it]\u001b[A\n",
            "Training:   3%|▎         | 819/27702 [20:55<10:14:13,  1.37s/it]\u001b[A\n",
            "Training:   3%|▎         | 820/27702 [20:57<10:07:31,  1.36s/it]\u001b[A\n",
            "Training:   3%|▎         | 821/27702 [20:58<9:59:24,  1.34s/it] \u001b[A\n",
            "Training:   3%|▎         | 822/27702 [21:00<10:52:18,  1.46s/it]\u001b[A\n",
            "Training:   3%|▎         | 823/27702 [21:01<10:32:19,  1.41s/it]\u001b[A\n",
            "Training:   3%|▎         | 824/27702 [21:02<10:19:58,  1.38s/it]\u001b[A\n",
            "Training:   3%|▎         | 825/27702 [21:04<10:10:11,  1.36s/it]\u001b[A\n",
            "Training:   3%|▎         | 826/27702 [21:05<10:05:17,  1.35s/it]\u001b[A\n",
            "Training:   3%|▎         | 827/27702 [21:06<10:12:27,  1.37s/it]\u001b[A\n",
            "Training:   3%|▎         | 828/27702 [21:08<10:19:30,  1.38s/it]\u001b[A\n",
            "Training:   3%|▎         | 829/27702 [21:09<10:21:28,  1.39s/it]\u001b[A\n",
            "Training:   3%|▎         | 830/27702 [21:10<10:12:29,  1.37s/it]\u001b[A\n",
            "Training:   3%|▎         | 831/27702 [21:12<10:03:17,  1.35s/it]\u001b[A\n",
            "Training:   3%|▎         | 832/27702 [21:13<10:00:06,  1.34s/it]\u001b[A\n",
            "Training:   3%|▎         | 833/27702 [21:14<9:59:34,  1.34s/it] \u001b[A\n",
            "Training:   3%|▎         | 834/27702 [21:16<9:56:42,  1.33s/it]\u001b[A\n",
            "Training:   3%|▎         | 835/27702 [21:17<9:53:47,  1.33s/it]\u001b[A\n",
            "Training:   3%|▎         | 836/27702 [21:18<9:52:17,  1.32s/it]\u001b[A\n",
            "Training:   3%|▎         | 837/27702 [21:20<9:53:24,  1.33s/it]\u001b[A\n",
            "Training:   3%|▎         | 838/27702 [21:21<10:07:56,  1.36s/it]\u001b[A\n",
            "Training:   3%|▎         | 839/27702 [21:23<10:16:37,  1.38s/it]\u001b[A\n",
            "Training:   3%|▎         | 840/27702 [21:24<10:24:19,  1.39s/it]\u001b[A\n",
            "Training:   3%|▎         | 841/27702 [21:25<10:17:29,  1.38s/it]\u001b[A\n",
            "Training:   3%|▎         | 842/27702 [21:27<10:08:34,  1.36s/it]\u001b[A\n",
            "Training:   3%|▎         | 843/27702 [21:28<10:02:34,  1.35s/it]\u001b[A\n",
            "Training:   3%|▎         | 844/27702 [21:29<9:58:15,  1.34s/it] \u001b[A\n",
            "Training:   3%|▎         | 845/27702 [21:31<9:56:50,  1.33s/it]\u001b[A\n",
            "Training:   3%|▎         | 846/27702 [21:32<9:55:21,  1.33s/it]\u001b[A\n",
            "Training:   3%|▎         | 847/27702 [21:33<9:50:18,  1.32s/it]\u001b[A\n",
            "Training:   3%|▎         | 848/27702 [21:35<9:51:55,  1.32s/it]\u001b[A\n",
            "Training:   3%|▎         | 849/27702 [21:36<10:02:45,  1.35s/it]\u001b[A\n",
            "Training:   3%|▎         | 850/27702 [21:37<10:11:31,  1.37s/it]\u001b[A\n",
            "Training:   3%|▎         | 851/27702 [21:39<10:20:17,  1.39s/it]\u001b[A\n",
            "Training:   3%|▎         | 852/27702 [21:40<10:36:49,  1.42s/it]\u001b[A\n",
            "Training:   3%|▎         | 853/27702 [21:42<10:36:47,  1.42s/it]\u001b[A\n",
            "Training:   3%|▎         | 854/27702 [21:43<10:37:18,  1.42s/it]\u001b[A\n",
            "Training:   3%|▎         | 855/27702 [21:45<10:38:30,  1.43s/it]\u001b[A\n",
            "Training:   3%|▎         | 856/27702 [21:46<10:22:37,  1.39s/it]\u001b[A\n",
            "Training:   3%|▎         | 857/27702 [21:47<10:13:06,  1.37s/it]\u001b[A\n",
            "Training:   3%|▎         | 858/27702 [21:49<10:06:50,  1.36s/it]\u001b[A\n",
            "Training:   3%|▎         | 859/27702 [21:50<10:00:24,  1.34s/it]\u001b[A\n",
            "Training:   3%|▎         | 860/27702 [21:51<10:14:18,  1.37s/it]\u001b[A\n",
            "Training:   3%|▎         | 861/27702 [21:53<10:22:00,  1.39s/it]\u001b[A\n",
            "Training:   3%|▎         | 862/27702 [21:54<10:23:40,  1.39s/it]\u001b[A\n",
            "Training:   3%|▎         | 863/27702 [21:55<10:15:33,  1.38s/it]\u001b[A\n",
            "Training:   3%|▎         | 864/27702 [21:57<10:07:32,  1.36s/it]\u001b[A\n",
            "Training:   3%|▎         | 865/27702 [21:58<10:01:44,  1.35s/it]\u001b[A\n",
            "Training:   3%|▎         | 866/27702 [21:59<9:57:32,  1.34s/it] \u001b[A\n",
            "Training:   3%|▎         | 867/27702 [22:01<9:53:59,  1.33s/it]\u001b[A\n",
            "Training:   3%|▎         | 868/27702 [22:02<9:53:56,  1.33s/it]\u001b[A\n",
            "Training:   3%|▎         | 869/27702 [22:03<9:52:19,  1.32s/it]\u001b[A\n",
            "Training:   3%|▎         | 870/27702 [22:05<9:53:07,  1.33s/it]\u001b[A\n",
            "Training:   3%|▎         | 871/27702 [22:06<10:08:33,  1.36s/it]\u001b[A\n",
            "Training:   3%|▎         | 872/27702 [22:08<10:14:46,  1.37s/it]\u001b[A\n",
            "Training:   3%|▎         | 873/27702 [22:09<10:18:00,  1.38s/it]\u001b[A\n",
            "Training:   3%|▎         | 874/27702 [22:10<10:08:16,  1.36s/it]\u001b[A\n",
            "Training:   3%|▎         | 875/27702 [22:12<10:04:10,  1.35s/it]\u001b[A\n",
            "Training:   3%|▎         | 876/27702 [22:13<9:58:44,  1.34s/it] \u001b[A\n",
            "Training:   3%|▎         | 877/27702 [22:14<9:56:08,  1.33s/it]\u001b[A\n",
            "Training:   3%|▎         | 878/27702 [22:16<9:56:04,  1.33s/it]\u001b[A\n",
            "Training:   3%|▎         | 879/27702 [22:17<9:53:56,  1.33s/it]\u001b[A\n",
            "Training:   3%|▎         | 880/27702 [22:18<9:50:12,  1.32s/it]\u001b[A\n",
            "Training:   3%|▎         | 881/27702 [22:19<9:50:20,  1.32s/it]\u001b[A\n",
            "Training:   3%|▎         | 882/27702 [22:21<10:05:26,  1.35s/it]\u001b[A\n",
            "Training:   3%|▎         | 883/27702 [22:22<10:15:24,  1.38s/it]\u001b[A\n",
            "Training:   3%|▎         | 884/27702 [22:24<10:20:35,  1.39s/it]\u001b[A\n",
            "Training:   3%|▎         | 885/27702 [22:25<10:10:32,  1.37s/it]\u001b[A\n",
            "Training:   3%|▎         | 886/27702 [22:26<10:05:31,  1.35s/it]\u001b[A\n",
            "Training:   3%|▎         | 887/27702 [22:28<10:00:36,  1.34s/it]\u001b[A\n",
            "Training:   3%|▎         | 888/27702 [22:29<9:56:42,  1.34s/it] \u001b[A\n",
            "Training:   3%|▎         | 889/27702 [22:30<9:54:26,  1.33s/it]\u001b[A\n",
            "Training:   3%|▎         | 890/27702 [22:32<9:53:41,  1.33s/it]\u001b[A\n",
            "Training:   3%|▎         | 891/27702 [22:33<9:51:54,  1.32s/it]\u001b[A\n",
            "Training:   3%|▎         | 892/27702 [22:34<9:50:23,  1.32s/it]\u001b[A\n",
            "Training:   3%|▎         | 893/27702 [22:36<10:05:14,  1.35s/it]\u001b[A\n",
            "Training:   3%|▎         | 894/27702 [22:37<10:12:45,  1.37s/it]\u001b[A\n",
            "Training:   3%|▎         | 895/27702 [22:39<10:16:32,  1.38s/it]\u001b[A\n",
            "Training:   3%|▎         | 896/27702 [22:40<10:07:36,  1.36s/it]\u001b[A\n",
            "Training:   3%|▎         | 897/27702 [22:41<10:02:43,  1.35s/it]\u001b[A\n",
            "Training:   3%|▎         | 898/27702 [22:42<9:56:31,  1.34s/it] \u001b[A\n",
            "Training:   3%|▎         | 899/27702 [22:44<9:53:11,  1.33s/it]\u001b[A\n",
            "Training:   3%|▎         | 900/27702 [22:45<9:51:22,  1.32s/it]\u001b[A\n",
            "Training:   3%|▎         | 901/27702 [22:46<9:52:18,  1.33s/it]\u001b[A\n",
            "Training:   3%|▎         | 902/27702 [22:48<9:49:39,  1.32s/it]\u001b[A\n",
            "Training:   3%|▎         | 903/27702 [22:49<9:49:55,  1.32s/it]\u001b[A\n",
            "Training:   3%|▎         | 904/27702 [22:51<10:05:46,  1.36s/it]\u001b[A\n",
            "Training:   3%|▎         | 905/27702 [22:52<10:13:32,  1.37s/it]\u001b[A\n",
            "Training:   3%|▎         | 906/27702 [22:53<10:17:48,  1.38s/it]\u001b[A\n",
            "Training:   3%|▎         | 907/27702 [22:55<10:08:13,  1.36s/it]\u001b[A\n",
            "Training:   3%|▎         | 908/27702 [22:56<10:03:49,  1.35s/it]\u001b[A\n",
            "Training:   3%|▎         | 909/27702 [22:57<9:59:42,  1.34s/it] \u001b[A\n",
            "Training:   3%|▎         | 910/27702 [22:59<9:57:03,  1.34s/it]\u001b[A\n",
            "Training:   3%|▎         | 911/27702 [23:00<9:55:01,  1.33s/it]\u001b[A\n",
            "Training:   3%|▎         | 912/27702 [23:01<9:54:41,  1.33s/it]\u001b[A\n",
            "Training:   3%|▎         | 913/27702 [23:03<9:54:51,  1.33s/it]\u001b[A\n",
            "Training:   3%|▎         | 914/27702 [23:04<9:50:14,  1.32s/it]\u001b[A\n",
            "Training:   3%|▎         | 915/27702 [23:05<10:05:29,  1.36s/it]\u001b[A\n",
            "Training:   3%|▎         | 916/27702 [23:07<10:15:47,  1.38s/it]\u001b[A\n",
            "Training:   3%|▎         | 917/27702 [23:08<10:21:23,  1.39s/it]\u001b[A\n",
            "Training:   3%|▎         | 918/27702 [23:10<10:11:20,  1.37s/it]\u001b[A\n",
            "Training:   3%|▎         | 919/27702 [23:11<10:06:22,  1.36s/it]\u001b[A\n",
            "Training:   3%|▎         | 920/27702 [23:12<9:58:43,  1.34s/it] \u001b[A\n",
            "Training:   3%|▎         | 921/27702 [23:13<9:54:13,  1.33s/it]\u001b[A\n",
            "Training:   3%|▎         | 922/27702 [23:15<9:54:15,  1.33s/it]\u001b[A\n",
            "Training:   3%|▎         | 923/27702 [23:16<9:52:18,  1.33s/it]\u001b[A\n",
            "Training:   3%|▎         | 924/27702 [23:17<9:50:09,  1.32s/it]\u001b[A\n",
            "Training:   3%|▎         | 925/27702 [23:19<9:50:45,  1.32s/it]\u001b[A\n",
            "Training:   3%|▎         | 926/27702 [23:20<10:06:18,  1.36s/it]\u001b[A\n",
            "Training:   3%|▎         | 927/27702 [23:22<10:15:18,  1.38s/it]\u001b[A\n",
            "Training:   3%|▎         | 928/27702 [23:23<10:18:53,  1.39s/it]\u001b[A\n",
            "Training:   3%|▎         | 929/27702 [23:24<10:10:54,  1.37s/it]\u001b[A\n",
            "Training:   3%|▎         | 930/27702 [23:26<10:03:57,  1.35s/it]\u001b[A\n",
            "Training:   3%|▎         | 931/27702 [23:27<9:59:46,  1.34s/it] \u001b[A\n",
            "Training:   3%|▎         | 932/27702 [23:28<9:57:03,  1.34s/it]\u001b[A\n",
            "Training:   3%|▎         | 933/27702 [23:30<9:53:44,  1.33s/it]\u001b[A\n",
            "Training:   3%|▎         | 934/27702 [23:31<9:52:46,  1.33s/it]\u001b[A\n",
            "Training:   3%|▎         | 935/27702 [23:32<9:51:24,  1.33s/it]\u001b[A\n",
            "Training:   3%|▎         | 936/27702 [23:34<9:48:29,  1.32s/it]\u001b[A\n",
            "Training:   3%|▎         | 937/27702 [23:35<10:03:24,  1.35s/it]\u001b[A\n",
            "Training:   3%|▎         | 938/27702 [23:36<10:13:52,  1.38s/it]\u001b[A\n",
            "Training:   3%|▎         | 939/27702 [23:38<10:20:45,  1.39s/it]\u001b[A\n",
            "Training:   3%|▎         | 940/27702 [23:39<10:10:34,  1.37s/it]\u001b[A\n",
            "Training:   3%|▎         | 941/27702 [23:40<10:02:03,  1.35s/it]\u001b[A\n",
            "Training:   3%|▎         | 942/27702 [23:42<9:58:45,  1.34s/it] \u001b[A\n",
            "Training:   3%|▎         | 943/27702 [23:43<9:54:31,  1.33s/it]\u001b[A\n",
            "Training:   3%|▎         | 944/27702 [23:44<9:51:50,  1.33s/it]\u001b[A\n",
            "Training:   3%|▎         | 945/27702 [23:46<9:49:49,  1.32s/it]\u001b[A\n",
            "Training:   3%|▎         | 946/27702 [23:47<9:50:07,  1.32s/it]\u001b[A\n",
            "Training:   3%|▎         | 947/27702 [23:48<9:48:28,  1.32s/it]\u001b[A\n",
            "Training:   3%|▎         | 948/27702 [23:50<10:05:51,  1.36s/it]\u001b[A\n",
            "Training:   3%|▎         | 949/27702 [23:51<10:17:53,  1.39s/it]\u001b[A\n",
            "Training:   3%|▎         | 950/27702 [23:53<10:20:58,  1.39s/it]\u001b[A\n",
            "Training:   3%|▎         | 951/27702 [23:54<10:11:40,  1.37s/it]\u001b[A\n",
            "Training:   3%|▎         | 952/27702 [23:55<10:03:18,  1.35s/it]\u001b[A\n",
            "Training:   3%|▎         | 953/27702 [23:57<9:57:57,  1.34s/it] \u001b[A\n",
            "Training:   3%|▎         | 954/27702 [23:58<9:53:39,  1.33s/it]\u001b[A\n",
            "Training:   3%|▎         | 955/27702 [23:59<9:51:42,  1.33s/it]\u001b[A\n",
            "Training:   3%|▎         | 956/27702 [24:01<9:51:57,  1.33s/it]\u001b[A\n",
            "Training:   3%|▎         | 957/27702 [24:02<9:49:48,  1.32s/it]\u001b[A\n",
            "Training:   3%|▎         | 958/27702 [24:03<9:52:03,  1.33s/it]\u001b[A\n",
            "Training:   3%|▎         | 959/27702 [24:05<10:08:12,  1.36s/it]\u001b[A\n",
            "Training:   3%|▎         | 960/27702 [24:06<10:15:55,  1.38s/it]\u001b[A\n",
            "Training:   3%|▎         | 961/27702 [24:08<10:20:07,  1.39s/it]\u001b[A\n",
            "Training:   3%|▎         | 962/27702 [24:09<10:12:04,  1.37s/it]\u001b[A\n",
            "Training:   3%|▎         | 963/27702 [24:10<10:02:55,  1.35s/it]\u001b[A\n",
            "Training:   3%|▎         | 964/27702 [24:11<9:59:27,  1.35s/it] \u001b[A\n",
            "Training:   3%|▎         | 965/27702 [24:13<9:54:19,  1.33s/it]\u001b[A\n",
            "Training:   3%|▎         | 966/27702 [24:14<9:51:25,  1.33s/it]\u001b[A\n",
            "Training:   3%|▎         | 967/27702 [24:15<9:48:04,  1.32s/it]\u001b[A\n",
            "Training:   3%|▎         | 968/27702 [24:17<9:48:10,  1.32s/it]\u001b[A\n",
            "Training:   3%|▎         | 969/27702 [24:18<9:47:29,  1.32s/it]\u001b[A\n",
            "Training:   4%|▎         | 970/27702 [24:19<10:03:00,  1.35s/it]\u001b[A\n",
            "Training:   4%|▎         | 971/27702 [24:21<10:14:27,  1.38s/it]\u001b[A\n",
            "Training:   4%|▎         | 972/27702 [24:22<10:20:43,  1.39s/it]\u001b[A\n",
            "Training:   4%|▎         | 973/27702 [24:24<10:15:13,  1.38s/it]\u001b[A\n",
            "Training:   4%|▎         | 974/27702 [24:25<10:05:39,  1.36s/it]\u001b[A\n",
            "Training:   4%|▎         | 975/27702 [24:26<9:57:54,  1.34s/it] \u001b[A\n",
            "Training:   4%|▎         | 976/27702 [24:28<9:54:11,  1.33s/it]\u001b[A\n",
            "Training:   4%|▎         | 977/27702 [24:29<9:53:32,  1.33s/it]\u001b[A\n",
            "Training:   4%|▎         | 978/27702 [24:30<9:49:42,  1.32s/it]\u001b[A\n",
            "Training:   4%|▎         | 979/27702 [24:32<9:49:49,  1.32s/it]\u001b[A\n",
            "Training:   4%|▎         | 980/27702 [24:33<9:51:02,  1.33s/it]\u001b[A\n",
            "Training:   4%|▎         | 981/27702 [24:34<10:08:09,  1.37s/it]\u001b[A\n",
            "Training:   4%|▎         | 982/27702 [24:36<10:16:53,  1.39s/it]\u001b[A\n",
            "Training:   4%|▎         | 983/27702 [24:37<10:25:09,  1.40s/it]\u001b[A\n",
            "Training:   4%|▎         | 984/27702 [24:39<10:14:18,  1.38s/it]\u001b[A\n",
            "Training:   4%|▎         | 985/27702 [24:40<10:04:04,  1.36s/it]\u001b[A\n",
            "Training:   4%|▎         | 986/27702 [24:41<10:01:10,  1.35s/it]\u001b[A\n",
            "Training:   4%|▎         | 987/27702 [24:43<9:57:43,  1.34s/it] \u001b[A\n",
            "Training:   4%|▎         | 988/27702 [24:44<9:52:24,  1.33s/it]\u001b[A\n",
            "Training:   4%|▎         | 989/27702 [24:45<9:49:43,  1.32s/it]\u001b[A\n",
            "Training:   4%|▎         | 990/27702 [24:46<9:50:17,  1.33s/it]\u001b[A\n",
            "Training:   4%|▎         | 991/27702 [24:48<9:50:06,  1.33s/it]\u001b[A\n",
            "Training:   4%|▎         | 992/27702 [24:49<10:03:55,  1.36s/it]\u001b[A\n",
            "Training:   4%|▎         | 993/27702 [24:51<10:16:44,  1.39s/it]\u001b[A\n",
            "Training:   4%|▎         | 994/27702 [24:52<10:20:10,  1.39s/it]\u001b[A\n",
            "Training:   4%|▎         | 995/27702 [24:53<10:07:34,  1.36s/it]\u001b[A\n",
            "Training:   4%|▎         | 996/27702 [24:55<10:02:28,  1.35s/it]\u001b[A\n",
            "Training:   4%|▎         | 997/27702 [24:56<9:57:04,  1.34s/it] \u001b[A\n",
            "Training:   4%|▎         | 998/27702 [24:57<9:54:11,  1.34s/it]\u001b[A\n",
            "Training:   4%|▎         | 999/27702 [24:59<9:54:02,  1.33s/it]\u001b[A\n",
            "Training:   4%|▎         | 1000/27702 [25:00<9:51:29,  1.33s/it]\u001b[A\n",
            "Training:   4%|▎         | 1001/27702 [25:01<9:48:40,  1.32s/it]\u001b[A\n",
            "Training:   4%|▎         | 1002/27702 [25:03<9:49:41,  1.33s/it]\u001b[A\n",
            "Training:   4%|▎         | 1003/27702 [25:04<10:02:08,  1.35s/it]\u001b[A\n",
            "Training:   4%|▎         | 1004/27702 [25:05<10:13:24,  1.38s/it]\u001b[A\n",
            "Training:   4%|▎         | 1005/27702 [25:07<10:21:44,  1.40s/it]\u001b[A\n",
            "Training:   4%|▎         | 1006/27702 [25:08<10:10:01,  1.37s/it]\u001b[A\n",
            "Training:   4%|▎         | 1007/27702 [25:10<10:01:08,  1.35s/it]\u001b[A\n",
            "Training:   4%|▎         | 1008/27702 [25:11<9:58:04,  1.34s/it] \u001b[A\n",
            "Training:   4%|▎         | 1009/27702 [25:12<9:53:05,  1.33s/it]\u001b[A\n",
            "Training:   4%|▎         | 1010/27702 [25:14<9:51:48,  1.33s/it]\u001b[A\n",
            "Training:   4%|▎         | 1011/27702 [25:15<9:49:03,  1.32s/it]\u001b[A\n",
            "Training:   4%|▎         | 1012/27702 [25:16<9:47:10,  1.32s/it]\u001b[A\n",
            "Training:   4%|▎         | 1013/27702 [25:17<9:46:32,  1.32s/it]\u001b[A\n",
            "Training:   4%|▎         | 1014/27702 [25:19<10:04:04,  1.36s/it]\u001b[A\n",
            "Training:   4%|▎         | 1015/27702 [25:20<10:15:13,  1.38s/it]\u001b[A\n",
            "Training:   4%|▎         | 1016/27702 [25:22<10:19:51,  1.39s/it]\u001b[A\n",
            "Training:   4%|▎         | 1017/27702 [25:23<10:08:12,  1.37s/it]\u001b[A\n",
            "Training:   4%|▎         | 1018/27702 [25:24<10:03:49,  1.36s/it]\u001b[A\n",
            "Training:   4%|▎         | 1019/27702 [25:26<9:55:51,  1.34s/it] \u001b[A\n",
            "Training:   4%|▎         | 1020/27702 [25:27<9:52:04,  1.33s/it]\u001b[A\n",
            "Training:   4%|▎         | 1021/27702 [25:28<9:50:32,  1.33s/it]\u001b[A\n",
            "Training:   4%|▎         | 1022/27702 [25:30<9:48:02,  1.32s/it]\u001b[A\n",
            "Training:   4%|▎         | 1023/27702 [25:31<9:46:57,  1.32s/it]\u001b[A\n",
            "Training:   4%|▎         | 1024/27702 [25:32<9:46:10,  1.32s/it]\u001b[A\n",
            "Training:   4%|▎         | 1025/27702 [25:34<10:04:09,  1.36s/it]\u001b[A\n",
            "Training:   4%|▎         | 1026/27702 [25:35<10:14:05,  1.38s/it]\u001b[A\n",
            "Training:   4%|▎         | 1027/27702 [25:37<10:18:32,  1.39s/it]\u001b[A\n",
            "Training:   4%|▎         | 1028/27702 [25:38<10:10:26,  1.37s/it]\u001b[A\n",
            "Training:   4%|▎         | 1029/27702 [25:39<10:01:57,  1.35s/it]\u001b[A\n",
            "Training:   4%|▎         | 1030/27702 [25:41<9:57:16,  1.34s/it] \u001b[A\n",
            "Training:   4%|▎         | 1031/27702 [25:42<9:54:41,  1.34s/it]\u001b[A\n",
            "Training:   4%|▎         | 1032/27702 [25:43<9:54:08,  1.34s/it]\u001b[A\n",
            "Training:   4%|▎         | 1033/27702 [25:45<9:51:00,  1.33s/it]\u001b[A\n",
            "Training:   4%|▎         | 1034/27702 [25:46<9:49:30,  1.33s/it]\u001b[A\n",
            "Training:   4%|▎         | 1035/27702 [25:47<9:46:05,  1.32s/it]\u001b[A\n",
            "Training:   4%|▎         | 1036/27702 [25:49<10:01:41,  1.35s/it]\u001b[A\n",
            "Training:   4%|▎         | 1037/27702 [25:50<10:12:01,  1.38s/it]\u001b[A\n",
            "Training:   4%|▎         | 1038/27702 [25:51<10:18:48,  1.39s/it]\u001b[A\n",
            "Training:   4%|▍         | 1039/27702 [25:53<10:08:07,  1.37s/it]\u001b[A\n",
            "Training:   4%|▍         | 1040/27702 [25:54<10:00:03,  1.35s/it]\u001b[A\n",
            "Training:   4%|▍         | 1041/27702 [25:55<9:56:30,  1.34s/it] \u001b[A\n",
            "Training:   4%|▍         | 1042/27702 [25:57<9:52:32,  1.33s/it]\u001b[A\n",
            "Training:   4%|▍         | 1043/27702 [25:58<9:50:15,  1.33s/it]\u001b[A\n",
            "Training:   4%|▍         | 1044/27702 [25:59<9:50:51,  1.33s/it]\u001b[A\n",
            "Training:   4%|▍         | 1045/27702 [26:01<9:50:57,  1.33s/it]\u001b[A\n",
            "Training:   4%|▍         | 1046/27702 [26:02<9:50:50,  1.33s/it]\u001b[A\n",
            "Training:   4%|▍         | 1047/27702 [26:03<10:04:10,  1.36s/it]\u001b[A\n",
            "Training:   4%|▍         | 1048/27702 [26:05<10:13:05,  1.38s/it]\u001b[A\n",
            "Training:   4%|▍         | 1049/27702 [26:06<10:19:39,  1.39s/it]\u001b[A\n",
            "Training:   4%|▍         | 1050/27702 [26:08<10:16:26,  1.39s/it]\u001b[A\n",
            "Training:   4%|▍         | 1051/27702 [26:09<10:06:05,  1.36s/it]\u001b[A\n",
            "Training:   4%|▍         | 1052/27702 [26:10<9:59:45,  1.35s/it] \u001b[A\n",
            "Training:   4%|▍         | 1053/27702 [26:12<9:57:22,  1.34s/it]\u001b[A\n",
            "Training:   4%|▍         | 1054/27702 [26:13<9:53:11,  1.34s/it]\u001b[A\n",
            "Training:   4%|▍         | 1055/27702 [26:14<9:52:42,  1.33s/it]\u001b[A\n",
            "Training:   4%|▍         | 1056/27702 [26:16<9:51:42,  1.33s/it]\u001b[A\n",
            "Training:   4%|▍         | 1057/27702 [26:17<9:53:21,  1.34s/it]\u001b[A\n",
            "Training:   4%|▍         | 1058/27702 [26:18<10:02:45,  1.36s/it]\u001b[A\n",
            "Training:   4%|▍         | 1059/27702 [26:20<10:11:31,  1.38s/it]\u001b[A\n",
            "Training:   4%|▍         | 1060/27702 [26:21<10:17:27,  1.39s/it]\u001b[A\n",
            "Training:   4%|▍         | 1061/27702 [26:23<10:11:44,  1.38s/it]\u001b[A\n",
            "Training:   4%|▍         | 1062/27702 [26:24<10:04:08,  1.36s/it]\u001b[A\n",
            "Training:   4%|▍         | 1063/27702 [26:25<9:58:34,  1.35s/it] \u001b[A\n",
            "Training:   4%|▍         | 1064/27702 [26:26<9:56:42,  1.34s/it]\u001b[A\n",
            "Training:   4%|▍         | 1065/27702 [26:28<9:52:51,  1.34s/it]\u001b[A\n",
            "Training:   4%|▍         | 1066/27702 [26:29<9:50:19,  1.33s/it]\u001b[A\n",
            "Training:   4%|▍         | 1067/27702 [26:30<9:49:40,  1.33s/it]\u001b[A\n",
            "Training:   4%|▍         | 1068/27702 [26:32<9:46:06,  1.32s/it]\u001b[A\n",
            "Training:   4%|▍         | 1069/27702 [26:33<10:01:26,  1.35s/it]\u001b[A\n",
            "Training:   4%|▍         | 1070/27702 [26:35<10:14:38,  1.38s/it]\u001b[A\n",
            "Training:   4%|▍         | 1071/27702 [26:36<10:20:20,  1.40s/it]\u001b[A\n",
            "Training:   4%|▍         | 1072/27702 [26:37<10:09:32,  1.37s/it]\u001b[A\n",
            "Training:   4%|▍         | 1073/27702 [26:39<10:03:00,  1.36s/it]\u001b[A\n",
            "Training:   4%|▍         | 1074/27702 [26:40<9:57:17,  1.35s/it] \u001b[A\n",
            "Training:   4%|▍         | 1075/27702 [26:41<9:53:26,  1.34s/it]\u001b[A\n",
            "Training:   4%|▍         | 1076/27702 [26:43<9:51:49,  1.33s/it]\u001b[A\n",
            "Training:   4%|▍         | 1077/27702 [26:44<9:51:03,  1.33s/it]\u001b[A\n",
            "Training:   4%|▍         | 1078/27702 [26:45<9:48:43,  1.33s/it]\u001b[A\n",
            "Training:   4%|▍         | 1079/27702 [26:47<9:47:53,  1.32s/it]\u001b[A\n",
            "Training:   4%|▍         | 1080/27702 [26:48<10:00:32,  1.35s/it]\u001b[A\n",
            "Training:   4%|▍         | 1081/27702 [26:49<10:08:48,  1.37s/it]\u001b[A\n",
            "Training:   4%|▍         | 1082/27702 [26:51<10:13:29,  1.38s/it]\u001b[A\n",
            "Training:   4%|▍         | 1083/27702 [26:52<10:07:40,  1.37s/it]\u001b[A\n",
            "Training:   4%|▍         | 1084/27702 [26:54<10:01:11,  1.36s/it]\u001b[A\n",
            "Training:   4%|▍         | 1085/27702 [26:55<9:58:03,  1.35s/it] \u001b[A\n",
            "Training:   4%|▍         | 1086/27702 [26:56<9:54:10,  1.34s/it]\u001b[A\n",
            "Training:   4%|▍         | 1087/27702 [26:58<9:51:39,  1.33s/it]\u001b[A\n",
            "Training:   4%|▍         | 1088/27702 [26:59<9:50:30,  1.33s/it]\u001b[A\n",
            "Training:   4%|▍         | 1089/27702 [27:00<9:48:47,  1.33s/it]\u001b[A\n",
            "Training:   4%|▍         | 1090/27702 [27:01<9:45:54,  1.32s/it]\u001b[A\n",
            "Training:   4%|▍         | 1091/27702 [27:03<10:01:52,  1.36s/it]\u001b[A\n",
            "Training:   4%|▍         | 1092/27702 [27:04<10:09:38,  1.37s/it]\u001b[A\n",
            "Training:   4%|▍         | 1093/27702 [27:06<10:17:24,  1.39s/it]\u001b[A\n",
            "Training:   4%|▍         | 1094/27702 [27:07<10:14:00,  1.38s/it]\u001b[A\n",
            "Training:   4%|▍         | 1095/27702 [27:08<10:04:28,  1.36s/it]\u001b[A\n",
            "Training:   4%|▍         | 1096/27702 [27:10<9:57:57,  1.35s/it] \u001b[A\n",
            "Training:   4%|▍         | 1097/27702 [27:11<9:55:50,  1.34s/it]\u001b[A\n",
            "Training:   4%|▍         | 1098/27702 [27:12<9:50:11,  1.33s/it]\u001b[A\n",
            "Training:   4%|▍         | 1099/27702 [27:14<9:46:55,  1.32s/it]\u001b[A\n",
            "Training:   4%|▍         | 1100/27702 [27:15<9:42:37,  1.31s/it]\u001b[A\n",
            "Training:   4%|▍         | 1101/27702 [27:16<9:42:45,  1.31s/it]\u001b[A\n",
            "Training:   4%|▍         | 1102/27702 [27:18<9:58:43,  1.35s/it]\u001b[A\n",
            "Training:   4%|▍         | 1103/27702 [27:19<10:09:10,  1.37s/it]\u001b[A\n",
            "Training:   4%|▍         | 1104/27702 [27:21<10:16:16,  1.39s/it]\u001b[A\n",
            "Training:   4%|▍         | 1105/27702 [27:22<10:06:43,  1.37s/it]\u001b[A\n",
            "Training:   4%|▍         | 1106/27702 [27:23<9:57:01,  1.35s/it] \u001b[A\n",
            "Training:   4%|▍         | 1107/27702 [27:25<9:52:53,  1.34s/it]\u001b[A\n",
            "Training:   4%|▍         | 1108/27702 [27:26<9:50:05,  1.33s/it]\u001b[A\n",
            "Training:   4%|▍         | 1109/27702 [27:27<9:47:09,  1.32s/it]\u001b[A\n",
            "Training:   4%|▍         | 1110/27702 [27:28<9:46:03,  1.32s/it]\u001b[A\n",
            "Training:   4%|▍         | 1111/27702 [27:30<9:44:48,  1.32s/it]\u001b[A\n",
            "Training:   4%|▍         | 1112/27702 [27:31<9:44:06,  1.32s/it]\u001b[A\n",
            "Training:   4%|▍         | 1113/27702 [27:33<9:58:07,  1.35s/it]\u001b[A\n",
            "Training:   4%|▍         | 1114/27702 [27:34<10:08:48,  1.37s/it]\u001b[A\n",
            "Training:   4%|▍         | 1115/27702 [27:35<10:15:40,  1.39s/it]\u001b[A\n",
            "Training:   4%|▍         | 1116/27702 [27:37<10:14:12,  1.39s/it]\u001b[A\n",
            "Training:   4%|▍         | 1117/27702 [27:38<10:04:06,  1.36s/it]\u001b[A\n",
            "Training:   4%|▍         | 1118/27702 [27:39<9:59:23,  1.35s/it] \u001b[A\n",
            "Training:   4%|▍         | 1119/27702 [27:41<9:54:06,  1.34s/it]\u001b[A\n",
            "Training:   4%|▍         | 1120/27702 [27:42<9:50:09,  1.33s/it]\u001b[A\n",
            "Training:   4%|▍         | 1121/27702 [27:43<9:48:30,  1.33s/it]\u001b[A\n",
            "Training:   4%|▍         | 1122/27702 [27:45<9:47:25,  1.33s/it]\u001b[A\n",
            "Training:   4%|▍         | 1123/27702 [27:46<9:46:50,  1.32s/it]\u001b[A\n",
            "Training:   4%|▍         | 1124/27702 [27:47<10:01:12,  1.36s/it]\u001b[A\n",
            "Training:   4%|▍         | 1125/27702 [27:49<10:12:17,  1.38s/it]\u001b[A\n",
            "Training:   4%|▍         | 1126/27702 [27:50<10:14:00,  1.39s/it]\u001b[A\n",
            "Training:   4%|▍         | 1127/27702 [27:52<10:14:34,  1.39s/it]\u001b[A\n",
            "Training:   4%|▍         | 1128/27702 [27:53<10:05:26,  1.37s/it]\u001b[A\n",
            "Training:   4%|▍         | 1129/27702 [27:54<9:58:50,  1.35s/it] \u001b[A\n",
            "Training:   4%|▍         | 1130/27702 [27:56<9:54:41,  1.34s/it]\u001b[A\n",
            "Training:   4%|▍         | 1131/27702 [27:57<9:50:36,  1.33s/it]\u001b[A\n",
            "Training:   4%|▍         | 1132/27702 [27:58<9:47:55,  1.33s/it]\u001b[A\n",
            "Training:   4%|▍         | 1133/27702 [28:00<9:46:26,  1.32s/it]\u001b[A\n",
            "Training:   4%|▍         | 1134/27702 [28:01<9:45:23,  1.32s/it]\u001b[A\n",
            "Training:   4%|▍         | 1135/27702 [28:02<10:00:20,  1.36s/it]\u001b[A\n",
            "Training:   4%|▍         | 1136/27702 [28:04<10:09:54,  1.38s/it]\u001b[A\n",
            "Training:   4%|▍         | 1137/27702 [28:05<10:14:37,  1.39s/it]\u001b[A\n",
            "Training:   4%|▍         | 1138/27702 [28:06<10:10:07,  1.38s/it]\u001b[A\n",
            "Training:   4%|▍         | 1139/27702 [28:08<10:02:03,  1.36s/it]\u001b[A\n",
            "Training:   4%|▍         | 1140/27702 [28:09<9:55:19,  1.34s/it] \u001b[A\n",
            "Training:   4%|▍         | 1141/27702 [28:10<9:53:52,  1.34s/it]\u001b[A\n",
            "Training:   4%|▍         | 1142/27702 [28:12<9:50:04,  1.33s/it]\u001b[A\n",
            "Training:   4%|▍         | 1143/27702 [28:13<9:46:25,  1.32s/it]\u001b[A\n",
            "Training:   4%|▍         | 1144/27702 [28:14<9:45:25,  1.32s/it]\u001b[A\n",
            "Training:   4%|▍         | 1145/27702 [28:16<9:43:20,  1.32s/it]\u001b[A\n",
            "Training:   4%|▍         | 1146/27702 [28:17<9:56:54,  1.35s/it]\u001b[A\n",
            "Training:   4%|▍         | 1147/27702 [28:19<10:06:50,  1.37s/it]\u001b[A\n",
            "Training:   4%|▍         | 1148/27702 [28:20<10:12:41,  1.38s/it]\u001b[A\n",
            "Training:   4%|▍         | 1149/27702 [28:21<10:04:55,  1.37s/it]\u001b[A\n",
            "Training:   4%|▍         | 1150/27702 [28:23<9:58:20,  1.35s/it] \u001b[A\n",
            "Training:   4%|▍         | 1151/27702 [28:24<9:50:47,  1.34s/it]\u001b[A\n",
            "Training:   4%|▍         | 1152/27702 [28:25<9:50:29,  1.33s/it]\u001b[A\n",
            "Training:   4%|▍         | 1153/27702 [28:27<9:48:53,  1.33s/it]\u001b[A\n",
            "Training:   4%|▍         | 1154/27702 [28:28<9:45:29,  1.32s/it]\u001b[A\n",
            "Training:   4%|▍         | 1155/27702 [28:29<9:42:46,  1.32s/it]\u001b[A\n",
            "Training:   4%|▍         | 1156/27702 [28:30<9:43:45,  1.32s/it]\u001b[A\n",
            "Training:   4%|▍         | 1157/27702 [28:32<9:57:25,  1.35s/it]\u001b[A\n",
            "Training:   4%|▍         | 1158/27702 [28:33<10:09:59,  1.38s/it]\u001b[A\n",
            "Training:   4%|▍         | 1159/27702 [28:35<10:16:10,  1.39s/it]\u001b[A\n",
            "Training:   4%|▍         | 1160/27702 [28:36<10:06:37,  1.37s/it]\u001b[A\n",
            "Training:   4%|▍         | 1161/27702 [28:37<9:58:49,  1.35s/it] \u001b[A\n",
            "Training:   4%|▍         | 1162/27702 [28:39<9:52:21,  1.34s/it]\u001b[A\n",
            "Training:   4%|▍         | 1163/27702 [28:40<9:48:25,  1.33s/it]\u001b[A\n",
            "Training:   4%|▍         | 1164/27702 [28:41<10:01:55,  1.36s/it]\u001b[A\n",
            "Training:   4%|▍         | 1165/27702 [28:43<10:12:57,  1.39s/it]\u001b[A\n",
            "Training:   4%|▍         | 1166/27702 [28:44<10:20:03,  1.40s/it]\u001b[A\n",
            "Training:   4%|▍         | 1167/27702 [28:46<10:22:10,  1.41s/it]\u001b[A\n",
            "Training:   4%|▍         | 1168/27702 [28:47<10:23:31,  1.41s/it]\u001b[A\n",
            "Training:   4%|▍         | 1169/27702 [28:49<10:27:14,  1.42s/it]\u001b[A\n",
            "Training:   4%|▍         | 1170/27702 [28:50<10:28:53,  1.42s/it]\u001b[A\n",
            "Training:   4%|▍         | 1171/27702 [28:51<10:16:33,  1.39s/it]\u001b[A\n",
            "Training:   4%|▍         | 1172/27702 [28:53<10:06:16,  1.37s/it]\u001b[A\n",
            "Training:   4%|▍         | 1173/27702 [28:54<9:58:20,  1.35s/it] \u001b[A\n",
            "Training:   4%|▍         | 1174/27702 [28:55<9:53:27,  1.34s/it]\u001b[A\n",
            "Training:   4%|▍         | 1175/27702 [28:57<9:50:10,  1.33s/it]\u001b[A\n",
            "Training:   4%|▍         | 1176/27702 [28:58<9:49:40,  1.33s/it]\u001b[A\n",
            "Training:   4%|▍         | 1177/27702 [28:59<9:47:00,  1.33s/it]\u001b[A\n",
            "Training:   4%|▍         | 1178/27702 [29:01<9:45:51,  1.33s/it]\u001b[A\n",
            "Training:   4%|▍         | 1179/27702 [29:02<10:02:26,  1.36s/it]\u001b[A\n",
            "Training:   4%|▍         | 1180/27702 [29:03<10:09:36,  1.38s/it]\u001b[A\n",
            "Training:   4%|▍         | 1181/27702 [29:05<10:18:14,  1.40s/it]\u001b[A\n",
            "Training:   4%|▍         | 1182/27702 [29:06<10:07:19,  1.37s/it]\u001b[A\n",
            "Training:   4%|▍         | 1183/27702 [29:08<9:59:26,  1.36s/it] \u001b[A\n",
            "Training:   4%|▍         | 1184/27702 [29:09<9:55:38,  1.35s/it]\u001b[A\n",
            "Training:   4%|▍         | 1185/27702 [29:10<9:51:59,  1.34s/it]\u001b[A\n"
          ]
        }
      ]
    },
    {
      "cell_type": "code",
      "source": [],
      "metadata": {
        "id": "tHqcBHpmv2iU"
      },
      "execution_count": null,
      "outputs": []
    }
  ]
}