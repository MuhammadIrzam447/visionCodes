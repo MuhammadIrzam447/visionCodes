{
  "nbformat": 4,
  "nbformat_minor": 0,
  "metadata": {
    "colab": {
      "provenance": [],
      "gpuType": "T4",
      "collapsed_sections": [
        "00vlqtj_0TXq",
        "LN_1_n4nScPZ",
        "vsW7ms9iFQIi",
        "GZDNW0tS225-",
        "oA19HxxWkW78"
      ],
      "include_colab_link": true
    },
    "kernelspec": {
      "name": "python3",
      "display_name": "Python 3"
    },
    "language_info": {
      "name": "python"
    },
    "accelerator": "GPU"
  },
  "cells": [
    {
      "cell_type": "markdown",
      "metadata": {
        "id": "view-in-github",
        "colab_type": "text"
      },
      "source": [
        "<a href=\"https://colab.research.google.com/github/MuhammadIrzam447/visionCodes/blob/master/Updated_Ex_3.ipynb\" target=\"_parent\"><img src=\"https://colab.research.google.com/assets/colab-badge.svg\" alt=\"Open In Colab\"/></a>"
      ]
    },
    {
      "cell_type": "code",
      "source": [
        "# performed augmentation on class 1 only to make it more balance.\n",
        "# extract best model"
      ],
      "metadata": {
        "id": "4H3pu3V8Tp-Q"
      },
      "execution_count": null,
      "outputs": []
    },
    {
      "cell_type": "code",
      "source": [
        "# Fused Hateful Memes\n",
        "# !gdown https://drive.google.com/uc?id=1njfaNGVKJMDdBDV1CwQyrrvwyUzSdsTj"
      ],
      "metadata": {
        "id": "QJDKRUehNtnz"
      },
      "execution_count": null,
      "outputs": []
    },
    {
      "cell_type": "code",
      "source": [
        "# !unzip /content/hateful_exp5.zip"
      ],
      "metadata": {
        "id": "fIoZ7lU1iskh"
      },
      "execution_count": null,
      "outputs": []
    },
    {
      "cell_type": "code",
      "execution_count": 3,
      "metadata": {
        "id": "ObgVtPmABT7d"
      },
      "outputs": [],
      "source": [
        "from google.colab import drive\n",
        "import pandas as pd\n",
        "import os\n",
        "from PIL import Image\n",
        "import torch\n",
        "import torchvision\n",
        "from torchvision import datasets, transforms\n",
        "import torchvision.models as models\n",
        "from torchvision.datasets import ImageFolder\n",
        "import torch.nn as nn\n",
        "import torch.optim as optim\n",
        "from sklearn.metrics import confusion_matrix\n",
        "from sklearn.metrics import precision_recall_fscore_support\n",
        "from sklearn.metrics import accuracy_score, precision_score, recall_score, f1_score\n",
        "import matplotlib.pyplot as plt\n",
        "import seaborn as sns\n",
        "import numpy as np\n",
        "from PIL import UnidentifiedImageError\n",
        "from sklearn.metrics import classification_report\n",
        "from sklearn.metrics import confusion_matrix, ConfusionMatrixDisplay"
      ]
    },
    {
      "cell_type": "code",
      "source": [
        "if torch.cuda.is_available():\n",
        "    device = torch.device(\"cuda\")\n",
        "else:\n",
        "    device = torch.device(\"cpu\")\n",
        "print(device)"
      ],
      "metadata": {
        "id": "pziXvdPgU58B",
        "colab": {
          "base_uri": "https://localhost:8080/"
        },
        "outputId": "ac961cc0-2aea-49c6-f9b0-7fb0a573eb28"
      },
      "execution_count": 4,
      "outputs": [
        {
          "output_type": "stream",
          "name": "stdout",
          "text": [
            "cuda\n"
          ]
        }
      ]
    },
    {
      "cell_type": "markdown",
      "source": [
        "# Loading Training Dataset and Preprocessing"
      ],
      "metadata": {
        "id": "00vlqtj_0TXq"
      }
    },
    {
      "cell_type": "code",
      "source": [
        "transform = transforms.Compose([\n",
        "    transforms.Resize((224, 224)),\n",
        "    transforms.ToTensor(),\n",
        "    transforms.Normalize(mean=[0.485, 0.456, 0.406], std=[0.229, 0.224, 0.225])\n",
        "])"
      ],
      "metadata": {
        "id": "11gcKFPXGx4H"
      },
      "execution_count": 5,
      "outputs": []
    },
    {
      "cell_type": "code",
      "source": [
        "class TrainingDataset(torch.utils.data.Dataset):\n",
        "    def __init__(self, data_dir):\n",
        "        self.data_dir = data_dir\n",
        "        self.dataset = datasets.ImageFolder(data_dir, transform=transform)\n",
        "        self.classes = sorted(os.listdir(data_dir))\n",
        "        self.class_lengths = self._compute_class_lengths()\n",
        "        self.num_classes = len(self.dataset.classes)\n",
        "\n",
        "    def _compute_class_lengths(self):\n",
        "        class_lengths = {cls: 0 for cls in self.classes}\n",
        "\n",
        "        for cls in self.classes:\n",
        "            cls_dir = os.path.join(self.data_dir, cls)\n",
        "            if os.path.isdir(cls_dir):\n",
        "                class_lengths[cls] = len(os.listdir(cls_dir))\n",
        "\n",
        "        return class_lengths\n",
        "\n",
        "    def __getitem__(self, index):\n",
        "        image, label = self.dataset[index]\n",
        "        return image, label\n",
        "\n",
        "    # def __getitem__(self, index):\n",
        "    #     while True:\n",
        "    #         try:\n",
        "    #             image, label = self.dataset[index]\n",
        "    #             return image, label\n",
        "    #         except (UnidentifiedImageError, FileNotFoundError) as e:\n",
        "    #             print(f\"Error loading image at index {index}: {e}\")\n",
        "    #             index += 1\n",
        "\n",
        "    def __len__(self):\n",
        "        return len(self.dataset)\n",
        "\n",
        "    def get_num_classes(self):\n",
        "        return self.num_classes"
      ],
      "metadata": {
        "id": "SxiZcLMwIdP2"
      },
      "execution_count": 6,
      "outputs": []
    },
    {
      "cell_type": "code",
      "source": [
        "data_dir = \"/content/mulitmodal/train\"\n",
        "dataset = TrainingDataset(data_dir)"
      ],
      "metadata": {
        "id": "2vHn670_GyKc"
      },
      "execution_count": 7,
      "outputs": []
    },
    {
      "cell_type": "code",
      "source": [
        "print(\"Number of samples:\", len(dataset))\n",
        "print(\"Number of classes:\", len(dataset.classes))"
      ],
      "metadata": {
        "id": "S9kouQGoUpJN",
        "colab": {
          "base_uri": "https://localhost:8080/"
        },
        "outputId": "9dd62f1a-3f48-41ea-d7d6-4d608c6104d4"
      },
      "execution_count": 8,
      "outputs": [
        {
          "output_type": "stream",
          "name": "stdout",
          "text": [
            "Number of samples: 28550\n",
            "Number of classes: 2\n"
          ]
        }
      ]
    },
    {
      "cell_type": "code",
      "source": [
        "batch_size = 32\n",
        "num_workers = 2\n",
        "data_loader = torch.utils.data.DataLoader(dataset, batch_size=batch_size, shuffle=True, num_workers=num_workers)"
      ],
      "metadata": {
        "id": "Cs0LSvvPGyTZ"
      },
      "execution_count": 9,
      "outputs": []
    },
    {
      "cell_type": "markdown",
      "source": [
        "# Validation Data Loader"
      ],
      "metadata": {
        "id": "LN_1_n4nScPZ"
      }
    },
    {
      "cell_type": "code",
      "source": [
        "val_transform = transforms.Compose([\n",
        "    transforms.Resize((224, 224)),\n",
        "    transforms.ToTensor(),\n",
        "    transforms.Normalize(mean=[0.485, 0.456, 0.406], std=[0.229, 0.224, 0.225])\n",
        "])\n",
        "\n",
        "class ValidationDataset(torch.utils.data.Dataset):\n",
        "    def __init__(self, data_dir):\n",
        "        self.data_dir = data_dir\n",
        "        self.dataset = datasets.ImageFolder(data_dir, transform=val_transform)\n",
        "        self.classes = sorted(os.listdir(data_dir))\n",
        "        self.class_lengths = self._compute_class_lengths()\n",
        "\n",
        "    def _compute_class_lengths(self):\n",
        "        class_lengths = {cls: 0 for cls in self.classes}\n",
        "\n",
        "        for cls in self.classes:\n",
        "            cls_dir = os.path.join(self.data_dir, cls)\n",
        "            if os.path.isdir(cls_dir):\n",
        "                class_lengths[cls] = len(os.listdir(cls_dir))\n",
        "\n",
        "        return class_lengths\n",
        "\n",
        "    def __getitem__(self, index):\n",
        "        image, label = self.dataset[index]\n",
        "        return image, label\n",
        "\n",
        "    def __len__(self):\n",
        "        return len(self.dataset)"
      ],
      "metadata": {
        "id": "hycPMtNySeXn"
      },
      "execution_count": 10,
      "outputs": []
    },
    {
      "cell_type": "code",
      "source": [
        "valPath = \"/content/mulitmodal/test\"\n",
        "val_dataset = ValidationDataset(valPath)"
      ],
      "metadata": {
        "id": "F1ZXM95XSz3I"
      },
      "execution_count": 11,
      "outputs": []
    },
    {
      "cell_type": "code",
      "source": [
        "batch_size = 32\n",
        "validation_data_loader = torch.utils.data.DataLoader(val_dataset, batch_size=batch_size, shuffle=False)"
      ],
      "metadata": {
        "id": "re5Gun34Se9b"
      },
      "execution_count": 12,
      "outputs": []
    },
    {
      "cell_type": "code",
      "source": [
        "print(\"Number of samples:\", len(val_dataset))\n",
        "print(\"Number of classes:\", len(val_dataset.classes))"
      ],
      "metadata": {
        "colab": {
          "base_uri": "https://localhost:8080/"
        },
        "id": "rp6bP4sLS3DE",
        "outputId": "c67da0c2-0487-4dac-abb9-c58e2a8b5fc3"
      },
      "execution_count": 13,
      "outputs": [
        {
          "output_type": "stream",
          "name": "stdout",
          "text": [
            "Number of samples: 2000\n",
            "Number of classes: 2\n"
          ]
        }
      ]
    },
    {
      "cell_type": "markdown",
      "source": [
        "# EDA"
      ],
      "metadata": {
        "id": "vsW7ms9iFQIi"
      }
    },
    {
      "cell_type": "code",
      "source": [
        "class_length = dataset.class_lengths\n",
        "class_labels = list(class_length.keys())"
      ],
      "metadata": {
        "id": "VtJYA2vJ_lzb"
      },
      "execution_count": null,
      "outputs": []
    },
    {
      "cell_type": "code",
      "source": [
        "from torchvision.transforms import ToPILImage\n",
        "\n",
        "def plot_sample_images(dataset):\n",
        "\n",
        "\n",
        "    # Create a grid layout based on the number of classes\n",
        "    num_classes = len(class_length)\n",
        "    grid_cols = 4  # Number of columns in the grid\n",
        "    grid_rows = (num_classes + grid_cols - 1) // grid_cols  # Number of rows in the grid\n",
        "    plt.figure(figsize=(10, 5 * grid_rows))\n",
        "\n",
        "    # Create a transform to convert the tensor to PIL Image\n",
        "    to_pil = ToPILImage()\n",
        "\n",
        "    # Iterate over each class\n",
        "    for i, class_label in enumerate(class_labels):\n",
        "        # Get a random image index from the class\n",
        "        image_index = np.random.choice(class_length[class_label])\n",
        "\n",
        "        # Get the image and label from the dataset\n",
        "        image, label = dataset[image_index]\n",
        "\n",
        "        # Convert the image tensor to PIL Image\n",
        "        image = to_pil(image)\n",
        "\n",
        "        # Plot the image\n",
        "        plt.subplot(grid_rows, grid_cols, i + 1)\n",
        "        plt.imshow(image, interpolation='none')  # Use 'RGB' interpolation\n",
        "        plt.title(class_label)\n",
        "        plt.axis('off')\n",
        "\n",
        "    plt.tight_layout()\n",
        "    plt.show()\n"
      ],
      "metadata": {
        "id": "mM85nfZA_4KL"
      },
      "execution_count": null,
      "outputs": []
    },
    {
      "cell_type": "code",
      "source": [
        "plot_sample_images(dataset)"
      ],
      "metadata": {
        "id": "vmHEUpE2AlP_"
      },
      "execution_count": null,
      "outputs": []
    },
    {
      "cell_type": "code",
      "source": [
        "class_lengths_dict = dataset.class_lengths\n",
        "total_sum = sum(class_lengths_dict.values())\n",
        "dict_length = len(class_lengths_dict)\n",
        "\n",
        "# Print the length\n",
        "print(\"Dictionary length:\", dict_length)\n",
        "# Print the total sum\n",
        "print(\"Total sum:\", total_sum)\n",
        "print(class_lengths_dict.values())"
      ],
      "metadata": {
        "id": "g-0uV8a5pPvX",
        "colab": {
          "base_uri": "https://localhost:8080/"
        },
        "outputId": "4bc31801-d243-4eba-e48d-369b8774a169"
      },
      "execution_count": 14,
      "outputs": [
        {
          "output_type": "stream",
          "name": "stdout",
          "text": [
            "Dictionary length: 2\n",
            "Total sum: 28550\n",
            "dict_values([16350, 12200])\n"
          ]
        }
      ]
    },
    {
      "cell_type": "code",
      "source": [
        "# Extract class labels and counts from the dictionary\n",
        "class_labels = list(class_lengths_dict.keys())\n",
        "class_counts = list(class_lengths_dict.values())\n",
        "\n",
        "# Create a count plot\n",
        "plt.figure(figsize=(4, 5))\n",
        "sns.barplot(x=class_labels, y=class_counts)\n",
        "plt.xticks(rotation=90)\n",
        "plt.xlabel('Class')\n",
        "plt.ylabel('Number of samples')\n",
        "plt.title('Count of Instances in Each Class')\n",
        "plt.show()"
      ],
      "metadata": {
        "id": "-hU1isiYpR8g",
        "colab": {
          "base_uri": "https://localhost:8080/",
          "height": 482
        },
        "outputId": "fe437914-ae23-4e6e-a13d-5652f5a72769"
      },
      "execution_count": 15,
      "outputs": [
        {
          "output_type": "display_data",
          "data": {
            "text/plain": [
              "<Figure size 400x500 with 1 Axes>"
            ],
            "image/png": "[encoded data removed]"
          },
          "metadata": {}
        }
      ]
    },
    {
      "cell_type": "markdown",
      "source": [
        "# Loading ResNet-101"
      ],
      "metadata": {
        "id": "GZDNW0tS225-"
      }
    },
    {
      "cell_type": "code",
      "source": [
        "num_classes = dataset.get_num_classes()\n",
        "print(\"Number of classes:\", num_classes)"
      ],
      "metadata": {
        "id": "EH_KW2uuWpXi",
        "colab": {
          "base_uri": "https://localhost:8080/"
        },
        "outputId": "69a304f0-7796-4df5-ba25-fb65e1ecdc4d"
      },
      "execution_count": 16,
      "outputs": [
        {
          "output_type": "stream",
          "name": "stdout",
          "text": [
            "Number of classes: 2\n"
          ]
        }
      ]
    },
    {
      "cell_type": "code",
      "source": [
        "resnet = torchvision.models.resnet101(pretrained=True)\n",
        "num_features = resnet.fc.in_features\n",
        "resnet.fc = nn.Linear(num_features, num_classes)  # num_classes is the number of classes in your dataset\n",
        "resnet.to(device)\n",
        "print(resnet)"
      ],
      "metadata": {
        "id": "iFFVJbgHN5b-"
      },
      "execution_count": null,
      "outputs": []
    },
    {
      "cell_type": "markdown",
      "source": [
        "# Fine Tuning"
      ],
      "metadata": {
        "id": "tH3B0YYuXbh3"
      }
    },
    {
      "cell_type": "code",
      "source": [
        "criterion = nn.CrossEntropyLoss()\n",
        "optimizer = optim.SGD(resnet.parameters(), lr=0.001, momentum=0.9)\n",
        "num_epochs = 25"
      ],
      "metadata": {
        "id": "-16XvcH9OXyc"
      },
      "execution_count": 18,
      "outputs": []
    },
    {
      "cell_type": "code",
      "source": [
        "training_loss = []\n",
        "\n",
        "for epoch in range(num_epochs):\n",
        "    # Set the model to training mode\n",
        "    resnet.train()\n",
        "    running_loss = 0.0\n",
        "\n",
        "    # Iterate over the data loader\n",
        "    for images, labels in data_loader:\n",
        "        # Move the images and labels to the GPU if available\n",
        "        images = images.to(device)\n",
        "        labels = labels.to(device)\n",
        "\n",
        "        # Clear the gradients\n",
        "        optimizer.zero_grad()\n",
        "\n",
        "        # Forward pass\n",
        "        outputs = resnet(images)\n",
        "\n",
        "        # Compute the loss\n",
        "        loss = criterion(outputs, labels)\n",
        "\n",
        "        # Backward pass and optimization\n",
        "        loss.backward()\n",
        "        optimizer.step()\n",
        "\n",
        "        # Update the running loss\n",
        "        running_loss += loss.item() * images.size(0)\n",
        "\n",
        "    # Calculate the average loss for the epoch\n",
        "    epoch_loss = running_loss / len(data_loader.dataset)\n",
        "    training_loss.append(epoch_loss)\n",
        "    # Print the epoch loss\n",
        "    print(\"Training Loss==========================>>\")\n",
        "    print(f\"Epoch {epoch+1}/{num_epochs} Training Loss: {epoch_loss:.4f}\")\n",
        "\n",
        "    resnet.eval()\n",
        "    predicted_classes = []\n",
        "    actual_labels = []\n",
        "    with torch.no_grad():\n",
        "        for images, labels in validation_data_loader:\n",
        "            # Move the images and labels to the GPU if available\n",
        "            images = images.to(device)\n",
        "            labels = labels.to(device)\n",
        "\n",
        "            # Forward pass\n",
        "            outputs = resnet(images)\n",
        "\n",
        "            # Get the predicted labels\n",
        "            _, predicted_label = torch.max(outputs, 1)\n",
        "\n",
        "            # Store the predicted and true labels\n",
        "            predicted_classes.extend(predicted_label.cpu().tolist())\n",
        "            actual_labels.extend(labels.cpu().tolist())\n",
        "\n",
        "    accuracy = accuracy_score(actual_labels, predicted_classes)\n",
        "    precision = precision_score(actual_labels, predicted_classes, average='weighted')\n",
        "    recall = recall_score(actual_labels, predicted_classes, average='weighted')\n",
        "    f1 = f1_score(actual_labels, predicted_classes, average='weighted')\n",
        "\n",
        "    print(\"Accuracy:\", accuracy)\n",
        "    print(\"Precision:\", precision)\n",
        "    print(\"Recall:\", recall)\n",
        "    print(\"F1-score:\", f1)\n",
        "\n",
        "    print(classification_report(actual_labels, predicted_classes))\n",
        "    print(\"Confusion Matrix: \")\n",
        "    cm = confusion_matrix(actual_labels, predicted_classes)\n",
        "    print(cm)\n",
        "\n",
        "    save_dir = \"/content/Models/\"\n",
        "    os.makedirs(save_dir, exist_ok=True)  # Create the directory if it doesn't exist\n",
        "\n",
        "    model_name = str(epoch+1) + \"_model.pth\"\n",
        "    save_path = os.path.join(save_dir, model_name)  # Specify the complete path to the model file\n",
        "    torch.save(resnet.state_dict(), save_path)"
      ],
      "metadata": {
        "id": "nkOQcQCnGygk",
        "colab": {
          "base_uri": "https://localhost:8080/"
        },
        "outputId": "d7d48164-f149-4e09-8069-071d6002ecd8"
      },
      "execution_count": 19,
      "outputs": [
        {
          "output_type": "stream",
          "name": "stdout",
          "text": [
            "Training Loss==========================>>\n",
            "Epoch 1/25 Training Loss: 0.4531\n",
            "Accuracy: 0.62\n",
            "Precision: 0.5756944444444444\n",
            "Recall: 0.62\n",
            "F1-score: 0.5442622950819672\n",
            "              precision    recall  f1-score   support\n",
            "\n",
            "           0       0.64      0.92      0.75      1250\n",
            "           1       0.47      0.13      0.20       750\n",
            "\n",
            "    accuracy                           0.62      2000\n",
            "   macro avg       0.56      0.52      0.48      2000\n",
            "weighted avg       0.58      0.62      0.54      2000\n",
            "\n",
            "Confusion Matrix: \n",
            "[[1145  105]\n",
            " [ 655   95]]\n",
            "Training Loss==========================>>\n",
            "Epoch 2/25 Training Loss: 0.2986\n",
            "Accuracy: 0.593\n",
            "Precision: 0.5691968799091658\n",
            "Recall: 0.593\n",
            "F1-score: 0.5735316494217894\n",
            "              precision    recall  f1-score   support\n",
            "\n",
            "           0       0.65      0.77      0.70      1250\n",
            "           1       0.44      0.31      0.36       750\n",
            "\n",
            "    accuracy                           0.59      2000\n",
            "   macro avg       0.54      0.54      0.53      2000\n",
            "weighted avg       0.57      0.59      0.57      2000\n",
            "\n",
            "Confusion Matrix: \n",
            "[[957 293]\n",
            " [521 229]]\n",
            "Training Loss==========================>>\n",
            "Epoch 3/25 Training Loss: 0.1768\n",
            "Accuracy: 0.6115\n",
            "Precision: 0.5660907509107715\n",
            "Recall: 0.6115\n",
            "F1-score: 0.5502425922717034\n",
            "              precision    recall  f1-score   support\n",
            "\n",
            "           0       0.64      0.88      0.74      1250\n",
            "           1       0.45      0.16      0.23       750\n",
            "\n",
            "    accuracy                           0.61      2000\n",
            "   macro avg       0.54      0.52      0.49      2000\n",
            "weighted avg       0.57      0.61      0.55      2000\n",
            "\n",
            "Confusion Matrix: \n",
            "[[1104  146]\n",
            " [ 631  119]]\n",
            "Training Loss==========================>>\n",
            "Epoch 4/25 Training Loss: 0.1029\n",
            "Accuracy: 0.612\n",
            "Precision: 0.5869532852511082\n",
            "Recall: 0.612\n",
            "F1-score: 0.5878049612399453\n",
            "              precision    recall  f1-score   support\n",
            "\n",
            "           0       0.66      0.80      0.72      1250\n",
            "           1       0.47      0.30      0.37       750\n",
            "\n",
            "    accuracy                           0.61      2000\n",
            "   macro avg       0.56      0.55      0.54      2000\n",
            "weighted avg       0.59      0.61      0.59      2000\n",
            "\n",
            "Confusion Matrix: \n",
            "[[999 251]\n",
            " [525 225]]\n",
            "Training Loss==========================>>\n",
            "Epoch 5/25 Training Loss: 0.0925\n",
            "Accuracy: 0.62\n",
            "Precision: 0.5868727911455358\n",
            "Recall: 0.62\n",
            "F1-score: 0.5756684855721995\n",
            "              precision    recall  f1-score   support\n",
            "\n",
            "           0       0.65      0.86      0.74      1250\n",
            "           1       0.49      0.22      0.30       750\n",
            "\n",
            "    accuracy                           0.62      2000\n",
            "   macro avg       0.57      0.54      0.52      2000\n",
            "weighted avg       0.59      0.62      0.58      2000\n",
            "\n",
            "Confusion Matrix: \n",
            "[[1074  176]\n",
            " [ 584  166]]\n",
            "Training Loss==========================>>\n",
            "Epoch 6/25 Training Loss: 0.0631\n",
            "Accuracy: 0.591\n",
            "Precision: 0.5624805241664343\n",
            "Recall: 0.591\n",
            "F1-score: 0.5663144658809399\n",
            "              precision    recall  f1-score   support\n",
            "\n",
            "           0       0.64      0.78      0.70      1250\n",
            "           1       0.43      0.28      0.34       750\n",
            "\n",
            "    accuracy                           0.59      2000\n",
            "   macro avg       0.54      0.53      0.52      2000\n",
            "weighted avg       0.56      0.59      0.57      2000\n",
            "\n",
            "Confusion Matrix: \n",
            "[[975 275]\n",
            " [543 207]]\n",
            "Training Loss==========================>>\n",
            "Epoch 7/25 Training Loss: 0.0430\n",
            "Accuracy: 0.602\n",
            "Precision: 0.5765510771818594\n",
            "Recall: 0.602\n",
            "F1-score: 0.5792774992730854\n",
            "              precision    recall  f1-score   support\n",
            "\n",
            "           0       0.65      0.78      0.71      1250\n",
            "           1       0.45      0.30      0.36       750\n",
            "\n",
            "    accuracy                           0.60      2000\n",
            "   macro avg       0.55      0.54      0.54      2000\n",
            "weighted avg       0.58      0.60      0.58      2000\n",
            "\n",
            "Confusion Matrix: \n",
            "[[981 269]\n",
            " [527 223]]\n",
            "Training Loss==========================>>\n",
            "Epoch 8/25 Training Loss: 0.0430\n",
            "Accuracy: 0.5925\n",
            "Precision: 0.566359109665925\n",
            "Recall: 0.5925\n",
            "F1-score: 0.570400791044138\n",
            "              precision    recall  f1-score   support\n",
            "\n",
            "           0       0.65      0.77      0.70      1250\n",
            "           1       0.44      0.29      0.35       750\n",
            "\n",
            "    accuracy                           0.59      2000\n",
            "   macro avg       0.54      0.53      0.53      2000\n",
            "weighted avg       0.57      0.59      0.57      2000\n",
            "\n",
            "Confusion Matrix: \n",
            "[[967 283]\n",
            " [532 218]]\n",
            "Training Loss==========================>>\n",
            "Epoch 9/25 Training Loss: 0.0450\n",
            "Accuracy: 0.6045\n",
            "Precision: 0.5745741208606598\n",
            "Recall: 0.6045\n",
            "F1-score: 0.5749477883700556\n",
            "              precision    recall  f1-score   support\n",
            "\n",
            "           0       0.65      0.81      0.72      1250\n",
            "           1       0.45      0.27      0.34       750\n",
            "\n",
            "    accuracy                           0.60      2000\n",
            "   macro avg       0.55      0.54      0.53      2000\n",
            "weighted avg       0.57      0.60      0.57      2000\n",
            "\n",
            "Confusion Matrix: \n",
            "[[1009  241]\n",
            " [ 550  200]]\n",
            "Training Loss==========================>>\n",
            "Epoch 10/25 Training Loss: 0.0258\n",
            "Accuracy: 0.6105\n",
            "Precision: 0.5775709762381998\n",
            "Recall: 0.6105\n",
            "F1-score: 0.5736790258111368\n",
            "              precision    recall  f1-score   support\n",
            "\n",
            "           0       0.65      0.83      0.73      1250\n",
            "           1       0.46      0.24      0.32       750\n",
            "\n",
            "    accuracy                           0.61      2000\n",
            "   macro avg       0.55      0.54      0.52      2000\n",
            "weighted avg       0.58      0.61      0.57      2000\n",
            "\n",
            "Confusion Matrix: \n",
            "[[1040  210]\n",
            " [ 569  181]]\n",
            "Training Loss==========================>>\n",
            "Epoch 11/25 Training Loss: 0.0289\n",
            "Accuracy: 0.5935\n",
            "Precision: 0.5567032749236139\n",
            "Recall: 0.5935\n",
            "F1-score: 0.5577667904702174\n",
            "              precision    recall  f1-score   support\n",
            "\n",
            "           0       0.64      0.81      0.71      1250\n",
            "           1       0.42      0.23      0.30       750\n",
            "\n",
            "    accuracy                           0.59      2000\n",
            "   macro avg       0.53      0.52      0.51      2000\n",
            "weighted avg       0.56      0.59      0.56      2000\n",
            "\n",
            "Confusion Matrix: \n",
            "[[1015  235]\n",
            " [ 578  172]]\n",
            "Training Loss==========================>>\n",
            "Epoch 12/25 Training Loss: 0.0237\n",
            "Accuracy: 0.589\n",
            "Precision: 0.5668275046948\n",
            "Recall: 0.589\n",
            "F1-score: 0.5717007513570616\n",
            "              precision    recall  f1-score   support\n",
            "\n",
            "           0       0.65      0.75      0.70      1250\n",
            "           1       0.43      0.31      0.36       750\n",
            "\n",
            "    accuracy                           0.59      2000\n",
            "   macro avg       0.54      0.53      0.53      2000\n",
            "weighted avg       0.57      0.59      0.57      2000\n",
            "\n",
            "Confusion Matrix: \n",
            "[[943 307]\n",
            " [515 235]]\n",
            "Training Loss==========================>>\n",
            "Epoch 13/25 Training Loss: 0.0227\n",
            "Accuracy: 0.596\n",
            "Precision: 0.5819455607729223\n",
            "Recall: 0.596\n",
            "F1-score: 0.5862810888264899\n",
            "              precision    recall  f1-score   support\n",
            "\n",
            "           0       0.66      0.73      0.69      1250\n",
            "           1       0.45      0.37      0.41       750\n",
            "\n",
            "    accuracy                           0.60      2000\n",
            "   macro avg       0.56      0.55      0.55      2000\n",
            "weighted avg       0.58      0.60      0.59      2000\n",
            "\n",
            "Confusion Matrix: \n",
            "[[914 336]\n",
            " [472 278]]\n",
            "Training Loss==========================>>\n",
            "Epoch 14/25 Training Loss: 0.0276\n",
            "Accuracy: 0.608\n",
            "Precision: 0.5735129176980198\n",
            "Recall: 0.608\n",
            "F1-score: 0.5697707477191077\n",
            "              precision    recall  f1-score   support\n",
            "\n",
            "           0       0.64      0.83      0.73      1250\n",
            "           1       0.46      0.23      0.31       750\n",
            "\n",
            "    accuracy                           0.61      2000\n",
            "   macro avg       0.55      0.53      0.52      2000\n",
            "weighted avg       0.57      0.61      0.57      2000\n",
            "\n",
            "Confusion Matrix: \n",
            "[[1041  209]\n",
            " [ 575  175]]\n",
            "Training Loss==========================>>\n",
            "Epoch 15/25 Training Loss: 0.0141\n",
            "Accuracy: 0.5985\n",
            "Precision: 0.5687847354680061\n",
            "Recall: 0.5985\n",
            "F1-score: 0.5708275155874063\n",
            "              precision    recall  f1-score   support\n",
            "\n",
            "           0       0.64      0.80      0.71      1250\n",
            "           1       0.44      0.27      0.33       750\n",
            "\n",
            "    accuracy                           0.60      2000\n",
            "   macro avg       0.54      0.53      0.52      2000\n",
            "weighted avg       0.57      0.60      0.57      2000\n",
            "\n",
            "Confusion Matrix: \n",
            "[[995 255]\n",
            " [548 202]]\n",
            "Training Loss==========================>>\n",
            "Epoch 16/25 Training Loss: 0.0080\n",
            "Accuracy: 0.614\n",
            "Precision: 0.5868740296991418\n",
            "Recall: 0.614\n",
            "F1-score: 0.5858675375359614\n",
            "              precision    recall  f1-score   support\n",
            "\n",
            "           0       0.65      0.81      0.72      1250\n",
            "           1       0.48      0.28      0.35       750\n",
            "\n",
            "    accuracy                           0.61      2000\n",
            "   macro avg       0.56      0.55      0.54      2000\n",
            "weighted avg       0.59      0.61      0.59      2000\n",
            "\n",
            "Confusion Matrix: \n",
            "[[1016  234]\n",
            " [ 538  212]]\n",
            "Training Loss==========================>>\n",
            "Epoch 17/25 Training Loss: 0.0114\n",
            "Accuracy: 0.6185\n",
            "Precision: 0.5895462103089223\n",
            "Recall: 0.6185\n",
            "F1-score: 0.5849644048324427\n",
            "              precision    recall  f1-score   support\n",
            "\n",
            "           0       0.65      0.83      0.73      1250\n",
            "           1       0.48      0.26      0.34       750\n",
            "\n",
            "    accuracy                           0.62      2000\n",
            "   macro avg       0.57      0.55      0.54      2000\n",
            "weighted avg       0.59      0.62      0.58      2000\n",
            "\n",
            "Confusion Matrix: \n",
            "[[1040  210]\n",
            " [ 553  197]]\n",
            "Training Loss==========================>>\n",
            "Epoch 18/25 Training Loss: 0.0137\n",
            "Accuracy: 0.615\n",
            "Precision: 0.5889265748568312\n",
            "Recall: 0.615\n",
            "F1-score: 0.5883280448152935\n",
            "              precision    recall  f1-score   support\n",
            "\n",
            "           0       0.66      0.81      0.72      1250\n",
            "           1       0.48      0.29      0.36       750\n",
            "\n",
            "    accuracy                           0.61      2000\n",
            "   macro avg       0.57      0.55      0.54      2000\n",
            "weighted avg       0.59      0.61      0.59      2000\n",
            "\n",
            "Confusion Matrix: \n",
            "[[1012  238]\n",
            " [ 532  218]]\n",
            "Training Loss==========================>>\n",
            "Epoch 19/25 Training Loss: 0.0182\n",
            "Accuracy: 0.598\n",
            "Precision: 0.5658919730636571\n",
            "Recall: 0.598\n",
            "F1-score: 0.5672127198265479\n",
            "              precision    recall  f1-score   support\n",
            "\n",
            "           0       0.64      0.80      0.71      1250\n",
            "           1       0.44      0.25      0.32       750\n",
            "\n",
            "    accuracy                           0.60      2000\n",
            "   macro avg       0.54      0.53      0.52      2000\n",
            "weighted avg       0.57      0.60      0.57      2000\n",
            "\n",
            "Confusion Matrix: \n",
            "[[1005  245]\n",
            " [ 559  191]]\n",
            "Training Loss==========================>>\n",
            "Epoch 20/25 Training Loss: 0.0096\n",
            "Accuracy: 0.6135\n",
            "Precision: 0.5782887505998545\n",
            "Recall: 0.6135\n",
            "F1-score: 0.5704266707892711\n",
            "              precision    recall  f1-score   support\n",
            "\n",
            "           0       0.64      0.85      0.73      1250\n",
            "           1       0.47      0.22      0.30       750\n",
            "\n",
            "    accuracy                           0.61      2000\n",
            "   macro avg       0.56      0.53      0.52      2000\n",
            "weighted avg       0.58      0.61      0.57      2000\n",
            "\n",
            "Confusion Matrix: \n",
            "[[1062  188]\n",
            " [ 585  165]]\n",
            "Training Loss==========================>>\n",
            "Epoch 21/25 Training Loss: 0.0068\n",
            "Accuracy: 0.6255\n",
            "Precision: 0.5958158369860421\n",
            "Recall: 0.6255\n",
            "F1-score: 0.5844607158480849\n",
            "              precision    recall  f1-score   support\n",
            "\n",
            "           0       0.65      0.86      0.74      1250\n",
            "           1       0.50      0.24      0.32       750\n",
            "\n",
            "    accuracy                           0.63      2000\n",
            "   macro avg       0.58      0.55      0.53      2000\n",
            "weighted avg       0.60      0.63      0.58      2000\n",
            "\n",
            "Confusion Matrix: \n",
            "[[1072  178]\n",
            " [ 571  179]]\n",
            "Training Loss==========================>>\n",
            "Epoch 22/25 Training Loss: 0.0186\n",
            "Accuracy: 0.6095\n",
            "Precision: 0.5754622879296508\n",
            "Recall: 0.6095\n",
            "F1-score: 0.5712484888300413\n",
            "              precision    recall  f1-score   support\n",
            "\n",
            "           0       0.65      0.83      0.73      1250\n",
            "           1       0.46      0.23      0.31       750\n",
            "\n",
            "    accuracy                           0.61      2000\n",
            "   macro avg       0.55      0.53      0.52      2000\n",
            "weighted avg       0.58      0.61      0.57      2000\n",
            "\n",
            "Confusion Matrix: \n",
            "[[1043  207]\n",
            " [ 574  176]]\n",
            "Training Loss==========================>>\n",
            "Epoch 23/25 Training Loss: 0.0115\n",
            "Accuracy: 0.6145\n",
            "Precision: 0.5856106396470541\n",
            "Recall: 0.6145\n",
            "F1-score: 0.5830620785863753\n",
            "              precision    recall  f1-score   support\n",
            "\n",
            "           0       0.65      0.82      0.73      1250\n",
            "           1       0.48      0.27      0.34       750\n",
            "\n",
            "    accuracy                           0.61      2000\n",
            "   macro avg       0.56      0.55      0.53      2000\n",
            "weighted avg       0.59      0.61      0.58      2000\n",
            "\n",
            "Confusion Matrix: \n",
            "[[1028  222]\n",
            " [ 549  201]]\n",
            "Training Loss==========================>>\n",
            "Epoch 24/25 Training Loss: 0.0332\n",
            "Accuracy: 0.612\n",
            "Precision: 0.5821428571428571\n",
            "Recall: 0.612\n",
            "F1-score: 0.5799039594092599\n",
            "              precision    recall  f1-score   support\n",
            "\n",
            "           0       0.65      0.82      0.73      1250\n",
            "           1       0.47      0.26      0.34       750\n",
            "\n",
            "    accuracy                           0.61      2000\n",
            "   macro avg       0.56      0.54      0.53      2000\n",
            "weighted avg       0.58      0.61      0.58      2000\n",
            "\n",
            "Confusion Matrix: \n",
            "[[1027  223]\n",
            " [ 553  197]]\n",
            "Training Loss==========================>>\n",
            "Epoch 25/25 Training Loss: 0.0134\n",
            "Accuracy: 0.602\n",
            "Precision: 0.570516227324263\n",
            "Recall: 0.602\n",
            "F1-score: 0.5709182809567214\n",
            "              precision    recall  f1-score   support\n",
            "\n",
            "           0       0.64      0.81      0.72      1250\n",
            "           1       0.45      0.26      0.33       750\n",
            "\n",
            "    accuracy                           0.60      2000\n",
            "   macro avg       0.55      0.53      0.52      2000\n",
            "weighted avg       0.57      0.60      0.57      2000\n",
            "\n",
            "Confusion Matrix: \n",
            "[[1011  239]\n",
            " [ 557  193]]\n"
          ]
        }
      ]
    },
    {
      "cell_type": "code",
      "source": [
        "# Plot the loss curve\n",
        "plt.plot(range(1, num_epochs+1), training_loss)\n",
        "plt.xlabel('Epoch')\n",
        "plt.ylabel('Loss')\n",
        "plt.title('Training Loss Curve')\n",
        "plt.grid(True)\n",
        "plt.show()"
      ],
      "metadata": {
        "id": "uBQm6WUy2Mas",
        "colab": {
          "base_uri": "https://localhost:8080/",
          "height": 472
        },
        "outputId": "c683de7e-fe1c-4b31-df92-8234da710075"
      },
      "execution_count": 20,
      "outputs": [
        {
          "output_type": "display_data",
          "data": {
            "text/plain": [
              "<Figure size 640x480 with 1 Axes>"
            ],
            "image/png": "[encoded data removed]"
          },
          "metadata": {}
        }
      ]
    },
    {
      "cell_type": "markdown",
      "source": [
        "# Save Model"
      ],
      "metadata": {
        "id": "oA19HxxWkW78"
      }
    },
    {
      "cell_type": "code",
      "source": [
        "# save_dir = \"/content/Model/Fused_ResNetmodel_Hatefull_Experiment#5\"\n",
        "# os.makedirs(save_dir, exist_ok=True)  # Create the directory if it doesn't exist\n",
        "\n",
        "# save_path = os.path.join(save_dir, 'model.pth')  # Specify the complete path to the model file\n",
        "# torch.save(resnet.state_dict(), save_path)"
      ],
      "metadata": {
        "id": "1FazLt0enBFs"
      },
      "execution_count": null,
      "outputs": []
    },
    {
      "cell_type": "code",
      "source": [
        "from google.colab import drive\n",
        "drive.mount('/content/drive')"
      ],
      "metadata": {
        "colab": {
          "base_uri": "https://localhost:8080/"
        },
        "id": "En61iS0MncTo",
        "outputId": "cff53679-9bc1-40ae-b2da-bc8b9269aa8e"
      },
      "execution_count": 21,
      "outputs": [
        {
          "output_type": "stream",
          "name": "stdout",
          "text": [
            "Mounted at /content/drive\n"
          ]
        }
      ]
    },
    {
      "cell_type": "code",
      "source": [
        "%cd /content/Models"
      ],
      "metadata": {
        "colab": {
          "base_uri": "https://localhost:8080/"
        },
        "id": "JdafxfVVneqc",
        "outputId": "72f67281-de0d-425a-b1d8-679c1fff3e9d"
      },
      "execution_count": 22,
      "outputs": [
        {
          "output_type": "stream",
          "name": "stdout",
          "text": [
            "/content/Models\n"
          ]
        }
      ]
    },
    {
      "cell_type": "code",
      "source": [
        "!cp 21_model.pth /content/drive/MyDrive/21_model.pth\n"
      ],
      "metadata": {
        "id": "Y_N_X_mUngns"
      },
      "execution_count": 24,
      "outputs": []
    }
  ]
}