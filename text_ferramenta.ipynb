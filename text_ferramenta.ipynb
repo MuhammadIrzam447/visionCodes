{
  "nbformat": 4,
  "nbformat_minor": 0,
  "metadata": {
    "colab": {
      "provenance": [],
      "gpuType": "T4",
      "collapsed_sections": [
        "IslatIvNwtXh",
        "vkGGzX3wvZC0",
        "7TBt-nwvsvdT",
        "8LSUOpvkVpej",
        "DCnfQxaDsCfh"
      ],
      "include_colab_link": true
    },
    "kernelspec": {
      "name": "python3",
      "display_name": "Python 3"
    },
    "language_info": {
      "name": "python"
    },
    "widgets": {
      "application/vnd.jupyter.widget-state+json": {
        "314e4c0fbd4147f8a7e687a59dd6e197": {
          "model_module": "@jupyter-widgets/controls",
          "model_name": "HBoxModel",
          "model_module_version": "1.5.0",
          "state": {
            "_dom_classes": [],
            "_model_module": "@jupyter-widgets/controls",
            "_model_module_version": "1.5.0",
            "_model_name": "HBoxModel",
            "_view_count": null,
            "_view_module": "@jupyter-widgets/controls",
            "_view_module_version": "1.5.0",
            "_view_name": "HBoxView",
            "box_style": "",
            "children": [
              "IPY_MODEL_0bcaef0ee34841dd946fd0d35dc46155",
              "IPY_MODEL_62002dad996d40a287da7b764f17ec18",
              "IPY_MODEL_b162d8486d2545c19b793a57b3b0b6f3"
            ],
            "layout": "IPY_MODEL_2c5ab7e375584c9985b1e9a747b23f1f"
          }
        },
        "0bcaef0ee34841dd946fd0d35dc46155": {
          "model_module": "@jupyter-widgets/controls",
          "model_name": "HTMLModel",
          "model_module_version": "1.5.0",
          "state": {
            "_dom_classes": [],
            "_model_module": "@jupyter-widgets/controls",
            "_model_module_version": "1.5.0",
            "_model_name": "HTMLModel",
            "_view_count": null,
            "_view_module": "@jupyter-widgets/controls",
            "_view_module_version": "1.5.0",
            "_view_name": "HTMLView",
            "description": "",
            "description_tooltip": null,
            "layout": "IPY_MODEL_f9dc4a1b65264892850154f4e0981d19",
            "placeholder": "​",
            "style": "IPY_MODEL_0205402e59b74bb9859d645f183e4c4b",
            "value": "Downloading (…)okenizer_config.json: 100%"
          }
        },
        "62002dad996d40a287da7b764f17ec18": {
          "model_module": "@jupyter-widgets/controls",
          "model_name": "FloatProgressModel",
          "model_module_version": "1.5.0",
          "state": {
            "_dom_classes": [],
            "_model_module": "@jupyter-widgets/controls",
            "_model_module_version": "1.5.0",
            "_model_name": "FloatProgressModel",
            "_view_count": null,
            "_view_module": "@jupyter-widgets/controls",
            "_view_module_version": "1.5.0",
            "_view_name": "ProgressView",
            "bar_style": "success",
            "description": "",
            "description_tooltip": null,
            "layout": "IPY_MODEL_cd9b0d6a356d495a8b76960bc03d7b92",
            "max": 59,
            "min": 0,
            "orientation": "horizontal",
            "style": "IPY_MODEL_00387c4db5ed4cbc9b6a6b6841c396bc",
            "value": 59
          }
        },
        "b162d8486d2545c19b793a57b3b0b6f3": {
          "model_module": "@jupyter-widgets/controls",
          "model_name": "HTMLModel",
          "model_module_version": "1.5.0",
          "state": {
            "_dom_classes": [],
            "_model_module": "@jupyter-widgets/controls",
            "_model_module_version": "1.5.0",
            "_model_name": "HTMLModel",
            "_view_count": null,
            "_view_module": "@jupyter-widgets/controls",
            "_view_module_version": "1.5.0",
            "_view_name": "HTMLView",
            "description": "",
            "description_tooltip": null,
            "layout": "IPY_MODEL_0be7abd0852f4479b24758a41c190c92",
            "placeholder": "​",
            "style": "IPY_MODEL_3fda99bbf93f4557b55d4a2a6f953a39",
            "value": " 59.0/59.0 [00:00&lt;00:00, 2.94kB/s]"
          }
        },
        "2c5ab7e375584c9985b1e9a747b23f1f": {
          "model_module": "@jupyter-widgets/base",
          "model_name": "LayoutModel",
          "model_module_version": "1.2.0",
          "state": {
            "_model_module": "@jupyter-widgets/base",
            "_model_module_version": "1.2.0",
            "_model_name": "LayoutModel",
            "_view_count": null,
            "_view_module": "@jupyter-widgets/base",
            "_view_module_version": "1.2.0",
            "_view_name": "LayoutView",
            "align_content": null,
            "align_items": null,
            "align_self": null,
            "border": null,
            "bottom": null,
            "display": null,
            "flex": null,
            "flex_flow": null,
            "grid_area": null,
            "grid_auto_columns": null,
            "grid_auto_flow": null,
            "grid_auto_rows": null,
            "grid_column": null,
            "grid_gap": null,
            "grid_row": null,
            "grid_template_areas": null,
            "grid_template_columns": null,
            "grid_template_rows": null,
            "height": null,
            "justify_content": null,
            "justify_items": null,
            "left": null,
            "margin": null,
            "max_height": null,
            "max_width": null,
            "min_height": null,
            "min_width": null,
            "object_fit": null,
            "object_position": null,
            "order": null,
            "overflow": null,
            "overflow_x": null,
            "overflow_y": null,
            "padding": null,
            "right": null,
            "top": null,
            "visibility": null,
            "width": null
          }
        },
        "f9dc4a1b65264892850154f4e0981d19": {
          "model_module": "@jupyter-widgets/base",
          "model_name": "LayoutModel",
          "model_module_version": "1.2.0",
          "state": {
            "_model_module": "@jupyter-widgets/base",
            "_model_module_version": "1.2.0",
            "_model_name": "LayoutModel",
            "_view_count": null,
            "_view_module": "@jupyter-widgets/base",
            "_view_module_version": "1.2.0",
            "_view_name": "LayoutView",
            "align_content": null,
            "align_items": null,
            "align_self": null,
            "border": null,
            "bottom": null,
            "display": null,
            "flex": null,
            "flex_flow": null,
            "grid_area": null,
            "grid_auto_columns": null,
            "grid_auto_flow": null,
            "grid_auto_rows": null,
            "grid_column": null,
            "grid_gap": null,
            "grid_row": null,
            "grid_template_areas": null,
            "grid_template_columns": null,
            "grid_template_rows": null,
            "height": null,
            "justify_content": null,
            "justify_items": null,
            "left": null,
            "margin": null,
            "max_height": null,
            "max_width": null,
            "min_height": null,
            "min_width": null,
            "object_fit": null,
            "object_position": null,
            "order": null,
            "overflow": null,
            "overflow_x": null,
            "overflow_y": null,
            "padding": null,
            "right": null,
            "top": null,
            "visibility": null,
            "width": null
          }
        },
        "0205402e59b74bb9859d645f183e4c4b": {
          "model_module": "@jupyter-widgets/controls",
          "model_name": "DescriptionStyleModel",
          "model_module_version": "1.5.0",
          "state": {
            "_model_module": "@jupyter-widgets/controls",
            "_model_module_version": "1.5.0",
            "_model_name": "DescriptionStyleModel",
            "_view_count": null,
            "_view_module": "@jupyter-widgets/base",
            "_view_module_version": "1.2.0",
            "_view_name": "StyleView",
            "description_width": ""
          }
        },
        "cd9b0d6a356d495a8b76960bc03d7b92": {
          "model_module": "@jupyter-widgets/base",
          "model_name": "LayoutModel",
          "model_module_version": "1.2.0",
          "state": {
            "_model_module": "@jupyter-widgets/base",
            "_model_module_version": "1.2.0",
            "_model_name": "LayoutModel",
            "_view_count": null,
            "_view_module": "@jupyter-widgets/base",
            "_view_module_version": "1.2.0",
            "_view_name": "LayoutView",
            "align_content": null,
            "align_items": null,
            "align_self": null,
            "border": null,
            "bottom": null,
            "display": null,
            "flex": null,
            "flex_flow": null,
            "grid_area": null,
            "grid_auto_columns": null,
            "grid_auto_flow": null,
            "grid_auto_rows": null,
            "grid_column": null,
            "grid_gap": null,
            "grid_row": null,
            "grid_template_areas": null,
            "grid_template_columns": null,
            "grid_template_rows": null,
            "height": null,
            "justify_content": null,
            "justify_items": null,
            "left": null,
            "margin": null,
            "max_height": null,
            "max_width": null,
            "min_height": null,
            "min_width": null,
            "object_fit": null,
            "object_position": null,
            "order": null,
            "overflow": null,
            "overflow_x": null,
            "overflow_y": null,
            "padding": null,
            "right": null,
            "top": null,
            "visibility": null,
            "width": null
          }
        },
        "00387c4db5ed4cbc9b6a6b6841c396bc": {
          "model_module": "@jupyter-widgets/controls",
          "model_name": "ProgressStyleModel",
          "model_module_version": "1.5.0",
          "state": {
            "_model_module": "@jupyter-widgets/controls",
            "_model_module_version": "1.5.0",
            "_model_name": "ProgressStyleModel",
            "_view_count": null,
            "_view_module": "@jupyter-widgets/base",
            "_view_module_version": "1.2.0",
            "_view_name": "StyleView",
            "bar_color": null,
            "description_width": ""
          }
        },
        "0be7abd0852f4479b24758a41c190c92": {
          "model_module": "@jupyter-widgets/base",
          "model_name": "LayoutModel",
          "model_module_version": "1.2.0",
          "state": {
            "_model_module": "@jupyter-widgets/base",
            "_model_module_version": "1.2.0",
            "_model_name": "LayoutModel",
            "_view_count": null,
            "_view_module": "@jupyter-widgets/base",
            "_view_module_version": "1.2.0",
            "_view_name": "LayoutView",
            "align_content": null,
            "align_items": null,
            "align_self": null,
            "border": null,
            "bottom": null,
            "display": null,
            "flex": null,
            "flex_flow": null,
            "grid_area": null,
            "grid_auto_columns": null,
            "grid_auto_flow": null,
            "grid_auto_rows": null,
            "grid_column": null,
            "grid_gap": null,
            "grid_row": null,
            "grid_template_areas": null,
            "grid_template_columns": null,
            "grid_template_rows": null,
            "height": null,
            "justify_content": null,
            "justify_items": null,
            "left": null,
            "margin": null,
            "max_height": null,
            "max_width": null,
            "min_height": null,
            "min_width": null,
            "object_fit": null,
            "object_position": null,
            "order": null,
            "overflow": null,
            "overflow_x": null,
            "overflow_y": null,
            "padding": null,
            "right": null,
            "top": null,
            "visibility": null,
            "width": null
          }
        },
        "3fda99bbf93f4557b55d4a2a6f953a39": {
          "model_module": "@jupyter-widgets/controls",
          "model_name": "DescriptionStyleModel",
          "model_module_version": "1.5.0",
          "state": {
            "_model_module": "@jupyter-widgets/controls",
            "_model_module_version": "1.5.0",
            "_model_name": "DescriptionStyleModel",
            "_view_count": null,
            "_view_module": "@jupyter-widgets/base",
            "_view_module_version": "1.2.0",
            "_view_name": "StyleView",
            "description_width": ""
          }
        },
        "68822c9158a94ea0a210e7c240a985a3": {
          "model_module": "@jupyter-widgets/controls",
          "model_name": "HBoxModel",
          "model_module_version": "1.5.0",
          "state": {
            "_dom_classes": [],
            "_model_module": "@jupyter-widgets/controls",
            "_model_module_version": "1.5.0",
            "_model_name": "HBoxModel",
            "_view_count": null,
            "_view_module": "@jupyter-widgets/controls",
            "_view_module_version": "1.5.0",
            "_view_name": "HBoxView",
            "box_style": "",
            "children": [
              "IPY_MODEL_62c36294fadc45d4b4341bd5d609ace6",
              "IPY_MODEL_a5804867e0bd4d728e1f83801658c875",
              "IPY_MODEL_61002d94c6d54636bceea67331b8ea54"
            ],
            "layout": "IPY_MODEL_f55d651821754b5fa9b6303b4d7e2555"
          }
        },
        "62c36294fadc45d4b4341bd5d609ace6": {
          "model_module": "@jupyter-widgets/controls",
          "model_name": "HTMLModel",
          "model_module_version": "1.5.0",
          "state": {
            "_dom_classes": [],
            "_model_module": "@jupyter-widgets/controls",
            "_model_module_version": "1.5.0",
            "_model_name": "HTMLModel",
            "_view_count": null,
            "_view_module": "@jupyter-widgets/controls",
            "_view_module_version": "1.5.0",
            "_view_name": "HTMLView",
            "description": "",
            "description_tooltip": null,
            "layout": "IPY_MODEL_9a136f0769e64ae1a1af26af5e950e9d",
            "placeholder": "​",
            "style": "IPY_MODEL_c661c2e0d8144b438b910bc1b8f96f70",
            "value": "Downloading (…)lve/main/config.json: 100%"
          }
        },
        "a5804867e0bd4d728e1f83801658c875": {
          "model_module": "@jupyter-widgets/controls",
          "model_name": "FloatProgressModel",
          "model_module_version": "1.5.0",
          "state": {
            "_dom_classes": [],
            "_model_module": "@jupyter-widgets/controls",
            "_model_module_version": "1.5.0",
            "_model_name": "FloatProgressModel",
            "_view_count": null,
            "_view_module": "@jupyter-widgets/controls",
            "_view_module_version": "1.5.0",
            "_view_name": "ProgressView",
            "bar_style": "success",
            "description": "",
            "description_tooltip": null,
            "layout": "IPY_MODEL_ec4adab197de45d59b7d86195175df72",
            "max": 433,
            "min": 0,
            "orientation": "horizontal",
            "style": "IPY_MODEL_0885ea63f4fc4541b49398841e44fd5d",
            "value": 433
          }
        },
        "61002d94c6d54636bceea67331b8ea54": {
          "model_module": "@jupyter-widgets/controls",
          "model_name": "HTMLModel",
          "model_module_version": "1.5.0",
          "state": {
            "_dom_classes": [],
            "_model_module": "@jupyter-widgets/controls",
            "_model_module_version": "1.5.0",
            "_model_name": "HTMLModel",
            "_view_count": null,
            "_view_module": "@jupyter-widgets/controls",
            "_view_module_version": "1.5.0",
            "_view_name": "HTMLView",
            "description": "",
            "description_tooltip": null,
            "layout": "IPY_MODEL_43500c769934483e958f27e2fe23ea01",
            "placeholder": "​",
            "style": "IPY_MODEL_b6dbd67c7ca14eb892cabb35356b25b4",
            "value": " 433/433 [00:00&lt;00:00, 10.4kB/s]"
          }
        },
        "f55d651821754b5fa9b6303b4d7e2555": {
          "model_module": "@jupyter-widgets/base",
          "model_name": "LayoutModel",
          "model_module_version": "1.2.0",
          "state": {
            "_model_module": "@jupyter-widgets/base",
            "_model_module_version": "1.2.0",
            "_model_name": "LayoutModel",
            "_view_count": null,
            "_view_module": "@jupyter-widgets/base",
            "_view_module_version": "1.2.0",
            "_view_name": "LayoutView",
            "align_content": null,
            "align_items": null,
            "align_self": null,
            "border": null,
            "bottom": null,
            "display": null,
            "flex": null,
            "flex_flow": null,
            "grid_area": null,
            "grid_auto_columns": null,
            "grid_auto_flow": null,
            "grid_auto_rows": null,
            "grid_column": null,
            "grid_gap": null,
            "grid_row": null,
            "grid_template_areas": null,
            "grid_template_columns": null,
            "grid_template_rows": null,
            "height": null,
            "justify_content": null,
            "justify_items": null,
            "left": null,
            "margin": null,
            "max_height": null,
            "max_width": null,
            "min_height": null,
            "min_width": null,
            "object_fit": null,
            "object_position": null,
            "order": null,
            "overflow": null,
            "overflow_x": null,
            "overflow_y": null,
            "padding": null,
            "right": null,
            "top": null,
            "visibility": null,
            "width": null
          }
        },
        "9a136f0769e64ae1a1af26af5e950e9d": {
          "model_module": "@jupyter-widgets/base",
          "model_name": "LayoutModel",
          "model_module_version": "1.2.0",
          "state": {
            "_model_module": "@jupyter-widgets/base",
            "_model_module_version": "1.2.0",
            "_model_name": "LayoutModel",
            "_view_count": null,
            "_view_module": "@jupyter-widgets/base",
            "_view_module_version": "1.2.0",
            "_view_name": "LayoutView",
            "align_content": null,
            "align_items": null,
            "align_self": null,
            "border": null,
            "bottom": null,
            "display": null,
            "flex": null,
            "flex_flow": null,
            "grid_area": null,
            "grid_auto_columns": null,
            "grid_auto_flow": null,
            "grid_auto_rows": null,
            "grid_column": null,
            "grid_gap": null,
            "grid_row": null,
            "grid_template_areas": null,
            "grid_template_columns": null,
            "grid_template_rows": null,
            "height": null,
            "justify_content": null,
            "justify_items": null,
            "left": null,
            "margin": null,
            "max_height": null,
            "max_width": null,
            "min_height": null,
            "min_width": null,
            "object_fit": null,
            "object_position": null,
            "order": null,
            "overflow": null,
            "overflow_x": null,
            "overflow_y": null,
            "padding": null,
            "right": null,
            "top": null,
            "visibility": null,
            "width": null
          }
        },
        "c661c2e0d8144b438b910bc1b8f96f70": {
          "model_module": "@jupyter-widgets/controls",
          "model_name": "DescriptionStyleModel",
          "model_module_version": "1.5.0",
          "state": {
            "_model_module": "@jupyter-widgets/controls",
            "_model_module_version": "1.5.0",
            "_model_name": "DescriptionStyleModel",
            "_view_count": null,
            "_view_module": "@jupyter-widgets/base",
            "_view_module_version": "1.2.0",
            "_view_name": "StyleView",
            "description_width": ""
          }
        },
        "ec4adab197de45d59b7d86195175df72": {
          "model_module": "@jupyter-widgets/base",
          "model_name": "LayoutModel",
          "model_module_version": "1.2.0",
          "state": {
            "_model_module": "@jupyter-widgets/base",
            "_model_module_version": "1.2.0",
            "_model_name": "LayoutModel",
            "_view_count": null,
            "_view_module": "@jupyter-widgets/base",
            "_view_module_version": "1.2.0",
            "_view_name": "LayoutView",
            "align_content": null,
            "align_items": null,
            "align_self": null,
            "border": null,
            "bottom": null,
            "display": null,
            "flex": null,
            "flex_flow": null,
            "grid_area": null,
            "grid_auto_columns": null,
            "grid_auto_flow": null,
            "grid_auto_rows": null,
            "grid_column": null,
            "grid_gap": null,
            "grid_row": null,
            "grid_template_areas": null,
            "grid_template_columns": null,
            "grid_template_rows": null,
            "height": null,
            "justify_content": null,
            "justify_items": null,
            "left": null,
            "margin": null,
            "max_height": null,
            "max_width": null,
            "min_height": null,
            "min_width": null,
            "object_fit": null,
            "object_position": null,
            "order": null,
            "overflow": null,
            "overflow_x": null,
            "overflow_y": null,
            "padding": null,
            "right": null,
            "top": null,
            "visibility": null,
            "width": null
          }
        },
        "0885ea63f4fc4541b49398841e44fd5d": {
          "model_module": "@jupyter-widgets/controls",
          "model_name": "ProgressStyleModel",
          "model_module_version": "1.5.0",
          "state": {
            "_model_module": "@jupyter-widgets/controls",
            "_model_module_version": "1.5.0",
            "_model_name": "ProgressStyleModel",
            "_view_count": null,
            "_view_module": "@jupyter-widgets/base",
            "_view_module_version": "1.2.0",
            "_view_name": "StyleView",
            "bar_color": null,
            "description_width": ""
          }
        },
        "43500c769934483e958f27e2fe23ea01": {
          "model_module": "@jupyter-widgets/base",
          "model_name": "LayoutModel",
          "model_module_version": "1.2.0",
          "state": {
            "_model_module": "@jupyter-widgets/base",
            "_model_module_version": "1.2.0",
            "_model_name": "LayoutModel",
            "_view_count": null,
            "_view_module": "@jupyter-widgets/base",
            "_view_module_version": "1.2.0",
            "_view_name": "LayoutView",
            "align_content": null,
            "align_items": null,
            "align_self": null,
            "border": null,
            "bottom": null,
            "display": null,
            "flex": null,
            "flex_flow": null,
            "grid_area": null,
            "grid_auto_columns": null,
            "grid_auto_flow": null,
            "grid_auto_rows": null,
            "grid_column": null,
            "grid_gap": null,
            "grid_row": null,
            "grid_template_areas": null,
            "grid_template_columns": null,
            "grid_template_rows": null,
            "height": null,
            "justify_content": null,
            "justify_items": null,
            "left": null,
            "margin": null,
            "max_height": null,
            "max_width": null,
            "min_height": null,
            "min_width": null,
            "object_fit": null,
            "object_position": null,
            "order": null,
            "overflow": null,
            "overflow_x": null,
            "overflow_y": null,
            "padding": null,
            "right": null,
            "top": null,
            "visibility": null,
            "width": null
          }
        },
        "b6dbd67c7ca14eb892cabb35356b25b4": {
          "model_module": "@jupyter-widgets/controls",
          "model_name": "DescriptionStyleModel",
          "model_module_version": "1.5.0",
          "state": {
            "_model_module": "@jupyter-widgets/controls",
            "_model_module_version": "1.5.0",
            "_model_name": "DescriptionStyleModel",
            "_view_count": null,
            "_view_module": "@jupyter-widgets/base",
            "_view_module_version": "1.2.0",
            "_view_name": "StyleView",
            "description_width": ""
          }
        },
        "2af91a65a1044c298bb365acdacd25b6": {
          "model_module": "@jupyter-widgets/controls",
          "model_name": "HBoxModel",
          "model_module_version": "1.5.0",
          "state": {
            "_dom_classes": [],
            "_model_module": "@jupyter-widgets/controls",
            "_model_module_version": "1.5.0",
            "_model_name": "HBoxModel",
            "_view_count": null,
            "_view_module": "@jupyter-widgets/controls",
            "_view_module_version": "1.5.0",
            "_view_name": "HBoxView",
            "box_style": "",
            "children": [
              "IPY_MODEL_66a95f81bb0e4ab7b8f683d02c00e9aa",
              "IPY_MODEL_8c7f7be9307a4a179705ed8b04e84115",
              "IPY_MODEL_107852683b7a49ba98f737fc3dec01d0"
            ],
            "layout": "IPY_MODEL_e0649587abea4e89bec09c0678cdd98b"
          }
        },
        "66a95f81bb0e4ab7b8f683d02c00e9aa": {
          "model_module": "@jupyter-widgets/controls",
          "model_name": "HTMLModel",
          "model_module_version": "1.5.0",
          "state": {
            "_dom_classes": [],
            "_model_module": "@jupyter-widgets/controls",
            "_model_module_version": "1.5.0",
            "_model_name": "HTMLModel",
            "_view_count": null,
            "_view_module": "@jupyter-widgets/controls",
            "_view_module_version": "1.5.0",
            "_view_name": "HTMLView",
            "description": "",
            "description_tooltip": null,
            "layout": "IPY_MODEL_841b4872cc044131af7e5fc8c7a87ef4",
            "placeholder": "​",
            "style": "IPY_MODEL_4b91cd4df2f743d2b43dc6815f1cd160",
            "value": "Downloading (…)solve/main/vocab.txt: 100%"
          }
        },
        "8c7f7be9307a4a179705ed8b04e84115": {
          "model_module": "@jupyter-widgets/controls",
          "model_name": "FloatProgressModel",
          "model_module_version": "1.5.0",
          "state": {
            "_dom_classes": [],
            "_model_module": "@jupyter-widgets/controls",
            "_model_module_version": "1.5.0",
            "_model_name": "FloatProgressModel",
            "_view_count": null,
            "_view_module": "@jupyter-widgets/controls",
            "_view_module_version": "1.5.0",
            "_view_name": "ProgressView",
            "bar_style": "success",
            "description": "",
            "description_tooltip": null,
            "layout": "IPY_MODEL_6032bb45ab984f4ca8c04d5c20efb79e",
            "max": 235127,
            "min": 0,
            "orientation": "horizontal",
            "style": "IPY_MODEL_e44904746e7546cda9da27f9cb0315ae",
            "value": 235127
          }
        },
        "107852683b7a49ba98f737fc3dec01d0": {
          "model_module": "@jupyter-widgets/controls",
          "model_name": "HTMLModel",
          "model_module_version": "1.5.0",
          "state": {
            "_dom_classes": [],
            "_model_module": "@jupyter-widgets/controls",
            "_model_module_version": "1.5.0",
            "_model_name": "HTMLModel",
            "_view_count": null,
            "_view_module": "@jupyter-widgets/controls",
            "_view_module_version": "1.5.0",
            "_view_name": "HTMLView",
            "description": "",
            "description_tooltip": null,
            "layout": "IPY_MODEL_1327aec3e2aa423c9a6878e02976da2d",
            "placeholder": "​",
            "style": "IPY_MODEL_8dce98b1195c4fc583b4446cadf92504",
            "value": " 235k/235k [00:00&lt;00:00, 542kB/s]"
          }
        },
        "e0649587abea4e89bec09c0678cdd98b": {
          "model_module": "@jupyter-widgets/base",
          "model_name": "LayoutModel",
          "model_module_version": "1.2.0",
          "state": {
            "_model_module": "@jupyter-widgets/base",
            "_model_module_version": "1.2.0",
            "_model_name": "LayoutModel",
            "_view_count": null,
            "_view_module": "@jupyter-widgets/base",
            "_view_module_version": "1.2.0",
            "_view_name": "LayoutView",
            "align_content": null,
            "align_items": null,
            "align_self": null,
            "border": null,
            "bottom": null,
            "display": null,
            "flex": null,
            "flex_flow": null,
            "grid_area": null,
            "grid_auto_columns": null,
            "grid_auto_flow": null,
            "grid_auto_rows": null,
            "grid_column": null,
            "grid_gap": null,
            "grid_row": null,
            "grid_template_areas": null,
            "grid_template_columns": null,
            "grid_template_rows": null,
            "height": null,
            "justify_content": null,
            "justify_items": null,
            "left": null,
            "margin": null,
            "max_height": null,
            "max_width": null,
            "min_height": null,
            "min_width": null,
            "object_fit": null,
            "object_position": null,
            "order": null,
            "overflow": null,
            "overflow_x": null,
            "overflow_y": null,
            "padding": null,
            "right": null,
            "top": null,
            "visibility": null,
            "width": null
          }
        },
        "841b4872cc044131af7e5fc8c7a87ef4": {
          "model_module": "@jupyter-widgets/base",
          "model_name": "LayoutModel",
          "model_module_version": "1.2.0",
          "state": {
            "_model_module": "@jupyter-widgets/base",
            "_model_module_version": "1.2.0",
            "_model_name": "LayoutModel",
            "_view_count": null,
            "_view_module": "@jupyter-widgets/base",
            "_view_module_version": "1.2.0",
            "_view_name": "LayoutView",
            "align_content": null,
            "align_items": null,
            "align_self": null,
            "border": null,
            "bottom": null,
            "display": null,
            "flex": null,
            "flex_flow": null,
            "grid_area": null,
            "grid_auto_columns": null,
            "grid_auto_flow": null,
            "grid_auto_rows": null,
            "grid_column": null,
            "grid_gap": null,
            "grid_row": null,
            "grid_template_areas": null,
            "grid_template_columns": null,
            "grid_template_rows": null,
            "height": null,
            "justify_content": null,
            "justify_items": null,
            "left": null,
            "margin": null,
            "max_height": null,
            "max_width": null,
            "min_height": null,
            "min_width": null,
            "object_fit": null,
            "object_position": null,
            "order": null,
            "overflow": null,
            "overflow_x": null,
            "overflow_y": null,
            "padding": null,
            "right": null,
            "top": null,
            "visibility": null,
            "width": null
          }
        },
        "4b91cd4df2f743d2b43dc6815f1cd160": {
          "model_module": "@jupyter-widgets/controls",
          "model_name": "DescriptionStyleModel",
          "model_module_version": "1.5.0",
          "state": {
            "_model_module": "@jupyter-widgets/controls",
            "_model_module_version": "1.5.0",
            "_model_name": "DescriptionStyleModel",
            "_view_count": null,
            "_view_module": "@jupyter-widgets/base",
            "_view_module_version": "1.2.0",
            "_view_name": "StyleView",
            "description_width": ""
          }
        },
        "6032bb45ab984f4ca8c04d5c20efb79e": {
          "model_module": "@jupyter-widgets/base",
          "model_name": "LayoutModel",
          "model_module_version": "1.2.0",
          "state": {
            "_model_module": "@jupyter-widgets/base",
            "_model_module_version": "1.2.0",
            "_model_name": "LayoutModel",
            "_view_count": null,
            "_view_module": "@jupyter-widgets/base",
            "_view_module_version": "1.2.0",
            "_view_name": "LayoutView",
            "align_content": null,
            "align_items": null,
            "align_self": null,
            "border": null,
            "bottom": null,
            "display": null,
            "flex": null,
            "flex_flow": null,
            "grid_area": null,
            "grid_auto_columns": null,
            "grid_auto_flow": null,
            "grid_auto_rows": null,
            "grid_column": null,
            "grid_gap": null,
            "grid_row": null,
            "grid_template_areas": null,
            "grid_template_columns": null,
            "grid_template_rows": null,
            "height": null,
            "justify_content": null,
            "justify_items": null,
            "left": null,
            "margin": null,
            "max_height": null,
            "max_width": null,
            "min_height": null,
            "min_width": null,
            "object_fit": null,
            "object_position": null,
            "order": null,
            "overflow": null,
            "overflow_x": null,
            "overflow_y": null,
            "padding": null,
            "right": null,
            "top": null,
            "visibility": null,
            "width": null
          }
        },
        "e44904746e7546cda9da27f9cb0315ae": {
          "model_module": "@jupyter-widgets/controls",
          "model_name": "ProgressStyleModel",
          "model_module_version": "1.5.0",
          "state": {
            "_model_module": "@jupyter-widgets/controls",
            "_model_module_version": "1.5.0",
            "_model_name": "ProgressStyleModel",
            "_view_count": null,
            "_view_module": "@jupyter-widgets/base",
            "_view_module_version": "1.2.0",
            "_view_name": "StyleView",
            "bar_color": null,
            "description_width": ""
          }
        },
        "1327aec3e2aa423c9a6878e02976da2d": {
          "model_module": "@jupyter-widgets/base",
          "model_name": "LayoutModel",
          "model_module_version": "1.2.0",
          "state": {
            "_model_module": "@jupyter-widgets/base",
            "_model_module_version": "1.2.0",
            "_model_name": "LayoutModel",
            "_view_count": null,
            "_view_module": "@jupyter-widgets/base",
            "_view_module_version": "1.2.0",
            "_view_name": "LayoutView",
            "align_content": null,
            "align_items": null,
            "align_self": null,
            "border": null,
            "bottom": null,
            "display": null,
            "flex": null,
            "flex_flow": null,
            "grid_area": null,
            "grid_auto_columns": null,
            "grid_auto_flow": null,
            "grid_auto_rows": null,
            "grid_column": null,
            "grid_gap": null,
            "grid_row": null,
            "grid_template_areas": null,
            "grid_template_columns": null,
            "grid_template_rows": null,
            "height": null,
            "justify_content": null,
            "justify_items": null,
            "left": null,
            "margin": null,
            "max_height": null,
            "max_width": null,
            "min_height": null,
            "min_width": null,
            "object_fit": null,
            "object_position": null,
            "order": null,
            "overflow": null,
            "overflow_x": null,
            "overflow_y": null,
            "padding": null,
            "right": null,
            "top": null,
            "visibility": null,
            "width": null
          }
        },
        "8dce98b1195c4fc583b4446cadf92504": {
          "model_module": "@jupyter-widgets/controls",
          "model_name": "DescriptionStyleModel",
          "model_module_version": "1.5.0",
          "state": {
            "_model_module": "@jupyter-widgets/controls",
            "_model_module_version": "1.5.0",
            "_model_name": "DescriptionStyleModel",
            "_view_count": null,
            "_view_module": "@jupyter-widgets/base",
            "_view_module_version": "1.2.0",
            "_view_name": "StyleView",
            "description_width": ""
          }
        },
        "28ed2f643b64445987e76900ac900812": {
          "model_module": "@jupyter-widgets/controls",
          "model_name": "HBoxModel",
          "model_module_version": "1.5.0",
          "state": {
            "_dom_classes": [],
            "_model_module": "@jupyter-widgets/controls",
            "_model_module_version": "1.5.0",
            "_model_name": "HBoxModel",
            "_view_count": null,
            "_view_module": "@jupyter-widgets/controls",
            "_view_module_version": "1.5.0",
            "_view_name": "HBoxView",
            "box_style": "",
            "children": [
              "IPY_MODEL_787bae16dc514637a9f11f97a162f826",
              "IPY_MODEL_9b1e20c11d9e4f4796cfb9d394232603",
              "IPY_MODEL_45e2622bc4374273b9119e0218f22a89"
            ],
            "layout": "IPY_MODEL_97924ff319bc40909a25ecd2b6ae2618"
          }
        },
        "787bae16dc514637a9f11f97a162f826": {
          "model_module": "@jupyter-widgets/controls",
          "model_name": "HTMLModel",
          "model_module_version": "1.5.0",
          "state": {
            "_dom_classes": [],
            "_model_module": "@jupyter-widgets/controls",
            "_model_module_version": "1.5.0",
            "_model_name": "HTMLModel",
            "_view_count": null,
            "_view_module": "@jupyter-widgets/controls",
            "_view_module_version": "1.5.0",
            "_view_name": "HTMLView",
            "description": "",
            "description_tooltip": null,
            "layout": "IPY_MODEL_11d883c86fee4cda8f3d4bd5c028c88d",
            "placeholder": "​",
            "style": "IPY_MODEL_d6c43f8f4a4245a39c903d93c9f51750",
            "value": "Downloading pytorch_model.bin: 100%"
          }
        },
        "9b1e20c11d9e4f4796cfb9d394232603": {
          "model_module": "@jupyter-widgets/controls",
          "model_name": "FloatProgressModel",
          "model_module_version": "1.5.0",
          "state": {
            "_dom_classes": [],
            "_model_module": "@jupyter-widgets/controls",
            "_model_module_version": "1.5.0",
            "_model_name": "FloatProgressModel",
            "_view_count": null,
            "_view_module": "@jupyter-widgets/controls",
            "_view_module_version": "1.5.0",
            "_view_name": "ProgressView",
            "bar_style": "success",
            "description": "",
            "description_tooltip": null,
            "layout": "IPY_MODEL_50a52693a5604160b421d2cec4eaf0cd",
            "max": 442256004,
            "min": 0,
            "orientation": "horizontal",
            "style": "IPY_MODEL_41addad9d4f644f49508dfe1530de204",
            "value": 442256004
          }
        },
        "45e2622bc4374273b9119e0218f22a89": {
          "model_module": "@jupyter-widgets/controls",
          "model_name": "HTMLModel",
          "model_module_version": "1.5.0",
          "state": {
            "_dom_classes": [],
            "_model_module": "@jupyter-widgets/controls",
            "_model_module_version": "1.5.0",
            "_model_name": "HTMLModel",
            "_view_count": null,
            "_view_module": "@jupyter-widgets/controls",
            "_view_module_version": "1.5.0",
            "_view_name": "HTMLView",
            "description": "",
            "description_tooltip": null,
            "layout": "IPY_MODEL_048a0c3cca1a400cbb3edbf85e83acfa",
            "placeholder": "​",
            "style": "IPY_MODEL_a8cabc2b5e504f6094bd183f5c33a10f",
            "value": " 442M/442M [00:04&lt;00:00, 65.9MB/s]"
          }
        },
        "97924ff319bc40909a25ecd2b6ae2618": {
          "model_module": "@jupyter-widgets/base",
          "model_name": "LayoutModel",
          "model_module_version": "1.2.0",
          "state": {
            "_model_module": "@jupyter-widgets/base",
            "_model_module_version": "1.2.0",
            "_model_name": "LayoutModel",
            "_view_count": null,
            "_view_module": "@jupyter-widgets/base",
            "_view_module_version": "1.2.0",
            "_view_name": "LayoutView",
            "align_content": null,
            "align_items": null,
            "align_self": null,
            "border": null,
            "bottom": null,
            "display": null,
            "flex": null,
            "flex_flow": null,
            "grid_area": null,
            "grid_auto_columns": null,
            "grid_auto_flow": null,
            "grid_auto_rows": null,
            "grid_column": null,
            "grid_gap": null,
            "grid_row": null,
            "grid_template_areas": null,
            "grid_template_columns": null,
            "grid_template_rows": null,
            "height": null,
            "justify_content": null,
            "justify_items": null,
            "left": null,
            "margin": null,
            "max_height": null,
            "max_width": null,
            "min_height": null,
            "min_width": null,
            "object_fit": null,
            "object_position": null,
            "order": null,
            "overflow": null,
            "overflow_x": null,
            "overflow_y": null,
            "padding": null,
            "right": null,
            "top": null,
            "visibility": null,
            "width": null
          }
        },
        "11d883c86fee4cda8f3d4bd5c028c88d": {
          "model_module": "@jupyter-widgets/base",
          "model_name": "LayoutModel",
          "model_module_version": "1.2.0",
          "state": {
            "_model_module": "@jupyter-widgets/base",
            "_model_module_version": "1.2.0",
            "_model_name": "LayoutModel",
            "_view_count": null,
            "_view_module": "@jupyter-widgets/base",
            "_view_module_version": "1.2.0",
            "_view_name": "LayoutView",
            "align_content": null,
            "align_items": null,
            "align_self": null,
            "border": null,
            "bottom": null,
            "display": null,
            "flex": null,
            "flex_flow": null,
            "grid_area": null,
            "grid_auto_columns": null,
            "grid_auto_flow": null,
            "grid_auto_rows": null,
            "grid_column": null,
            "grid_gap": null,
            "grid_row": null,
            "grid_template_areas": null,
            "grid_template_columns": null,
            "grid_template_rows": null,
            "height": null,
            "justify_content": null,
            "justify_items": null,
            "left": null,
            "margin": null,
            "max_height": null,
            "max_width": null,
            "min_height": null,
            "min_width": null,
            "object_fit": null,
            "object_position": null,
            "order": null,
            "overflow": null,
            "overflow_x": null,
            "overflow_y": null,
            "padding": null,
            "right": null,
            "top": null,
            "visibility": null,
            "width": null
          }
        },
        "d6c43f8f4a4245a39c903d93c9f51750": {
          "model_module": "@jupyter-widgets/controls",
          "model_name": "DescriptionStyleModel",
          "model_module_version": "1.5.0",
          "state": {
            "_model_module": "@jupyter-widgets/controls",
            "_model_module_version": "1.5.0",
            "_model_name": "DescriptionStyleModel",
            "_view_count": null,
            "_view_module": "@jupyter-widgets/base",
            "_view_module_version": "1.2.0",
            "_view_name": "StyleView",
            "description_width": ""
          }
        },
        "50a52693a5604160b421d2cec4eaf0cd": {
          "model_module": "@jupyter-widgets/base",
          "model_name": "LayoutModel",
          "model_module_version": "1.2.0",
          "state": {
            "_model_module": "@jupyter-widgets/base",
            "_model_module_version": "1.2.0",
            "_model_name": "LayoutModel",
            "_view_count": null,
            "_view_module": "@jupyter-widgets/base",
            "_view_module_version": "1.2.0",
            "_view_name": "LayoutView",
            "align_content": null,
            "align_items": null,
            "align_self": null,
            "border": null,
            "bottom": null,
            "display": null,
            "flex": null,
            "flex_flow": null,
            "grid_area": null,
            "grid_auto_columns": null,
            "grid_auto_flow": null,
            "grid_auto_rows": null,
            "grid_column": null,
            "grid_gap": null,
            "grid_row": null,
            "grid_template_areas": null,
            "grid_template_columns": null,
            "grid_template_rows": null,
            "height": null,
            "justify_content": null,
            "justify_items": null,
            "left": null,
            "margin": null,
            "max_height": null,
            "max_width": null,
            "min_height": null,
            "min_width": null,
            "object_fit": null,
            "object_position": null,
            "order": null,
            "overflow": null,
            "overflow_x": null,
            "overflow_y": null,
            "padding": null,
            "right": null,
            "top": null,
            "visibility": null,
            "width": null
          }
        },
        "41addad9d4f644f49508dfe1530de204": {
          "model_module": "@jupyter-widgets/controls",
          "model_name": "ProgressStyleModel",
          "model_module_version": "1.5.0",
          "state": {
            "_model_module": "@jupyter-widgets/controls",
            "_model_module_version": "1.5.0",
            "_model_name": "ProgressStyleModel",
            "_view_count": null,
            "_view_module": "@jupyter-widgets/base",
            "_view_module_version": "1.2.0",
            "_view_name": "StyleView",
            "bar_color": null,
            "description_width": ""
          }
        },
        "048a0c3cca1a400cbb3edbf85e83acfa": {
          "model_module": "@jupyter-widgets/base",
          "model_name": "LayoutModel",
          "model_module_version": "1.2.0",
          "state": {
            "_model_module": "@jupyter-widgets/base",
            "_model_module_version": "1.2.0",
            "_model_name": "LayoutModel",
            "_view_count": null,
            "_view_module": "@jupyter-widgets/base",
            "_view_module_version": "1.2.0",
            "_view_name": "LayoutView",
            "align_content": null,
            "align_items": null,
            "align_self": null,
            "border": null,
            "bottom": null,
            "display": null,
            "flex": null,
            "flex_flow": null,
            "grid_area": null,
            "grid_auto_columns": null,
            "grid_auto_flow": null,
            "grid_auto_rows": null,
            "grid_column": null,
            "grid_gap": null,
            "grid_row": null,
            "grid_template_areas": null,
            "grid_template_columns": null,
            "grid_template_rows": null,
            "height": null,
            "justify_content": null,
            "justify_items": null,
            "left": null,
            "margin": null,
            "max_height": null,
            "max_width": null,
            "min_height": null,
            "min_width": null,
            "object_fit": null,
            "object_position": null,
            "order": null,
            "overflow": null,
            "overflow_x": null,
            "overflow_y": null,
            "padding": null,
            "right": null,
            "top": null,
            "visibility": null,
            "width": null
          }
        },
        "a8cabc2b5e504f6094bd183f5c33a10f": {
          "model_module": "@jupyter-widgets/controls",
          "model_name": "DescriptionStyleModel",
          "model_module_version": "1.5.0",
          "state": {
            "_model_module": "@jupyter-widgets/controls",
            "_model_module_version": "1.5.0",
            "_model_name": "DescriptionStyleModel",
            "_view_count": null,
            "_view_module": "@jupyter-widgets/base",
            "_view_module_version": "1.2.0",
            "_view_name": "StyleView",
            "description_width": ""
          }
        }
      }
    },
    "accelerator": "GPU"
  },
  "cells": [
    {
      "cell_type": "markdown",
      "metadata": {
        "id": "view-in-github",
        "colab_type": "text"
      },
      "source": [
        "<a href=\"https://colab.research.google.com/github/MuhammadIrzam447/visionCodes/blob/master/text_ferramenta.ipynb\" target=\"_parent\"><img src=\"https://colab.research.google.com/assets/colab-badge.svg\" alt=\"Open In Colab\"/></a>"
      ]
    },
    {
      "cell_type": "code",
      "source": [
        "import pandas as pd"
      ],
      "metadata": {
        "id": "rsP_ISkBvdUj"
      },
      "execution_count": null,
      "outputs": []
    },
    {
      "cell_type": "code",
      "execution_count": null,
      "metadata": {
        "colab": {
          "base_uri": "https://localhost:8080/"
        },
        "id": "FTNjnQt0u1oR",
        "outputId": "61aed3a2-54eb-4326-9e50-228b15562686"
      },
      "outputs": [
        {
          "output_type": "stream",
          "name": "stdout",
          "text": [
            "Mounted at /content/drive\n"
          ]
        }
      ],
      "source": [
        "from google.colab import drive\n",
        "drive.mount('/content/drive')"
      ]
    },
    {
      "cell_type": "code",
      "source": [
        "path = \"/content/drive/MyDrive/Colab Notebooks/Testing/text-ferramenta-train.csv/text-ferramenta-train.csv\"\n",
        "df = pd.read_csv(path)"
      ],
      "metadata": {
        "id": "wMuw5YXEvXnZ"
      },
      "execution_count": null,
      "outputs": []
    },
    {
      "cell_type": "code",
      "source": [
        "df.head()"
      ],
      "metadata": {
        "id": "atR-ngdPv2FR"
      },
      "execution_count": null,
      "outputs": []
    },
    {
      "cell_type": "markdown",
      "source": [
        "# EDA"
      ],
      "metadata": {
        "id": "uhWNOtHmw1zp"
      }
    },
    {
      "cell_type": "code",
      "source": [
        "# Rename the head of the column\n",
        "df.columns = ['text']"
      ],
      "metadata": {
        "id": "WZV03if-1EPN"
      },
      "execution_count": null,
      "outputs": []
    },
    {
      "cell_type": "code",
      "source": [
        "# Create the Label Column\n",
        "df['label'] = df['text'].str.split(\"\\|_@\", n=1).str[1]\n",
        "df['text'] = df['text'].str.split(\"\\|_@\", n=1).str[0]"
      ],
      "metadata": {
        "id": "nIaeepR1WPrL"
      },
      "execution_count": null,
      "outputs": []
    },
    {
      "cell_type": "code",
      "source": [
        "# Drop the duplicate and null values\n",
        "df.drop_duplicates(inplace=True)\n",
        "df.dropna(inplace = True) \n",
        "df.reset_index(drop = True, inplace = True)"
      ],
      "metadata": {
        "id": "PIFDBjjw2fVV"
      },
      "execution_count": null,
      "outputs": []
    },
    {
      "cell_type": "markdown",
      "source": [
        "# Cleaning Data"
      ],
      "metadata": {
        "id": "IslatIvNwtXh"
      }
    },
    {
      "cell_type": "code",
      "source": [
        "# 32 g/gr/ (32 grams)\n",
        "# 15 mm (15 milimeter) \n",
        "# kg (kilogaram)\n",
        "# kwb ?\n",
        "# lb (pounds)\n",
        "# cm (centimeter)\n",
        "# sw ?\n",
        "# oz \n",
        "# tm\n",
        "# p \n",
        "# pesso"
      ],
      "metadata": {
        "id": "3ii4sRiyD_Pg"
      },
      "execution_count": null,
      "outputs": []
    },
    {
      "cell_type": "code",
      "source": [
        "import nltk\n",
        "from nltk.corpus import stopwords\n",
        "nltk.download('stopwords')\n",
        "nltk.download('punkt')\n",
        "from nltk.tokenize import word_tokenize"
      ],
      "metadata": {
        "id": "gCicDN4H41PS"
      },
      "execution_count": null,
      "outputs": []
    },
    {
      "cell_type": "code",
      "source": [
        "df2['text'] = df2['text'].str.lower()"
      ],
      "metadata": {
        "id": "gpPmmUSk31_d"
      },
      "execution_count": null,
      "outputs": []
    },
    {
      "cell_type": "code",
      "source": [
        "# import re\n",
        "# df2['text'] = df2['text'].apply(lambda x: re.sub('[^a-zA-Z]', ' ', str(x)))\n",
        "# removing everything except alphabets is drastic as it is making a huge change in input data. how to do it better. "
      ],
      "metadata": {
        "id": "KmG7Z1QQAejy"
      },
      "execution_count": null,
      "outputs": []
    },
    {
      "cell_type": "code",
      "source": [
        "df2['text'] = df2['text'].apply(word_tokenize, language = \"italian\")"
      ],
      "metadata": {
        "id": "pJZChy6J4mTZ"
      },
      "execution_count": null,
      "outputs": []
    },
    {
      "cell_type": "code",
      "source": [
        "stop_words = set(stopwords.words('italian'))\n",
        "df2['text'] = df2['text'].apply(lambda x: [word for word in x if word not in stop_words])"
      ],
      "metadata": {
        "id": "Cb1b8--L4shJ"
      },
      "execution_count": null,
      "outputs": []
    },
    {
      "cell_type": "code",
      "source": [
        "from nltk.stem import SnowballStemmer\n",
        "stemmer = SnowballStemmer('italian')\n",
        "df2['text'] = df2['text'].apply(lambda x: [stemmer.stem(word) for word in x])"
      ],
      "metadata": {
        "id": "xzpqwiNz6zAg"
      },
      "execution_count": null,
      "outputs": []
    },
    {
      "cell_type": "code",
      "source": [
        "replacements = {'kg': 'kilogram',\n",
        "                'mm': 'millimeter', \n",
        "                'cm': 'centimeter',\n",
        "                'gr': 'gram',\n",
        "                'g': 'gram',\n",
        "                'lb': 'pounds',\n",
        "                'oz': 'ounce',\n",
        "                'mv': 'milivott',\n",
        "                'm': 'meter',\n",
        "                'ft': 'feet'}"
      ],
      "metadata": {
        "id": "2dEAXm-USUio"
      },
      "execution_count": null,
      "outputs": []
    },
    {
      "cell_type": "code",
      "source": [
        "def replace_words(tokens):\n",
        "    return [replacements.get(token, token) for token in tokens]"
      ],
      "metadata": {
        "id": "PsE-Bo5ockFv"
      },
      "execution_count": null,
      "outputs": []
    },
    {
      "cell_type": "code",
      "source": [
        "df2['text'] = df2['text'].apply(replace_words)"
      ],
      "metadata": {
        "id": "fLuTMjYEwG9F"
      },
      "execution_count": null,
      "outputs": []
    },
    {
      "cell_type": "code",
      "source": [
        "df2.head(10)"
      ],
      "metadata": {
        "id": "O9V1vXal9Yxu"
      },
      "execution_count": null,
      "outputs": []
    },
    {
      "cell_type": "markdown",
      "source": [
        "# Top 10 Words in Text"
      ],
      "metadata": {
        "id": "vkGGzX3wvZC0"
      }
    },
    {
      "cell_type": "code",
      "source": [
        "# Joining the words back into a single text\n",
        "df2['final_text'] = df2['text'].apply(lambda x: ' '.join(x))"
      ],
      "metadata": {
        "id": "KYFd006t82FB"
      },
      "execution_count": null,
      "outputs": []
    },
    {
      "cell_type": "code",
      "source": [
        "import matplotlib.pyplot as plt\n",
        "import collections\n",
        "words = []\n",
        "for text in df2['final_text']:\n",
        "    words.extend(text.split())\n",
        "word_count = collections.Counter(words)\n",
        "top_words = dict(word_count.most_common(20))\n",
        "\n",
        "# Dark Background\n",
        "plt.style.use('dark_background')\n",
        "plt.figure(figsize = (12, 8))\n",
        "\n",
        "# Create the Barplot\n",
        "plt.bar(range(len(top_words)), list(top_words.values()), align='center')\n",
        "\n",
        "plt.xticks(range(len(top_words)), list(top_words.keys()))\n",
        "# Grid Opacity\n",
        "plt.grid(alpha = 0.5)\n",
        "# Title\n",
        "plt.title('Top 10 most used words', fontsize = 18)\n",
        "# Labels\n",
        "plt.xlabel('Words')\n",
        "plt.ylabel('Frequency')\n",
        "\n",
        "plt.show()"
      ],
      "metadata": {
        "id": "p5fNunZy8CNP"
      },
      "execution_count": null,
      "outputs": []
    },
    {
      "cell_type": "markdown",
      "source": [
        "# Word Embedding using Word2Vec"
      ],
      "metadata": {
        "id": "7TBt-nwvsvdT"
      }
    },
    {
      "cell_type": "code",
      "source": [
        "import gensim\n",
        "from gensim import models\n",
        "from gensim.models import Word2Vec"
      ],
      "metadata": {
        "id": "lSxDR__jHp24"
      },
      "execution_count": null,
      "outputs": []
    },
    {
      "cell_type": "code",
      "source": [
        "import gensim.downloader as api\n",
        "info = api.info()  # show info about available models/datasets\n",
        "model = api.load(\"word2vec-google-news-300\") "
      ],
      "metadata": {
        "id": "QGTX121xHuQ6"
      },
      "execution_count": null,
      "outputs": []
    },
    {
      "cell_type": "code",
      "source": [
        "tokenized_data = df['text'].apply(lambda x: x.split())"
      ],
      "metadata": {
        "id": "dkcS9HoBI53w"
      },
      "execution_count": null,
      "outputs": []
    },
    {
      "cell_type": "code",
      "source": [
        "tokenized_data"
      ],
      "metadata": {
        "id": "3z9ovi4xL-5N"
      },
      "execution_count": null,
      "outputs": []
    },
    {
      "cell_type": "code",
      "source": [
        "import numpy as np\n",
        "embeddings = np.zeros((len(tokenized_data), model.vector_size))"
      ],
      "metadata": {
        "id": "Vf9iPp6-MCC_"
      },
      "execution_count": null,
      "outputs": []
    },
    {
      "cell_type": "code",
      "source": [
        "# Try this one instead\n",
        "for i, tokens in enumerate(tokenized_data):\n",
        "    for token in tokens:\n",
        "        if token in model:\n",
        "            embeddings[i] += model[token]"
      ],
      "metadata": {
        "id": "RiWMaw2SMWGp"
      },
      "execution_count": null,
      "outputs": []
    },
    {
      "cell_type": "code",
      "source": [
        "embeddings[10]"
      ],
      "metadata": {
        "id": "YSCyhT3jNp1A"
      },
      "execution_count": null,
      "outputs": []
    },
    {
      "cell_type": "code",
      "source": [
        "embeddings /= np.linalg.norm(embeddings, axis=1, keepdims=True)"
      ],
      "metadata": {
        "id": "zqbozODsNy1a"
      },
      "execution_count": null,
      "outputs": []
    },
    {
      "cell_type": "code",
      "source": [
        "embeddings[10]"
      ],
      "metadata": {
        "id": "ouzl8tyRPTWp"
      },
      "execution_count": null,
      "outputs": []
    },
    {
      "cell_type": "markdown",
      "source": [
        "# Transform Label using Label Encoder "
      ],
      "metadata": {
        "id": "8LSUOpvkVpej"
      }
    },
    {
      "cell_type": "code",
      "source": [
        "from sklearn.preprocessing import LabelEncoder\n",
        "label_encoder = LabelEncoder()\n",
        "label_encoder.fit(df2['label'])"
      ],
      "metadata": {
        "id": "mctfKUQgVsRi"
      },
      "execution_count": null,
      "outputs": []
    },
    {
      "cell_type": "code",
      "source": [
        "# Transform the labels into numerical values\n",
        "df2['label'] = label_encoder.transform(df2['label'])"
      ],
      "metadata": {
        "id": "FwRoioYTV3XR"
      },
      "execution_count": null,
      "outputs": []
    },
    {
      "cell_type": "code",
      "source": [
        "df2['label'].value_counts()"
      ],
      "metadata": {
        "id": "Xc6uPtLsV4Pn"
      },
      "execution_count": null,
      "outputs": []
    },
    {
      "cell_type": "markdown",
      "source": [
        "# Transform Label using one hot encoding\n"
      ],
      "metadata": {
        "id": "DCnfQxaDsCfh"
      }
    },
    {
      "cell_type": "code",
      "source": [
        "# using one hot encoding \n",
        "df3 = df.copy()"
      ],
      "metadata": {
        "id": "kEqzjr2eV6VS"
      },
      "execution_count": null,
      "outputs": []
    },
    {
      "cell_type": "code",
      "source": [
        "import pandas as pd\n",
        "from sklearn.preprocessing import OneHotEncoder\n",
        "\n",
        "onehot_encoder = OneHotEncoder()"
      ],
      "metadata": {
        "id": "277KUIr2XBy_"
      },
      "execution_count": null,
      "outputs": []
    },
    {
      "cell_type": "code",
      "source": [
        "labels_reshaped = df3['label'].values.reshape(-1, 1)\n",
        "onehot_labels = onehot_encoder.fit_transform(labels_reshaped)\n",
        "onehot_labels = onehot_labels.toarray()\n",
        "onehot_df = pd.DataFrame(onehot_labels, columns=onehot_encoder.categories_[0])\n",
        "df3 = pd.concat([df3, onehot_df], axis=1)"
      ],
      "metadata": {
        "id": "QUUiul7fqKew"
      },
      "execution_count": null,
      "outputs": []
    },
    {
      "cell_type": "markdown",
      "source": [
        "\n",
        "# Fine Tuning Bert Base"
      ],
      "metadata": {
        "id": "Ag41FzV0O23v"
      }
    },
    {
      "cell_type": "code",
      "source": [
        "!pip install transformers"
      ],
      "metadata": {
        "colab": {
          "base_uri": "https://localhost:8080/"
        },
        "id": "255SMliqhiVl",
        "outputId": "57d74f55-6dae-4cba-d348-ece3fe7a6faf"
      },
      "execution_count": null,
      "outputs": [
        {
          "output_type": "stream",
          "name": "stdout",
          "text": [
            "Looking in indexes: https://pypi.org/simple, https://us-python.pkg.dev/colab-wheels/public/simple/\n",
            "Collecting transformers\n",
            "  Downloading transformers-4.29.2-py3-none-any.whl (7.1 MB)\n",
            "\u001b[2K     \u001b[90m━━━━━━━━━━━━━━━━━━━━━━━━━━━━━━━━━━━━━━━━\u001b[0m \u001b[32m7.1/7.1 MB\u001b[0m \u001b[31m80.3 MB/s\u001b[0m eta \u001b[36m0:00:00\u001b[0m\n",
            "\u001b[?25hRequirement already satisfied: filelock in /usr/local/lib/python3.10/dist-packages (from transformers) (3.12.0)\n",
            "Collecting huggingface-hub<1.0,>=0.14.1 (from transformers)\n",
            "  Downloading huggingface_hub-0.15.1-py3-none-any.whl (236 kB)\n",
            "\u001b[2K     \u001b[90m━━━━━━━━━━━━━━━━━━━━━━━━━━━━━━━━━━━━━━\u001b[0m \u001b[32m236.8/236.8 kB\u001b[0m \u001b[31m32.1 MB/s\u001b[0m eta \u001b[36m0:00:00\u001b[0m\n",
            "\u001b[?25hRequirement already satisfied: numpy>=1.17 in /usr/local/lib/python3.10/dist-packages (from transformers) (1.22.4)\n",
            "Requirement already satisfied: packaging>=20.0 in /usr/local/lib/python3.10/dist-packages (from transformers) (23.1)\n",
            "Requirement already satisfied: pyyaml>=5.1 in /usr/local/lib/python3.10/dist-packages (from transformers) (6.0)\n",
            "Requirement already satisfied: regex!=2019.12.17 in /usr/local/lib/python3.10/dist-packages (from transformers) (2022.10.31)\n",
            "Requirement already satisfied: requests in /usr/local/lib/python3.10/dist-packages (from transformers) (2.27.1)\n",
            "Collecting tokenizers!=0.11.3,<0.14,>=0.11.1 (from transformers)\n",
            "  Downloading tokenizers-0.13.3-cp310-cp310-manylinux_2_17_x86_64.manylinux2014_x86_64.whl (7.8 MB)\n",
            "\u001b[2K     \u001b[90m━━━━━━━━━━━━━━━━━━━━━━━━━━━━━━━━━━━━━━━━\u001b[0m \u001b[32m7.8/7.8 MB\u001b[0m \u001b[31m109.8 MB/s\u001b[0m eta \u001b[36m0:00:00\u001b[0m\n",
            "\u001b[?25hRequirement already satisfied: tqdm>=4.27 in /usr/local/lib/python3.10/dist-packages (from transformers) (4.65.0)\n",
            "Requirement already satisfied: fsspec in /usr/local/lib/python3.10/dist-packages (from huggingface-hub<1.0,>=0.14.1->transformers) (2023.4.0)\n",
            "Requirement already satisfied: typing-extensions>=3.7.4.3 in /usr/local/lib/python3.10/dist-packages (from huggingface-hub<1.0,>=0.14.1->transformers) (4.5.0)\n",
            "Requirement already satisfied: urllib3<1.27,>=1.21.1 in /usr/local/lib/python3.10/dist-packages (from requests->transformers) (1.26.15)\n",
            "Requirement already satisfied: certifi>=2017.4.17 in /usr/local/lib/python3.10/dist-packages (from requests->transformers) (2022.12.7)\n",
            "Requirement already satisfied: charset-normalizer~=2.0.0 in /usr/local/lib/python3.10/dist-packages (from requests->transformers) (2.0.12)\n",
            "Requirement already satisfied: idna<4,>=2.5 in /usr/local/lib/python3.10/dist-packages (from requests->transformers) (3.4)\n",
            "Installing collected packages: tokenizers, huggingface-hub, transformers\n",
            "Successfully installed huggingface-hub-0.15.1 tokenizers-0.13.3 transformers-4.29.2\n"
          ]
        }
      ]
    },
    {
      "cell_type": "code",
      "source": [
        "import nltk\n",
        "from nltk.corpus import stopwords\n",
        "from nltk.stem.snowball import SnowballStemmer\n",
        "\n",
        "nltk.download('stopwords')\n",
        "\n",
        "def preprocess_text(text):\n",
        "    text = text.lower()\n",
        "    \n",
        "    stop_words = set(stopwords.words('italian'))\n",
        "    tokens = text.split()\n",
        "    filtered_tokens = [token for token in tokens if token not in stop_words]\n",
        "    text = ' '.join(filtered_tokens)\n",
        "    \n",
        "    stemmer = SnowballStemmer('italian')\n",
        "    tokens = text.split()\n",
        "    stemmed_tokens = [stemmer.stem(token) for token in tokens]\n",
        "    text = ' '.join(stemmed_tokens)\n",
        "    \n",
        "    replacements = {'kg': 'kilogram',\n",
        "                    'mm': 'millimeter',\n",
        "                    'cm': 'centimeter',\n",
        "                    'gr': 'gram',\n",
        "                    'g': 'gram',\n",
        "                    'lb': 'pounds',\n",
        "                    'oz': 'ounce',\n",
        "                    'mv': 'milivott',\n",
        "                    'm': 'meter',\n",
        "                    'ft': 'feet'}\n",
        "\n",
        "    tokens = text.split()\n",
        "    replaced_tokens = [replacements.get(token, token) for token in tokens]\n",
        "    text = ' '.join(replaced_tokens)\n",
        "    \n",
        "    return text"
      ],
      "metadata": {
        "id": "reuEx8xgPXXB",
        "colab": {
          "base_uri": "https://localhost:8080/"
        },
        "outputId": "be43a085-7d84-4ffd-d262-887b3c7d2a4f"
      },
      "execution_count": null,
      "outputs": [
        {
          "output_type": "stream",
          "name": "stderr",
          "text": [
            "[nltk_data] Downloading package stopwords to /root/nltk_data...\n",
            "[nltk_data]   Unzipping corpora/stopwords.zip.\n"
          ]
        }
      ]
    },
    {
      "cell_type": "code",
      "source": [
        "num_labels = df['label'].nunique()\n",
        "print(num_labels)"
      ],
      "metadata": {
        "colab": {
          "base_uri": "https://localhost:8080/"
        },
        "id": "3Q41kMs9h56m",
        "outputId": "54da0350-2913-4eb1-b35c-4aa7ddb6205c"
      },
      "execution_count": null,
      "outputs": [
        {
          "output_type": "stream",
          "name": "stdout",
          "text": [
            "52\n"
          ]
        }
      ]
    },
    {
      "cell_type": "code",
      "source": [
        "# df = pd.get_dummies(df, columns=['label'])"
      ],
      "metadata": {
        "id": "WkxPTTzoe-Qw"
      },
      "execution_count": null,
      "outputs": []
    },
    {
      "cell_type": "code",
      "source": [
        "from transformers import AutoModel, AutoTokenizer, BertForSequenceClassification\n",
        "import torch\n",
        "\n",
        "model_name = \"dbmdz/bert-base-italian-cased\"\n",
        "tokenizer = AutoTokenizer.from_pretrained(model_name)\n",
        "model = BertForSequenceClassification.from_pretrained(model_name, num_labels=num_labels)\n",
        "\n",
        "# from transformers import BertTokenizer, BertModel\n",
        "# tokenizer = BertTokenizer.from_pretrained('bert-base-multilingual-cased')\n",
        "# model = BertModel.from_pretrained(\"bert-base-multilingual-cased\")\n",
        "# text = \"Replace me by any text you'd like.\"\n",
        "# encoded_input = tokenizer(text, return_tensors='pt')\n",
        "# output = model(**encoded_input)"
      ],
      "metadata": {
        "id": "oPXLydWntVXL",
        "colab": {
          "base_uri": "https://localhost:8080/",
          "height": 256,
          "referenced_widgets": [
            "314e4c0fbd4147f8a7e687a59dd6e197",
            "0bcaef0ee34841dd946fd0d35dc46155",
            "62002dad996d40a287da7b764f17ec18",
            "b162d8486d2545c19b793a57b3b0b6f3",
            "2c5ab7e375584c9985b1e9a747b23f1f",
            "f9dc4a1b65264892850154f4e0981d19",
            "0205402e59b74bb9859d645f183e4c4b",
            "cd9b0d6a356d495a8b76960bc03d7b92",
            "00387c4db5ed4cbc9b6a6b6841c396bc",
            "0be7abd0852f4479b24758a41c190c92",
            "3fda99bbf93f4557b55d4a2a6f953a39",
            "68822c9158a94ea0a210e7c240a985a3",
            "62c36294fadc45d4b4341bd5d609ace6",
            "a5804867e0bd4d728e1f83801658c875",
            "61002d94c6d54636bceea67331b8ea54",
            "f55d651821754b5fa9b6303b4d7e2555",
            "9a136f0769e64ae1a1af26af5e950e9d",
            "c661c2e0d8144b438b910bc1b8f96f70",
            "ec4adab197de45d59b7d86195175df72",
            "0885ea63f4fc4541b49398841e44fd5d",
            "43500c769934483e958f27e2fe23ea01",
            "b6dbd67c7ca14eb892cabb35356b25b4",
            "2af91a65a1044c298bb365acdacd25b6",
            "66a95f81bb0e4ab7b8f683d02c00e9aa",
            "8c7f7be9307a4a179705ed8b04e84115",
            "107852683b7a49ba98f737fc3dec01d0",
            "e0649587abea4e89bec09c0678cdd98b",
            "841b4872cc044131af7e5fc8c7a87ef4",
            "4b91cd4df2f743d2b43dc6815f1cd160",
            "6032bb45ab984f4ca8c04d5c20efb79e",
            "e44904746e7546cda9da27f9cb0315ae",
            "1327aec3e2aa423c9a6878e02976da2d",
            "8dce98b1195c4fc583b4446cadf92504",
            "28ed2f643b64445987e76900ac900812",
            "787bae16dc514637a9f11f97a162f826",
            "9b1e20c11d9e4f4796cfb9d394232603",
            "45e2622bc4374273b9119e0218f22a89",
            "97924ff319bc40909a25ecd2b6ae2618",
            "11d883c86fee4cda8f3d4bd5c028c88d",
            "d6c43f8f4a4245a39c903d93c9f51750",
            "50a52693a5604160b421d2cec4eaf0cd",
            "41addad9d4f644f49508dfe1530de204",
            "048a0c3cca1a400cbb3edbf85e83acfa",
            "a8cabc2b5e504f6094bd183f5c33a10f"
          ]
        },
        "outputId": "8aa9c286-beb3-4603-ffbd-091d724e8d5e"
      },
      "execution_count": null,
      "outputs": [
        {
          "output_type": "display_data",
          "data": {
            "text/plain": [
              "Downloading (…)okenizer_config.json:   0%|          | 0.00/59.0 [00:00<?, ?B/s]"
            ],
            "application/vnd.jupyter.widget-view+json": {
              "version_major": 2,
              "version_minor": 0,
              "model_id": "314e4c0fbd4147f8a7e687a59dd6e197"
            }
          },
          "metadata": {}
        },
        {
          "output_type": "display_data",
          "data": {
            "text/plain": [
              "Downloading (…)lve/main/config.json:   0%|          | 0.00/433 [00:00<?, ?B/s]"
            ],
            "application/vnd.jupyter.widget-view+json": {
              "version_major": 2,
              "version_minor": 0,
              "model_id": "68822c9158a94ea0a210e7c240a985a3"
            }
          },
          "metadata": {}
        },
        {
          "output_type": "display_data",
          "data": {
            "text/plain": [
              "Downloading (…)solve/main/vocab.txt:   0%|          | 0.00/235k [00:00<?, ?B/s]"
            ],
            "application/vnd.jupyter.widget-view+json": {
              "version_major": 2,
              "version_minor": 0,
              "model_id": "2af91a65a1044c298bb365acdacd25b6"
            }
          },
          "metadata": {}
        },
        {
          "output_type": "display_data",
          "data": {
            "text/plain": [
              "Downloading pytorch_model.bin:   0%|          | 0.00/442M [00:00<?, ?B/s]"
            ],
            "application/vnd.jupyter.widget-view+json": {
              "version_major": 2,
              "version_minor": 0,
              "model_id": "28ed2f643b64445987e76900ac900812"
            }
          },
          "metadata": {}
        },
        {
          "output_type": "stream",
          "name": "stderr",
          "text": [
            "Some weights of the model checkpoint at dbmdz/bert-base-italian-cased were not used when initializing BertForSequenceClassification: ['cls.predictions.transform.LayerNorm.bias', 'cls.predictions.decoder.weight', 'cls.seq_relationship.weight', 'cls.predictions.transform.dense.bias', 'cls.predictions.bias', 'cls.seq_relationship.bias', 'cls.predictions.transform.dense.weight', 'cls.predictions.transform.LayerNorm.weight']\n",
            "- This IS expected if you are initializing BertForSequenceClassification from the checkpoint of a model trained on another task or with another architecture (e.g. initializing a BertForSequenceClassification model from a BertForPreTraining model).\n",
            "- This IS NOT expected if you are initializing BertForSequenceClassification from the checkpoint of a model that you expect to be exactly identical (initializing a BertForSequenceClassification model from a BertForSequenceClassification model).\n",
            "Some weights of BertForSequenceClassification were not initialized from the model checkpoint at dbmdz/bert-base-italian-cased and are newly initialized: ['classifier.bias', 'classifier.weight']\n",
            "You should probably TRAIN this model on a down-stream task to be able to use it for predictions and inference.\n"
          ]
        }
      ]
    },
    {
      "cell_type": "code",
      "source": [
        "# from transformers import BertTokenizer, BertForSequenceClassification\n",
        "# import torch\n",
        "\n",
        "# tokenizer = BertTokenizer.from_pretrained('bert-base-uncased')\n",
        "# model = BertForSequenceClassification.from_pretrained('bert-base-uncased', num_labels=num_labels)"
      ],
      "metadata": {
        "id": "HnPxPB-IfeU6"
      },
      "execution_count": null,
      "outputs": []
    },
    {
      "cell_type": "code",
      "source": [
        "df.columns"
      ],
      "metadata": {
        "id": "yfvMkP9Hh_SY",
        "colab": {
          "base_uri": "https://localhost:8080/"
        },
        "outputId": "d6b03e37-cfe6-45f2-f79b-624cd32003aa"
      },
      "execution_count": null,
      "outputs": [
        {
          "output_type": "execute_result",
          "data": {
            "text/plain": [
              "Index(['text', 'label'], dtype='object')"
            ]
          },
          "metadata": {},
          "execution_count": 12
        }
      ]
    },
    {
      "cell_type": "code",
      "source": [
        "from sklearn.preprocessing import LabelEncoder\n",
        "label_encoder = LabelEncoder()"
      ],
      "metadata": {
        "id": "LTOWC6bv5na1"
      },
      "execution_count": null,
      "outputs": []
    },
    {
      "cell_type": "code",
      "source": [
        "import torch\n",
        "from torch.utils.data import Dataset, DataLoader\n",
        "\n",
        "class FragmentaDataset(Dataset):\n",
        "    def __init__(self, data, tokenizer, max_length):\n",
        "        self.data = data\n",
        "        self.tokenizer = tokenizer\n",
        "        self.max_length = max_length\n",
        "        self.label_encoder = LabelEncoder()\n",
        "        self.labels = self.data['label']\n",
        "        self.encoded_labels = self.label_encoder.fit_transform(self.labels)\n",
        "\n",
        "    def __len__(self):\n",
        "        return len(self.data)\n",
        "\n",
        "    def __getitem__(self, index):\n",
        "        text = self.data.iloc[index]['text']\n",
        "        label = self.encoded_labels[index]\n",
        "        label_tensor = torch.tensor(label)  # Convert label to tensor\n",
        "\n",
        "        # Preprocess text\n",
        "        processed_text = preprocess_text(text)\n",
        "\n",
        "        # Tokenize and convert text to input tensors\n",
        "        inputs = self.tokenizer.encode_plus(\n",
        "            processed_text,\n",
        "            add_special_tokens=True,\n",
        "            max_length=self.max_length,\n",
        "            padding='max_length',\n",
        "            truncation=True,\n",
        "            return_tensors='pt'\n",
        "        )\n",
        "        input_ids = inputs['input_ids'].squeeze()\n",
        "        attention_mask = inputs['attention_mask'].squeeze()\n",
        "\n",
        "        return input_ids, attention_mask, label_tensor\n"
      ],
      "metadata": {
        "id": "bhTGLW9jfuBy"
      },
      "execution_count": null,
      "outputs": []
    },
    {
      "cell_type": "code",
      "source": [
        "# Define the maximum sequence length for padding/truncation\n",
        "max_length = 128\n",
        "\n",
        "# Create an instance of the custom dataset\n",
        "dataset = FragmentaDataset(df, tokenizer, max_length)\n",
        "\n",
        "# Create a data loader\n",
        "batch_size = 32\n",
        "data_loader = DataLoader(dataset, batch_size=batch_size)"
      ],
      "metadata": {
        "id": "U_3Axd6Rn_V8"
      },
      "execution_count": null,
      "outputs": []
    },
    {
      "cell_type": "code",
      "source": [
        "# increased with 0.001\n",
        "optimizer = torch.optim.AdamW(model.parameters(), lr=2e-5)\n",
        "loss_fn = torch.nn.CrossEntropyLoss()"
      ],
      "metadata": {
        "id": "D_yJs7g3iQ7p"
      },
      "execution_count": null,
      "outputs": []
    },
    {
      "cell_type": "code",
      "source": [
        "num_epochs = 10\n",
        "training_loss = []"
      ],
      "metadata": {
        "id": "fRrSY4N5ikTD"
      },
      "execution_count": null,
      "outputs": []
    },
    {
      "cell_type": "code",
      "source": [
        "# num_labels = df.shape[1]\n",
        "# print(num_labels)"
      ],
      "metadata": {
        "id": "PfvRZ0qxid8g"
      },
      "execution_count": null,
      "outputs": []
    },
    {
      "cell_type": "code",
      "source": [
        "device = torch.device('cuda' if torch.cuda.is_available() else 'cpu')\n",
        "model.to(device)\n",
        "training_loss = []\n",
        "\n",
        "# Training loop\n",
        "for epoch in range(num_epochs):\n",
        "    model.train()\n",
        "    total_loss = 0\n",
        "\n",
        "    for batch in data_loader:\n",
        "        input_ids = batch[0].to(device)\n",
        "        attention_mask = batch[1].to(device)\n",
        "        labels = batch[2].to(device)\n",
        "\n",
        "        optimizer.zero_grad()\n",
        "\n",
        "        # Forward pass\n",
        "        outputs = model(input_ids, attention_mask=attention_mask)\n",
        "        # print(outputs)\n",
        "        logits = outputs.logits\n",
        "        # logits = outputs[0] \n",
        "\n",
        "        # Compute loss\n",
        "        loss = loss_fn(logits, labels)\n",
        "\n",
        "        # Backward pass and optimization\n",
        "        loss.backward()\n",
        "        optimizer.step()\n",
        "\n",
        "        total_loss += loss.item()\n",
        "\n",
        "    # Calculate average loss for the epoch\n",
        "    avg_loss = total_loss / len(data_loader)\n",
        "    training_loss.append(avg_loss)\n",
        "    print(f\"Epoch {epoch+1}/{num_epochs}, Average Loss: {avg_loss:.4f}\")"
      ],
      "metadata": {
        "colab": {
          "base_uri": "https://localhost:8080/"
        },
        "id": "Y1NyxK_1j0sW",
        "outputId": "61f58e93-10a2-4ab9-e1ba-77b6e175ee46"
      },
      "execution_count": null,
      "outputs": [
        {
          "output_type": "stream",
          "name": "stdout",
          "text": [
            "Epoch 1/10, Average Loss: 1.3569\n",
            "Epoch 2/10, Average Loss: 0.8422\n",
            "Epoch 3/10, Average Loss: 0.8768\n",
            "Epoch 4/10, Average Loss: 0.7317\n",
            "Epoch 5/10, Average Loss: 0.7730\n",
            "Epoch 6/10, Average Loss: 0.7231\n",
            "Epoch 7/10, Average Loss: 0.6991\n",
            "Epoch 8/10, Average Loss: 0.6606\n",
            "Epoch 9/10, Average Loss: 0.6305\n",
            "Epoch 10/10, Average Loss: 1.7278\n"
          ]
        }
      ]
    },
    {
      "cell_type": "code",
      "source": [
        "# Save the fine-tuned model\n",
        "save_dir = '/content/drive/MyDrive/Colab Notebooks/ferramenta'\n",
        "model.save_pretrained(save_dir)"
      ],
      "metadata": {
        "id": "S6Ul1dSroncN"
      },
      "execution_count": null,
      "outputs": []
    },
    {
      "cell_type": "markdown",
      "source": [
        "# Validation"
      ],
      "metadata": {
        "id": "ccPfQwLqqUjD"
      }
    },
    {
      "cell_type": "code",
      "source": [
        "val_path = \"/content/drive/MyDrive/Colab Notebooks/Testing/text-ferramenta-val.csv/text-ferramenta-val.csv\""
      ],
      "metadata": {
        "id": "OhQZe4UTqVqC"
      },
      "execution_count": null,
      "outputs": []
    },
    {
      "cell_type": "code",
      "source": [
        "valdf = pd.read_csv(val_path)"
      ],
      "metadata": {
        "id": "OD4ilFnkqbTh"
      },
      "execution_count": null,
      "outputs": []
    },
    {
      "cell_type": "code",
      "source": [
        "# Rename the head of the column\n",
        "valdf.columns = ['text']"
      ],
      "metadata": {
        "id": "Y5XKQ6UOqgmn"
      },
      "execution_count": null,
      "outputs": []
    },
    {
      "cell_type": "code",
      "source": [
        "# Create the Label Column\n",
        "valdf['label'] = valdf['text'].str.split(\"\\|_@\", n=1).str[1]\n",
        "valdf['text'] = valdf['text'].str.split(\"\\|_@\", n=1).str[0]"
      ],
      "metadata": {
        "id": "EVR35PW2qpwJ"
      },
      "execution_count": null,
      "outputs": []
    },
    {
      "cell_type": "code",
      "source": [
        "# Drop the duplicate and null values\n",
        "valdf.drop_duplicates(inplace=True)\n",
        "valdf.dropna(inplace = True) \n",
        "valdf.reset_index(drop = True, inplace = True)"
      ],
      "metadata": {
        "id": "VAz7ae3tquiv"
      },
      "execution_count": null,
      "outputs": []
    },
    {
      "cell_type": "code",
      "source": [
        "val_num_labels = valdf['label'].nunique()\n",
        "print(val_num_labels)"
      ],
      "metadata": {
        "id": "5yIHO22nrJz7",
        "colab": {
          "base_uri": "https://localhost:8080/"
        },
        "outputId": "ab74b2c3-fed0-4c45-e2d9-694fe4b3a249"
      },
      "execution_count": null,
      "outputs": [
        {
          "output_type": "stream",
          "name": "stdout",
          "text": [
            "52\n"
          ]
        }
      ]
    },
    {
      "cell_type": "code",
      "source": [
        "# valdf = pd.get_dummies(valdf, columns=['label'])"
      ],
      "metadata": {
        "id": "d4jcWGcprW0l"
      },
      "execution_count": null,
      "outputs": []
    },
    {
      "cell_type": "code",
      "source": [
        "# Define the maximum sequence length for padding/truncation\n",
        "max_length = 128\n",
        "\n",
        "# Create an instance of the custom dataset\n",
        "val_dataset = FragmentaDataset(valdf, tokenizer, max_length)\n",
        "\n",
        "# Create a data loader\n",
        "batch_size = 32\n",
        "val_data_loader = DataLoader(val_dataset, batch_size=batch_size)"
      ],
      "metadata": {
        "id": "fxeQNKaKrcYC"
      },
      "execution_count": null,
      "outputs": []
    },
    {
      "cell_type": "code",
      "source": [
        "device = torch.device('cuda' if torch.cuda.is_available() else 'cpu')\n",
        "model.to(device)\n",
        "model.eval()\n",
        "\n",
        "predictions = []\n",
        "targets = []\n",
        "val_loss = 0\n",
        "\n",
        "with torch.no_grad():\n",
        "    for batch in val_data_loader:\n",
        "        input_ids = batch[0].to(device)\n",
        "        attention_mask = batch[1].to(device)\n",
        "        labels = batch[2].to(device)\n",
        "\n",
        "        outputs = model(input_ids, attention_mask=attention_mask, labels=labels)\n",
        "        loss = outputs.loss\n",
        "        val_loss += loss.item()\n",
        "\n",
        "        _, predicted_labels = torch.max(outputs.logits, dim=1)\n",
        "\n",
        "        predictions.extend(predicted_labels.cpu().tolist())\n",
        "        targets.extend(labels.cpu().tolist())"
      ],
      "metadata": {
        "id": "6Qge-ffqsRas"
      },
      "execution_count": null,
      "outputs": []
    },
    {
      "cell_type": "code",
      "source": [
        "from sklearn.metrics import accuracy_score, precision_score, recall_score, f1_score\n",
        "\n",
        "avg_val_loss = val_loss / len(val_data_loader)\n",
        "accuracy = accuracy_score(targets, predictions)\n",
        "precision = precision_score(targets, predictions, average='weighted')\n",
        "recall = recall_score(targets, predictions, average='weighted')\n",
        "f1 = f1_score(targets, predictions, average='weighted')\n",
        "\n",
        "print(f\"Validation Loss: {avg_val_loss:.4f}\")\n",
        "print(f\"Accuracy: {accuracy:.4f}\")\n",
        "print(f\"Precision: {precision:.4f}\")\n",
        "print(f\"Recall: {recall:.4f}\")\n",
        "print(f\"F1 Score: {f1:.4f}\")"
      ],
      "metadata": {
        "id": "3yPMy2pvuq1J",
        "colab": {
          "base_uri": "https://localhost:8080/"
        },
        "outputId": "48526177-394a-4565-f582-35bf94f0856a"
      },
      "execution_count": null,
      "outputs": [
        {
          "output_type": "stream",
          "name": "stdout",
          "text": [
            "Validation Loss: 6.6644\n",
            "Accuracy: 0.1013\n",
            "Precision: 0.0103\n",
            "Recall: 0.1013\n",
            "F1 Score: 0.0186\n"
          ]
        },
        {
          "output_type": "stream",
          "name": "stderr",
          "text": [
            "/usr/local/lib/python3.10/dist-packages/sklearn/metrics/_classification.py:1344: UndefinedMetricWarning: Precision is ill-defined and being set to 0.0 in labels with no predicted samples. Use `zero_division` parameter to control this behavior.\n",
            "  _warn_prf(average, modifier, msg_start, len(result))\n"
          ]
        }
      ]
    },
    {
      "cell_type": "code",
      "source": [
        "from sklearn.metrics import classification_report\n",
        "\n",
        "# Calculate evaluation metrics\n",
        "# accuracy = accuracy_score(targets, predictions)\n",
        "report = classification_report(targets, predictions)\n",
        "\n",
        "print(\"Accuracy:\", accuracy)\n",
        "print(\"Classification Report:\")\n",
        "print(report)"
      ],
      "metadata": {
        "id": "JmIznQtFsWfp",
        "colab": {
          "base_uri": "https://localhost:8080/"
        },
        "outputId": "746ca842-dd4c-4a3f-baae-8f63b053ad14"
      },
      "execution_count": null,
      "outputs": [
        {
          "output_type": "stream",
          "name": "stdout",
          "text": [
            "Accuracy: 0.10125414976023607\n",
            "Classification Report:\n",
            "              precision    recall  f1-score   support\n",
            "\n",
            "           0       0.00      0.00      0.00        58\n",
            "           1       0.00      0.00      0.00      1875\n",
            "           2       0.00      0.00      0.00       339\n",
            "           3       0.00      0.00      0.00        48\n",
            "           4       0.00      0.00      0.00       131\n",
            "           5       0.00      0.00      0.00       176\n",
            "           6       0.00      0.00      0.00      1067\n",
            "           7       0.00      0.00      0.00       145\n",
            "           8       0.00      0.00      0.00       663\n",
            "           9       0.00      0.00      0.00       607\n",
            "          10       0.00      0.00      0.00       122\n",
            "          11       0.00      0.00      0.00        35\n",
            "          12       0.00      0.00      0.00       112\n",
            "          13       0.00      0.00      0.00       821\n",
            "          14       0.00      0.00      0.00      1553\n",
            "          15       0.00      0.00      0.00        36\n",
            "          16       0.00      0.00      0.00        51\n",
            "          17       0.00      0.00      0.00       206\n",
            "          18       0.00      0.00      0.00        59\n",
            "          19       0.00      0.00      0.00        43\n",
            "          20       0.00      0.00      0.00        33\n",
            "          21       0.00      0.00      0.00      1922\n",
            "          22       0.00      0.00      0.00       274\n",
            "          23       0.00      0.00      0.00       631\n",
            "          24       0.00      0.00      0.00       270\n",
            "          25       0.00      0.00      0.00       196\n",
            "          26       0.00      0.00      0.00       449\n",
            "          27       0.00      0.00      0.00       696\n",
            "          28       0.00      0.00      0.00       694\n",
            "          29       0.00      0.00      0.00       146\n",
            "          30       0.00      0.00      0.00        85\n",
            "          31       0.00      0.00      0.00       326\n",
            "          32       0.00      0.00      0.00        54\n",
            "          33       0.00      0.00      0.00      1194\n",
            "          34       0.00      0.00      0.00        73\n",
            "          35       0.00      0.00      0.00       148\n",
            "          36       0.00      0.00      0.00       238\n",
            "          37       0.00      0.00      0.00       146\n",
            "          38       0.00      0.00      0.00       141\n",
            "          39       0.00      0.00      0.00       324\n",
            "          40       0.00      0.00      0.00       198\n",
            "          41       0.00      0.00      0.00       500\n",
            "          42       0.00      0.00      0.00       156\n",
            "          43       0.00      0.00      0.00      1320\n",
            "          44       0.00      0.00      0.00       254\n",
            "          45       0.00      0.00      0.00        37\n",
            "          46       0.00      0.00      0.00        80\n",
            "          47       0.00      0.00      0.00       116\n",
            "          48       0.00      0.00      0.00       379\n",
            "          49       0.00      0.00      0.00       159\n",
            "          50       0.00      0.00      0.00       106\n",
            "          51       0.10      1.00      0.18      2196\n",
            "\n",
            "    accuracy                           0.10     21688\n",
            "   macro avg       0.00      0.02      0.00     21688\n",
            "weighted avg       0.01      0.10      0.02     21688\n",
            "\n"
          ]
        },
        {
          "output_type": "stream",
          "name": "stderr",
          "text": [
            "/usr/local/lib/python3.10/dist-packages/sklearn/metrics/_classification.py:1344: UndefinedMetricWarning: Precision and F-score are ill-defined and being set to 0.0 in labels with no predicted samples. Use `zero_division` parameter to control this behavior.\n",
            "  _warn_prf(average, modifier, msg_start, len(result))\n",
            "/usr/local/lib/python3.10/dist-packages/sklearn/metrics/_classification.py:1344: UndefinedMetricWarning: Precision and F-score are ill-defined and being set to 0.0 in labels with no predicted samples. Use `zero_division` parameter to control this behavior.\n",
            "  _warn_prf(average, modifier, msg_start, len(result))\n",
            "/usr/local/lib/python3.10/dist-packages/sklearn/metrics/_classification.py:1344: UndefinedMetricWarning: Precision and F-score are ill-defined and being set to 0.0 in labels with no predicted samples. Use `zero_division` parameter to control this behavior.\n",
            "  _warn_prf(average, modifier, msg_start, len(result))\n"
          ]
        }
      ]
    },
    {
      "cell_type": "code",
      "source": [
        "import matplotlib.pyplot as plt\n",
        "# Define the labels for the metrics\n",
        "metrics = ['Accuracy', 'Precision', 'Recall', 'F1 Score']\n",
        "\n",
        "# Define the values for each metric\n",
        "values = [accuracy, precision, recall, f1]\n",
        "\n",
        "fig, ax = plt.subplots()\n",
        "bars = ax.bar(metrics, values)\n",
        "plt.ylim([0, 1])  # Set the y-axis limit to range from 0 to 1\n",
        "plt.ylabel('Metric Value')\n",
        "plt.title('Evaluation Metrics')\n",
        "\n",
        "# Add the metric scores on top of each bar\n",
        "for bar in bars:\n",
        "    yval = bar.get_height()\n",
        "    ax.text(bar.get_x() + bar.get_width() / 2, yval, round(yval, 4), ha='center', va='bottom')\n",
        "\n",
        "plt.show()"
      ],
      "metadata": {
        "id": "aWidTD-PsXHY",
        "colab": {
          "base_uri": "https://localhost:8080/",
          "height": 452
        },
        "outputId": "7767a12b-b5a8-4eb1-9aaa-41a513b11b90"
      },
      "execution_count": null,
      "outputs": [
        {
          "output_type": "display_data",
          "data": {
            "text/plain": [
              "<Figure size 640x480 with 1 Axes>"
            ],
            "image/png": "[encoded data removed]"
          },
          "metadata": {}
        }
      ]
    },
    {
      "cell_type": "code",
      "source": [],
      "metadata": {
        "id": "TsGngu-WKT_r"
      },
      "execution_count": null,
      "outputs": []
    }
  ]
}