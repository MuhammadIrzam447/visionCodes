{
  "nbformat": 4,
  "nbformat_minor": 0,
  "metadata": {
    "colab": {
      "provenance": [],
      "gpuType": "T4",
      "include_colab_link": true
    },
    "kernelspec": {
      "name": "python3",
      "display_name": "Python 3"
    },
    "language_info": {
      "name": "python"
    }
  },
  "cells": [
    {
      "cell_type": "markdown",
      "metadata": {
        "id": "view-in-github",
        "colab_type": "text"
      },
      "source": [
        "<a href=\"https://colab.research.google.com/github/MuhammadIrzam447/visionCodes/blob/master/Debuggingv16.ipynb\" target=\"_parent\"><img src=\"https://colab.research.google.com/assets/colab-badge.svg\" alt=\"Open In Colab\"/></a>"
      ]
    },
    {
      "cell_type": "code",
      "source": [
        "# Testing Multi-model performance for _% images and _% text.\n",
        "# Updated Validation Dataset Class, DataLoader and Validation Loop\n",
        "# Uncomment the comments in Validation Dataset, and Custom Collate_fun() to observe data loading process."
      ],
      "metadata": {
        "id": "VhXCwAGe33A1"
      },
      "execution_count": 1,
      "outputs": []
    },
    {
      "cell_type": "code",
      "execution_count": 2,
      "metadata": {
        "id": "ObgVtPmABT7d"
      },
      "outputs": [],
      "source": [
        "from google.colab import drive\n",
        "import pandas as pd\n",
        "import os\n",
        "from PIL import Image\n",
        "import torch\n",
        "from torchvision import datasets, transforms\n",
        "import torchvision.models as models\n",
        "from torchvision.datasets import ImageFolder\n",
        "import torchvision\n",
        "import torch.nn as nn\n",
        "import torch.optim as optim\n",
        "from sklearn.metrics import confusion_matrix\n",
        "from sklearn.metrics import precision_recall_fscore_support\n",
        "from sklearn.metrics import accuracy_score, precision_score, recall_score, f1_score\n",
        "import matplotlib.pyplot as plt\n",
        "import seaborn as sns\n",
        "import numpy as np\n",
        "from PIL import UnidentifiedImageError\n",
        "from sklearn.metrics import classification_report"
      ]
    },
    {
      "cell_type": "code",
      "source": [
        "if torch.cuda.is_available():\n",
        "    device = torch.device(\"cuda\")\n",
        "else:\n",
        "    device = torch.device(\"cpu\")\n",
        "print(device)"
      ],
      "metadata": {
        "id": "pziXvdPgU58B",
        "colab": {
          "base_uri": "https://localhost:8080/"
        },
        "outputId": "6632d1d7-3321-43c1-fe97-1a85420f7d0d"
      },
      "execution_count": 3,
      "outputs": [
        {
          "output_type": "stream",
          "name": "stdout",
          "text": [
            "cuda\n"
          ]
        }
      ]
    },
    {
      "cell_type": "markdown",
      "source": [
        "# Loading Validation Dataset and Preprocessing"
      ],
      "metadata": {
        "id": "p3yzu25SYhKf"
      }
    },
    {
      "cell_type": "code",
      "source": [
        "save_dir = '/content/Model/ResNet_MultiModel_Food101'\n",
        "load_path = os.path.join(save_dir, 'model.pth')\n",
        "\n",
        "resnet = torchvision.models.resnet101(pretrained=False)\n",
        "resnet.fc = nn.Linear(2048, 101)               #  change the output classes to number of classes for your model\n",
        "\n",
        "resnet.load_state_dict(torch.load(load_path))\n",
        "resnet.eval()\n",
        "resnet.to(device)"
      ],
      "metadata": {
        "id": "6gITvuS1n91U"
      },
      "execution_count": null,
      "outputs": []
    },
    {
      "cell_type": "code",
      "source": [
        "val_transform = transforms.Compose([\n",
        "    transforms.Resize((224, 224)),\n",
        "    transforms.ToTensor(),\n",
        "    transforms.Normalize(mean=[0.485, 0.456, 0.406], std=[0.229, 0.224, 0.225])\n",
        "])"
      ],
      "metadata": {
        "id": "4ElOxuNZvqLy"
      },
      "execution_count": 5,
      "outputs": []
    },
    {
      "cell_type": "code",
      "source": [
        "class ValidationDataset(torch.utils.data.Dataset):\n",
        "    def __init__(self, data_dir, val_transform):\n",
        "        self.data_dir = data_dir\n",
        "        self.dataset = datasets.ImageFolder(data_dir)\n",
        "        self.classes = self.dataset.classes\n",
        "        self.val_transform = val_transform\n",
        "\n",
        "        self.selected_indices = []\n",
        "        for class_idx in range(len(self.classes)):\n",
        "            indices = [idx for idx, (_, label) in enumerate(self.dataset.samples) if label == class_idx]\n",
        "            indices_3 = [idx for idx in indices if self.dataset.samples[idx][0].endswith(\"_3.png\")]    # _3.png are the encoded_text images\n",
        "            indices_4 = [idx for idx in indices if self.dataset.samples[idx][0].endswith(\"_4.png\")]    # _4.png are the actual images\n",
        "\n",
        "            self.selected_indices.extend(indices_4)\n",
        "            # self.selected_indices.extend(indices_3)\n",
        "        print(\"Selected Indices:\", len(self.selected_indices))\n",
        "        # for idx in self.selected_indices:\n",
        "          # print(self.dataset.samples[idx][0])\n",
        "\n",
        "    def __getitem__(self, index):\n",
        "        # print(\"Entered get_item\")\n",
        "        img, label = self.dataset[self.selected_indices[index]]\n",
        "        filename = self.dataset.samples[self.selected_indices[index]][0]\n",
        "        image_3 = None\n",
        "        image_4 = None\n",
        "        if filename.endswith(\"_4.png\"):\n",
        "                image_4 = img\n",
        "                image_4_path = filename\n",
        "                # print(\"image_4_path: \", str(filename))\n",
        "                image_3_path = filename.replace('_4.png', '_3.png')\n",
        "                # print(\"image_3_path: \", str(image_3_path))\n",
        "                image_3 = self._load_image(image_3_path)\n",
        "        else:\n",
        "                image_3 = img\n",
        "                image_3_path = filename\n",
        "                # print(\"image_3_path: \", str(filename))\n",
        "                image_4_path = filename.replace('_3.png', '_4.png')\n",
        "                # print(\"image_4_path: \", str(image_4_path))\n",
        "                image_4 = self._load_image(image_4_path)\n",
        "\n",
        "        # print(\"Exit get_item\")\n",
        "        return image_3, image_4, label, image_3_path, image_4_path\n",
        "\n",
        "    def _load_image(self, path):\n",
        "        image = Image.open(path)\n",
        "        return image\n",
        "\n",
        "    def __len__(self):\n",
        "        return len(self.selected_indices)"
      ],
      "metadata": {
        "id": "ZEqVuNvcMgvo"
      },
      "execution_count": 6,
      "outputs": []
    },
    {
      "cell_type": "code",
      "source": [
        "valPath = \"/content/Data/Food-101-test-Joint\"\n",
        "val_dataset = ValidationDataset(valPath,val_transform)"
      ],
      "metadata": {
        "id": "4UfrxOQ3sCgB",
        "colab": {
          "base_uri": "https://localhost:8080/"
        },
        "outputId": "fc141327-2c35-4635-9a52-a5ffd92a072c"
      },
      "execution_count": 7,
      "outputs": [
        {
          "output_type": "stream",
          "name": "stdout",
          "text": [
            "Selected Indices: 22716\n"
          ]
        }
      ]
    },
    {
      "cell_type": "code",
      "source": [
        "def custom_collate(batch):\n",
        "    to_tensor = transforms.ToTensor()\n",
        "    val_transform = transforms.Compose([\n",
        "        transforms.Resize((224, 224)),\n",
        "        transforms.ToTensor(),\n",
        "        transforms.Normalize(mean=[0.485, 0.456, 0.406], std=[0.229, 0.224, 0.225])\n",
        "    ])\n",
        "\n",
        "    images_3 = [val_transform(item[0]) for item in batch]\n",
        "    images_4 = [val_transform(item[1]) for item in batch]\n",
        "    labels = [torch.tensor(item[2]) for item in batch]\n",
        "\n",
        "    images_3 = torch.stack(images_3)\n",
        "    images_4 = torch.stack(images_4)\n",
        "\n",
        "    # Print the filenames in each list\n",
        "    # print(\"Filenames in images_3 list:\")\n",
        "    # for item in batch:\n",
        "    #     if item[0] is not None:\n",
        "    #         print(item[3])\n",
        "\n",
        "    # print(\"Filenames in images_4 list:\")\n",
        "    # for item in batch:\n",
        "    #     if item[1] is not None:\n",
        "    #         print(item[4])\n",
        "\n",
        "    return images_3, images_4, labels\n"
      ],
      "metadata": {
        "id": "snzYnvozBPgC"
      },
      "execution_count": 8,
      "outputs": []
    },
    {
      "cell_type": "code",
      "source": [
        "batch_size = 12\n",
        "validation_data_loader = torch.utils.data.DataLoader(val_dataset, batch_size=batch_size, shuffle=False, collate_fn=custom_collate)"
      ],
      "metadata": {
        "id": "8e-uQ6lqVhmI"
      },
      "execution_count": 9,
      "outputs": []
    },
    {
      "cell_type": "code",
      "source": [
        "print(\"Number of samples with _4.png:\", len(val_dataset))\n",
        "print(\"Number of classes:\", len(val_dataset.classes))"
      ],
      "metadata": {
        "id": "oShp-fOcVmYs",
        "colab": {
          "base_uri": "https://localhost:8080/"
        },
        "outputId": "0d7e21a2-981f-45dc-ab9f-222f0b23bd61"
      },
      "execution_count": 10,
      "outputs": [
        {
          "output_type": "stream",
          "name": "stdout",
          "text": [
            "Number of samples with _4.png: 22716\n",
            "Number of classes: 101\n"
          ]
        }
      ]
    },
    {
      "cell_type": "markdown",
      "source": [
        "# Validation"
      ],
      "metadata": {
        "id": "RbwN0R_b2tMA"
      }
    },
    {
      "cell_type": "code",
      "source": [
        "num_batches = len(validation_data_loader)\n",
        "num_batches_with_logits_3 = int(num_batches * 0.1)  # __% of batches that you want to include\n",
        "print(\"Total Iteration of Validation Loop: \", num_batches)\n",
        "print(\"Missing Modaility Iterations of Validation Loop: \", num_batches_with_logits_3)"
      ],
      "metadata": {
        "colab": {
          "base_uri": "https://localhost:8080/"
        },
        "id": "rh9-ga7zvafZ",
        "outputId": "4fcad082-0770-4e74-ce2b-d4fb0ac20da5"
      },
      "execution_count": 11,
      "outputs": [
        {
          "output_type": "stream",
          "name": "stdout",
          "text": [
            "Total Iteration of Validation Loop:  1893\n",
            "Missing Modaility Iterations of Validation Loop:  189\n"
          ]
        }
      ]
    },
    {
      "cell_type": "code",
      "source": [
        "resnet.eval()\n",
        "\n",
        "predicted_labels = []\n",
        "true_labels = []\n",
        "\n",
        "batch_idx = 0\n",
        "for images_3, images_4, labels in validation_data_loader:\n",
        "\n",
        "    images_4 = images_4.to(device)\n",
        "    logits_4 = resnet(images_4)\n",
        "\n",
        "    if batch_idx < num_batches_with_logits_3:\n",
        "        images_3 = images_3.to(device)\n",
        "        logits_3 = resnet(images_3)\n",
        "    else:\n",
        "        logits_3 = torch.zeros_like(logits_4)\n",
        "\n",
        "    probabilities_3 = torch.softmax(logits_3, dim=1)\n",
        "    probabilities_4 = torch.softmax(logits_4, dim=1)\n",
        "\n",
        "    avg_probabilities_batch = (probabilities_3 + probabilities_4) / 2\n",
        "\n",
        "    predicted_labels.extend(avg_probabilities_batch.cpu().tolist())\n",
        "    true_labels.extend(labels)\n",
        "    batch_idx += 1\n",
        "\n",
        "print(batch_idx)"
      ],
      "metadata": {
        "id": "QYxUnUjO7DOa",
        "colab": {
          "base_uri": "https://localhost:8080/"
        },
        "outputId": "e36cf78f-a616-4c71-9f7c-6280e851c757"
      },
      "execution_count": 12,
      "outputs": [
        {
          "output_type": "stream",
          "name": "stdout",
          "text": [
            "1893\n"
          ]
        }
      ]
    },
    {
      "cell_type": "code",
      "source": [
        "predicted_classes = torch.argmax(torch.tensor(predicted_labels), dim=1)\n",
        "actual_labels = torch.tensor(true_labels)"
      ],
      "metadata": {
        "id": "9PWM8Xhck2Xy"
      },
      "execution_count": 13,
      "outputs": []
    },
    {
      "cell_type": "code",
      "source": [
        "accuracy = accuracy_score(actual_labels, predicted_classes)\n",
        "precision = precision_score(actual_labels, predicted_classes, average='weighted')\n",
        "recall = recall_score(actual_labels, predicted_classes, average='weighted')\n",
        "f1 = f1_score(actual_labels, predicted_classes, average='weighted')\n",
        "\n",
        "print(\"Accuracy:\", accuracy)\n",
        "print(\"Precision:\", precision)\n",
        "print(\"Recall:\", recall)\n",
        "print(\"F1-score:\", f1)"
      ],
      "metadata": {
        "id": "SiJYzy3heKgR",
        "colab": {
          "base_uri": "https://localhost:8080/"
        },
        "outputId": "64f35715-5704-4d6b-c0d8-d2e132f975da"
      },
      "execution_count": 14,
      "outputs": [
        {
          "output_type": "stream",
          "name": "stdout",
          "text": [
            "Accuracy: 0.6038034865293186\n",
            "Precision: 0.6516489030687321\n",
            "Recall: 0.6038034865293186\n",
            "F1-score: 0.5992712615017775\n"
          ]
        }
      ]
    },
    {
      "cell_type": "code",
      "source": [
        "print(classification_report(actual_labels, predicted_classes))"
      ],
      "metadata": {
        "id": "1PEdbnvj0vPK",
        "colab": {
          "base_uri": "https://localhost:8080/"
        },
        "outputId": "1a44d55f-b454-42f8-89e4-4cc8008e3bad"
      },
      "execution_count": 15,
      "outputs": [
        {
          "output_type": "stream",
          "name": "stdout",
          "text": [
            "              precision    recall  f1-score   support\n",
            "\n",
            "           0       0.80      0.90      0.85       234\n",
            "           1       0.61      0.92      0.73       221\n",
            "           2       0.65      0.92      0.76       226\n",
            "           3       0.77      0.80      0.78       222\n",
            "           4       0.73      0.52      0.60       225\n",
            "           5       0.79      0.87      0.83       224\n",
            "           6       0.68      0.89      0.77       224\n",
            "           7       0.90      0.85      0.87       225\n",
            "           8       0.84      0.96      0.89       226\n",
            "           9       0.82      0.83      0.82       214\n",
            "          10       0.83      0.60      0.69       231\n",
            "          11       0.52      0.81      0.64       227\n",
            "          12       0.89      0.47      0.61       230\n",
            "          13       0.84      0.54      0.66       220\n",
            "          14       0.58      0.63      0.61       231\n",
            "          15       0.74      0.41      0.52       227\n",
            "          16       0.63      0.50      0.56       224\n",
            "          17       0.74      0.46      0.57       233\n",
            "          18       0.45      0.73      0.56       222\n",
            "          19       0.41      0.70      0.51       220\n",
            "          20       0.56      0.86      0.68       219\n",
            "          21       0.66      0.68      0.67       232\n",
            "          22       0.61      0.49      0.54       224\n",
            "          23       0.82      0.61      0.70       230\n",
            "          24       0.58      0.53      0.55       224\n",
            "          25       0.75      0.60      0.67       220\n",
            "          26       0.54      0.77      0.63       221\n",
            "          27       0.34      0.83      0.49       225\n",
            "          28       0.77      0.63      0.69       224\n",
            "          29       0.71      0.51      0.59       228\n",
            "          30       0.89      0.85      0.87       229\n",
            "          31       0.71      0.63      0.67       232\n",
            "          32       0.68      0.24      0.35       228\n",
            "          33       0.52      0.65      0.57       231\n",
            "          34       0.80      0.70      0.74       213\n",
            "          35       0.61      0.29      0.39       202\n",
            "          36       0.76      0.54      0.63       228\n",
            "          37       0.36      0.76      0.49       212\n",
            "          38       0.46      0.56      0.51       208\n",
            "          39       0.67      0.13      0.22       216\n",
            "          40       0.64      0.63      0.64       212\n",
            "          41       0.54      0.76      0.63       223\n",
            "          42       0.45      0.64      0.53       238\n",
            "          43       0.66      0.58      0.62       212\n",
            "          44       0.44      0.70      0.54       229\n",
            "          45       0.59      0.27      0.37       233\n",
            "          46       0.38      0.70      0.49       224\n",
            "          47       0.65      0.33      0.44       234\n",
            "          48       0.51      0.85      0.63       223\n",
            "          49       0.62      0.80      0.70       229\n",
            "          50       0.77      0.52      0.62       225\n",
            "          51       0.81      0.75      0.78       228\n",
            "          52       0.67      0.40      0.50       232\n",
            "          53       0.56      0.32      0.41       233\n",
            "          54       0.61      0.49      0.54       203\n",
            "          55       0.31      0.04      0.08       234\n",
            "          56       0.75      0.52      0.62       223\n",
            "          57       0.64      0.51      0.57       234\n",
            "          58       0.44      0.29      0.35       232\n",
            "          59       0.82      0.60      0.69       233\n",
            "          60       0.45      0.66      0.54       197\n",
            "          61       0.33      0.34      0.34       215\n",
            "          62       0.63      0.50      0.56       238\n",
            "          63       0.86      0.74      0.79       231\n",
            "          64       0.85      0.41      0.56       227\n",
            "          65       0.70      0.82      0.76       234\n",
            "          66       0.72      0.61      0.66       224\n",
            "          67       0.73      0.52      0.60       231\n",
            "          68       0.59      0.77      0.67       217\n",
            "          69       0.70      0.42      0.52       223\n",
            "          70       0.57      0.69      0.62       230\n",
            "          71       0.37      0.87      0.52       228\n",
            "          72       0.85      0.54      0.66       234\n",
            "          73       0.70      0.53      0.61       225\n",
            "          74       0.28      0.54      0.37       211\n",
            "          75       0.56      0.76      0.65       218\n",
            "          76       0.72      0.49      0.58       235\n",
            "          77       0.39      0.54      0.45       227\n",
            "          78       0.84      0.62      0.71       210\n",
            "          79       0.86      0.63      0.73       220\n",
            "          80       0.85      0.77      0.81       224\n",
            "          81       0.69      0.36      0.47       232\n",
            "          82       0.71      0.27      0.39       236\n",
            "          83       0.75      0.67      0.71       227\n",
            "          84       0.78      0.29      0.42       236\n",
            "          85       0.80      0.62      0.70       215\n",
            "          86       0.28      0.50      0.36       226\n",
            "          87       0.37      0.64      0.47       228\n",
            "          88       0.63      0.68      0.65       219\n",
            "          89       0.74      0.45      0.56       228\n",
            "          90       0.54      0.88      0.67       213\n",
            "          91       0.83      0.74      0.78       218\n",
            "          92       0.75      0.72      0.73       230\n",
            "          93       0.74      0.17      0.28       229\n",
            "          94       0.38      0.86      0.53       223\n",
            "          95       0.80      0.47      0.59       237\n",
            "          96       0.78      0.52      0.63       233\n",
            "          97       0.57      0.61      0.59       223\n",
            "          98       0.75      0.70      0.72       232\n",
            "          99       0.47      0.61      0.53       211\n",
            "         100       0.91      0.69      0.78       235\n",
            "\n",
            "    accuracy                           0.60     22716\n",
            "   macro avg       0.65      0.60      0.60     22716\n",
            "weighted avg       0.65      0.60      0.60     22716\n",
            "\n"
          ]
        }
      ]
    },
    {
      "cell_type": "code",
      "source": [
        "labels = ['Accuracy', 'Precision', 'Recall', 'F1-score']\n",
        "values = [accuracy, precision, recall, f1]\n",
        "\n",
        "x = np.arange(len(labels))\n",
        "\n",
        "fig, ax = plt.subplots(figsize=(5, 4))\n",
        "bars = ax.bar(x, values)\n",
        "\n",
        "ax.set_xlabel('Metrics')\n",
        "ax.set_ylabel('Score')\n",
        "ax.set_title('Model Performance Metrics')\n",
        "ax.set_xticks(x)\n",
        "ax.set_xticklabels(labels)\n",
        "\n",
        "for i, bar in enumerate(bars):\n",
        "    score = values[i]\n",
        "    ax.text(bar.get_x() + bar.get_width() / 2, bar.get_height(), f'{score:.2f}', ha='center', va='bottom')\n",
        "\n",
        "plt.show()"
      ],
      "metadata": {
        "id": "xSO-PViWdHwB",
        "colab": {
          "base_uri": "https://localhost:8080/",
          "height": 410
        },
        "outputId": "b9bd23d5-aa9f-4ff9-f215-b7b27acae5e7"
      },
      "execution_count": 16,
      "outputs": [
        {
          "output_type": "display_data",
          "data": {
            "text/plain": [
              "<Figure size 500x400 with 1 Axes>"
            ],
            "image/png": "[encoded data removed]"
          },
          "metadata": {}
        }
      ]
    },
    {
      "cell_type": "code",
      "source": [
        "# Count the occurrences of each label in predicted and true labels\n",
        "predicted_counts = np.bincount(predicted_classes)\n",
        "true_counts = np.bincount(actual_labels)\n",
        "\n",
        "# Get the unique labels\n",
        "labels = np.unique(np.concatenate((predicted_classes, actual_labels)))\n",
        "\n",
        "# Set the x-axis range\n",
        "x = np.arange(len(labels))\n",
        "\n",
        "# Set the width of the bars\n",
        "width = 0.35\n",
        "\n",
        "# Plot the predicted and true label counts\n",
        "fig, ax = plt.subplots(figsize=(20, 8))\n",
        "ax.bar(x - width/2, predicted_counts, width, label='Predicted Labels')\n",
        "ax.bar(x + width/2, true_counts, width, label='True Labels')\n",
        "\n",
        "# Add labels, title, and legend\n",
        "ax.set_xlabel('Labels')\n",
        "ax.set_ylabel('Count')\n",
        "ax.set_title('Distribution of Predicted and True Labels')\n",
        "ax.set_xticks(x)\n",
        "ax.set_xticklabels(labels)\n",
        "ax.legend()\n",
        "\n",
        "plt.show()"
      ],
      "metadata": {
        "id": "55bbdFyXajU8",
        "colab": {
          "base_uri": "https://localhost:8080/",
          "height": 311
        },
        "outputId": "354ca4ee-4f4a-48c0-e307-5fb8058718d5"
      },
      "execution_count": 17,
      "outputs": [
        {
          "output_type": "display_data",
          "data": {
            "text/plain": [
              "<Figure size 2000x800 with 1 Axes>"
            ],
            "image/png": "[encoded data removed]"
          },
          "metadata": {}
        }
      ]
    }
  ]
}